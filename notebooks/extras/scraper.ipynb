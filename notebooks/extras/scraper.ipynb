{
 "cells": [
  {
   "cell_type": "code",
   "execution_count": 3,
   "id": "2053d57c-fa4c-4323-b399-988c9ac08454",
   "metadata": {},
   "outputs": [],
   "source": [
    "import pandas as pd\n",
    "import numpy as np\n",
    "import requests\n",
    "import time\n",
    "from bs4 import BeautifulSoup\n",
    "from tqdm.notebook import tqdm\n",
    "import matplotlib.pyplot as plt\n",
    "\n",
    "BASE = \"https://www.u-cursos.cl/ingenieria/2/novedades_institucion/?p=\"\n",
    "N_PAGES = 10"
   ]
  },
  {
   "cell_type": "markdown",
   "id": "ff39e7b5-6e4f-4da7-b95a-695555019846",
   "metadata": {},
   "source": [
    "# Scrap Raw Data"
   ]
  },
  {
   "cell_type": "code",
   "execution_count": 10,
   "id": "d3142f41-2386-4c2b-9bbe-bc37f16f3b84",
   "metadata": {},
   "outputs": [],
   "source": [
    "def get_page_posts(page_num):\n",
    "    r = requests.get(f\"{BASE}{page_num}\")\n",
    "    soup = BeautifulSoup(r.content, \"html.parser\")\n",
    "    posts = soup.find_all(\"div\", class_=\"post objeto\")\n",
    "\n",
    "    return [\n",
    "        {\n",
    "            \"titulo\": p.find(\"h1\").get_text().split(\"\\n\")[0].strip(),\n",
    "            \"url\": p.find(\"a\", href=True)[\"href\"],\n",
    "            \"mensaje\": \" \".join([\n",
    "                \"\\n\" if e.name == \"br\" else e if isinstance(e, str) else e.get_text()\n",
    "                for e in p.find(\"div\", class_=\"msg\").find(\"span\", class_=\"ta\")\n",
    "            ]).replace(\"\\n \", \"\\n\"),\n",
    "            \"fecha\": p.find(\"span\", class_=\"only-excel\").get_text()\n",
    "        }\n",
    "        for p in posts\n",
    "    ]"
   ]
  },
  {
   "cell_type": "code",
   "execution_count": 11,
   "id": "7cca86e4-6be8-430a-b947-caa435ee2a5d",
   "metadata": {},
   "outputs": [
    {
     "data": {
      "application/vnd.jupyter.widget-view+json": {
       "model_id": "45d157cd271443259886ac10e5a7496c",
       "version_major": 2,
       "version_minor": 0
      },
      "text/plain": [
       "  0%|          | 0/10 [00:00<?, ?it/s]"
      ]
     },
     "metadata": {},
     "output_type": "display_data"
    }
   ],
   "source": [
    "page_iter = range(N_PAGES)\n",
    "\n",
    "posts_all = [\n",
    "    get_page_posts(i)\n",
    "    for i in tqdm(page_iter, total=len(page_iter))\n",
    "]"
   ]
  },
  {
   "cell_type": "code",
   "execution_count": 12,
   "id": "d490836f-d90c-4f4e-82f1-b9f0f5b84f67",
   "metadata": {},
   "outputs": [
    {
     "name": "stdout",
     "output_type": "stream",
     "text": [
      "(100, 4)\n"
     ]
    },
    {
     "data": {
      "text/html": [
       "<div>\n",
       "<style scoped>\n",
       "    .dataframe tbody tr th:only-of-type {\n",
       "        vertical-align: middle;\n",
       "    }\n",
       "\n",
       "    .dataframe tbody tr th {\n",
       "        vertical-align: top;\n",
       "    }\n",
       "\n",
       "    .dataframe thead th {\n",
       "        text-align: right;\n",
       "    }\n",
       "</style>\n",
       "<table border=\"1\" class=\"dataframe\">\n",
       "  <thead>\n",
       "    <tr style=\"text-align: right;\">\n",
       "      <th></th>\n",
       "      <th>titulo</th>\n",
       "      <th>url</th>\n",
       "      <th>mensaje</th>\n",
       "      <th>fecha</th>\n",
       "    </tr>\n",
       "  </thead>\n",
       "  <tbody>\n",
       "    <tr>\n",
       "      <th>0</th>\n",
       "      <td>Talleres Psicoeducativos - Dirección de Salud ...</td>\n",
       "      <td>detalle?id=72101</td>\n",
       "      <td>En nombre de la  Dirección de Salud Estudianti...</td>\n",
       "      <td>2023-10-19 14:58:19</td>\n",
       "    </tr>\n",
       "    <tr>\n",
       "      <th>1</th>\n",
       "      <td>Programa Estudiantes Promotores de Salud Menta...</td>\n",
       "      <td>detalle?id=72097</td>\n",
       "      <td>En nombre de el área comunitaria de la Direcci...</td>\n",
       "      <td>2023-10-19 14:53:19</td>\n",
       "    </tr>\n",
       "    <tr>\n",
       "      <th>2</th>\n",
       "      <td>HOY-19 hrs. 🚀 Torneo de Innovación UChile: ¿So...</td>\n",
       "      <td>detalle?id=72077</td>\n",
       "      <td>¡HOLA 👋🏽! \\nDentro del Torneo de Innovación In...</td>\n",
       "      <td>2023-10-19 10:33:19</td>\n",
       "    </tr>\n",
       "    <tr>\n",
       "      <th>3</th>\n",
       "      <td>ÚLTIMO PLAZO postulación becas EPEC Estudiante...</td>\n",
       "      <td>detalle?id=72053</td>\n",
       "      <td>\\nEstimado y estimada Estudiante de Programas...</td>\n",
       "      <td>2023-10-19 08:55:19</td>\n",
       "    </tr>\n",
       "    <tr>\n",
       "      <th>4</th>\n",
       "      <td>Grabación Charla Doble Título 2024-2026</td>\n",
       "      <td>detalle?id=72049</td>\n",
       "      <td>Estimados/as Estudiantes, \\nSi no pudiste cone...</td>\n",
       "      <td>2023-10-18 17:10:18</td>\n",
       "    </tr>\n",
       "  </tbody>\n",
       "</table>\n",
       "</div>"
      ],
      "text/plain": [
       "                                              titulo               url  \\\n",
       "0  Talleres Psicoeducativos - Dirección de Salud ...  detalle?id=72101   \n",
       "1  Programa Estudiantes Promotores de Salud Menta...  detalle?id=72097   \n",
       "2  HOY-19 hrs. 🚀 Torneo de Innovación UChile: ¿So...  detalle?id=72077   \n",
       "3  ÚLTIMO PLAZO postulación becas EPEC Estudiante...  detalle?id=72053   \n",
       "4            Grabación Charla Doble Título 2024-2026  detalle?id=72049   \n",
       "\n",
       "                                             mensaje                fecha  \n",
       "0  En nombre de la  Dirección de Salud Estudianti...  2023-10-19 14:58:19  \n",
       "1  En nombre de el área comunitaria de la Direcci...  2023-10-19 14:53:19  \n",
       "2  ¡HOLA 👋🏽! \\nDentro del Torneo de Innovación In...  2023-10-19 10:33:19  \n",
       "3   \\nEstimado y estimada Estudiante de Programas...  2023-10-19 08:55:19  \n",
       "4  Estimados/as Estudiantes, \\nSi no pudiste cone...  2023-10-18 17:10:18  "
      ]
     },
     "execution_count": 12,
     "metadata": {},
     "output_type": "execute_result"
    }
   ],
   "source": [
    "df = pd.DataFrame([\n",
    "    p\n",
    "    for pp in posts_all\n",
    "    for p in pp\n",
    "]).dropna(subset=[\"mensaje\"]).copy()\n",
    "\n",
    "print(df.shape)\n",
    "df.head()"
   ]
  },
  {
   "cell_type": "code",
   "execution_count": 13,
   "id": "ce7ded33-87c1-40f0-b7a2-1652af30516a",
   "metadata": {},
   "outputs": [],
   "source": [
    "df.to_csv(\"../../data/raw/scraper_test.csv\", index=False)"
   ]
  }
 ],
 "metadata": {
  "kernelspec": {
   "display_name": "venv",
   "language": "python",
   "name": "venv"
  },
  "language_info": {
   "codemirror_mode": {
    "name": "ipython",
    "version": 3
   },
   "file_extension": ".py",
   "mimetype": "text/x-python",
   "name": "python",
   "nbconvert_exporter": "python",
   "pygments_lexer": "ipython3",
   "version": "3.10.12"
  }
 },
 "nbformat": 4,
 "nbformat_minor": 5
}
