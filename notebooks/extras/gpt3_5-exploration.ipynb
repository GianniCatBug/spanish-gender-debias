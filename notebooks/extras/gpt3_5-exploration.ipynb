{
 "cells": [
  {
   "cell_type": "code",
   "execution_count": null,
   "id": "cb62ca8c",
   "metadata": {},
   "outputs": [],
   "source": [
    "#!pip install openai==0.27.3"
   ]
  },
  {
   "cell_type": "code",
   "execution_count": 1,
   "id": "fcb3ea2e",
   "metadata": {},
   "outputs": [
    {
     "name": "stdout",
     "output_type": "stream",
     "text": [
      "········\n"
     ]
    }
   ],
   "source": [
    "import pandas as pd\n",
    "import numpy as np\n",
    "import requests\n",
    "import time\n",
    "from bs4 import BeautifulSoup\n",
    "from tqdm.notebook import tqdm\n",
    "from getpass import getpass\n",
    "import matplotlib.pyplot as plt\n",
    "import seaborn as sns\n",
    "import openai\n",
    "openai.api_key = getpass()\n",
    "\n",
    "BASE = \"https://www.u-cursos.cl/ingenieria/2/novedades_institucion/?p=\"\n",
    "QUESTION = \"¿Puedes detectar sesgo de género en el siguiente texto?\""
   ]
  },
  {
   "cell_type": "markdown",
   "id": "f6313316",
   "metadata": {},
   "source": [
    "# Scrap"
   ]
  },
  {
   "cell_type": "code",
   "execution_count": null,
   "id": "9d9c7914",
   "metadata": {
    "scrolled": false
   },
   "outputs": [],
   "source": [
    "def get_page_posts(page_num):\n",
    "    r = requests.get(f\"{BASE}{page_num}\")\n",
    "    soup = BeautifulSoup(r.content, \"html.parser\")\n",
    "    posts = soup.find_all(\"div\", class_=\"post objeto\")\n",
    "    \n",
    "    return [\n",
    "        {\n",
    "            \"titulo\": p.find(\"h1\").get_text().split(\"\\n\")[0].strip(),\n",
    "            \"url\": p.find(\"a\", href=True)[\"href\"],\n",
    "            \"mensaje\": p.find(\"div\", class_=\"msg\").get_text(),\n",
    "            \"fecha\": p.find(\"span\", class_=\"only-excel\").get_text()\n",
    "        }\n",
    "        for p in posts\n",
    "    ]\n",
    "\n",
    "\n",
    "posts_all = [\n",
    "    get_page_posts(i)\n",
    "    for i in tqdm(range(866))\n",
    "]"
   ]
  },
  {
   "cell_type": "code",
   "execution_count": null,
   "id": "44500467",
   "metadata": {},
   "outputs": [],
   "source": [
    "df = pd.DataFrame([\n",
    "    p\n",
    "    for pp in posts_all\n",
    "    for p in pp\n",
    "])\n",
    "\n",
    "print(df.shape)\n",
    "df.head()"
   ]
  },
  {
   "cell_type": "code",
   "execution_count": null,
   "id": "64f70814",
   "metadata": {},
   "outputs": [],
   "source": [
    "df[\"m_parsed\"] = df[\"mensaje\"].replace([r\"\\n\", r\"\\r\"], [\" \", \" \"], regex=True).str.strip()\n",
    "df.head()"
   ]
  },
  {
   "cell_type": "code",
   "execution_count": null,
   "id": "86bde14c",
   "metadata": {},
   "outputs": [],
   "source": [
    "df.to_csv(\"../../data/raw/20230403_novedades_fcfm.csv\", index=False)"
   ]
  },
  {
   "cell_type": "code",
   "execution_count": 5,
   "id": "c4f8e828",
   "metadata": {},
   "outputs": [
    {
     "data": {
      "text/plain": [
       "count                             8644\n",
       "mean     2016-04-28 02:47:08.407218944\n",
       "min                2007-10-25 16:32:25\n",
       "25%                2012-05-09 17:42:09\n",
       "50%                2016-10-20 15:41:50\n",
       "75%      2020-01-28 23:35:58.249999872\n",
       "max                2023-04-03 16:14:03\n",
       "Name: fecha, dtype: object"
      ]
     },
     "execution_count": 5,
     "metadata": {},
     "output_type": "execute_result"
    }
   ],
   "source": [
    "df = pd.read_csv(\"../../data/raw/20230403_novedades_fcfm.csv\")\n",
    "df[\"fecha\"] = pd.to_datetime(df[\"fecha\"])\n",
    "df[\"fecha\"].describe(datetime_is_numeric=True)"
   ]
  },
  {
   "cell_type": "code",
   "execution_count": 9,
   "id": "39de9cea",
   "metadata": {},
   "outputs": [
    {
     "data": {
      "text/plain": [
       "<AxesSubplot:>"
      ]
     },
     "execution_count": 9,
     "metadata": {},
     "output_type": "execute_result"
    },
    {
     "data": {
      "image/png": "[encoded data removed]",
      "text/plain": [
       "<Figure size 432x288 with 1 Axes>"
      ]
     },
     "metadata": {},
     "output_type": "display_data"
    }
   ],
   "source": [
    "plt.style.use(\"ggplot\")\n",
    "df[\"año\"] = df[\"fecha\"].dt.year.astype(str)\n",
    "df[\"año\"].value_counts().sort_index(ascending=False).plot(kind=\"bar\");"
   ]
  },
  {
   "cell_type": "code",
   "execution_count": 16,
   "id": "25df6b83",
   "metadata": {},
   "outputs": [
    {
     "data": {
      "text/plain": [
       "2023    112\n",
       "2022    707\n",
       "2021    686\n",
       "2020    683\n",
       "2019    825\n",
       "2018    641\n",
       "2017    551\n",
       "2016    505\n",
       "2015    554\n",
       "2014    469\n",
       "2013    410\n",
       "2012    509\n",
       "2011    579\n",
       "2010    601\n",
       "2009    434\n",
       "2008    325\n",
       "2007     53\n",
       "Name: año, dtype: int64"
      ]
     },
     "execution_count": 16,
     "metadata": {},
     "output_type": "execute_result"
    }
   ],
   "source": [
    "df[\"año\"].value_counts().sort_index(ascending=False)#[1:-1].mean()"
   ]
  },
  {
   "cell_type": "markdown",
   "id": "df92eb54",
   "metadata": {},
   "source": [
    "# ChatGPT"
   ]
  },
  {
   "cell_type": "code",
   "execution_count": 300,
   "id": "4c4d4db3",
   "metadata": {},
   "outputs": [],
   "source": [
    "def get_chatgpt_answer(question):\n",
    "    answer = np.nan\n",
    "    \n",
    "    if isinstance(question, str) and len(question) > 0:\n",
    "        time.sleep(5)\n",
    "        try:\n",
    "            answer = openai.ChatCompletion.create(\n",
    "                model=\"gpt-3.5-turbo\",\n",
    "                messages=[\n",
    "                    {\"role\": \"user\", \"content\": question}\n",
    "                ],\n",
    "                request_timeout=30\n",
    "            ).choices[0][\"message\"][\"content\"]\n",
    "        \n",
    "        except Exception as e:\n",
    "            print(question[:200], e)\n",
    "    \n",
    "    return answer"
   ]
  },
  {
   "cell_type": "code",
   "execution_count": null,
   "id": "869d6f38",
   "metadata": {},
   "outputs": [],
   "source": [
    "df_sample = df.sample(10, random_state=42)\n",
    "\n",
    "df_sample[\"chat_gpt_answer\"] = [\n",
    "    get_chatgpt_answer(\n",
    "        f'{QUESTION}: \"{m}\"'\n",
    "    )\n",
    "    for m in tqdm(df_sample[\"m_parsed\"], total=df_sample.shape[0])\n",
    "]"
   ]
  },
  {
   "cell_type": "code",
   "execution_count": null,
   "id": "635a1a3d",
   "metadata": {},
   "outputs": [],
   "source": [
    "df_sample.to_csv(\"../../data/raw/20230403_respuestas_gpt.csv\")"
   ]
  },
  {
   "cell_type": "code",
   "execution_count": null,
   "id": "045c6e78",
   "metadata": {},
   "outputs": [],
   "source": [
    "df_s2 = df[~df.index.isin(df_sample.index)].sample(1000, random_state=42)\n",
    "df.shape, df_s2.shape"
   ]
  },
  {
   "cell_type": "code",
   "execution_count": null,
   "id": "7a772573",
   "metadata": {},
   "outputs": [],
   "source": [
    "df_s2[\"chat_gpt_answer\"] = [\n",
    "    get_chatgpt_answer(\n",
    "        f'{QUESTION}: \"{m}\"'\n",
    "    )\n",
    "    for m in tqdm(df_s2[\"m_parsed\"], total=df_s2.shape[0])\n",
    "]"
   ]
  },
  {
   "cell_type": "code",
   "execution_count": 86,
   "id": "36577902",
   "metadata": {},
   "outputs": [
    {
     "data": {
      "text/html": [
       "<div>\n",
       "<style scoped>\n",
       "    .dataframe tbody tr th:only-of-type {\n",
       "        vertical-align: middle;\n",
       "    }\n",
       "\n",
       "    .dataframe tbody tr th {\n",
       "        vertical-align: top;\n",
       "    }\n",
       "\n",
       "    .dataframe thead th {\n",
       "        text-align: right;\n",
       "    }\n",
       "</style>\n",
       "<table border=\"1\" class=\"dataframe\">\n",
       "  <thead>\n",
       "    <tr style=\"text-align: right;\">\n",
       "      <th></th>\n",
       "      <th>titulo</th>\n",
       "      <th>url</th>\n",
       "      <th>mensaje</th>\n",
       "      <th>fecha</th>\n",
       "      <th>m_parsed</th>\n",
       "      <th>chat_gpt_answer</th>\n",
       "    </tr>\n",
       "  </thead>\n",
       "  <tbody>\n",
       "    <tr>\n",
       "      <th>4443</th>\n",
       "      <td>U. Chile habilita compra de certificados de tí...</td>\n",
       "      <td>detalle?id=12661</td>\n",
       "      <td>Más información AQUÍ\\n\\n</td>\n",
       "      <td>2016-08-08 11:21:08</td>\n",
       "      <td>Más información AQUÍ</td>\n",
       "      <td>No, no se puede detectar sesgo de género en el...</td>\n",
       "    </tr>\n",
       "    <tr>\n",
       "      <th>2925</th>\n",
       "      <td>Semana Mechona Cancelada</td>\n",
       "      <td>detalle?id=25036</td>\n",
       "      <td>Estimada comunidad,\\n\\r\\nLes comunicamos que l...</td>\n",
       "      <td>2019-03-15 17:36:15</td>\n",
       "      <td>Estimada comunidad,   Les comunicamos que la ...</td>\n",
       "      <td>No hay sesgo de género en este texto.</td>\n",
       "    </tr>\n",
       "    <tr>\n",
       "      <th>4075</th>\n",
       "      <td>Postulaciones Beihang Summer School 2017</td>\n",
       "      <td>detalle?id=15503</td>\n",
       "      <td>Estimad@s estudiantes,\\n\\r\\nInformamos que par...</td>\n",
       "      <td>2017-04-05 16:01:05</td>\n",
       "      <td>Estimad@s estudiantes,   Informamos que para q...</td>\n",
       "      <td>No se puede detectar sesgo de género en el texto.</td>\n",
       "    </tr>\n",
       "    <tr>\n",
       "      <th>3693</th>\n",
       "      <td>Semestre de Verano 2017/3</td>\n",
       "      <td>detalle?id=18667</td>\n",
       "      <td>Fechas importantes\\n\\nInscripción académica \\t...</td>\n",
       "      <td>2017-11-24 12:30:24</td>\n",
       "      <td>Fechas importantes  Inscripción académica \\t\\t...</td>\n",
       "      <td>No hay sesgo de género en el texto.</td>\n",
       "    </tr>\n",
       "    <tr>\n",
       "      <th>3886</th>\n",
       "      <td>REBAJA DE ARANCEL 50%</td>\n",
       "      <td>detalle?id=17099</td>\n",
       "      <td>Se informa a los estudiantes que deban cursar ...</td>\n",
       "      <td>2017-08-07 10:02:07</td>\n",
       "      <td>Se informa a los estudiantes que deban cursar ...</td>\n",
       "      <td>No se detecta sesgo de género en el texto.</td>\n",
       "    </tr>\n",
       "  </tbody>\n",
       "</table>\n",
       "</div>"
      ],
      "text/plain": [
       "                                                 titulo               url  \\\n",
       "4443  U. Chile habilita compra de certificados de tí...  detalle?id=12661   \n",
       "2925                           Semana Mechona Cancelada  detalle?id=25036   \n",
       "4075           Postulaciones Beihang Summer School 2017  detalle?id=15503   \n",
       "3693                          Semestre de Verano 2017/3  detalle?id=18667   \n",
       "3886                              REBAJA DE ARANCEL 50%  detalle?id=17099   \n",
       "\n",
       "                                                mensaje                fecha  \\\n",
       "4443                           Más información AQUÍ\\n\\n  2016-08-08 11:21:08   \n",
       "2925  Estimada comunidad,\\n\\r\\nLes comunicamos que l...  2019-03-15 17:36:15   \n",
       "4075  Estimad@s estudiantes,\\n\\r\\nInformamos que par...  2017-04-05 16:01:05   \n",
       "3693  Fechas importantes\\n\\nInscripción académica \\t...  2017-11-24 12:30:24   \n",
       "3886  Se informa a los estudiantes que deban cursar ...  2017-08-07 10:02:07   \n",
       "\n",
       "                                               m_parsed  \\\n",
       "4443                               Más información AQUÍ   \n",
       "2925  Estimada comunidad,   Les comunicamos que la ...   \n",
       "4075  Estimad@s estudiantes,   Informamos que para q...   \n",
       "3693  Fechas importantes  Inscripción académica \\t\\t...   \n",
       "3886  Se informa a los estudiantes que deban cursar ...   \n",
       "\n",
       "                                        chat_gpt_answer  \n",
       "4443  No, no se puede detectar sesgo de género en el...  \n",
       "2925              No hay sesgo de género en este texto.  \n",
       "4075  No se puede detectar sesgo de género en el texto.  \n",
       "3693                No hay sesgo de género en el texto.  \n",
       "3886         No se detecta sesgo de género en el texto.  "
      ]
     },
     "execution_count": 86,
     "metadata": {},
     "output_type": "execute_result"
    }
   ],
   "source": [
    "df_s2.head()"
   ]
  },
  {
   "cell_type": "code",
   "execution_count": 115,
   "id": "d259ca25",
   "metadata": {},
   "outputs": [],
   "source": [
    "df_s2.to_csv(\"../../data/raw/20230403_respuestas_gpt_2.csv\")"
   ]
  },
  {
   "cell_type": "code",
   "execution_count": 150,
   "id": "491bd20d",
   "metadata": {},
   "outputs": [
    {
     "data": {
      "text/plain": [
       "((8644, 5), (1000, 9), (676, 9))"
      ]
     },
     "execution_count": 150,
     "metadata": {},
     "output_type": "execute_result"
    }
   ],
   "source": [
    "df_s3 = df_s2[df_s2[\"chat_gpt_answer\"].isna()]\n",
    "df.shape, df_s2.shape, df_s3.shape"
   ]
  },
  {
   "cell_type": "code",
   "execution_count": null,
   "id": "fb1dc226",
   "metadata": {},
   "outputs": [],
   "source": [
    "df_s3[\"chat_gpt_answer\"] = [\n",
    "    get_chatgpt_answer(\n",
    "        f'{QUESTION}: \"{m}\"'\n",
    "    )\n",
    "    for m in tqdm(df_s3[\"m_parsed\"], total=df_s3.shape[0])\n",
    "]"
   ]
  },
  {
   "cell_type": "code",
   "execution_count": 152,
   "id": "d92b66c7",
   "metadata": {},
   "outputs": [
    {
     "data": {
      "text/html": [
       "<div>\n",
       "<style scoped>\n",
       "    .dataframe tbody tr th:only-of-type {\n",
       "        vertical-align: middle;\n",
       "    }\n",
       "\n",
       "    .dataframe tbody tr th {\n",
       "        vertical-align: top;\n",
       "    }\n",
       "\n",
       "    .dataframe thead th {\n",
       "        text-align: right;\n",
       "    }\n",
       "</style>\n",
       "<table border=\"1\" class=\"dataframe\">\n",
       "  <thead>\n",
       "    <tr style=\"text-align: right;\">\n",
       "      <th></th>\n",
       "      <th>titulo</th>\n",
       "      <th>url</th>\n",
       "      <th>mensaje</th>\n",
       "      <th>fecha</th>\n",
       "      <th>m_parsed</th>\n",
       "      <th>chat_gpt_answer</th>\n",
       "      <th>class</th>\n",
       "      <th>año_mes</th>\n",
       "      <th>año</th>\n",
       "    </tr>\n",
       "  </thead>\n",
       "  <tbody>\n",
       "    <tr>\n",
       "      <th>212</th>\n",
       "      <td>Postulación beneficios estudiantiles Mineduc 2...</td>\n",
       "      <td>detalle?id=60281</td>\n",
       "      <td>Estimad@s Estudiantes: Se extiende hasta el 02...</td>\n",
       "      <td>2022-10-27 08:56:27</td>\n",
       "      <td>Estimad@s Estudiantes: Se extiende hasta el 02...</td>\n",
       "      <td>No hay sesgo de género en el texto.</td>\n",
       "      <td>NaN</td>\n",
       "      <td>2022_10</td>\n",
       "      <td>2022</td>\n",
       "    </tr>\n",
       "    <tr>\n",
       "      <th>3105</th>\n",
       "      <td>Open House Magcea</td>\n",
       "      <td>detalle?id=23567</td>\n",
       "      <td></td>\n",
       "      <td>2018-11-19 16:34:19</td>\n",
       "      <td></td>\n",
       "      <td>Lo siento, no puedo detectar el sesgo de géner...</td>\n",
       "      <td>NaN</td>\n",
       "      <td>2018_11</td>\n",
       "      <td>2018</td>\n",
       "    </tr>\n",
       "    <tr>\n",
       "      <th>33</th>\n",
       "      <td>Resultados Modifica 5º - Otoño 2023</td>\n",
       "      <td>detalle?id=64333</td>\n",
       "      <td>Estimada Comunidad,Se encuentran disponibles l...</td>\n",
       "      <td>2023-03-20 15:47:20</td>\n",
       "      <td>Estimada Comunidad,Se encuentran disponibles l...</td>\n",
       "      <td>No se detecta sesgo de género en el texto dado.</td>\n",
       "      <td>NaN</td>\n",
       "      <td>2023_3</td>\n",
       "      <td>2023</td>\n",
       "    </tr>\n",
       "    <tr>\n",
       "      <th>4114</th>\n",
       "      <td>REBAJA DE ARANCEL 50% SEMESTRE OTOÑO 2017</td>\n",
       "      <td>detalle?id=15151</td>\n",
       "      <td>Se informa a los estudiantes que desde el 27 d...</td>\n",
       "      <td>2017-03-21 15:54:21</td>\n",
       "      <td>Se informa a los estudiantes que desde el 27 d...</td>\n",
       "      <td>En este texto no se detecta un sesgo de género...</td>\n",
       "      <td>NaN</td>\n",
       "      <td>2017_3</td>\n",
       "      <td>2017</td>\n",
       "    </tr>\n",
       "    <tr>\n",
       "      <th>702</th>\n",
       "      <td>Suspensión cobro de arancel Semestre Otoño 202...</td>\n",
       "      <td>detalle?id=51445</td>\n",
       "      <td>Se recuerda que todos los estudiantes en proce...</td>\n",
       "      <td>2022-03-10 12:43:10</td>\n",
       "      <td>Se recuerda que todos los estudiantes en proce...</td>\n",
       "      <td>No se detecta sesgo de género en el texto.</td>\n",
       "      <td>NaN</td>\n",
       "      <td>2022_3</td>\n",
       "      <td>2022</td>\n",
       "    </tr>\n",
       "  </tbody>\n",
       "</table>\n",
       "</div>"
      ],
      "text/plain": [
       "                                                 titulo               url  \\\n",
       "212   Postulación beneficios estudiantiles Mineduc 2...  detalle?id=60281   \n",
       "3105                                  Open House Magcea  detalle?id=23567   \n",
       "33                  Resultados Modifica 5º - Otoño 2023  detalle?id=64333   \n",
       "4114          REBAJA DE ARANCEL 50% SEMESTRE OTOÑO 2017  detalle?id=15151   \n",
       "702   Suspensión cobro de arancel Semestre Otoño 202...  detalle?id=51445   \n",
       "\n",
       "                                                mensaje               fecha  \\\n",
       "212   Estimad@s Estudiantes: Se extiende hasta el 02... 2022-10-27 08:56:27   \n",
       "3105                                                    2018-11-19 16:34:19   \n",
       "33    Estimada Comunidad,Se encuentran disponibles l... 2023-03-20 15:47:20   \n",
       "4114  Se informa a los estudiantes que desde el 27 d... 2017-03-21 15:54:21   \n",
       "702   Se recuerda que todos los estudiantes en proce... 2022-03-10 12:43:10   \n",
       "\n",
       "                                               m_parsed  \\\n",
       "212   Estimad@s Estudiantes: Se extiende hasta el 02...   \n",
       "3105                                                      \n",
       "33    Estimada Comunidad,Se encuentran disponibles l...   \n",
       "4114  Se informa a los estudiantes que desde el 27 d...   \n",
       "702   Se recuerda que todos los estudiantes en proce...   \n",
       "\n",
       "                                        chat_gpt_answer  class  año_mes   año  \n",
       "212                 No hay sesgo de género en el texto.    NaN  2022_10  2022  \n",
       "3105  Lo siento, no puedo detectar el sesgo de géner...    NaN  2018_11  2018  \n",
       "33      No se detecta sesgo de género en el texto dado.    NaN   2023_3  2023  \n",
       "4114  En este texto no se detecta un sesgo de género...    NaN   2017_3  2017  \n",
       "702          No se detecta sesgo de género en el texto.    NaN   2022_3  2022  "
      ]
     },
     "execution_count": 152,
     "metadata": {},
     "output_type": "execute_result"
    }
   ],
   "source": [
    "df_s3.head()"
   ]
  },
  {
   "cell_type": "code",
   "execution_count": 156,
   "id": "3057e29e",
   "metadata": {},
   "outputs": [],
   "source": [
    "df_s3.to_csv(\"../../data/raw/20230403_respuestas_gpt_3.csv\")"
   ]
  },
  {
   "cell_type": "code",
   "execution_count": 157,
   "id": "59a09a7e",
   "metadata": {},
   "outputs": [
    {
     "data": {
      "text/plain": [
       "((8644, 5), (1000, 9), (676, 9), (508, 9))"
      ]
     },
     "execution_count": 157,
     "metadata": {},
     "output_type": "execute_result"
    }
   ],
   "source": [
    "df_s4 = df_s3[df_s3[\"chat_gpt_answer\"].isna()]\n",
    "df.shape, df_s2.shape, df_s3.shape, df_s4.shape"
   ]
  },
  {
   "cell_type": "code",
   "execution_count": 158,
   "id": "c448e578",
   "metadata": {},
   "outputs": [
    {
     "data": {
      "application/vnd.jupyter.widget-view+json": {
       "model_id": "e8e99001e15d442aafb2cdce80919624",
       "version_major": 2,
       "version_minor": 0
      },
      "text/plain": [
       "  0%|          | 0/508 [00:00<?, ?it/s]"
      ]
     },
     "metadata": {},
     "output_type": "display_data"
    },
    {
     "name": "stdout",
     "output_type": "stream",
     "text": [
      "¿Puedes detectar sesgo de género en el siguiente texto?: \"SEMINARIO:  \"Unraveling the interior structure of planets and exoplanets using ab initio equations of states\", por Stephane Mazevet (Observato Request timed out: HTTPSConnectionPool(host='api.openai.com', port=443): Read timed out. (read timeout=30)\n"
     ]
    },
    {
     "name": "stderr",
     "output_type": "stream",
     "text": [
      "/tmp/ipykernel_6962/4290567017.py:1: SettingWithCopyWarning: \n",
      "A value is trying to be set on a copy of a slice from a DataFrame.\n",
      "Try using .loc[row_indexer,col_indexer] = value instead\n",
      "\n",
      "See the caveats in the documentation: https://pandas.pydata.org/pandas-docs/stable/user_guide/indexing.html#returning-a-view-versus-a-copy\n",
      "  df_s4[\"chat_gpt_answer\"] = [\n"
     ]
    }
   ],
   "source": [
    "df_s4[\"chat_gpt_answer\"] = [\n",
    "    get_chatgpt_answer(\n",
    "        f'{QUESTION}: \"{m}\"'\n",
    "    )\n",
    "    for m in tqdm(df_s4[\"m_parsed\"], total=df_s4.shape[0])\n",
    "]"
   ]
  },
  {
   "cell_type": "code",
   "execution_count": 159,
   "id": "e5e326bf",
   "metadata": {},
   "outputs": [
    {
     "data": {
      "text/html": [
       "<div>\n",
       "<style scoped>\n",
       "    .dataframe tbody tr th:only-of-type {\n",
       "        vertical-align: middle;\n",
       "    }\n",
       "\n",
       "    .dataframe tbody tr th {\n",
       "        vertical-align: top;\n",
       "    }\n",
       "\n",
       "    .dataframe thead th {\n",
       "        text-align: right;\n",
       "    }\n",
       "</style>\n",
       "<table border=\"1\" class=\"dataframe\">\n",
       "  <thead>\n",
       "    <tr style=\"text-align: right;\">\n",
       "      <th></th>\n",
       "      <th>titulo</th>\n",
       "      <th>url</th>\n",
       "      <th>mensaje</th>\n",
       "      <th>fecha</th>\n",
       "      <th>m_parsed</th>\n",
       "      <th>chat_gpt_answer</th>\n",
       "      <th>class</th>\n",
       "      <th>año_mes</th>\n",
       "      <th>año</th>\n",
       "    </tr>\n",
       "  </thead>\n",
       "  <tbody>\n",
       "    <tr>\n",
       "      <th>6108</th>\n",
       "      <td>Renovación Crédito con Aval del Estado</td>\n",
       "      <td>detalle?id=5617</td>\n",
       "      <td>Estimados (as):\\r\\nSe adjunta nómina de estudi...</td>\n",
       "      <td>2013-03-12 10:21:12</td>\n",
       "      <td>Estimados (as):  Se adjunta nómina de estudian...</td>\n",
       "      <td>No se detecta sesgo de género en el texto prop...</td>\n",
       "      <td>NaN</td>\n",
       "      <td>2013_3</td>\n",
       "      <td>2013</td>\n",
       "    </tr>\n",
       "    <tr>\n",
       "      <th>8426</th>\n",
       "      <td>Controles de Primer Año, Semestre Primavera 2008</td>\n",
       "      <td>detalle?id=347</td>\n",
       "      <td>1_controles_primer_ano_08_2_(2.pdf</td>\n",
       "      <td>2008-08-07 16:52:07</td>\n",
       "      <td>1_controles_primer_ano_08_2_(2.pdf</td>\n",
       "      <td>No, no se puede detectar sesgo de género en es...</td>\n",
       "      <td>NaN</td>\n",
       "      <td>2008_8</td>\n",
       "      <td>2008</td>\n",
       "    </tr>\n",
       "    <tr>\n",
       "      <th>7196</th>\n",
       "      <td>Obra de Teatro : \"Como si fuera esta noche\"</td>\n",
       "      <td>detalle?id=2804</td>\n",
       "      <td></td>\n",
       "      <td>2011-03-09 13:00:09</td>\n",
       "      <td></td>\n",
       "      <td>Lo siento, sin un texto específico no es posib...</td>\n",
       "      <td>NaN</td>\n",
       "      <td>2011_3</td>\n",
       "      <td>2011</td>\n",
       "    </tr>\n",
       "    <tr>\n",
       "      <th>2136</th>\n",
       "      <td>Matrícula 2020 estudiantes antiguos</td>\n",
       "      <td>detalle?id=30666</td>\n",
       "      <td>El proceso de matrícula 2020 para estudiantes ...</td>\n",
       "      <td>2020-03-09 11:13:09</td>\n",
       "      <td>El proceso de matrícula 2020 para estudiantes ...</td>\n",
       "      <td>Es posible detectar sesgo de género en el sigu...</td>\n",
       "      <td>NaN</td>\n",
       "      <td>2020_3</td>\n",
       "      <td>2020</td>\n",
       "    </tr>\n",
       "    <tr>\n",
       "      <th>7525</th>\n",
       "      <td>PLEBISCITO GENERAL: lunes 16 y martes 17</td>\n",
       "      <td>detalle?id=2006</td>\n",
       "      <td>Invitamos a todos los estudiantes a votar la a...</td>\n",
       "      <td>2010-08-16 12:39:16</td>\n",
       "      <td>Invitamos a todos los estudiantes a votar la a...</td>\n",
       "      <td>No hay sesgo de género en el texto.</td>\n",
       "      <td>NaN</td>\n",
       "      <td>2010_8</td>\n",
       "      <td>2010</td>\n",
       "    </tr>\n",
       "  </tbody>\n",
       "</table>\n",
       "</div>"
      ],
      "text/plain": [
       "                                                titulo               url  \\\n",
       "6108            Renovación Crédito con Aval del Estado   detalle?id=5617   \n",
       "8426  Controles de Primer Año, Semestre Primavera 2008    detalle?id=347   \n",
       "7196       Obra de Teatro : \"Como si fuera esta noche\"   detalle?id=2804   \n",
       "2136               Matrícula 2020 estudiantes antiguos  detalle?id=30666   \n",
       "7525          PLEBISCITO GENERAL: lunes 16 y martes 17   detalle?id=2006   \n",
       "\n",
       "                                                mensaje               fecha  \\\n",
       "6108  Estimados (as):\\r\\nSe adjunta nómina de estudi... 2013-03-12 10:21:12   \n",
       "8426                 1_controles_primer_ano_08_2_(2.pdf 2008-08-07 16:52:07   \n",
       "7196                                                    2011-03-09 13:00:09   \n",
       "2136  El proceso de matrícula 2020 para estudiantes ... 2020-03-09 11:13:09   \n",
       "7525  Invitamos a todos los estudiantes a votar la a... 2010-08-16 12:39:16   \n",
       "\n",
       "                                               m_parsed  \\\n",
       "6108  Estimados (as):  Se adjunta nómina de estudian...   \n",
       "8426                 1_controles_primer_ano_08_2_(2.pdf   \n",
       "7196                                                      \n",
       "2136  El proceso de matrícula 2020 para estudiantes ...   \n",
       "7525  Invitamos a todos los estudiantes a votar la a...   \n",
       "\n",
       "                                        chat_gpt_answer  class año_mes   año  \n",
       "6108  No se detecta sesgo de género en el texto prop...    NaN  2013_3  2013  \n",
       "8426  No, no se puede detectar sesgo de género en es...    NaN  2008_8  2008  \n",
       "7196  Lo siento, sin un texto específico no es posib...    NaN  2011_3  2011  \n",
       "2136  Es posible detectar sesgo de género en el sigu...    NaN  2020_3  2020  \n",
       "7525                No hay sesgo de género en el texto.    NaN  2010_8  2010  "
      ]
     },
     "execution_count": 159,
     "metadata": {},
     "output_type": "execute_result"
    }
   ],
   "source": [
    "df_s4.head()"
   ]
  },
  {
   "cell_type": "code",
   "execution_count": 160,
   "id": "8eaa6a2b",
   "metadata": {},
   "outputs": [],
   "source": [
    "df_s4.to_csv(\"../../data/raw/20230403_respuestas_gpt_4.csv\")"
   ]
  },
  {
   "cell_type": "code",
   "execution_count": 299,
   "id": "ec0f6e56",
   "metadata": {},
   "outputs": [
    {
     "data": {
      "text/plain": [
       "((8644, 5), (1000, 5))"
      ]
     },
     "execution_count": 299,
     "metadata": {},
     "output_type": "execute_result"
    }
   ],
   "source": [
    "df_s5 = df[~df.index.isin(df_concat[\"index\"])].sample(1000, random_state=42)\n",
    "df.shape, df_s5.shape"
   ]
  },
  {
   "cell_type": "code",
   "execution_count": 301,
   "id": "0d4e04a2",
   "metadata": {},
   "outputs": [
    {
     "data": {
      "application/vnd.jupyter.widget-view+json": {
       "model_id": "80ea0def283e4186bab18df4c8dbf640",
       "version_major": 2,
       "version_minor": 0
      },
      "text/plain": [
       "  0%|          | 0/1000 [00:00<?, ?it/s]"
      ]
     },
     "metadata": {},
     "output_type": "display_data"
    },
    {
     "name": "stdout",
     "output_type": "stream",
     "text": [
      "¿Puedes detectar sesgo de género en el siguiente texto?: \"\" Request timed out: HTTPSConnectionPool(host='api.openai.com', port=443): Read timed out. (read timeout=30)\n"
     ]
    }
   ],
   "source": [
    "df_s5[\"chat_gpt_answer\"] = [\n",
    "    get_chatgpt_answer(\n",
    "        f'{QUESTION}: \"{m}\"'\n",
    "    )\n",
    "    for m in tqdm(df_s5[\"m_parsed\"], total=df_s5.shape[0])\n",
    "]"
   ]
  },
  {
   "cell_type": "code",
   "execution_count": 302,
   "id": "a9f3e608",
   "metadata": {},
   "outputs": [],
   "source": [
    "df_s5.to_csv(\"../../data/raw/20230404_respuestas_gpt_5.csv\")"
   ]
  },
  {
   "cell_type": "code",
   "execution_count": 303,
   "id": "56a5ed2f",
   "metadata": {},
   "outputs": [
    {
     "data": {
      "text/html": [
       "<div>\n",
       "<style scoped>\n",
       "    .dataframe tbody tr th:only-of-type {\n",
       "        vertical-align: middle;\n",
       "    }\n",
       "\n",
       "    .dataframe tbody tr th {\n",
       "        vertical-align: top;\n",
       "    }\n",
       "\n",
       "    .dataframe thead th {\n",
       "        text-align: right;\n",
       "    }\n",
       "</style>\n",
       "<table border=\"1\" class=\"dataframe\">\n",
       "  <thead>\n",
       "    <tr style=\"text-align: right;\">\n",
       "      <th></th>\n",
       "      <th>titulo</th>\n",
       "      <th>url</th>\n",
       "      <th>mensaje</th>\n",
       "      <th>fecha</th>\n",
       "      <th>m_parsed</th>\n",
       "      <th>chat_gpt_answer</th>\n",
       "    </tr>\n",
       "  </thead>\n",
       "  <tbody>\n",
       "    <tr>\n",
       "      <th>781</th>\n",
       "      <td>Consideraciones importantes proceso de matrícu...</td>\n",
       "      <td>detalle?id=50173</td>\n",
       "      <td>Matrícula Alumnos Antiguos 2022 Pregrado La Di...</td>\n",
       "      <td>2022-01-10 09:55:10</td>\n",
       "      <td>Matrícula Alumnos Antiguos 2022 Pregrado La Di...</td>\n",
       "      <td>No se detecta sesgo de género en el texto.</td>\n",
       "    </tr>\n",
       "    <tr>\n",
       "      <th>7240</th>\n",
       "      <td>Concurso Otoño 2011 Profesor Auxiliar Dpto. Fi...</td>\n",
       "      <td>detalle?id=2645</td>\n",
       "      <td>DEPARTAMENTO DE FISICA\\r\\nCONCURSO OTOÑO 2011 ...</td>\n",
       "      <td>2010-12-15 15:30:15</td>\n",
       "      <td>DEPARTAMENTO DE FISICA  CONCURSO OTOÑO 2011 PR...</td>\n",
       "      <td>Como modelo de lenguaje IA, no tengo la capaci...</td>\n",
       "    </tr>\n",
       "    <tr>\n",
       "      <th>6608</th>\n",
       "      <td>Exámenes Postergados de Primavera 2011 Matemát...</td>\n",
       "      <td>detalle?id=4296</td>\n",
       "      <td>\"Los exámenes postergados de Primavera 2011 se...</td>\n",
       "      <td>2012-03-08 16:16:08</td>\n",
       "      <td>\"Los exámenes postergados de Primavera 2011 se...</td>\n",
       "      <td>No se detecta sesgo de género en el texto.</td>\n",
       "    </tr>\n",
       "    <tr>\n",
       "      <th>2822</th>\n",
       "      <td>Gracias</td>\n",
       "      <td>detalle?id=25692</td>\n",
       "      <td>Estimada comunidad:\\r\\nQuiero agradecer muy si...</td>\n",
       "      <td>2019-04-16 12:08:16</td>\n",
       "      <td>Estimada comunidad:  Quiero agradecer muy sinc...</td>\n",
       "      <td>No hay sesgo de género en el texto, ya que se ...</td>\n",
       "    </tr>\n",
       "    <tr>\n",
       "      <th>4869</th>\n",
       "      <td>CHARLA INGENIERÍA MECÁNICA, ALUMNOS DE PLAN COMÚN</td>\n",
       "      <td>detalle?id=9653</td>\n",
       "      <td>Estimados Alumnos de Plan Común: \\n\\r\\nPresent...</td>\n",
       "      <td>2015-10-01 13:28:01</td>\n",
       "      <td>Estimados Alumnos de Plan Común:    Presente y...</td>\n",
       "      <td>Sí, se puede detectar sesgo de género en este ...</td>\n",
       "    </tr>\n",
       "  </tbody>\n",
       "</table>\n",
       "</div>"
      ],
      "text/plain": [
       "                                                 titulo               url  \\\n",
       "781   Consideraciones importantes proceso de matrícu...  detalle?id=50173   \n",
       "7240  Concurso Otoño 2011 Profesor Auxiliar Dpto. Fi...   detalle?id=2645   \n",
       "6608  Exámenes Postergados de Primavera 2011 Matemát...   detalle?id=4296   \n",
       "2822                                            Gracias  detalle?id=25692   \n",
       "4869  CHARLA INGENIERÍA MECÁNICA, ALUMNOS DE PLAN COMÚN   detalle?id=9653   \n",
       "\n",
       "                                                mensaje                fecha  \\\n",
       "781   Matrícula Alumnos Antiguos 2022 Pregrado La Di...  2022-01-10 09:55:10   \n",
       "7240  DEPARTAMENTO DE FISICA\\r\\nCONCURSO OTOÑO 2011 ...  2010-12-15 15:30:15   \n",
       "6608  \"Los exámenes postergados de Primavera 2011 se...  2012-03-08 16:16:08   \n",
       "2822  Estimada comunidad:\\r\\nQuiero agradecer muy si...  2019-04-16 12:08:16   \n",
       "4869  Estimados Alumnos de Plan Común: \\n\\r\\nPresent...  2015-10-01 13:28:01   \n",
       "\n",
       "                                               m_parsed  \\\n",
       "781   Matrícula Alumnos Antiguos 2022 Pregrado La Di...   \n",
       "7240  DEPARTAMENTO DE FISICA  CONCURSO OTOÑO 2011 PR...   \n",
       "6608  \"Los exámenes postergados de Primavera 2011 se...   \n",
       "2822  Estimada comunidad:  Quiero agradecer muy sinc...   \n",
       "4869  Estimados Alumnos de Plan Común:    Presente y...   \n",
       "\n",
       "                                        chat_gpt_answer  \n",
       "781          No se detecta sesgo de género en el texto.  \n",
       "7240  Como modelo de lenguaje IA, no tengo la capaci...  \n",
       "6608         No se detecta sesgo de género en el texto.  \n",
       "2822  No hay sesgo de género en el texto, ya que se ...  \n",
       "4869  Sí, se puede detectar sesgo de género en este ...  "
      ]
     },
     "execution_count": 303,
     "metadata": {},
     "output_type": "execute_result"
    }
   ],
   "source": [
    "df_s5.head()"
   ]
  },
  {
   "cell_type": "markdown",
   "id": "800a490d",
   "metadata": {},
   "source": [
    "## Concats"
   ]
  },
  {
   "cell_type": "code",
   "execution_count": 343,
   "id": "68a4e4ec",
   "metadata": {},
   "outputs": [],
   "source": [
    "SESGO_REGEX = \"no se detecta un sesgo|no se detecta sesgo|no hay sesgo|no se puede detectar sesgo|no presenta un sesgo|no presenta sesgo|no contiene sesgo de género|no detecto sesgo\"\n",
    "SESGO_REGEX += \"|no hay sesgo de género|no puedo detectar sesgo de género|no presenta ningún sesgo de género\"\n",
    "\n",
    "# REvisión manual\n",
    "SESGO_REGEX += \"|no se detecta ningún sesgo|no se identifica ningún sesgo|no hay un sesgo de género|no muestra sesgo|no se percibe sesgo de género|no se observa sesgo de género\"\n",
    "SESGO_REGEX += \"|no parece tener sesgo de género|no hay un sesgo de género|no hay evidencia de sesgo de género|no se ha detectado sesgo de género|no presenta evidencia clara de sesgo\"\n",
    "SESGO_REGEX += \"|no contiene rasgos que sugieran preferencia o discriminación por género|no hay indicios de sesgo de género|no se aprecia sesgo|no tiene sesgo|no parece contener sesgo\"\n",
    "SESGO_REGEX += \"|no hay evidencia clara de sesgo de género|no hay ningún sesgo de género|no detecto ningún sesgo|no existe sesgo de género|el sesgo de género no es detectable\"\n",
    "\n",
    "NAN_REGEX = \"lo siento|no es posible determinar si hay sesgo de género|no tengo la capacidad de revisar documentos adjuntos|no tengo la capacidad de detectar sesgos de género en palabras aisladas\"\n",
    "NAN_REGEX += \"|no es posible detectar sesgo de género en un nombre de archivo|no tengo habilidades para detectar sesgo de género de manera efectiva|no tengo acceso al archivo\"\n",
    "NAN_REGEX += \"|no tengo la capacidad de detectar sesgo de género en un archivo|no tengo la capacidad de detectar sesgo de género en este contexto\"\n",
    "NAN_REGEX += \"|no hay suficiente información para determinar si hay sesgo de género|no puedo evaluar la intención detrás del lenguaje utilizado en el texto proporcionado\"\n",
    "NAN_REGEX += \"|no tengo la capacidad de detectar sesgo de género en documentos sin contexto|no se puede determinar si hay sesgo de género en el nombre del archivo\"\n",
    "NAN_REGEX += \"|no estoy segura de qué texto te refieres|no se puede determinar sesgo de género en un nombre de archivo\"\n",
    "NAN_REGEX += \"|no se puede determinar un sesgo de género en el texto|no es posible detectar sesgo de género en este nombre de archivo|no hay suficiente contexto para determinar si hay sesgo\""
   ]
  },
  {
   "cell_type": "code",
   "execution_count": 344,
   "id": "81c3854c",
   "metadata": {},
   "outputs": [
    {
     "data": {
      "text/html": [
       "<div>\n",
       "<style scoped>\n",
       "    .dataframe tbody tr th:only-of-type {\n",
       "        vertical-align: middle;\n",
       "    }\n",
       "\n",
       "    .dataframe tbody tr th {\n",
       "        vertical-align: top;\n",
       "    }\n",
       "\n",
       "    .dataframe thead th {\n",
       "        text-align: right;\n",
       "    }\n",
       "</style>\n",
       "<table border=\"1\" class=\"dataframe\">\n",
       "  <thead>\n",
       "    <tr style=\"text-align: right;\">\n",
       "      <th></th>\n",
       "      <th>index</th>\n",
       "      <th>titulo</th>\n",
       "      <th>url</th>\n",
       "      <th>mensaje</th>\n",
       "      <th>fecha</th>\n",
       "      <th>m_parsed</th>\n",
       "      <th>chat_gpt_answer</th>\n",
       "    </tr>\n",
       "  </thead>\n",
       "  <tbody>\n",
       "    <tr>\n",
       "      <th>0</th>\n",
       "      <td>5599</td>\n",
       "      <td>Calendario de Examenes Otoño 2014</td>\n",
       "      <td>detalle?id=7252</td>\n",
       "      <td>Estimados alumnos, \\r\\nya se encuentran public...</td>\n",
       "      <td>2014-05-13 10:48:13</td>\n",
       "      <td>Estimados alumnos,   ya se encuentran publicad...</td>\n",
       "      <td>No se detecta sesgo de género en el texto.</td>\n",
       "    </tr>\n",
       "    <tr>\n",
       "      <th>1</th>\n",
       "      <td>6695</td>\n",
       "      <td>Seminario Haciendo Educación (Charla 7</td>\n",
       "      <td>detalle?id=4082</td>\n",
       "      <td>NaN</td>\n",
       "      <td>2011-11-22 10:34:22</td>\n",
       "      <td>NaN</td>\n",
       "      <td>Lo siento, no puedo responder esta pregunta si...</td>\n",
       "    </tr>\n",
       "    <tr>\n",
       "      <th>2</th>\n",
       "      <td>222</td>\n",
       "      <td>Concierto aniversario Coro FCFM | miércoles 26...</td>\n",
       "      <td>detalle?id=60137</td>\n",
       "      <td>Beauchefian@s: \\r\\n\\r\\nEn el marco del anivers...</td>\n",
       "      <td>2022-10-24 11:41:24</td>\n",
       "      <td>Beauchefian@s:     En el marco del aniversario...</td>\n",
       "      <td>Sí, se puede detectar un posible sesgo de géne...</td>\n",
       "    </tr>\n",
       "    <tr>\n",
       "      <th>3</th>\n",
       "      <td>4829</td>\n",
       "      <td>Entrega Cheque PAE, Séptima Cuota</td>\n",
       "      <td>detalle?id=9861</td>\n",
       "      <td>Se informa a los estudiantes que la entrega de...</td>\n",
       "      <td>2015-10-20 12:19:20</td>\n",
       "      <td>Se informa a los estudiantes que la entrega de...</td>\n",
       "      <td>No se detecta ningún sesgo de género en el texto.</td>\n",
       "    </tr>\n",
       "    <tr>\n",
       "      <th>4</th>\n",
       "      <td>318</td>\n",
       "      <td>Conversatorio Desafíos políticos y sociales d...</td>\n",
       "      <td>detalle?id=58285</td>\n",
       "      <td>\\r\\n\\r\\nEstimados/as estudiantes,\\r\\n \\r\\nLes ...</td>\n",
       "      <td>2022-08-29 16:58:29</td>\n",
       "      <td>Estimados/as estudiantes,     Les invitamos a ...</td>\n",
       "      <td>En el texto se utiliza la expresión \"Estimados...</td>\n",
       "    </tr>\n",
       "  </tbody>\n",
       "</table>\n",
       "</div>"
      ],
      "text/plain": [
       "   index                                             titulo               url  \\\n",
       "0   5599                  Calendario de Examenes Otoño 2014   detalle?id=7252   \n",
       "1   6695             Seminario Haciendo Educación (Charla 7   detalle?id=4082   \n",
       "2    222  Concierto aniversario Coro FCFM | miércoles 26...  detalle?id=60137   \n",
       "3   4829                  Entrega Cheque PAE, Séptima Cuota   detalle?id=9861   \n",
       "4    318  Conversatorio Desafíos políticos y sociales d...  detalle?id=58285   \n",
       "\n",
       "                                             mensaje                fecha  \\\n",
       "0  Estimados alumnos, \\r\\nya se encuentran public...  2014-05-13 10:48:13   \n",
       "1                                                NaN  2011-11-22 10:34:22   \n",
       "2  Beauchefian@s: \\r\\n\\r\\nEn el marco del anivers...  2022-10-24 11:41:24   \n",
       "3  Se informa a los estudiantes que la entrega de...  2015-10-20 12:19:20   \n",
       "4  \\r\\n\\r\\nEstimados/as estudiantes,\\r\\n \\r\\nLes ...  2022-08-29 16:58:29   \n",
       "\n",
       "                                            m_parsed  \\\n",
       "0  Estimados alumnos,   ya se encuentran publicad...   \n",
       "1                                                NaN   \n",
       "2  Beauchefian@s:     En el marco del aniversario...   \n",
       "3  Se informa a los estudiantes que la entrega de...   \n",
       "4  Estimados/as estudiantes,     Les invitamos a ...   \n",
       "\n",
       "                                     chat_gpt_answer  \n",
       "0         No se detecta sesgo de género en el texto.  \n",
       "1  Lo siento, no puedo responder esta pregunta si...  \n",
       "2  Sí, se puede detectar un posible sesgo de géne...  \n",
       "3  No se detecta ningún sesgo de género en el texto.  \n",
       "4  En el texto se utiliza la expresión \"Estimados...  "
      ]
     },
     "execution_count": 344,
     "metadata": {},
     "output_type": "execute_result"
    }
   ],
   "source": [
    "df_sample = pd.read_csv(\"../../data/raw/0230403_respuestas_gpt.csv\").rename(columns={\"Unnamed: 0\": \"index\"})\n",
    "df_sample.head()"
   ]
  },
  {
   "cell_type": "code",
   "execution_count": 345,
   "id": "2ca30699",
   "metadata": {},
   "outputs": [
    {
     "data": {
      "text/plain": [
       "0.0    6\n",
       "1.0    4\n",
       "Name: class, dtype: int64"
      ]
     },
     "execution_count": 345,
     "metadata": {},
     "output_type": "execute_result"
    }
   ],
   "source": [
    "df_sample[\"class\"] = np.where(\n",
    "    (df_sample[\"chat_gpt_answer\"].notna())\n",
    "    & (df_sample[\"chat_gpt_answer\"].fillna(\"\").str.lower().str.contains(SESGO_REGEX)),\n",
    "    0,\n",
    "    np.where(\n",
    "        (df_sample[\"m_parsed\"].str.len() == 0) | (df_sample[\"chat_gpt_answer\"].isna()),\n",
    "        np.nan,\n",
    "        1\n",
    "    )\n",
    ")\n",
    "\n",
    "df_sample[\"class\"].value_counts(dropna=False)"
   ]
  },
  {
   "cell_type": "code",
   "execution_count": 276,
   "id": "1c5d447e",
   "metadata": {},
   "outputs": [
    {
     "data": {
      "text/html": [
       "<div>\n",
       "<style scoped>\n",
       "    .dataframe tbody tr th:only-of-type {\n",
       "        vertical-align: middle;\n",
       "    }\n",
       "\n",
       "    .dataframe tbody tr th {\n",
       "        vertical-align: top;\n",
       "    }\n",
       "\n",
       "    .dataframe thead th {\n",
       "        text-align: right;\n",
       "    }\n",
       "</style>\n",
       "<table border=\"1\" class=\"dataframe\">\n",
       "  <thead>\n",
       "    <tr style=\"text-align: right;\">\n",
       "      <th></th>\n",
       "      <th>index</th>\n",
       "      <th>titulo</th>\n",
       "      <th>url</th>\n",
       "      <th>mensaje</th>\n",
       "      <th>fecha</th>\n",
       "      <th>m_parsed</th>\n",
       "      <th>chat_gpt_answer</th>\n",
       "    </tr>\n",
       "  </thead>\n",
       "  <tbody>\n",
       "    <tr>\n",
       "      <th>0</th>\n",
       "      <td>5599</td>\n",
       "      <td>Calendario de Examenes Otoño 2014</td>\n",
       "      <td>detalle?id=7252</td>\n",
       "      <td>Estimados alumnos, \\r\\nya se encuentran public...</td>\n",
       "      <td>2014-05-13 10:48:13</td>\n",
       "      <td>Estimados alumnos,   ya se encuentran publicad...</td>\n",
       "      <td>No se detecta sesgo de género en el texto.</td>\n",
       "    </tr>\n",
       "    <tr>\n",
       "      <th>1</th>\n",
       "      <td>6695</td>\n",
       "      <td>Seminario Haciendo Educación (Charla 7</td>\n",
       "      <td>detalle?id=4082</td>\n",
       "      <td>NaN</td>\n",
       "      <td>2011-11-22 10:34:22</td>\n",
       "      <td>NaN</td>\n",
       "      <td>Lo siento, no puedo responder esta pregunta si...</td>\n",
       "    </tr>\n",
       "    <tr>\n",
       "      <th>2</th>\n",
       "      <td>222</td>\n",
       "      <td>Concierto aniversario Coro FCFM | miércoles 26...</td>\n",
       "      <td>detalle?id=60137</td>\n",
       "      <td>Beauchefian@s: \\r\\n\\r\\nEn el marco del anivers...</td>\n",
       "      <td>2022-10-24 11:41:24</td>\n",
       "      <td>Beauchefian@s:     En el marco del aniversario...</td>\n",
       "      <td>Sí, se puede detectar un posible sesgo de géne...</td>\n",
       "    </tr>\n",
       "    <tr>\n",
       "      <th>3</th>\n",
       "      <td>4829</td>\n",
       "      <td>Entrega Cheque PAE, Séptima Cuota</td>\n",
       "      <td>detalle?id=9861</td>\n",
       "      <td>Se informa a los estudiantes que la entrega de...</td>\n",
       "      <td>2015-10-20 12:19:20</td>\n",
       "      <td>Se informa a los estudiantes que la entrega de...</td>\n",
       "      <td>No se detecta ningún sesgo de género en el texto.</td>\n",
       "    </tr>\n",
       "    <tr>\n",
       "      <th>4</th>\n",
       "      <td>318</td>\n",
       "      <td>Conversatorio Desafíos políticos y sociales d...</td>\n",
       "      <td>detalle?id=58285</td>\n",
       "      <td>\\r\\n\\r\\nEstimados/as estudiantes,\\r\\n \\r\\nLes ...</td>\n",
       "      <td>2022-08-29 16:58:29</td>\n",
       "      <td>Estimados/as estudiantes,     Les invitamos a ...</td>\n",
       "      <td>En el texto se utiliza la expresión \"Estimados...</td>\n",
       "    </tr>\n",
       "  </tbody>\n",
       "</table>\n",
       "</div>"
      ],
      "text/plain": [
       "   index                                             titulo               url  \\\n",
       "0   5599                  Calendario de Examenes Otoño 2014   detalle?id=7252   \n",
       "1   6695             Seminario Haciendo Educación (Charla 7   detalle?id=4082   \n",
       "2    222  Concierto aniversario Coro FCFM | miércoles 26...  detalle?id=60137   \n",
       "3   4829                  Entrega Cheque PAE, Séptima Cuota   detalle?id=9861   \n",
       "4    318  Conversatorio Desafíos políticos y sociales d...  detalle?id=58285   \n",
       "\n",
       "                                             mensaje                fecha  \\\n",
       "0  Estimados alumnos, \\r\\nya se encuentran public...  2014-05-13 10:48:13   \n",
       "1                                                NaN  2011-11-22 10:34:22   \n",
       "2  Beauchefian@s: \\r\\n\\r\\nEn el marco del anivers...  2022-10-24 11:41:24   \n",
       "3  Se informa a los estudiantes que la entrega de...  2015-10-20 12:19:20   \n",
       "4  \\r\\n\\r\\nEstimados/as estudiantes,\\r\\n \\r\\nLes ...  2022-08-29 16:58:29   \n",
       "\n",
       "                                            m_parsed  \\\n",
       "0  Estimados alumnos,   ya se encuentran publicad...   \n",
       "1                                                NaN   \n",
       "2  Beauchefian@s:     En el marco del aniversario...   \n",
       "3  Se informa a los estudiantes que la entrega de...   \n",
       "4  Estimados/as estudiantes,     Les invitamos a ...   \n",
       "\n",
       "                                     chat_gpt_answer  \n",
       "0         No se detecta sesgo de género en el texto.  \n",
       "1  Lo siento, no puedo responder esta pregunta si...  \n",
       "2  Sí, se puede detectar un posible sesgo de géne...  \n",
       "3  No se detecta ningún sesgo de género en el texto.  \n",
       "4  En el texto se utiliza la expresión \"Estimados...  "
      ]
     },
     "execution_count": 276,
     "metadata": {},
     "output_type": "execute_result"
    }
   ],
   "source": []
  },
  {
   "cell_type": "code",
   "execution_count": 346,
   "id": "3e2af48b",
   "metadata": {},
   "outputs": [
    {
     "data": {
      "text/plain": [
       "NaN    696\n",
       "0.0    232\n",
       "1.0     72\n",
       "Name: class, dtype: int64"
      ]
     },
     "execution_count": 346,
     "metadata": {},
     "output_type": "execute_result"
    }
   ],
   "source": [
    "df_s2[\"class\"] = np.where(\n",
    "    (df_s2[\"chat_gpt_answer\"].notna())\n",
    "    & (df_s2[\"chat_gpt_answer\"].fillna(\"\").str.lower().str.contains(SESGO_REGEX)),\n",
    "    0,\n",
    "    np.where(\n",
    "        (df_s2[\"m_parsed\"].str.len() == 0) | (df_s2[\"chat_gpt_answer\"].isna()),\n",
    "        np.nan,\n",
    "        1\n",
    "    )\n",
    ")\n",
    "\n",
    "df_s2[\"class\"].value_counts(dropna=False)"
   ]
  },
  {
   "cell_type": "code",
   "execution_count": 347,
   "id": "bf6c1206",
   "metadata": {},
   "outputs": [
    {
     "name": "stderr",
     "output_type": "stream",
     "text": [
      "/tmp/ipykernel_6962/2865054334.py:1: SettingWithCopyWarning: \n",
      "A value is trying to be set on a copy of a slice from a DataFrame.\n",
      "Try using .loc[row_indexer,col_indexer] = value instead\n",
      "\n",
      "See the caveats in the documentation: https://pandas.pydata.org/pandas-docs/stable/user_guide/indexing.html#returning-a-view-versus-a-copy\n",
      "  df_s3[\"class\"] = np.where(\n"
     ]
    },
    {
     "data": {
      "text/plain": [
       "NaN    520\n",
       "0.0    124\n",
       "1.0     32\n",
       "Name: class, dtype: int64"
      ]
     },
     "execution_count": 347,
     "metadata": {},
     "output_type": "execute_result"
    }
   ],
   "source": [
    "df_s3[\"class\"] = np.where(\n",
    "    (df_s3[\"chat_gpt_answer\"].notna())\n",
    "    & (df_s3[\"chat_gpt_answer\"].fillna(\"\").str.lower().str.contains(SESGO_REGEX)),\n",
    "    0,\n",
    "    np.where(\n",
    "        (df_s3[\"m_parsed\"].str.len() == 0) | (df_s3[\"chat_gpt_answer\"].isna()),\n",
    "        np.nan,\n",
    "        1\n",
    "    )\n",
    ")\n",
    "\n",
    "df_s3[\"class\"].value_counts(dropna=False)"
   ]
  },
  {
   "cell_type": "code",
   "execution_count": 348,
   "id": "e02dd766",
   "metadata": {},
   "outputs": [
    {
     "name": "stderr",
     "output_type": "stream",
     "text": [
      "/tmp/ipykernel_6962/2180059309.py:1: SettingWithCopyWarning: \n",
      "A value is trying to be set on a copy of a slice from a DataFrame.\n",
      "Try using .loc[row_indexer,col_indexer] = value instead\n",
      "\n",
      "See the caveats in the documentation: https://pandas.pydata.org/pandas-docs/stable/user_guide/indexing.html#returning-a-view-versus-a-copy\n",
      "  df_s4[\"class\"] = np.where(\n"
     ]
    },
    {
     "data": {
      "text/plain": [
       "0.0    374\n",
       "1.0    116\n",
       "NaN     18\n",
       "Name: class, dtype: int64"
      ]
     },
     "execution_count": 348,
     "metadata": {},
     "output_type": "execute_result"
    }
   ],
   "source": [
    "df_s4[\"class\"] = np.where(\n",
    "    (df_s4[\"chat_gpt_answer\"].notna())\n",
    "    & (df_s4[\"chat_gpt_answer\"].fillna(\"\").str.lower().str.contains(SESGO_REGEX)),\n",
    "    0,\n",
    "    np.where(\n",
    "        (df_s4[\"m_parsed\"].str.len() == 0) | (df_s4[\"chat_gpt_answer\"].isna()),\n",
    "        np.nan,\n",
    "        1\n",
    "    )\n",
    ")\n",
    "\n",
    "df_s4[\"class\"].value_counts(dropna=False)"
   ]
  },
  {
   "cell_type": "code",
   "execution_count": 349,
   "id": "805a958f",
   "metadata": {},
   "outputs": [
    {
     "data": {
      "text/plain": [
       "0.0    700\n",
       "1.0    253\n",
       "NaN     47\n",
       "Name: class, dtype: int64"
      ]
     },
     "execution_count": 349,
     "metadata": {},
     "output_type": "execute_result"
    }
   ],
   "source": [
    "df_s5[\"class\"] = np.where(\n",
    "    (df_s5[\"chat_gpt_answer\"].notna())\n",
    "    & (df_s5[\"chat_gpt_answer\"].fillna(\"\").str.lower().str.contains(SESGO_REGEX)),\n",
    "    0,\n",
    "    np.where(\n",
    "        (df_s5[\"m_parsed\"].str.len() == 0) | (df_s5[\"chat_gpt_answer\"].isna()),\n",
    "        np.nan,\n",
    "        1\n",
    "    )\n",
    ")\n",
    "\n",
    "df_s5[\"class\"].value_counts(dropna=False)"
   ]
  },
  {
   "cell_type": "code",
   "execution_count": 350,
   "id": "c0cad32a",
   "metadata": {},
   "outputs": [
    {
     "name": "stdout",
     "output_type": "stream",
     "text": [
      "(8644, 5) (2008, 10)\n"
     ]
    },
    {
     "data": {
      "text/html": [
       "<div>\n",
       "<style scoped>\n",
       "    .dataframe tbody tr th:only-of-type {\n",
       "        vertical-align: middle;\n",
       "    }\n",
       "\n",
       "    .dataframe tbody tr th {\n",
       "        vertical-align: top;\n",
       "    }\n",
       "\n",
       "    .dataframe thead th {\n",
       "        text-align: right;\n",
       "    }\n",
       "</style>\n",
       "<table border=\"1\" class=\"dataframe\">\n",
       "  <thead>\n",
       "    <tr style=\"text-align: right;\">\n",
       "      <th></th>\n",
       "      <th>index</th>\n",
       "      <th>titulo</th>\n",
       "      <th>url</th>\n",
       "      <th>mensaje</th>\n",
       "      <th>fecha</th>\n",
       "      <th>m_parsed</th>\n",
       "      <th>chat_gpt_answer</th>\n",
       "      <th>class</th>\n",
       "      <th>año_mes</th>\n",
       "      <th>año</th>\n",
       "    </tr>\n",
       "  </thead>\n",
       "  <tbody>\n",
       "    <tr>\n",
       "      <th>0</th>\n",
       "      <td>5599</td>\n",
       "      <td>Calendario de Examenes Otoño 2014</td>\n",
       "      <td>detalle?id=7252</td>\n",
       "      <td>Estimados alumnos, \\r\\nya se encuentran public...</td>\n",
       "      <td>2014-05-13 10:48:13</td>\n",
       "      <td>Estimados alumnos,   ya se encuentran publicad...</td>\n",
       "      <td>No se detecta sesgo de género en el texto.</td>\n",
       "      <td>0.0</td>\n",
       "      <td>NaN</td>\n",
       "      <td>NaN</td>\n",
       "    </tr>\n",
       "    <tr>\n",
       "      <th>1</th>\n",
       "      <td>6695</td>\n",
       "      <td>Seminario Haciendo Educación (Charla 7</td>\n",
       "      <td>detalle?id=4082</td>\n",
       "      <td>NaN</td>\n",
       "      <td>2011-11-22 10:34:22</td>\n",
       "      <td>NaN</td>\n",
       "      <td>Lo siento, no puedo responder esta pregunta si...</td>\n",
       "      <td>1.0</td>\n",
       "      <td>NaN</td>\n",
       "      <td>NaN</td>\n",
       "    </tr>\n",
       "    <tr>\n",
       "      <th>2</th>\n",
       "      <td>222</td>\n",
       "      <td>Concierto aniversario Coro FCFM | miércoles 26...</td>\n",
       "      <td>detalle?id=60137</td>\n",
       "      <td>Beauchefian@s: \\r\\n\\r\\nEn el marco del anivers...</td>\n",
       "      <td>2022-10-24 11:41:24</td>\n",
       "      <td>Beauchefian@s:     En el marco del aniversario...</td>\n",
       "      <td>Sí, se puede detectar un posible sesgo de géne...</td>\n",
       "      <td>1.0</td>\n",
       "      <td>NaN</td>\n",
       "      <td>NaN</td>\n",
       "    </tr>\n",
       "    <tr>\n",
       "      <th>3</th>\n",
       "      <td>4829</td>\n",
       "      <td>Entrega Cheque PAE, Séptima Cuota</td>\n",
       "      <td>detalle?id=9861</td>\n",
       "      <td>Se informa a los estudiantes que la entrega de...</td>\n",
       "      <td>2015-10-20 12:19:20</td>\n",
       "      <td>Se informa a los estudiantes que la entrega de...</td>\n",
       "      <td>No se detecta ningún sesgo de género en el texto.</td>\n",
       "      <td>1.0</td>\n",
       "      <td>NaN</td>\n",
       "      <td>NaN</td>\n",
       "    </tr>\n",
       "    <tr>\n",
       "      <th>4</th>\n",
       "      <td>318</td>\n",
       "      <td>Conversatorio Desafíos políticos y sociales d...</td>\n",
       "      <td>detalle?id=58285</td>\n",
       "      <td>\\r\\n\\r\\nEstimados/as estudiantes,\\r\\n \\r\\nLes ...</td>\n",
       "      <td>2022-08-29 16:58:29</td>\n",
       "      <td>Estimados/as estudiantes,     Les invitamos a ...</td>\n",
       "      <td>En el texto se utiliza la expresión \"Estimados...</td>\n",
       "      <td>1.0</td>\n",
       "      <td>NaN</td>\n",
       "      <td>NaN</td>\n",
       "    </tr>\n",
       "  </tbody>\n",
       "</table>\n",
       "</div>"
      ],
      "text/plain": [
       "   index                                             titulo               url  \\\n",
       "0   5599                  Calendario de Examenes Otoño 2014   detalle?id=7252   \n",
       "1   6695             Seminario Haciendo Educación (Charla 7   detalle?id=4082   \n",
       "2    222  Concierto aniversario Coro FCFM | miércoles 26...  detalle?id=60137   \n",
       "3   4829                  Entrega Cheque PAE, Séptima Cuota   detalle?id=9861   \n",
       "4    318  Conversatorio Desafíos políticos y sociales d...  detalle?id=58285   \n",
       "\n",
       "                                             mensaje                fecha  \\\n",
       "0  Estimados alumnos, \\r\\nya se encuentran public...  2014-05-13 10:48:13   \n",
       "1                                                NaN  2011-11-22 10:34:22   \n",
       "2  Beauchefian@s: \\r\\n\\r\\nEn el marco del anivers...  2022-10-24 11:41:24   \n",
       "3  Se informa a los estudiantes que la entrega de...  2015-10-20 12:19:20   \n",
       "4  \\r\\n\\r\\nEstimados/as estudiantes,\\r\\n \\r\\nLes ...  2022-08-29 16:58:29   \n",
       "\n",
       "                                            m_parsed  \\\n",
       "0  Estimados alumnos,   ya se encuentran publicad...   \n",
       "1                                                NaN   \n",
       "2  Beauchefian@s:     En el marco del aniversario...   \n",
       "3  Se informa a los estudiantes que la entrega de...   \n",
       "4  Estimados/as estudiantes,     Les invitamos a ...   \n",
       "\n",
       "                                     chat_gpt_answer  class año_mes  año  \n",
       "0         No se detecta sesgo de género en el texto.    0.0     NaN  NaN  \n",
       "1  Lo siento, no puedo responder esta pregunta si...    1.0     NaN  NaN  \n",
       "2  Sí, se puede detectar un posible sesgo de géne...    1.0     NaN  NaN  \n",
       "3  No se detecta ningún sesgo de género en el texto.    1.0     NaN  NaN  \n",
       "4  En el texto se utiliza la expresión \"Estimados...    1.0     NaN  NaN  "
      ]
     },
     "execution_count": 350,
     "metadata": {},
     "output_type": "execute_result"
    }
   ],
   "source": [
    "df_concat = pd.concat([\n",
    "    df_sample,\n",
    "    df_s2.dropna(subset=[\"chat_gpt_answer\"]).reset_index(),\n",
    "    df_s3.dropna(subset=[\"chat_gpt_answer\"]).reset_index(),\n",
    "    df_s4.dropna(subset=[\"chat_gpt_answer\"]).reset_index(),\n",
    "    df_s5.dropna(subset=[\"chat_gpt_answer\"]).reset_index()\n",
    "]).reset_index(drop=True)\n",
    "\n",
    "print(df.shape, df_concat.shape)\n",
    "df_concat.head()"
   ]
  },
  {
   "cell_type": "code",
   "execution_count": 351,
   "id": "3f11bc81",
   "metadata": {},
   "outputs": [
    {
     "data": {
      "text/plain": [
       "index                 0\n",
       "titulo                0\n",
       "url                   0\n",
       "mensaje               1\n",
       "fecha                 0\n",
       "m_parsed              1\n",
       "chat_gpt_answer       0\n",
       "class                95\n",
       "año_mes            1009\n",
       "año                1009\n",
       "dtype: int64"
      ]
     },
     "execution_count": 351,
     "metadata": {},
     "output_type": "execute_result"
    }
   ],
   "source": [
    "df_concat.isna().sum()"
   ]
  },
  {
   "cell_type": "code",
   "execution_count": 352,
   "id": "20371aca",
   "metadata": {},
   "outputs": [
    {
     "data": {
      "text/plain": [
       "      94\n",
       "\\n     1\n",
       "Name: mensaje, dtype: int64"
      ]
     },
     "execution_count": 352,
     "metadata": {},
     "output_type": "execute_result"
    }
   ],
   "source": [
    "assert df_concat[\"index\"].value_counts().max() == 1\n",
    "df_concat[df_concat[\"class\"].isna()][\"mensaje\"].value_counts()"
   ]
  },
  {
   "cell_type": "code",
   "execution_count": 353,
   "id": "0079b8ba",
   "metadata": {},
   "outputs": [
    {
     "data": {
      "text/html": [
       "<div>\n",
       "<style scoped>\n",
       "    .dataframe tbody tr th:only-of-type {\n",
       "        vertical-align: middle;\n",
       "    }\n",
       "\n",
       "    .dataframe tbody tr th {\n",
       "        vertical-align: top;\n",
       "    }\n",
       "\n",
       "    .dataframe thead th {\n",
       "        text-align: right;\n",
       "    }\n",
       "</style>\n",
       "<table border=\"1\" class=\"dataframe\">\n",
       "  <thead>\n",
       "    <tr style=\"text-align: right;\">\n",
       "      <th></th>\n",
       "      <th>index</th>\n",
       "      <th>titulo</th>\n",
       "      <th>url</th>\n",
       "      <th>mensaje</th>\n",
       "      <th>fecha</th>\n",
       "      <th>m_parsed</th>\n",
       "      <th>chat_gpt_answer</th>\n",
       "      <th>class</th>\n",
       "      <th>año_mes</th>\n",
       "      <th>año</th>\n",
       "    </tr>\n",
       "  </thead>\n",
       "  <tbody>\n",
       "    <tr>\n",
       "      <th>184</th>\n",
       "      <td>5498</td>\n",
       "      <td>Boletín de noticias Beauchef al día</td>\n",
       "      <td>detalle?id=7561</td>\n",
       "      <td>Ya apareció una nueva edición del Boletín de N...</td>\n",
       "      <td>2014-07-23 12:40:23</td>\n",
       "      <td>Ya apareció una nueva edición del Boletín de N...</td>\n",
       "      <td>No, no se detecta sesgo de género en el texto.</td>\n",
       "      <td>0.0</td>\n",
       "      <td>2014_7</td>\n",
       "      <td>2014</td>\n",
       "    </tr>\n",
       "    <tr>\n",
       "      <th>784</th>\n",
       "      <td>5471</td>\n",
       "      <td>Boletín de noticias Beauchef al día</td>\n",
       "      <td>detalle?id=7648</td>\n",
       "      <td>Ya apareció una nueva edición del Boletín de N...</td>\n",
       "      <td>2014-08-06 12:52:06</td>\n",
       "      <td>Ya apareció una nueva edición del Boletín de N...</td>\n",
       "      <td>No, este texto no presenta sesgo de género.</td>\n",
       "      <td>0.0</td>\n",
       "      <td>2014_8</td>\n",
       "      <td>2014</td>\n",
       "    </tr>\n",
       "    <tr>\n",
       "      <th>408</th>\n",
       "      <td>5487</td>\n",
       "      <td>Boletín de noticias Beauchef al día</td>\n",
       "      <td>detalle?id=7608</td>\n",
       "      <td>Ya apareció una nueva edición del Boletín de N...</td>\n",
       "      <td>2014-07-30 13:06:30</td>\n",
       "      <td>Ya apareció una nueva edición del Boletín de N...</td>\n",
       "      <td>No detecto sesgo de género en el texto.</td>\n",
       "      <td>0.0</td>\n",
       "      <td>2014_7</td>\n",
       "      <td>2014</td>\n",
       "    </tr>\n",
       "    <tr>\n",
       "      <th>405</th>\n",
       "      <td>5464</td>\n",
       "      <td>Boletín de noticias Beauchef al día</td>\n",
       "      <td>detalle?id=7680</td>\n",
       "      <td>Ya apareció una nueva edición del Boletín de N...</td>\n",
       "      <td>2014-08-13 15:48:13</td>\n",
       "      <td>Ya apareció una nueva edición del Boletín de N...</td>\n",
       "      <td>No hay sesgo de género en el texto.</td>\n",
       "      <td>0.0</td>\n",
       "      <td>2014_8</td>\n",
       "      <td>2014</td>\n",
       "    </tr>\n",
       "    <tr>\n",
       "      <th>420</th>\n",
       "      <td>6149</td>\n",
       "      <td>Renovación CAE 2013</td>\n",
       "      <td>detalle?id=5414</td>\n",
       "      <td>Si estás cursando tú carrera con apoyo del Cré...</td>\n",
       "      <td>2012-12-11 18:46:11</td>\n",
       "      <td>Si estás cursando tú carrera con apoyo del Cré...</td>\n",
       "      <td>No se detecta sesgo de género en el texto.</td>\n",
       "      <td>0.0</td>\n",
       "      <td>2012_12</td>\n",
       "      <td>2012</td>\n",
       "    </tr>\n",
       "    <tr>\n",
       "      <th>1215</th>\n",
       "      <td>6142</td>\n",
       "      <td>Renovación CAE 2013</td>\n",
       "      <td>detalle?id=5489</td>\n",
       "      <td>Si estás cursando tú carrera con apoyo del Cré...</td>\n",
       "      <td>2013-01-08 09:44:08</td>\n",
       "      <td>Si estás cursando tú carrera con apoyo del Cré...</td>\n",
       "      <td>No se detecta sesgo de género en el texto.</td>\n",
       "      <td>0.0</td>\n",
       "      <td>NaN</td>\n",
       "      <td>NaN</td>\n",
       "    </tr>\n",
       "    <tr>\n",
       "      <th>1114</th>\n",
       "      <td>1210</td>\n",
       "      <td>Último plazo, Pagaré de Arancel, Matrícula 202...</td>\n",
       "      <td>detalle?id=43538</td>\n",
       "      <td>Servicios Centrales ha dispuesto por última ve...</td>\n",
       "      <td>2021-07-08 19:55:08</td>\n",
       "      <td>Servicios Centrales ha dispuesto por última ve...</td>\n",
       "      <td>No se detecta sesgo de género en el texto.</td>\n",
       "      <td>0.0</td>\n",
       "      <td>NaN</td>\n",
       "      <td>NaN</td>\n",
       "    </tr>\n",
       "    <tr>\n",
       "      <th>1779</th>\n",
       "      <td>1190</td>\n",
       "      <td>Último plazo, Pagaré de Arancel, Matrícula 202...</td>\n",
       "      <td>detalle?id=43954</td>\n",
       "      <td>Servicios Centrales ha dispuesto por última ve...</td>\n",
       "      <td>2021-07-26 11:40:26</td>\n",
       "      <td>Servicios Centrales ha dispuesto por última ve...</td>\n",
       "      <td>No se detecta sesgo de género en el texto.</td>\n",
       "      <td>0.0</td>\n",
       "      <td>NaN</td>\n",
       "      <td>NaN</td>\n",
       "    </tr>\n",
       "    <tr>\n",
       "      <th>75</th>\n",
       "      <td>2883</td>\n",
       "      <td>Postergación Otoño 2019</td>\n",
       "      <td>detalle?id=25302</td>\n",
       "      <td>Se recuerda a los estudiantes matriculados que...</td>\n",
       "      <td>2019-03-27 12:36:27</td>\n",
       "      <td>Se recuerda a los estudiantes matriculados que...</td>\n",
       "      <td>No se detecta sesgo de género en este texto.</td>\n",
       "      <td>0.0</td>\n",
       "      <td>2019_3</td>\n",
       "      <td>2019</td>\n",
       "    </tr>\n",
       "    <tr>\n",
       "      <th>807</th>\n",
       "      <td>2910</td>\n",
       "      <td>Postergación Otoño 2019</td>\n",
       "      <td>detalle?id=25116</td>\n",
       "      <td>Se recuerda a los estudiantes matriculados que...</td>\n",
       "      <td>2019-03-19 17:49:19</td>\n",
       "      <td>Se recuerda a los estudiantes matriculados que...</td>\n",
       "      <td>No hay sesgo de género en el texto.</td>\n",
       "      <td>0.0</td>\n",
       "      <td>2019_3</td>\n",
       "      <td>2019</td>\n",
       "    </tr>\n",
       "  </tbody>\n",
       "</table>\n",
       "</div>"
      ],
      "text/plain": [
       "      index                                             titulo  \\\n",
       "184    5498                Boletín de noticias Beauchef al día   \n",
       "784    5471                Boletín de noticias Beauchef al día   \n",
       "408    5487                Boletín de noticias Beauchef al día   \n",
       "405    5464                Boletín de noticias Beauchef al día   \n",
       "420    6149                                Renovación CAE 2013   \n",
       "1215   6142                                Renovación CAE 2013   \n",
       "1114   1210  Último plazo, Pagaré de Arancel, Matrícula 202...   \n",
       "1779   1190  Último plazo, Pagaré de Arancel, Matrícula 202...   \n",
       "75     2883                            Postergación Otoño 2019   \n",
       "807    2910                            Postergación Otoño 2019   \n",
       "\n",
       "                   url                                            mensaje  \\\n",
       "184    detalle?id=7561  Ya apareció una nueva edición del Boletín de N...   \n",
       "784    detalle?id=7648  Ya apareció una nueva edición del Boletín de N...   \n",
       "408    detalle?id=7608  Ya apareció una nueva edición del Boletín de N...   \n",
       "405    detalle?id=7680  Ya apareció una nueva edición del Boletín de N...   \n",
       "420    detalle?id=5414  Si estás cursando tú carrera con apoyo del Cré...   \n",
       "1215   detalle?id=5489  Si estás cursando tú carrera con apoyo del Cré...   \n",
       "1114  detalle?id=43538  Servicios Centrales ha dispuesto por última ve...   \n",
       "1779  detalle?id=43954  Servicios Centrales ha dispuesto por última ve...   \n",
       "75    detalle?id=25302  Se recuerda a los estudiantes matriculados que...   \n",
       "807   detalle?id=25116  Se recuerda a los estudiantes matriculados que...   \n",
       "\n",
       "                    fecha                                           m_parsed  \\\n",
       "184   2014-07-23 12:40:23  Ya apareció una nueva edición del Boletín de N...   \n",
       "784   2014-08-06 12:52:06  Ya apareció una nueva edición del Boletín de N...   \n",
       "408   2014-07-30 13:06:30  Ya apareció una nueva edición del Boletín de N...   \n",
       "405   2014-08-13 15:48:13  Ya apareció una nueva edición del Boletín de N...   \n",
       "420   2012-12-11 18:46:11  Si estás cursando tú carrera con apoyo del Cré...   \n",
       "1215  2013-01-08 09:44:08  Si estás cursando tú carrera con apoyo del Cré...   \n",
       "1114  2021-07-08 19:55:08  Servicios Centrales ha dispuesto por última ve...   \n",
       "1779  2021-07-26 11:40:26  Servicios Centrales ha dispuesto por última ve...   \n",
       "75    2019-03-27 12:36:27  Se recuerda a los estudiantes matriculados que...   \n",
       "807   2019-03-19 17:49:19  Se recuerda a los estudiantes matriculados que...   \n",
       "\n",
       "                                     chat_gpt_answer  class  año_mes   año  \n",
       "184   No, no se detecta sesgo de género en el texto.    0.0   2014_7  2014  \n",
       "784      No, este texto no presenta sesgo de género.    0.0   2014_8  2014  \n",
       "408          No detecto sesgo de género en el texto.    0.0   2014_7  2014  \n",
       "405              No hay sesgo de género en el texto.    0.0   2014_8  2014  \n",
       "420       No se detecta sesgo de género en el texto.    0.0  2012_12  2012  \n",
       "1215      No se detecta sesgo de género en el texto.    0.0      NaN   NaN  \n",
       "1114      No se detecta sesgo de género en el texto.    0.0      NaN   NaN  \n",
       "1779      No se detecta sesgo de género en el texto.    0.0      NaN   NaN  \n",
       "75      No se detecta sesgo de género en este texto.    0.0   2019_3  2019  \n",
       "807              No hay sesgo de género en el texto.    0.0   2019_3  2019  "
      ]
     },
     "execution_count": 353,
     "metadata": {},
     "output_type": "execute_result"
    }
   ],
   "source": [
    "vc = df_concat[\"mensaje\"].value_counts()\n",
    "repetidos = vc[vc > 1].index\n",
    "df_concat[df_concat[\"mensaje\"].isin(repetidos)].sort_values(by=[\"mensaje\"], ascending=False).head(10)"
   ]
  },
  {
   "cell_type": "code",
   "execution_count": 354,
   "id": "98e7e364",
   "metadata": {},
   "outputs": [],
   "source": [
    "t = pd.DataFrame(\n",
    "    df_concat[df_concat[\"mensaje\"].isin(repetidos)].groupby([\"mensaje\"])[\"class\"].value_counts()\n",
    ").rename(columns={\n",
    "    \"class\": \"cuentas\"\n",
    "}).reset_index()\n",
    "\n",
    "# En mensajes repetidos se obtuvo la misma clase\n",
    "assert t.shape[0] == t[\"mensaje\"].nunique()"
   ]
  },
  {
   "cell_type": "markdown",
   "id": "c27d1c31",
   "metadata": {},
   "source": [
    "# Análisis"
   ]
  },
  {
   "cell_type": "code",
   "execution_count": 355,
   "id": "6ce98be7",
   "metadata": {},
   "outputs": [
    {
     "data": {
      "text/plain": [
       "count                             2008\n",
       "mean     2016-07-05 07:58:04.977589760\n",
       "min                2007-10-29 16:41:29\n",
       "25%                2012-08-12 15:05:42\n",
       "50%         2017-01-17 06:41:46.500000\n",
       "75%      2020-05-16 20:52:46.249999872\n",
       "max                2023-03-29 11:05:29\n",
       "Name: fecha, dtype: object"
      ]
     },
     "execution_count": 355,
     "metadata": {},
     "output_type": "execute_result"
    }
   ],
   "source": [
    "df_concat[\"fecha\"] = pd.to_datetime(df_concat[\"fecha\"])\n",
    "df_concat[\"fecha\"].describe(datetime_is_numeric=True)"
   ]
  },
  {
   "cell_type": "code",
   "execution_count": 356,
   "id": "50cb172b",
   "metadata": {},
   "outputs": [
    {
     "data": {
      "image/png": "[encoded data removed]",
      "text/plain": [
       "<Figure size 1080x360 with 1 Axes>"
      ]
     },
     "metadata": {},
     "output_type": "display_data"
    }
   ],
   "source": [
    "plt.style.use(\"ggplot\")\n",
    "fig, ax = plt.subplots(figsize=(15, 5))\n",
    "df_concat[\"fecha\"].astype(np.int64).plot.hist(ax=ax, bins=50)\n",
    "labels = ax.get_xticks().tolist()[1:-1]\n",
    "ax.set_xticks(labels)\n",
    "ax.set_xticklabels(pd.to_datetime(labels), rotation=90, size=12)\n",
    "plt.show()"
   ]
  },
  {
   "cell_type": "code",
   "execution_count": 357,
   "id": "46dbc679",
   "metadata": {},
   "outputs": [
    {
     "data": {
      "text/plain": [
       "2023     36\n",
       "2022    169\n",
       "2021    174\n",
       "2020    171\n",
       "2019    190\n",
       "2018    147\n",
       "2017    118\n",
       "2016    117\n",
       "2015    139\n",
       "2014    101\n",
       "2013     85\n",
       "2012    137\n",
       "2011    113\n",
       "2010    136\n",
       "2009     86\n",
       "2008     77\n",
       "2007     12\n",
       "Name: año, dtype: int64"
      ]
     },
     "execution_count": 357,
     "metadata": {},
     "output_type": "execute_result"
    }
   ],
   "source": [
    "#df_s2[\"año_mes\"] = df_s2[\"fecha\"].dt.year.astype(str) + \"_\" + df_s2[\"fecha\"].dt.month.astype(str) \n",
    "df_concat[\"año\"] = df_concat[\"fecha\"].dt.year.astype(str)\n",
    "df_concat[\"año\"].value_counts().sort_index(ascending=False)"
   ]
  },
  {
   "cell_type": "code",
   "execution_count": 359,
   "id": "e32bf862",
   "metadata": {},
   "outputs": [
    {
     "data": {
      "image/png": "[encoded data removed]",
      "text/plain": [
       "<Figure size 1080x360 with 1 Axes>"
      ]
     },
     "metadata": {},
     "output_type": "display_data"
    }
   ],
   "source": [
    "# plt.figure(figsize=(15, 5))\n",
    "# sns.countplot(x=\"año\", hue=\"class\", data=df_concat, order=sorted(df_concat[\"año\"].unique()));\n",
    "# plt.legend(labels=['No se detecta sesgo de género', 'Se detecta sesgo de género']);\n",
    "\n",
    "t2 = pd.DataFrame(\n",
    "    df_concat.groupby([\"año\"])[\"class\"].value_counts(\"%\") * 100\n",
    "    #df_concat.groupby([\"año\"])[\"class\"].value_counts()\n",
    ").rename(columns={\n",
    "    \"class\": \"cuenta\"\n",
    "}).reset_index()\n",
    "\n",
    "pivot = pd.pivot_table(data=t2, index=['año'], columns=['class'], values='cuenta')\n",
    "\n",
    "ax = pivot.plot.bar(stacked=True, figsize=(15,5))\n",
    "ax.set_xticklabels(pivot.index, rotation=0)\n",
    "plt.legend(labels=['No se detecta sesgo de género', 'Se detecta sesgo de género']);"
   ]
  },
  {
   "cell_type": "code",
   "execution_count": 361,
   "id": "2a3129a3",
   "metadata": {},
   "outputs": [],
   "source": [
    "df_concat.to_csv(\"../../data/processed/20230404_avisos_gpt_sample_2000.csv\", index=False, sep=\"|\")"
   ]
  },
  {
   "cell_type": "code",
   "execution_count": 20,
   "id": "68380408",
   "metadata": {},
   "outputs": [
    {
     "data": {
      "text/html": [
       "<div>\n",
       "<style scoped>\n",
       "    .dataframe tbody tr th:only-of-type {\n",
       "        vertical-align: middle;\n",
       "    }\n",
       "\n",
       "    .dataframe tbody tr th {\n",
       "        vertical-align: top;\n",
       "    }\n",
       "\n",
       "    .dataframe thead th {\n",
       "        text-align: right;\n",
       "    }\n",
       "</style>\n",
       "<table border=\"1\" class=\"dataframe\">\n",
       "  <thead>\n",
       "    <tr style=\"text-align: right;\">\n",
       "      <th></th>\n",
       "      <th>index</th>\n",
       "      <th>titulo</th>\n",
       "      <th>url</th>\n",
       "      <th>mensaje</th>\n",
       "      <th>fecha</th>\n",
       "      <th>m_parsed</th>\n",
       "      <th>chat_gpt_answer</th>\n",
       "      <th>class</th>\n",
       "      <th>año_mes</th>\n",
       "      <th>año</th>\n",
       "    </tr>\n",
       "  </thead>\n",
       "  <tbody>\n",
       "    <tr>\n",
       "      <th>0</th>\n",
       "      <td>5599</td>\n",
       "      <td>Calendario de Examenes Otoño 2014</td>\n",
       "      <td>detalle?id=7252</td>\n",
       "      <td>Estimados alumnos, \\r\\nya se encuentran public...</td>\n",
       "      <td>2014-05-13 10:48:13</td>\n",
       "      <td>Estimados alumnos,   ya se encuentran publicad...</td>\n",
       "      <td>No se detecta sesgo de género en el texto.</td>\n",
       "      <td>0.0</td>\n",
       "      <td>NaN</td>\n",
       "      <td>2014</td>\n",
       "    </tr>\n",
       "    <tr>\n",
       "      <th>1</th>\n",
       "      <td>6695</td>\n",
       "      <td>Seminario Haciendo Educación (Charla 7</td>\n",
       "      <td>detalle?id=4082</td>\n",
       "      <td>NaN</td>\n",
       "      <td>2011-11-22 10:34:22</td>\n",
       "      <td>NaN</td>\n",
       "      <td>Lo siento, no puedo responder esta pregunta si...</td>\n",
       "      <td>1.0</td>\n",
       "      <td>NaN</td>\n",
       "      <td>2011</td>\n",
       "    </tr>\n",
       "    <tr>\n",
       "      <th>2</th>\n",
       "      <td>222</td>\n",
       "      <td>Concierto aniversario Coro FCFM | miércoles 26...</td>\n",
       "      <td>detalle?id=60137</td>\n",
       "      <td>Beauchefian@s: \\r\\n\\r\\nEn el marco del anivers...</td>\n",
       "      <td>2022-10-24 11:41:24</td>\n",
       "      <td>Beauchefian@s:     En el marco del aniversario...</td>\n",
       "      <td>Sí, se puede detectar un posible sesgo de géne...</td>\n",
       "      <td>1.0</td>\n",
       "      <td>NaN</td>\n",
       "      <td>2022</td>\n",
       "    </tr>\n",
       "    <tr>\n",
       "      <th>3</th>\n",
       "      <td>4829</td>\n",
       "      <td>Entrega Cheque PAE, Séptima Cuota</td>\n",
       "      <td>detalle?id=9861</td>\n",
       "      <td>Se informa a los estudiantes que la entrega de...</td>\n",
       "      <td>2015-10-20 12:19:20</td>\n",
       "      <td>Se informa a los estudiantes que la entrega de...</td>\n",
       "      <td>No se detecta ningún sesgo de género en el texto.</td>\n",
       "      <td>1.0</td>\n",
       "      <td>NaN</td>\n",
       "      <td>2015</td>\n",
       "    </tr>\n",
       "    <tr>\n",
       "      <th>4</th>\n",
       "      <td>318</td>\n",
       "      <td>Conversatorio Desafíos políticos y sociales d...</td>\n",
       "      <td>detalle?id=58285</td>\n",
       "      <td>\\r\\n\\r\\nEstimados/as estudiantes,\\r\\n \\r\\nLes ...</td>\n",
       "      <td>2022-08-29 16:58:29</td>\n",
       "      <td>Estimados/as estudiantes,     Les invitamos a ...</td>\n",
       "      <td>En el texto se utiliza la expresión \"Estimados...</td>\n",
       "      <td>1.0</td>\n",
       "      <td>NaN</td>\n",
       "      <td>2022</td>\n",
       "    </tr>\n",
       "    <tr>\n",
       "      <th>...</th>\n",
       "      <td>...</td>\n",
       "      <td>...</td>\n",
       "      <td>...</td>\n",
       "      <td>...</td>\n",
       "      <td>...</td>\n",
       "      <td>...</td>\n",
       "      <td>...</td>\n",
       "      <td>...</td>\n",
       "      <td>...</td>\n",
       "      <td>...</td>\n",
       "    </tr>\n",
       "    <tr>\n",
       "      <th>2003</th>\n",
       "      <td>485</td>\n",
       "      <td>Hoy - FabLab sale del Lab</td>\n",
       "      <td>detalle?id=54937</td>\n",
       "      <td>Estimada comunidad beauchefiana:El Laboratorio...</td>\n",
       "      <td>2022-06-02 10:03:02</td>\n",
       "      <td>Estimada comunidad beauchefiana:El Laboratorio...</td>\n",
       "      <td>No se detecta sesgo de género en este texto.</td>\n",
       "      <td>0.0</td>\n",
       "      <td>NaN</td>\n",
       "      <td>2022</td>\n",
       "    </tr>\n",
       "    <tr>\n",
       "      <th>2004</th>\n",
       "      <td>1901</td>\n",
       "      <td>Mañana en la FCFM (en línea) - viernes 26 de j...</td>\n",
       "      <td>detalle?id=32900</td>\n",
       "      <td>ENCUENTRO:\\r\\nXXVII Encuentro Virtual de Gesti...</td>\n",
       "      <td>2020-06-25 17:41:25</td>\n",
       "      <td>ENCUENTRO:  XXVII Encuentro Virtual de Gestión...</td>\n",
       "      <td>No se detecta sesgo de género en el texto prop...</td>\n",
       "      <td>0.0</td>\n",
       "      <td>NaN</td>\n",
       "      <td>2020</td>\n",
       "    </tr>\n",
       "    <tr>\n",
       "      <th>2005</th>\n",
       "      <td>812</td>\n",
       "      <td>Matrícula Alumnos Antiguos 2022</td>\n",
       "      <td>detalle?id=49853</td>\n",
       "      <td>El proceso de Matrícula 2022 para estudiantes ...</td>\n",
       "      <td>2022-01-04 09:47:04</td>\n",
       "      <td>El proceso de Matrícula 2022 para estudiantes ...</td>\n",
       "      <td>No se detecta un sesgo de género en el texto.</td>\n",
       "      <td>0.0</td>\n",
       "      <td>NaN</td>\n",
       "      <td>2022</td>\n",
       "    </tr>\n",
       "    <tr>\n",
       "      <th>2006</th>\n",
       "      <td>557</td>\n",
       "      <td>Becas Santander Skills | MBA Essentials 2022 ...</td>\n",
       "      <td>detalle?id=53869</td>\n",
       "      <td>Estimada Comunidad,Les invitamos a informarse ...</td>\n",
       "      <td>2022-04-29 11:01:29</td>\n",
       "      <td>Estimada Comunidad,Les invitamos a informarse ...</td>\n",
       "      <td>No se detecta sesgo de género en el texto.</td>\n",
       "      <td>0.0</td>\n",
       "      <td>NaN</td>\n",
       "      <td>2022</td>\n",
       "    </tr>\n",
       "    <tr>\n",
       "      <th>2007</th>\n",
       "      <td>3535</td>\n",
       "      <td>Charla \"Una Experiencia de Estudio en Beauchef\"</td>\n",
       "      <td>detalle?id=20323</td>\n",
       "      <td>Hoy a las 12:00 hrs.\\r\\nNo se pierdan la oport...</td>\n",
       "      <td>2018-04-11 10:15:11</td>\n",
       "      <td>Hoy a las 12:00 hrs.  No se pierdan la oportun...</td>\n",
       "      <td>No hay sesgo de género en el texto.</td>\n",
       "      <td>0.0</td>\n",
       "      <td>NaN</td>\n",
       "      <td>2018</td>\n",
       "    </tr>\n",
       "  </tbody>\n",
       "</table>\n",
       "<p>2008 rows × 10 columns</p>\n",
       "</div>"
      ],
      "text/plain": [
       "      index                                             titulo  \\\n",
       "0      5599                  Calendario de Examenes Otoño 2014   \n",
       "1      6695             Seminario Haciendo Educación (Charla 7   \n",
       "2       222  Concierto aniversario Coro FCFM | miércoles 26...   \n",
       "3      4829                  Entrega Cheque PAE, Séptima Cuota   \n",
       "4       318  Conversatorio Desafíos políticos y sociales d...   \n",
       "...     ...                                                ...   \n",
       "2003    485                          Hoy - FabLab sale del Lab   \n",
       "2004   1901  Mañana en la FCFM (en línea) - viernes 26 de j...   \n",
       "2005    812                    Matrícula Alumnos Antiguos 2022   \n",
       "2006    557  Becas Santander Skills | MBA Essentials 2022 ...   \n",
       "2007   3535    Charla \"Una Experiencia de Estudio en Beauchef\"   \n",
       "\n",
       "                   url                                            mensaje  \\\n",
       "0      detalle?id=7252  Estimados alumnos, \\r\\nya se encuentran public...   \n",
       "1      detalle?id=4082                                                NaN   \n",
       "2     detalle?id=60137  Beauchefian@s: \\r\\n\\r\\nEn el marco del anivers...   \n",
       "3      detalle?id=9861  Se informa a los estudiantes que la entrega de...   \n",
       "4     detalle?id=58285  \\r\\n\\r\\nEstimados/as estudiantes,\\r\\n \\r\\nLes ...   \n",
       "...                ...                                                ...   \n",
       "2003  detalle?id=54937  Estimada comunidad beauchefiana:El Laboratorio...   \n",
       "2004  detalle?id=32900  ENCUENTRO:\\r\\nXXVII Encuentro Virtual de Gesti...   \n",
       "2005  detalle?id=49853  El proceso de Matrícula 2022 para estudiantes ...   \n",
       "2006  detalle?id=53869  Estimada Comunidad,Les invitamos a informarse ...   \n",
       "2007  detalle?id=20323  Hoy a las 12:00 hrs.\\r\\nNo se pierdan la oport...   \n",
       "\n",
       "                    fecha                                           m_parsed  \\\n",
       "0     2014-05-13 10:48:13  Estimados alumnos,   ya se encuentran publicad...   \n",
       "1     2011-11-22 10:34:22                                                NaN   \n",
       "2     2022-10-24 11:41:24  Beauchefian@s:     En el marco del aniversario...   \n",
       "3     2015-10-20 12:19:20  Se informa a los estudiantes que la entrega de...   \n",
       "4     2022-08-29 16:58:29  Estimados/as estudiantes,     Les invitamos a ...   \n",
       "...                   ...                                                ...   \n",
       "2003  2022-06-02 10:03:02  Estimada comunidad beauchefiana:El Laboratorio...   \n",
       "2004  2020-06-25 17:41:25  ENCUENTRO:  XXVII Encuentro Virtual de Gestión...   \n",
       "2005  2022-01-04 09:47:04  El proceso de Matrícula 2022 para estudiantes ...   \n",
       "2006  2022-04-29 11:01:29  Estimada Comunidad,Les invitamos a informarse ...   \n",
       "2007  2018-04-11 10:15:11  Hoy a las 12:00 hrs.  No se pierdan la oportun...   \n",
       "\n",
       "                                        chat_gpt_answer  class año_mes   año  \n",
       "0            No se detecta sesgo de género en el texto.    0.0     NaN  2014  \n",
       "1     Lo siento, no puedo responder esta pregunta si...    1.0     NaN  2011  \n",
       "2     Sí, se puede detectar un posible sesgo de géne...    1.0     NaN  2022  \n",
       "3     No se detecta ningún sesgo de género en el texto.    1.0     NaN  2015  \n",
       "4     En el texto se utiliza la expresión \"Estimados...    1.0     NaN  2022  \n",
       "...                                                 ...    ...     ...   ...  \n",
       "2003       No se detecta sesgo de género en este texto.    0.0     NaN  2022  \n",
       "2004  No se detecta sesgo de género en el texto prop...    0.0     NaN  2020  \n",
       "2005      No se detecta un sesgo de género en el texto.    0.0     NaN  2022  \n",
       "2006         No se detecta sesgo de género en el texto.    0.0     NaN  2022  \n",
       "2007                No hay sesgo de género en el texto.    0.0     NaN  2018  \n",
       "\n",
       "[2008 rows x 10 columns]"
      ]
     },
     "execution_count": 20,
     "metadata": {},
     "output_type": "execute_result"
    }
   ],
   "source": [
    "pd.read_csv(\"../../data/raw/processed/20230404_avisos_gpt_sample_2000.csv\", sep=\"|\")"
   ]
  },
  {
   "cell_type": "code",
   "execution_count": null,
   "id": "82c6dfeb",
   "metadata": {},
   "outputs": [],
   "source": []
  }
 ],
 "metadata": {
  "kernelspec": {
   "display_name": "Python 3 (ipykernel)",
   "language": "python",
   "name": "python3"
  },
  "language_info": {
   "codemirror_mode": {
    "name": "ipython",
    "version": 3
   },
   "file_extension": ".py",
   "mimetype": "text/x-python",
   "name": "python",
   "nbconvert_exporter": "python",
   "pygments_lexer": "ipython3",
   "version": "3.9.12"
  }
 },
 "nbformat": 4,
 "nbformat_minor": 5
}
