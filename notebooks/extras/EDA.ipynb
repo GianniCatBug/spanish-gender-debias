{
 "cells": [
  {
   "cell_type": "code",
   "execution_count": 3,
   "id": "e1d3d644-c9ed-4526-aa4f-5bc035993601",
   "metadata": {},
   "outputs": [],
   "source": [
    "import pandas as pd\n",
    "import numpy as np\n",
    "from glob import glob\n",
    "from tqdm.notebook import tqdm\n",
    "import matplotlib.pyplot as plt\n",
    "from sklearn.feature_extraction.text import CountVectorizer\n",
    "from collections import Counter\n",
    "import difflib\n",
    "\n",
    "from transformers import AutoTokenizer\n",
    "\n",
    "CORPUS_FILE = \"20231109_gender_bias_dataset.csv\"\n",
    "\n",
    "plt.style.use(\"seaborn-v0_8\")"
   ]
  },
  {
   "cell_type": "markdown",
   "id": "9430a508-9904-437e-a544-7273311207c6",
   "metadata": {},
   "source": [
    "# Corpus"
   ]
  },
  {
   "cell_type": "code",
   "execution_count": 4,
   "id": "8b769905-0bc2-479d-a34e-5ea93c0e724e",
   "metadata": {},
   "outputs": [
    {
     "name": "stdout",
     "output_type": "stream",
     "text": [
      "(31195, 2)\n"
     ]
    },
    {
     "data": {
      "text/html": [
       "<div>\n",
       "<style scoped>\n",
       "    .dataframe tbody tr th:only-of-type {\n",
       "        vertical-align: middle;\n",
       "    }\n",
       "\n",
       "    .dataframe tbody tr th {\n",
       "        vertical-align: top;\n",
       "    }\n",
       "\n",
       "    .dataframe thead th {\n",
       "        text-align: right;\n",
       "    }\n",
       "</style>\n",
       "<table border=\"1\" class=\"dataframe\">\n",
       "  <thead>\n",
       "    <tr style=\"text-align: right;\">\n",
       "      <th></th>\n",
       "      <th>input</th>\n",
       "      <th>target</th>\n",
       "    </tr>\n",
       "  </thead>\n",
       "  <tbody>\n",
       "    <tr>\n",
       "      <th>0</th>\n",
       "      <td>Chilkatufe UChile mew, estudiantes mapuche U. ...</td>\n",
       "      <td>Chilkatufe UChile mew, estudiantes mapuche U. ...</td>\n",
       "    </tr>\n",
       "    <tr>\n",
       "      <th>1</th>\n",
       "      <td>Biblioteca Central, FCFM Académicas mapuche, FCFM</td>\n",
       "      <td>Biblioteca Central, FCFM Académicas mapuche, FCFM</td>\n",
       "    </tr>\n",
       "  </tbody>\n",
       "</table>\n",
       "</div>"
      ],
      "text/plain": [
       "                                               input  \\\n",
       "0  Chilkatufe UChile mew, estudiantes mapuche U. ...   \n",
       "1  Biblioteca Central, FCFM Académicas mapuche, FCFM   \n",
       "\n",
       "                                              target  \n",
       "0  Chilkatufe UChile mew, estudiantes mapuche U. ...  \n",
       "1  Biblioteca Central, FCFM Académicas mapuche, FCFM  "
      ]
     },
     "execution_count": 4,
     "metadata": {},
     "output_type": "execute_result"
    }
   ],
   "source": [
    "df = pd.read_csv(f\"../../data/processed/{CORPUS_FILE}\")\n",
    "print(df.shape)\n",
    "df.head(2)"
   ]
  },
  {
   "cell_type": "code",
   "execution_count": 3,
   "id": "2b26fec5-41ff-4821-b189-8520aeafbe49",
   "metadata": {},
   "outputs": [
    {
     "name": "stdout",
     "output_type": "stream",
     "text": [
      "<class 'pandas.core.frame.DataFrame'>\n",
      "RangeIndex: 31195 entries, 0 to 31194\n",
      "Data columns (total 2 columns):\n",
      " #   Column  Non-Null Count  Dtype \n",
      "---  ------  --------------  ----- \n",
      " 0   input   31195 non-null  object\n",
      " 1   target  31195 non-null  object\n",
      "dtypes: object(2)\n",
      "memory usage: 487.5+ KB\n"
     ]
    }
   ],
   "source": [
    "df.info()"
   ]
  },
  {
   "cell_type": "markdown",
   "id": "0ca18214-f24c-4198-9e49-1fbeba824752",
   "metadata": {},
   "source": [
    "# Exploration"
   ]
  },
  {
   "cell_type": "markdown",
   "id": "073e6c49-792b-4aa3-a3b7-bf067b78ddce",
   "metadata": {},
   "source": [
    "## Sequence Length"
   ]
  },
  {
   "cell_type": "markdown",
   "id": "ae4d0e52-9015-4d0d-9105-3b671caceb6b",
   "metadata": {},
   "source": [
    "### FLAN"
   ]
  },
  {
   "cell_type": "code",
   "execution_count": 80,
   "id": "416d9de9-c671-4077-ac90-28d398654299",
   "metadata": {},
   "outputs": [],
   "source": [
    "flan_tok = AutoTokenizer.from_pretrained(\"google/flan-t5-large\")"
   ]
  },
  {
   "cell_type": "code",
   "execution_count": 10,
   "id": "dba1943d-3be5-4a72-9f66-5c09451eab3b",
   "metadata": {},
   "outputs": [
    {
     "name": "stderr",
     "output_type": "stream",
     "text": [
      "Token indices sequence length is longer than the specified maximum sequence length for this model (518 > 512). Running this sequence through the model will result in indexing errors\n"
     ]
    },
    {
     "name": "stdout",
     "output_type": "stream",
     "text": [
      "241.0\n"
     ]
    },
    {
     "data": {
      "text/plain": [
       "count    31195.000000\n",
       "mean        80.405642\n",
       "std         48.989391\n",
       "min         20.000000\n",
       "25%         48.000000\n",
       "50%         69.000000\n",
       "75%        100.000000\n",
       "max       2625.000000\n",
       "dtype: float64"
      ]
     },
     "execution_count": 10,
     "metadata": {},
     "output_type": "execute_result"
    }
   ],
   "source": [
    "input_tokens = pd.Series([\n",
    "    i\n",
    "    for i in flan_tok(df[\"input\"].to_list())[\"input_ids\"]\n",
    "])\n",
    "\n",
    "input_tokens_len = pd.Series([\n",
    "    len(i)\n",
    "    for i in input_tokens\n",
    "])\n",
    "\n",
    "print(input_tokens_len.quantile(0.99))\n",
    "input_tokens_len.describe()"
   ]
  },
  {
   "cell_type": "code",
   "execution_count": 11,
   "id": "b3a5443e-9049-4c1f-b6e5-5804ec52a5b6",
   "metadata": {},
   "outputs": [
    {
     "name": "stdout",
     "output_type": "stream",
     "text": [
      "224.0\n"
     ]
    },
    {
     "data": {
      "text/plain": [
       "count    31195.000000\n",
       "mean        62.856483\n",
       "std         49.345723\n",
       "min          2.000000\n",
       "25%         30.000000\n",
       "50%         52.000000\n",
       "75%         83.000000\n",
       "max       2607.000000\n",
       "dtype: float64"
      ]
     },
     "execution_count": 11,
     "metadata": {},
     "output_type": "execute_result"
    }
   ],
   "source": [
    "target_tokens_len = pd.Series([\n",
    "    len(i)\n",
    "    for i in flan_tok(df[\"target\"].to_list())[\"input_ids\"]\n",
    "])\n",
    "print(target_tokens_len.quantile(0.99))\n",
    "target_tokens_len.describe()"
   ]
  },
  {
   "cell_type": "code",
   "execution_count": 12,
   "id": "44e94fa6-3c9b-4b4f-889b-c71aa20f8537",
   "metadata": {},
   "outputs": [
    {
     "data": {
      "image/png": "[encoded data removed]",
      "text/plain": [
       "<Figure size 800x550 with 1 Axes>"
      ]
     },
     "metadata": {},
     "output_type": "display_data"
    }
   ],
   "source": [
    "plt.hist(input_tokens_len, bins=50)\n",
    "plt.hist(target_tokens_len, alpha=0.5, bins=50);"
   ]
  },
  {
   "cell_type": "markdown",
   "id": "b5f4848b-da30-4dd6-89ae-b5d6377be096",
   "metadata": {},
   "source": [
    "### Falcon"
   ]
  },
  {
   "cell_type": "code",
   "execution_count": 4,
   "id": "40b80a61-d719-4223-bc97-0ed89a99f439",
   "metadata": {},
   "outputs": [],
   "source": [
    "falcon_tok = AutoTokenizer.from_pretrained(\"vilsonrodrigues/falcon-7b-instruct-sharded\")"
   ]
  },
  {
   "cell_type": "code",
   "execution_count": 66,
   "id": "e6dfc0c9-0d4a-4c64-941d-595c8c02845b",
   "metadata": {},
   "outputs": [
    {
     "name": "stdout",
     "output_type": "stream",
     "text": [
      "163.0\n"
     ]
    },
    {
     "data": {
      "text/plain": [
       "count    31195.000000\n",
       "mean        43.921494\n",
       "std         36.719875\n",
       "min          1.000000\n",
       "25%         21.000000\n",
       "50%         36.000000\n",
       "75%         57.000000\n",
       "max       2448.000000\n",
       "dtype: float64"
      ]
     },
     "execution_count": 66,
     "metadata": {},
     "output_type": "execute_result"
    }
   ],
   "source": [
    "input_tokens = pd.Series([\n",
    "    i\n",
    "    for i in falcon_tok(df[\"input\"].to_list())[\"input_ids\"]\n",
    "])\n",
    "\n",
    "input_tokens_len = pd.Series([\n",
    "    len(i)\n",
    "    for i in input_tokens\n",
    "])\n",
    "\n",
    "print(input_tokens_len.quantile(0.99))\n",
    "input_tokens_len.describe()"
   ]
  },
  {
   "cell_type": "markdown",
   "id": "1f948266-f66a-47da-8bca-75ac887b9ea8",
   "metadata": {},
   "source": [
    "## BoW"
   ]
  },
  {
   "cell_type": "markdown",
   "id": "8a398b4d-c8c5-4802-9dcf-2d6c16585d6f",
   "metadata": {},
   "source": [
    "### FLAN"
   ]
  },
  {
   "cell_type": "code",
   "execution_count": 22,
   "id": "59cefdbf-edeb-45a2-8d03-82b49f62a7b6",
   "metadata": {},
   "outputs": [
    {
     "data": {
      "text/html": [
       "<div>\n",
       "<style scoped>\n",
       "    .dataframe tbody tr th:only-of-type {\n",
       "        vertical-align: middle;\n",
       "    }\n",
       "\n",
       "    .dataframe tbody tr th {\n",
       "        vertical-align: top;\n",
       "    }\n",
       "\n",
       "    .dataframe thead th {\n",
       "        text-align: right;\n",
       "    }\n",
       "</style>\n",
       "<table border=\"1\" class=\"dataframe\">\n",
       "  <thead>\n",
       "    <tr style=\"text-align: right;\">\n",
       "      <th></th>\n",
       "      <th>de</th>\n",
       "      <th>unk</th>\n",
       "      <th>la</th>\n",
       "      <th>el</th>\n",
       "      <th>en</th>\n",
       "      <th>que</th>\n",
       "      <th>los</th>\n",
       "      <th>las</th>\n",
       "      <th>se</th>\n",
       "      <th>para</th>\n",
       "    </tr>\n",
       "  </thead>\n",
       "  <tbody>\n",
       "    <tr>\n",
       "      <th>token</th>\n",
       "      <td>de</td>\n",
       "      <td>unk</td>\n",
       "      <td>la</td>\n",
       "      <td>el</td>\n",
       "      <td>en</td>\n",
       "      <td>que</td>\n",
       "      <td>los</td>\n",
       "      <td>las</td>\n",
       "      <td>se</td>\n",
       "      <td>para</td>\n",
       "    </tr>\n",
       "    <tr>\n",
       "      <th>counts</th>\n",
       "      <td>59476</td>\n",
       "      <td>28022</td>\n",
       "      <td>24413</td>\n",
       "      <td>19904</td>\n",
       "      <td>18583</td>\n",
       "      <td>12701</td>\n",
       "      <td>10137</td>\n",
       "      <td>9614</td>\n",
       "      <td>9071</td>\n",
       "      <td>8265</td>\n",
       "    </tr>\n",
       "    <tr>\n",
       "      <th>relative</th>\n",
       "      <td>8.318682</td>\n",
       "      <td>3.919331</td>\n",
       "      <td>3.414554</td>\n",
       "      <td>2.783897</td>\n",
       "      <td>2.599134</td>\n",
       "      <td>1.776441</td>\n",
       "      <td>1.417824</td>\n",
       "      <td>1.344674</td>\n",
       "      <td>1.268726</td>\n",
       "      <td>1.155994</td>\n",
       "    </tr>\n",
       "  </tbody>\n",
       "</table>\n",
       "</div>"
      ],
      "text/plain": [
       "                de       unk        la        el        en       que  \\\n",
       "token           de       unk        la        el        en       que   \n",
       "counts       59476     28022     24413     19904     18583     12701   \n",
       "relative  8.318682  3.919331  3.414554  2.783897  2.599134  1.776441   \n",
       "\n",
       "               los       las        se      para  \n",
       "token          los       las        se      para  \n",
       "counts       10137      9614      9071      8265  \n",
       "relative  1.417824  1.344674  1.268726  1.155994  "
      ]
     },
     "execution_count": 22,
     "metadata": {},
     "output_type": "execute_result"
    }
   ],
   "source": [
    "input_token_decoded = pd.Series([\n",
    "    flan_tok.decode(i)\n",
    "    for i in input_tokens\n",
    "]).tolist()\n",
    "\n",
    "vectorizer = CountVectorizer()\n",
    "X = vectorizer.fit_transform(input_token_decoded)\n",
    "\n",
    "df_frec = pd.DataFrame(X.toarray(), columns=vectorizer.get_feature_names_out())\n",
    "\n",
    "df_total_frec = pd.DataFrame({\n",
    "    'token': vectorizer.get_feature_names_out(),\n",
    "    'counts': df_frec.sum()\n",
    "}).sort_values(by='counts', ascending=False)\n",
    "\n",
    "df_total_frec[\"relative\"] = df_total_frec[\"counts\"] / df_total_frec[\"counts\"].sum() * 100\n",
    "\n",
    "df_total_frec.head(10).T"
   ]
  },
  {
   "cell_type": "code",
   "execution_count": 23,
   "id": "076e56f5-3a6e-418b-9657-232439440c0b",
   "metadata": {},
   "outputs": [
    {
     "name": "stdout",
     "output_type": "stream",
     "text": [
      "Index(['í', 'ñ', 'ú', 'Á', '¡', '¿', 'Í', '', '', 'Ó', '', '​', '', 'º',\n",
      "       '·', 'Ñ', 'Ú', '́', '', '✔'],\n",
      "      dtype='object')\n"
     ]
    },
    {
     "data": {
      "text/html": [
       "<div>\n",
       "<style scoped>\n",
       "    .dataframe tbody tr th:only-of-type {\n",
       "        vertical-align: middle;\n",
       "    }\n",
       "\n",
       "    .dataframe tbody tr th {\n",
       "        vertical-align: top;\n",
       "    }\n",
       "\n",
       "    .dataframe thead th {\n",
       "        text-align: right;\n",
       "    }\n",
       "</style>\n",
       "<table border=\"1\" class=\"dataframe\">\n",
       "  <thead>\n",
       "    <tr style=\"text-align: right;\">\n",
       "      <th></th>\n",
       "      <th>í</th>\n",
       "      <th>ñ</th>\n",
       "      <th>ú</th>\n",
       "      <th>Á</th>\n",
       "      <th>¡</th>\n",
       "      <th>¿</th>\n",
       "      <th>Í</th>\n",
       "      <th></th>\n",
       "      <th></th>\n",
       "      <th>Ó</th>\n",
       "      <th></th>\n",
       "      <th>​</th>\n",
       "      <th></th>\n",
       "      <th>º</th>\n",
       "      <th>·</th>\n",
       "      <th>Ñ</th>\n",
       "      <th>Ú</th>\n",
       "      <th>́</th>\n",
       "      <th></th>\n",
       "      <th>✔</th>\n",
       "    </tr>\n",
       "  </thead>\n",
       "  <tbody>\n",
       "    <tr>\n",
       "      <th>Frequency</th>\n",
       "      <td>15311</td>\n",
       "      <td>4116</td>\n",
       "      <td>2461</td>\n",
       "      <td>759</td>\n",
       "      <td>757</td>\n",
       "      <td>728</td>\n",
       "      <td>620</td>\n",
       "      <td>616</td>\n",
       "      <td>573</td>\n",
       "      <td>347</td>\n",
       "      <td>306</td>\n",
       "      <td>284</td>\n",
       "      <td>275</td>\n",
       "      <td>244</td>\n",
       "      <td>128</td>\n",
       "      <td>107</td>\n",
       "      <td>102</td>\n",
       "      <td>95</td>\n",
       "      <td>85</td>\n",
       "      <td>43</td>\n",
       "    </tr>\n",
       "  </tbody>\n",
       "</table>\n",
       "</div>"
      ],
      "text/plain": [
       "               í     ñ     ú    Á    ¡    ¿    Í            Ó        ​  \\\n",
       "Frequency  15311  4116  2461  759  757  728  620  616  573  347  306  284   \n",
       "\n",
       "                 º    ·    Ñ    Ú   ́      ✔  \n",
       "Frequency  275  244  128  107  102  95  85  43  "
      ]
     },
     "execution_count": 23,
     "metadata": {},
     "output_type": "execute_result"
    }
   ],
   "source": [
    "differ = difflib.Differ()\n",
    "unknown_subwords = []\n",
    "\n",
    "for i, input in enumerate(df[\"input\"]):\n",
    "    input_tokens_dec = flan_tok.decode(input_tokens[i], skip_special_tokens=False)\n",
    "\n",
    "    if \"<unk>\" in input_tokens_dec:\n",
    "        input_lines = input.split()\n",
    "        dec_lines = input_tokens_dec.replace(\"</s>\", \"\").split()\n",
    "        diff = list(differ.compare(input_lines, dec_lines))\n",
    "\n",
    "        unk_sw = [\n",
    "            list(set(line[2:]) - set(input_tokens_dec))\n",
    "            for line in diff if line.startswith('- ')\n",
    "        ]\n",
    "        \n",
    "        unknown_subwords += [i[0] for i in unk_sw if len(i)]\n",
    "\n",
    "counter = pd.DataFrame.from_dict(\n",
    "    Counter(unknown_subwords),\n",
    "    orient=\"index\",\n",
    "    columns=[\"Frequency\"]\n",
    ").sort_values(by=[\"Frequency\"], ascending=False)\n",
    "\n",
    "print(counter.head(20).index)\n",
    "counter.head(20).T"
   ]
  },
  {
   "cell_type": "code",
   "execution_count": 82,
   "id": "91b6b938-c24f-458f-8c9c-98f92654dd33",
   "metadata": {},
   "outputs": [
    {
     "name": "stdout",
     "output_type": "stream",
     "text": [
      "tensor([[ 9743,  1033,    89, 20028,     7,   377,     2,     7,  2617,     1]])\n",
      "beauchefianos F<unk>sica</s>\n",
      "['beau', 'che', 'f', 'iano', 's', 'F', '<unk>', 's', 'ica', '</s>']\n"
     ]
    }
   ],
   "source": [
    "encoding_new_t = flan_tok(\"beauchefianos Física\", return_tensors=\"pt\")\n",
    "print(encoding_new_t[\"input_ids\"])\n",
    "print(flan_tok.decode(encoding_new_t[\"input_ids\"][0], skip_special_tokens=False))\n",
    "print([flan_tok.decode(t) for t in encoding_new_t[\"input_ids\"][0]])"
   ]
  },
  {
   "cell_type": "markdown",
   "id": "bf915c4d-055b-4899-800f-5888a36723c2",
   "metadata": {},
   "source": [
    "### Falcon"
   ]
  },
  {
   "cell_type": "code",
   "execution_count": 67,
   "id": "9759586d-0bec-42f7-ba5c-5a3d1a08aa0f",
   "metadata": {},
   "outputs": [
    {
     "data": {
      "text/html": [
       "<div>\n",
       "<style scoped>\n",
       "    .dataframe tbody tr th:only-of-type {\n",
       "        vertical-align: middle;\n",
       "    }\n",
       "\n",
       "    .dataframe tbody tr th {\n",
       "        vertical-align: top;\n",
       "    }\n",
       "\n",
       "    .dataframe thead th {\n",
       "        text-align: right;\n",
       "    }\n",
       "</style>\n",
       "<table border=\"1\" class=\"dataframe\">\n",
       "  <thead>\n",
       "    <tr style=\"text-align: right;\">\n",
       "      <th></th>\n",
       "      <th>de</th>\n",
       "      <th>la</th>\n",
       "      <th>el</th>\n",
       "      <th>en</th>\n",
       "      <th>que</th>\n",
       "      <th>los</th>\n",
       "      <th>las</th>\n",
       "      <th>se</th>\n",
       "      <th>para</th>\n",
       "      <th>del</th>\n",
       "    </tr>\n",
       "  </thead>\n",
       "  <tbody>\n",
       "    <tr>\n",
       "      <th>token</th>\n",
       "      <td>de</td>\n",
       "      <td>la</td>\n",
       "      <td>el</td>\n",
       "      <td>en</td>\n",
       "      <td>que</td>\n",
       "      <td>los</td>\n",
       "      <td>las</td>\n",
       "      <td>se</td>\n",
       "      <td>para</td>\n",
       "      <td>del</td>\n",
       "    </tr>\n",
       "    <tr>\n",
       "      <th>counts</th>\n",
       "      <td>59487</td>\n",
       "      <td>24432</td>\n",
       "      <td>19911</td>\n",
       "      <td>18562</td>\n",
       "      <td>12705</td>\n",
       "      <td>10137</td>\n",
       "      <td>9617</td>\n",
       "      <td>8899</td>\n",
       "      <td>8267</td>\n",
       "      <td>8020</td>\n",
       "    </tr>\n",
       "    <tr>\n",
       "      <th>relative</th>\n",
       "      <td>8.689955</td>\n",
       "      <td>3.569065</td>\n",
       "      <td>2.90863</td>\n",
       "      <td>2.711566</td>\n",
       "      <td>1.855966</td>\n",
       "      <td>1.480829</td>\n",
       "      <td>1.404867</td>\n",
       "      <td>1.29998</td>\n",
       "      <td>1.207656</td>\n",
       "      <td>1.171574</td>\n",
       "    </tr>\n",
       "  </tbody>\n",
       "</table>\n",
       "</div>"
      ],
      "text/plain": [
       "                de        la       el        en       que       los       las  \\\n",
       "token           de        la       el        en       que       los       las   \n",
       "counts       59487     24432    19911     18562     12705     10137      9617   \n",
       "relative  8.689955  3.569065  2.90863  2.711566  1.855966  1.480829  1.404867   \n",
       "\n",
       "               se      para       del  \n",
       "token          se      para       del  \n",
       "counts       8899      8267      8020  \n",
       "relative  1.29998  1.207656  1.171574  "
      ]
     },
     "execution_count": 67,
     "metadata": {},
     "output_type": "execute_result"
    }
   ],
   "source": [
    "input_token_decoded = pd.Series([\n",
    "    falcon_tok.decode(i)\n",
    "    for i in input_tokens\n",
    "]).tolist()\n",
    "\n",
    "vectorizer = CountVectorizer()\n",
    "X = vectorizer.fit_transform(input_token_decoded)\n",
    "\n",
    "df_frec = pd.DataFrame(X.toarray(), columns=vectorizer.get_feature_names_out())\n",
    "\n",
    "df_total_frec = pd.DataFrame({\n",
    "    'token': vectorizer.get_feature_names_out(),\n",
    "    'counts': df_frec.sum()\n",
    "}).sort_values(by='counts', ascending=False)\n",
    "\n",
    "df_total_frec[\"relative\"] = df_total_frec[\"counts\"] / df_total_frec[\"counts\"].sum() * 100\n",
    "\n",
    "df_total_frec.head(10).T"
   ]
  },
  {
   "cell_type": "code",
   "execution_count": 78,
   "id": "6c113d6f-6a2c-4cd7-93bb-8593b5a014fe",
   "metadata": {},
   "outputs": [
    {
     "data": {
      "text/plain": [
       "[]"
      ]
     },
     "execution_count": 78,
     "metadata": {},
     "output_type": "execute_result"
    }
   ],
   "source": [
    "palabras = list(df_total_frec.T.columns)\n",
    "[\n",
    "    p\n",
    "    for p in palabras\n",
    "    if \"<\" in p\n",
    "]"
   ]
  }
 ],
 "metadata": {
  "kernelspec": {
   "display_name": "venv",
   "language": "python",
   "name": "venv"
  },
  "language_info": {
   "codemirror_mode": {
    "name": "ipython",
    "version": 3
   },
   "file_extension": ".py",
   "mimetype": "text/x-python",
   "name": "python",
   "nbconvert_exporter": "python",
   "pygments_lexer": "ipython3",
   "version": "3.10.12"
  }
 },
 "nbformat": 4,
 "nbformat_minor": 5
}
