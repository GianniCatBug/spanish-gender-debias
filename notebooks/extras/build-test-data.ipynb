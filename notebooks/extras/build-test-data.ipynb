{
 "cells": [
  {
   "cell_type": "code",
   "execution_count": 2,
   "id": "834053ae-e841-4081-86ca-b98def51d994",
   "metadata": {},
   "outputs": [],
   "source": [
    "import pandas as pd\n",
    "from tqdm.notebook import tqdm\n",
    "import sys\n",
    "sys.path.insert(0, '../..')\n",
    "import utils as u"
   ]
  },
  {
   "cell_type": "code",
   "execution_count": 3,
   "id": "864e67a1-552a-4f53-8aa7-243ab3bb1a4d",
   "metadata": {},
   "outputs": [
    {
     "name": "stdout",
     "output_type": "stream",
     "text": [
      "(100, 4)\n"
     ]
    },
    {
     "data": {
      "application/vnd.jupyter.widget-view+json": {
       "model_id": "43a44fc6cf3f46babf0db70fca635f02",
       "version_major": 2,
       "version_minor": 0
      },
      "text/plain": [
       "  0%|          | 0/100 [00:00<?, ?it/s]"
      ]
     },
     "metadata": {},
     "output_type": "display_data"
    },
    {
     "data": {
      "text/plain": [
       "(431, 1)"
      ]
     },
     "execution_count": 3,
     "metadata": {},
     "output_type": "execute_result"
    }
   ],
   "source": [
    "df = pd.read_csv(\"../../data/raw/scraper_test.csv\")\n",
    "print(df.shape)\n",
    "\n",
    "df[\"sentences\"] = [\n",
    "    u.prepare_raw_documents(m)\n",
    "    for m in tqdm(df[\"mensaje\"], total=df.shape[0])\n",
    "]\n",
    "\n",
    "df = df.explode(\"sentences\").dropna(subset=[\"sentences\"])[[\"sentences\"]].drop_duplicates()\n",
    "df.shape"
   ]
  },
  {
   "cell_type": "code",
   "execution_count": 7,
   "id": "66e7c75b-2668-4ea3-aae7-177a59fd6bd0",
   "metadata": {},
   "outputs": [
    {
     "data": {
      "text/html": [
       "<div>\n",
       "<style scoped>\n",
       "    .dataframe tbody tr th:only-of-type {\n",
       "        vertical-align: middle;\n",
       "    }\n",
       "\n",
       "    .dataframe tbody tr th {\n",
       "        vertical-align: top;\n",
       "    }\n",
       "\n",
       "    .dataframe thead th {\n",
       "        text-align: right;\n",
       "    }\n",
       "</style>\n",
       "<table border=\"1\" class=\"dataframe\">\n",
       "  <thead>\n",
       "    <tr style=\"text-align: right;\">\n",
       "      <th></th>\n",
       "      <th>sentences</th>\n",
       "    </tr>\n",
       "  </thead>\n",
       "  <tbody>\n",
       "    <tr>\n",
       "      <th>0</th>\n",
       "      <td>En nombre de la  Dirección de Salud Estudianti...</td>\n",
       "    </tr>\n",
       "    <tr>\n",
       "      <th>0</th>\n",
       "      <td>Link de inscripción:  ttps://forms.gle/gAi5RJN...</td>\n",
       "    </tr>\n",
       "    <tr>\n",
       "      <th>1</th>\n",
       "      <td>En nombre de el área comunitaria de la Direcci...</td>\n",
       "    </tr>\n",
       "    <tr>\n",
       "      <th>1</th>\n",
       "      <td>Este programa busca que las/os estudiantes que...</td>\n",
       "    </tr>\n",
       "    <tr>\n",
       "      <th>1</th>\n",
       "      <td>- Diseñar e implementar actividades de promoci...</td>\n",
       "    </tr>\n",
       "  </tbody>\n",
       "</table>\n",
       "</div>"
      ],
      "text/plain": [
       "                                           sentences\n",
       "0  En nombre de la  Dirección de Salud Estudianti...\n",
       "0  Link de inscripción:  ttps://forms.gle/gAi5RJN...\n",
       "1  En nombre de el área comunitaria de la Direcci...\n",
       "1  Este programa busca que las/os estudiantes que...\n",
       "1  - Diseñar e implementar actividades de promoci..."
      ]
     },
     "execution_count": 7,
     "metadata": {},
     "output_type": "execute_result"
    }
   ],
   "source": [
    "df.head()"
   ]
  },
  {
   "cell_type": "code",
   "execution_count": 8,
   "id": "aacc74d5-5567-49bb-a39b-46079aaa8308",
   "metadata": {},
   "outputs": [],
   "source": [
    "df[\"seq2seq_document\"] = \"Eliminar sesgo de género del siguiente texto:\\n\" + df[\"sentences\"]"
   ]
  },
  {
   "cell_type": "code",
   "execution_count": 9,
   "id": "c458dab9-b811-46d6-bd87-0068f2e0a76f",
   "metadata": {},
   "outputs": [],
   "source": [
    "df.to_csv(\"../../data/processed/test_data.csv\", index=False)"
   ]
  }
 ],
 "metadata": {
  "kernelspec": {
   "display_name": "Python 3 (ipykernel)",
   "language": "python",
   "name": "python3"
  },
  "language_info": {
   "codemirror_mode": {
    "name": "ipython",
    "version": 3
   },
   "file_extension": ".py",
   "mimetype": "text/x-python",
   "name": "python",
   "nbconvert_exporter": "python",
   "pygments_lexer": "ipython3",
   "version": "3.10.12"
  }
 },
 "nbformat": 4,
 "nbformat_minor": 5
}
