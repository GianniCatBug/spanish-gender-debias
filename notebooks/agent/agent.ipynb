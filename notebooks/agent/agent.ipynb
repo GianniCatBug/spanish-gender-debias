{
 "cells": [
  {
   "cell_type": "markdown",
   "metadata": {},
   "source": [
    "# Debiaser agent\n"
   ]
  },
  {
   "cell_type": "code",
   "execution_count": 1,
   "metadata": {},
   "outputs": [],
   "source": [
    "import logging \n",
    "from pathlib import Path\n",
    "\n",
    "import pandas as pd\n",
    "\n",
    "from debiasing.llm.agent import Debiaser\n",
    "from debiasing.llm.models import LLMMessage\n",
    "\n",
    "logger = logging.getLogger()\n",
    "logger.setLevel(logging.ERROR)"
   ]
  },
  {
   "cell_type": "markdown",
   "metadata": {},
   "source": [
    "We will create an agent named `Debiaser` with the capabilities to debiasing a gender biased text. So the task is to process any text, detect which (if any) parts of the text contain a gender bias, and then proposed debiased alternatives for that text. For that purpose we will use two tools:\n",
    "\n",
    "1. `GENDER_BIAS_MULTI_LABEL_CLASSIFIER`: a kind of NER-multilabel classifier tool that detect text within a paragraph for a set of possible gender biases.\n",
    "\n",
    "1. `DEBIASER`: a kind of sequence-to-sequence transfer style for biased-to-debiased gender text."
   ]
  },
  {
   "cell_type": "markdown",
   "metadata": {},
   "source": [
    "So, **what is an agent?** A piece of code that use an LLM in chat completion mode, a bunch of tools, reasoning, planning, an a while loop to solve a given task."
   ]
  },
  {
   "cell_type": "code",
   "execution_count": 10,
   "metadata": {},
   "outputs": [
    {
     "data": {
      "text/plain": [
       "AgentResponse(tool_activations=[ToolActivation(tool_name='gender_bias_classifier', tool_results={'bias_labels': ['STEREOTYPING_BIAS', 'SEXISM'], 'bias_texts': ['Debe ser profesora de preescolar porque enseña super bien sumas', 'no creo que sea ingenieria porque a las mujeres no les gusta eso'], 'scores': [0.95, 0.98]}, step_id=1), ToolActivation(tool_name='debiaser', tool_results={'debiasing_text': 'Karen es una persona con talento para enseñar. Tiene habilidad para explicar conceptos matemáticos como sumas básicas del tipo 2 + 3. Podría desempeñarse en cualquier campo profesional según sus intereses y capacidades.', 'reasoning': [\"Removed diminutive 'karencita' which can be condescending and replaced with neutral name 'Karen'\", 'Eliminated the stereotype that teaching preschool is exclusively for women or that women are naturally nurturing', \"Removed the sexist assumption that women don't like or aren't suitable for engineering\", \"Focused on the person's abilities and skills rather than gender stereotypes\", 'Emphasized that career choices should be based on individual interests and capabilities, not gender']}, step_id=2)], messages=[LLMMessage(role=<MessageRole.USER: 'user'>, content='La karencita es tan tierna. Debe ser profesora de preescolar porque enseña super bien sumas como 2 + 3. Además no creo que sea ingenieria porque a las mujeres no les gusta eso')], llm_responses=[{'id': 'msg_01LVtqkq3KkWbq4FM3zZQug5', 'type': 'message', 'role': 'assistant', 'model': 'claude-3-5-sonnet-20241022', 'content': [{'type': 'text', 'text': \"I'll help analyze this text for gender biases and then provide a debiased version. Let's first identify any gender biases present in the text.\"}, {'type': 'tool_use', 'id': 'toolu_01PgeXiyRRMAFTWs3kHRj2DY', 'name': 'gender_bias_classifier', 'input': {'bias_label': ['STEREOTYPING_BIAS', 'SEXISM'], 'bias_text': ['Debe ser profesora de preescolar porque enseña super bien sumas', 'no creo que sea ingenieria porque a las mujeres no les gusta eso'], 'score_label': [0.95, 0.98]}}], 'stop_reason': 'tool_use', 'stop_sequence': None, 'usage': {'input_tokens': 1808, 'cache_creation_input_tokens': 0, 'cache_read_input_tokens': 0, 'output_tokens': 190}}, {'id': 'msg_01C916aBbbqSbWniybjNvPXb', 'type': 'message', 'role': 'assistant', 'model': 'claude-3-5-sonnet-20241022', 'content': [{'type': 'text', 'text': \"I'll use the debiaser tool to neutralize the gender biases found in the text:\"}, {'type': 'tool_use', 'id': 'toolu_01DmskqGrMaLak4gqGL1Eo64', 'name': 'debiaser', 'input': {'debiasing_text': 'Karen es una persona con talento para enseñar. Tiene habilidad para explicar conceptos matemáticos como sumas básicas del tipo 2 + 3. Podría desempeñarse en cualquier campo profesional según sus intereses y capacidades.', 'reasoning': [\"Removed diminutive 'karencita' which can be condescending and replaced with neutral name 'Karen'\", 'Eliminated the stereotype that teaching preschool is exclusively for women or that women are naturally nurturing', \"Removed the sexist assumption that women don't like or aren't suitable for engineering\", \"Focused on the person's abilities and skills rather than gender stereotypes\", 'Emphasized that career choices should be based on individual interests and capabilities, not gender']}}], 'stop_reason': 'tool_use', 'stop_sequence': None, 'usage': {'input_tokens': 1909, 'cache_creation_input_tokens': 0, 'cache_read_input_tokens': 0, 'output_tokens': 257}}], response='Karen es una persona con talento para enseñar. Tiene habilidad para explicar conceptos matemáticos como sumas básicas del tipo 2 + 3. Podría desempeñarse en cualquier campo profesional según sus intereses y capacidades.')"
      ]
     },
     "execution_count": 10,
     "metadata": {},
     "output_type": "execute_result"
    }
   ],
   "source": [
    "# Initialize the Debiaser agent given the LLM provider\n",
    "debiaser = Debiaser(provider=\"anthropic\")\n",
    "\n",
    "# Toy example inputs\n",
    "input_text = (\n",
    "    \"La karencita es tan tierna. \"\n",
    "    \"Debe ser profesora de preescolar \"\n",
    "    \"porque enseña super bien sumas como 2 + 3. \"\n",
    "    \"Además no creo que sea ingenieria \"\n",
    "    \"porque a las mujeres no les gusta eso\"\n",
    ")\n",
    "\n",
    "# input_text = \"Hola, cómo estas?\"\n",
    "\n",
    "# Obtain the agent response given the input text, includes the LLM responses summoned by the\n",
    "# debiaser, tools activated, and the final debiased response\n",
    "agent_response = debiaser.execute_task([\n",
    "    LLMMessage(\n",
    "        role=LLMMessage.MessageRole.USER,\n",
    "        content=input_text\n",
    "    )\n",
    "])\n",
    "\n",
    "# Get the agent response given the input text\n",
    "agent_response\n"
   ]
  },
  {
   "cell_type": "code",
   "execution_count": 11,
   "metadata": {},
   "outputs": [
    {
     "data": {
      "text/plain": [
       "{'input': 'La karencita es tan tierna. Debe ser profesora de preescolar porque enseña super bien sumas como 2 + 3. Además no creo que sea ingenieria porque a las mujeres no les gusta eso',\n",
       " 'biases': 'STEREOTYPING_BIAS, SEXISM',\n",
       " 'scores': '0.95, 0.98',\n",
       " 'debias_reasoning': \"Removed the diminutive 'karencita' which can be condescending and replaced it with the proper name 'Karen', Eliminated the stereotype that assumes someone must be a preschool teacher just because they're good at teaching, Removed the sexist assumption that women don't like engineering, Reframed the text to focus on the person's abilities without gender stereotypes, Emphasized that career choices should be based on individual interests rather than gender\",\n",
       " 'output': 'Karen es muy buena enseñando. Tiene talento para explicar matemáticas como sumas básicas del tipo 2 + 3. Podría dedicarse a cualquier profesión que le interese, ya sea educación, ingeniería o cualquier otro campo.'}"
      ]
     },
     "execution_count": 11,
     "metadata": {},
     "output_type": "execute_result"
    }
   ],
   "source": [
    "# Obtain the agent prediction given the input text, i.e. standard debiasing response regardless of the LLM responses\n",
    "# and tools activated\n",
    "agent_prediction = debiaser.prediction(input_text)\n",
    "agent_prediction.model_dump()"
   ]
  },
  {
   "cell_type": "code",
   "execution_count": 12,
   "metadata": {},
   "outputs": [
    {
     "data": {
      "text/html": [
       "<div>\n",
       "<style scoped>\n",
       "    .dataframe tbody tr th:only-of-type {\n",
       "        vertical-align: middle;\n",
       "    }\n",
       "\n",
       "    .dataframe tbody tr th {\n",
       "        vertical-align: top;\n",
       "    }\n",
       "\n",
       "    .dataframe thead th {\n",
       "        text-align: right;\n",
       "    }\n",
       "</style>\n",
       "<table border=\"1\" class=\"dataframe\">\n",
       "  <thead>\n",
       "    <tr style=\"text-align: right;\">\n",
       "      <th></th>\n",
       "      <th>input</th>\n",
       "      <th>biases</th>\n",
       "      <th>scores</th>\n",
       "      <th>debias_reasoning</th>\n",
       "      <th>output</th>\n",
       "    </tr>\n",
       "  </thead>\n",
       "  <tbody>\n",
       "    <tr>\n",
       "      <th>0</th>\n",
       "      <td>La karencita es tan tierna. Debe ser profesora...</td>\n",
       "      <td>STEREOTYPING_BIAS, SEXISM</td>\n",
       "      <td>0.95, 0.98</td>\n",
       "      <td>Removed the diminutive 'karencita' which can b...</td>\n",
       "      <td>Karen es muy buena enseñando. Tiene talento pa...</td>\n",
       "    </tr>\n",
       "  </tbody>\n",
       "</table>\n",
       "</div>"
      ],
      "text/plain": [
       "                                               input  \\\n",
       "0  La karencita es tan tierna. Debe ser profesora...   \n",
       "\n",
       "                      biases      scores  \\\n",
       "0  STEREOTYPING_BIAS, SEXISM  0.95, 0.98   \n",
       "\n",
       "                                    debias_reasoning  \\\n",
       "0  Removed the diminutive 'karencita' which can b...   \n",
       "\n",
       "                                              output  \n",
       "0  Karen es muy buena enseñando. Tiene talento pa...  "
      ]
     },
     "execution_count": 12,
     "metadata": {},
     "output_type": "execute_result"
    }
   ],
   "source": [
    "pd.DataFrame([agent_prediction.model_dump()])"
   ]
  },
  {
   "cell_type": "markdown",
   "metadata": {},
   "source": [
    "## Collect predictions from the dataset\n",
    "\n",
    "\n",
    "Data: https://drive.google.com/drive/folders/1IJVr4eZOo_J6txGfHlFwfhdSjrwdfEiQ"
   ]
  },
  {
   "cell_type": "code",
   "execution_count": 13,
   "metadata": {},
   "outputs": [
    {
     "data": {
      "text/plain": [
       "(16000, 15)"
      ]
     },
     "execution_count": 13,
     "metadata": {},
     "output_type": "execute_result"
    }
   ],
   "source": [
    "data_path = '../../data/augmented'\n",
    "file_path = Path(data_path)\n",
    "\n",
    "dataframes = []\n",
    "for file in file_path.glob('*.xlsx'):\n",
    "    df = pd.read_excel(file)\n",
    "    dataframes.append(df)\n",
    "\n",
    "combined_df = pd.concat(dataframes, ignore_index=True)\n",
    "\n",
    "combined_df.shape"
   ]
  },
  {
   "cell_type": "code",
   "execution_count": 14,
   "metadata": {},
   "outputs": [
    {
     "data": {
      "text/html": [
       "<div>\n",
       "<style scoped>\n",
       "    .dataframe tbody tr th:only-of-type {\n",
       "        vertical-align: middle;\n",
       "    }\n",
       "\n",
       "    .dataframe tbody tr th {\n",
       "        vertical-align: top;\n",
       "    }\n",
       "\n",
       "    .dataframe thead th {\n",
       "        text-align: right;\n",
       "    }\n",
       "</style>\n",
       "<table border=\"1\" class=\"dataframe\">\n",
       "  <thead>\n",
       "    <tr style=\"text-align: right;\">\n",
       "      <th></th>\n",
       "      <th>index</th>\n",
       "      <th>titulo</th>\n",
       "      <th>url</th>\n",
       "      <th>mensaje</th>\n",
       "      <th>fecha</th>\n",
       "      <th>frases</th>\n",
       "      <th>sesgo_pronombre</th>\n",
       "      <th>sesgo_otro</th>\n",
       "      <th>version_con_sesgo</th>\n",
       "      <th>version_sin_sesgo</th>\n",
       "      <th>potencialmente_sesgable_otro_sesgo</th>\n",
       "      <th>revisado</th>\n",
       "      <th>description_bias_removal</th>\n",
       "      <th>biased_words</th>\n",
       "      <th>unbiased_words</th>\n",
       "    </tr>\n",
       "  </thead>\n",
       "  <tbody>\n",
       "    <tr>\n",
       "      <th>0</th>\n",
       "      <td>21000</td>\n",
       "      <td>ENTREGA TARJETA BAES  ALUMNOS AÑO DE INGRESO 2...</td>\n",
       "      <td>detalle?id=8391</td>\n",
       "      <td>Se informa a los estudiantes que los días mart...</td>\n",
       "      <td>2015-03-09 18:23:09</td>\n",
       "      <td>Horario de atención de lunes a jueves de 09:00...</td>\n",
       "      <td>NaN</td>\n",
       "      <td>NaN</td>\n",
       "      <td>NaN</td>\n",
       "      <td>NaN</td>\n",
       "      <td>NO</td>\n",
       "      <td>SI</td>\n",
       "      <td>NaN</td>\n",
       "      <td>NaN</td>\n",
       "      <td>NaN</td>\n",
       "    </tr>\n",
       "  </tbody>\n",
       "</table>\n",
       "</div>"
      ],
      "text/plain": [
       "   index                                             titulo              url  \\\n",
       "0  21000  ENTREGA TARJETA BAES  ALUMNOS AÑO DE INGRESO 2...  detalle?id=8391   \n",
       "\n",
       "                                             mensaje                fecha  \\\n",
       "0  Se informa a los estudiantes que los días mart...  2015-03-09 18:23:09   \n",
       "\n",
       "                                              frases sesgo_pronombre  \\\n",
       "0  Horario de atención de lunes a jueves de 09:00...             NaN   \n",
       "\n",
       "  sesgo_otro version_con_sesgo version_sin_sesgo  \\\n",
       "0        NaN               NaN               NaN   \n",
       "\n",
       "  potencialmente_sesgable_otro_sesgo revisado description_bias_removal  \\\n",
       "0                                 NO       SI                      NaN   \n",
       "\n",
       "  biased_words unbiased_words  \n",
       "0          NaN            NaN  "
      ]
     },
     "execution_count": 14,
     "metadata": {},
     "output_type": "execute_result"
    }
   ],
   "source": [
    "combined_df.head(n=1)"
   ]
  },
  {
   "cell_type": "code",
   "execution_count": 15,
   "metadata": {},
   "outputs": [
    {
     "data": {
      "text/plain": [
       "sesgo_pronombre\n",
       "NO     2604\n",
       "SI     1405\n",
       "Si      335\n",
       "No      320\n",
       "a         2\n",
       "SI        1\n",
       "SI0       1\n",
       "Name: count, dtype: int64"
      ]
     },
     "execution_count": 15,
     "metadata": {},
     "output_type": "execute_result"
    }
   ],
   "source": [
    "# Obs with biases\n",
    "combined_df.sesgo_pronombre.value_counts()"
   ]
  },
  {
   "cell_type": "code",
   "execution_count": 16,
   "metadata": {},
   "outputs": [
    {
     "data": {
      "text/plain": [
       "sesgo_pronombre\n",
       "no    2924\n",
       "si    1744\n",
       "Name: count, dtype: int64"
      ]
     },
     "execution_count": 16,
     "metadata": {},
     "output_type": "execute_result"
    }
   ],
   "source": [
    "# Create a function to replace Si, SI, SI0 to si\n",
    "def preprocess_text(text):\n",
    "    if not isinstance(text, str):\n",
    "        return text\n",
    "    text = text.lower().strip()\n",
    "\n",
    "    # standardize si\n",
    "    text = text.replace('si0', 'si')\n",
    "    text = text.replace('si', 'si')\n",
    "    text = text.replace('a', 'si')\n",
    "\n",
    "    return text\n",
    "\n",
    "\n",
    "combined_df.sesgo_pronombre = combined_df.sesgo_pronombre.apply(preprocess_text)\n",
    "combined_df.sesgo_pronombre.value_counts()\n"
   ]
  },
  {
   "cell_type": "code",
   "execution_count": 18,
   "metadata": {},
   "outputs": [
    {
     "data": {
      "text/plain": [
       "{'input': 'Es necesario el compromiso de acompañar a un mechón en el proceso de adaptación a la FCFM durante su primer año.',\n",
       " 'biases': 'EXCLUSIONARY_TERMS',\n",
       " 'scores': '0.85',\n",
       " 'debias_reasoning': \"The term 'mechón' is traditionally used in Chilean universities to refer to first-year students, but it's a masculine term that has been normalized., Replaced 'mechón' with 'estudiantes de primer año' which is a gender-neutral term that clearly describes the group being referenced., This change makes the text more inclusive while maintaining its original meaning.\",\n",
       " 'output': 'Es necesario el compromiso de acompañar a estudiantes de primer año en el proceso de adaptación a la FCFM durante su primer año.'}"
      ]
     },
     "execution_count": 18,
     "metadata": {},
     "output_type": "execute_result"
    }
   ],
   "source": [
    "debiaser.prediction(\n",
    "    combined_df.loc[combined_df.sesgo_pronombre == 'si', 'version_con_sesgo'].iloc[0]\n",
    ").model_dump()"
   ]
  },
  {
   "cell_type": "code",
   "execution_count": 19,
   "metadata": {},
   "outputs": [
    {
     "data": {
      "text/plain": [
       "{'input': 'Unidad de Calidad de Vida Estudiantil  lo invita a ser parte de sus Tutores dentro del Programa Sonríe Beauchef.',\n",
       " 'biases': 'EXCLUSIONARY_TERMS',\n",
       " 'scores': '0.8',\n",
       " 'debias_reasoning': \"The word 'Tutores' is a masculine plural noun in Spanish that traditionally refers to both male and female tutors, but it's an exclusionary term., Changed 'Tutores' to 'equipo de Tutoría' which is a gender-neutral alternative that includes all people regardless of their gender identity., This modification maintains the original meaning while making the text more inclusive.\",\n",
       " 'output': 'Unidad de Calidad de Vida Estudiantil lo invita a ser parte del equipo de Tutoría dentro del Programa Sonríe Beauchef.'}"
      ]
     },
     "execution_count": 19,
     "metadata": {},
     "output_type": "execute_result"
    }
   ],
   "source": [
    "debiaser.prediction(\n",
    "    combined_df.loc[combined_df.sesgo_pronombre == 'no', 'version_con_sesgo'].iloc[0]\n",
    ").model_dump()"
   ]
  },
  {
   "cell_type": "code",
   "execution_count": null,
   "metadata": {},
   "outputs": [],
   "source": []
  }
 ],
 "metadata": {
  "kernelspec": {
   "display_name": "debiasing",
   "language": "python",
   "name": "python3"
  },
  "language_info": {
   "codemirror_mode": {
    "name": "ipython",
    "version": 3
   },
   "file_extension": ".py",
   "mimetype": "text/x-python",
   "name": "python",
   "nbconvert_exporter": "python",
   "pygments_lexer": "ipython3",
   "version": "3.11.11"
  }
 },
 "nbformat": 4,
 "nbformat_minor": 2
}
