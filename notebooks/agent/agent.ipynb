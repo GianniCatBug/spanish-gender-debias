{
 "cells": [
  {
   "cell_type": "markdown",
   "metadata": {},
   "source": [
    "# Agent\n"
   ]
  },
  {
   "cell_type": "code",
   "execution_count": 65,
   "metadata": {},
   "outputs": [],
   "source": [
    "import logging \n",
    "\n",
    "from debiasing.llm.utils import LLMMessage\n",
    "from debiasing.llm.agent import Debiaser\n",
    "\n",
    "logger = logging.getLogger()\n",
    "logger.setLevel(logging.INFO)"
   ]
  },
  {
   "cell_type": "markdown",
   "metadata": {},
   "source": [
    "We will create an agent with the capabilities to debiasing a gender biased text. So the task is to process any text, detect which (if any) parts of the text contain a gender bias, and then proposed debiased alternatives for that text. For that purpose we will use two tools:\n",
    "\n",
    "1. `GENDER_BIAS_MULTI_LABEL_CLASSIFIER`: a kind of NER-multilabel classifier tool that detect text within a paragraph for a set of possible gender biases.\n",
    "\n",
    "1. `DEBIASER`: a kind of sequence-to-sequence transfer style for biased-to-debiased gender text."
   ]
  },
  {
   "cell_type": "markdown",
   "metadata": {},
   "source": [
    "So, **what is an agent?** A piece of code that use an LLM in chat completion mode, a bunch of tools, reasoning, planning, an a while loop to solve a given task."
   ]
  },
  {
   "cell_type": "markdown",
   "metadata": {},
   "source": [
    "The first thing is the capacity to detect when the LLM is using a tool."
   ]
  },
  {
   "cell_type": "code",
   "execution_count": 66,
   "metadata": {},
   "outputs": [
    {
     "name": "stderr",
     "output_type": "stream",
     "text": [
      "2025-01-06 00:39:49 - debiasing.configs - INFO - LLM Anthropic response: {\"id\":\"msg_01WC677Qpig1sb3gUo3oZgsm\",\"type\":\"message\",\"role\":\"assistant\",\"model\":\"claude-3-5-sonnet-20241022\",\"content\":[{\"type\":\"text\",\"text\":\"Lo siento, pero noto que estás escribiendo en español. Soy capaz de entender español, pero las herramientas que tengo disponibles están diseñadas para analizar y trabajar con textos en inglés, específicamente para detectar y corregir sesgos de género en textos en inglés.\\n\\nPara poder ayudarte mejor, te sugiero que:\\n1. Me escribas el texto que quieres analizar en inglés, o\\n2. Me especifiques claramente qué quieres hacer (en español o inglés) y te puedo guiar sobre cómo proceder.\\n\\n¿Te gustaría reformular tu consulta con un texto específico en inglés que quieras analizar para sesgos de género?\\n\\n(I notice you're writing in Spanish. While I can understand Spanish, the tools I have available are designed to analyze and work with English texts, specifically for detecting and correcting gender biases in English text. Would you like to rephrase your query with a specific English text you'd like to analyze for gender bias?)\"}],\"stop_reason\":\"end_turn\",\"stop_sequence\":null,\"usage\":{\"input_tokens\":1742,\"cache_creation_input_tokens\":0,\"cache_read_input_tokens\":0,\"output_tokens\":244}}\n"
     ]
    },
    {
     "data": {
      "text/plain": [
       "'UNBIASED'"
      ]
     },
     "execution_count": 66,
     "metadata": {},
     "output_type": "execute_result"
    }
   ],
   "source": [
    "debiaser = Debiaser(provider=\"anthropic\")\n",
    "\n",
    "input_text = (\n",
    "    \"La karencita es tan tierna. \"\n",
    "    \"Debe ser profesora de preescolar \"\n",
    "    \"porque enseña super bien sumas como 2 + 3. \"\n",
    "    \"Además no creo que sea ingenieria \"\n",
    "    \"porque a las mujeres no les gusta eso\"\n",
    ")\n",
    "\n",
    "input_text = \"Hola, cómo estas?\"\n",
    "\n",
    "msgs = [\n",
    "    LLMMessage(\n",
    "        role=LLMMessage.MessageRole.USER,\n",
    "        content=input_text,\n",
    "    )\n",
    "]\n",
    "\n",
    "debiaser.execute_task(msgs)"
   ]
  },
  {
   "cell_type": "code",
   "execution_count": null,
   "metadata": {},
   "outputs": [],
   "source": []
  }
 ],
 "metadata": {
  "kernelspec": {
   "display_name": "debiasing",
   "language": "python",
   "name": "python3"
  },
  "language_info": {
   "codemirror_mode": {
    "name": "ipython",
    "version": 3
   },
   "file_extension": ".py",
   "mimetype": "text/x-python",
   "name": "python",
   "nbconvert_exporter": "python",
   "pygments_lexer": "ipython3",
   "version": "3.11.11"
  }
 },
 "nbformat": 4,
 "nbformat_minor": 2
}
