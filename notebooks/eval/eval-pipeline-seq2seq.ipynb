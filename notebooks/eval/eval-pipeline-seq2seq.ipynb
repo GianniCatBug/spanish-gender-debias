{
 "cells": [
  {
   "cell_type": "code",
   "execution_count": 2,
   "id": "d93bb5ab-0972-41c4-b8e2-6ec71ecd7390",
   "metadata": {},
   "outputs": [
    {
     "name": "stdout",
     "output_type": "stream",
     "text": [
      "cuda\n"
     ]
    },
    {
     "data": {
      "application/vnd.jupyter.widget-view+json": {
       "model_id": "98b053deca454ee6be170f64a7dc8f13",
       "version_major": 2,
       "version_minor": 0
      },
      "text/plain": [
       "VBox(children=(HTML(value='<center> <img\\nsrc=https://huggingface.co/front/assets/huggingface_logo-noborder.sv…"
      ]
     },
     "metadata": {},
     "output_type": "display_data"
    }
   ],
   "source": [
    "import pandas as pd\n",
    "import numpy as np\n",
    "from tqdm.notebook import tqdm\n",
    "\n",
    "from nltk.translate.bleu_score import sentence_bleu, corpus_bleu\n",
    "from nltk.tokenize import word_tokenize\n",
    "from rouge_score import rouge_scorer\n",
    "\n",
    "import torch\n",
    "\n",
    "from transformers import (\n",
    "    AutoTokenizer,\n",
    ")\n",
    "\n",
    "from peft import (\n",
    "    PeftConfig,\n",
    "    PeftModel\n",
    ")\n",
    "\n",
    "import bitsandbytes as bnb\n",
    "from datasets import Dataset\n",
    "from huggingface_hub import notebook_login\n",
    "\n",
    "import sys\n",
    "sys.path.insert(0, '../..')\n",
    "import utils as u\n",
    "\n",
    "HF_USER = \"GianniCatBug\"\n",
    "MODEL_ID = \"flan-base-4bit-005-gender-debias-spanish\"\n",
    "REVISION = \"main\"\n",
    "MODEL_TYPE = \"SEQ_2_SEQ\"\n",
    "BIT = \"4bit\"\n",
    "\n",
    "INPUT_COL =  {\n",
    "    \"SEQ_2_SEQ\": \"seq2seq_document\",\n",
    "    \"CAUSAL\": \"causal_document\"\n",
    "}\n",
    "\n",
    "DEVICE = torch.device(\"cuda\" if torch.cuda.is_available() else \"cpu\")\n",
    "print(DEVICE)\n",
    "notebook_login()"
   ]
  },
  {
   "cell_type": "markdown",
   "id": "a445ef25-0071-467c-8f3f-2ba360548ba8",
   "metadata": {},
   "source": [
    "# Data"
   ]
  },
  {
   "cell_type": "code",
   "execution_count": 3,
   "id": "ca10882b-b39f-4c78-89a9-ef0136bd4247",
   "metadata": {},
   "outputs": [
    {
     "name": "stdout",
     "output_type": "stream",
     "text": [
      "(853, 6)\n"
     ]
    }
   ],
   "source": [
    "df = pd.read_csv(\"../../data/processed/20231210_test_data_labeled.csv\")\n",
    "df[\"target\"] = [\n",
    "    eval(t)\n",
    "    for t in df[\"target\"]\n",
    "]\n",
    "print(df.shape)"
   ]
  },
  {
   "cell_type": "code",
   "execution_count": 4,
   "id": "e3c990e7-26e9-40d8-99ab-717c9007f707",
   "metadata": {},
   "outputs": [
    {
     "data": {
      "text/html": [
       "<div>\n",
       "<style scoped>\n",
       "    .dataframe tbody tr th:only-of-type {\n",
       "        vertical-align: middle;\n",
       "    }\n",
       "\n",
       "    .dataframe tbody tr th {\n",
       "        vertical-align: top;\n",
       "    }\n",
       "\n",
       "    .dataframe thead th {\n",
       "        text-align: right;\n",
       "    }\n",
       "</style>\n",
       "<table border=\"1\" class=\"dataframe\">\n",
       "  <thead>\n",
       "    <tr style=\"text-align: right;\">\n",
       "      <th></th>\n",
       "      <th>input</th>\n",
       "      <th>target</th>\n",
       "      <th>sesgo_pronombre</th>\n",
       "      <th>sesgo_otro</th>\n",
       "      <th>seq2seq_document</th>\n",
       "      <th>causal_document</th>\n",
       "    </tr>\n",
       "  </thead>\n",
       "  <tbody>\n",
       "    <tr>\n",
       "      <th>0</th>\n",
       "      <td>Estimada comunidad beauchefiana: ¿Tienes papel...</td>\n",
       "      <td>[Estimada comunidad beauchefiana: ¿Tienes pape...</td>\n",
       "      <td>NO</td>\n",
       "      <td>NO</td>\n",
       "      <td>Eliminar sesgo de género del siguiente texto:\\...</td>\n",
       "      <td>&lt;human&gt;: ¿Puedes reescribir el siguiente texto...</td>\n",
       "    </tr>\n",
       "    <tr>\n",
       "      <th>1</th>\n",
       "      <td>Desde hoy y hasta el 19 de diciembre puedes de...</td>\n",
       "      <td>[Desde hoy y hasta el 19 de diciembre puedes d...</td>\n",
       "      <td>NaN</td>\n",
       "      <td>NaN</td>\n",
       "      <td>Eliminar sesgo de género del siguiente texto:\\...</td>\n",
       "      <td>&lt;human&gt;: ¿Puedes reescribir el siguiente texto...</td>\n",
       "    </tr>\n",
       "  </tbody>\n",
       "</table>\n",
       "</div>"
      ],
      "text/plain": [
       "                                               input  \\\n",
       "0  Estimada comunidad beauchefiana: ¿Tienes papel...   \n",
       "1  Desde hoy y hasta el 19 de diciembre puedes de...   \n",
       "\n",
       "                                              target sesgo_pronombre  \\\n",
       "0  [Estimada comunidad beauchefiana: ¿Tienes pape...              NO   \n",
       "1  [Desde hoy y hasta el 19 de diciembre puedes d...             NaN   \n",
       "\n",
       "  sesgo_otro                                   seq2seq_document  \\\n",
       "0         NO  Eliminar sesgo de género del siguiente texto:\\...   \n",
       "1        NaN  Eliminar sesgo de género del siguiente texto:\\...   \n",
       "\n",
       "                                     causal_document  \n",
       "0  <human>: ¿Puedes reescribir el siguiente texto...  \n",
       "1  <human>: ¿Puedes reescribir el siguiente texto...  "
      ]
     },
     "execution_count": 4,
     "metadata": {},
     "output_type": "execute_result"
    }
   ],
   "source": [
    "df.head(2)"
   ]
  },
  {
   "cell_type": "markdown",
   "id": "3ec50444-db8b-4921-817a-5a0b970411d2",
   "metadata": {},
   "source": [
    "# Model & Tokenizer"
   ]
  },
  {
   "cell_type": "code",
   "execution_count": 4,
   "id": "dd7b6cfc-5020-460d-9677-24210e39cdf3",
   "metadata": {},
   "outputs": [
    {
     "name": "stdout",
     "output_type": "stream",
     "text": [
      "google/flan-t5-base\n",
      "32128\n"
     ]
    },
    {
     "name": "stderr",
     "output_type": "stream",
     "text": [
      "You are using the default legacy behaviour of the <class 'transformers.models.t5.tokenization_t5.T5Tokenizer'>. This is expected, and simply means that the `legacy` (previous) behavior will be used so nothing changes for you. If you want to use the new behaviour, set `legacy=False`. This should only be set if you understand what it means, and thouroughly read the reason why this was added as explained in https://github.com/huggingface/transformers/pull/24565\n"
     ]
    },
    {
     "name": "stdout",
     "output_type": "stream",
     "text": [
      "32110\n",
      "Peft model loaded\n"
     ]
    }
   ],
   "source": [
    "config = PeftConfig.from_pretrained(f\"{HF_USER}/{MODEL_ID}\", revision=REVISION)\n",
    "print(config.base_model_name_or_path)\n",
    "\n",
    "model = u.get_gender_model(config, MODEL_TYPE, BIT)\n",
    "\n",
    "# Load the Lora model\n",
    "model = PeftModel.from_pretrained(model, f\"{HF_USER}/{MODEL_ID}\", revision=REVISION, device_map=\"auto\")\n",
    "print(model.get_input_embeddings().num_embeddings)\n",
    "\n",
    "# Tokenizer\n",
    "tokenizer = AutoTokenizer.from_pretrained(config.base_model_name_or_path, use_fast=MODEL_TYPE == \"CAUSAL\")\n",
    "_ = tokenizer.add_tokens(new_tokens = u.new_tokens[MODEL_TYPE])\n",
    "\n",
    "model.resize_token_embeddings(len(tokenizer))\n",
    "print(model.get_input_embeddings().num_embeddings) # 32110\n",
    "\n",
    "model.eval()\n",
    "print(\"Peft model loaded\")"
   ]
  },
  {
   "cell_type": "code",
   "execution_count": 5,
   "id": "4ed670ea-be00-4ab9-a936-75da7c89fea2",
   "metadata": {},
   "outputs": [],
   "source": [
    "generation_config = u.get_model_generation_config(model, MODEL_TYPE, tokenizer)"
   ]
  },
  {
   "cell_type": "code",
   "execution_count": 6,
   "id": "c9eb52c3-7483-4ad6-adc6-c16a504d33e5",
   "metadata": {},
   "outputs": [
    {
     "data": {
      "text/plain": [
       "GenerationConfig {\n",
       "  \"decoder_start_token_id\": 0,\n",
       "  \"eos_token_id\": 1,\n",
       "  \"max_new_tokens\": 1000,\n",
       "  \"pad_token_id\": 0\n",
       "}"
      ]
     },
     "execution_count": 6,
     "metadata": {},
     "output_type": "execute_result"
    }
   ],
   "source": [
    "generation_config"
   ]
  },
  {
   "cell_type": "markdown",
   "id": "bacfbf8b-3fcf-4a00-b9a0-f2b529cfefa9",
   "metadata": {},
   "source": [
    "# Inference"
   ]
  },
  {
   "cell_type": "code",
   "execution_count": 7,
   "id": "e6667057-6268-40ee-a73f-093bbbb4a658",
   "metadata": {},
   "outputs": [
    {
     "data": {
      "application/vnd.jupyter.widget-view+json": {
       "model_id": "fb3994d64c6b44dabf530d5ffc062188",
       "version_major": 2,
       "version_minor": 0
      },
      "text/plain": [
       "  0%|          | 0/853 [00:00<?, ?it/s]"
      ]
     },
     "metadata": {},
     "output_type": "display_data"
    },
    {
     "name": "stderr",
     "output_type": "stream",
     "text": [
      "Token indices sequence length is longer than the specified maximum sequence length for this model (597 > 512). Running this sequence through the model will result in indexing errors\n"
     ]
    },
    {
     "name": "stdout",
     "output_type": "stream",
     "text": [
      "CPU times: user 26min 8s, sys: 319 ms, total: 26min 8s\n",
      "Wall time: 26min 8s\n"
     ]
    }
   ],
   "source": [
    "%%time\n",
    "df[\"generation\"] = [\n",
    "    u.generate_output(model, i, tokenizer, generation_config, DEVICE, 1.2)\n",
    "    for i in tqdm(df[INPUT_COL[MODEL_TYPE]], total=df.shape[0])\n",
    "]"
   ]
  },
  {
   "cell_type": "code",
   "execution_count": 8,
   "id": "2182dd60-3053-4eba-bee7-aa7a930eb6aa",
   "metadata": {},
   "outputs": [
    {
     "data": {
      "text/html": [
       "<div>\n",
       "<style scoped>\n",
       "    .dataframe tbody tr th:only-of-type {\n",
       "        vertical-align: middle;\n",
       "    }\n",
       "\n",
       "    .dataframe tbody tr th {\n",
       "        vertical-align: top;\n",
       "    }\n",
       "\n",
       "    .dataframe thead th {\n",
       "        text-align: right;\n",
       "    }\n",
       "</style>\n",
       "<table border=\"1\" class=\"dataframe\">\n",
       "  <thead>\n",
       "    <tr style=\"text-align: right;\">\n",
       "      <th></th>\n",
       "      <th>492</th>\n",
       "      <th>563</th>\n",
       "    </tr>\n",
       "  </thead>\n",
       "  <tbody>\n",
       "    <tr>\n",
       "      <th>input</th>\n",
       "      <td>serán realizadas en modalidad remota o reagend...</td>\n",
       "      <td>En nombre del Departamento de Pregrado, invita...</td>\n",
       "    </tr>\n",
       "    <tr>\n",
       "      <th>target</th>\n",
       "      <td>[serán realizadas en modalidad remota o reagen...</td>\n",
       "      <td>[En nombre del Departamento de Pregrado, invit...</td>\n",
       "    </tr>\n",
       "    <tr>\n",
       "      <th>generation</th>\n",
       "      <td>serán realizadas en modalidad remota o reagend...</td>\n",
       "      <td>En nombre del Departamento de Pregrado, invita...</td>\n",
       "    </tr>\n",
       "  </tbody>\n",
       "</table>\n",
       "</div>"
      ],
      "text/plain": [
       "                                                          492  \\\n",
       "input       serán realizadas en modalidad remota o reagend...   \n",
       "target      [serán realizadas en modalidad remota o reagen...   \n",
       "generation  serán realizadas en modalidad remota o reagend...   \n",
       "\n",
       "                                                          563  \n",
       "input       En nombre del Departamento de Pregrado, invita...  \n",
       "target      [En nombre del Departamento de Pregrado, invit...  \n",
       "generation  En nombre del Departamento de Pregrado, invita...  "
      ]
     },
     "execution_count": 8,
     "metadata": {},
     "output_type": "execute_result"
    }
   ],
   "source": [
    "df[[\"input\", \"target\", \"generation\"]].sample(2).T"
   ]
  },
  {
   "cell_type": "raw",
   "id": "48b9980d-f81b-4663-9159-05979377aba2",
   "metadata": {},
   "source": [
    "df.to_csv(f\"../../data/processed/20231220_test_generation_{MODEL_TYPE}.csv\", index=False)"
   ]
  },
  {
   "cell_type": "markdown",
   "id": "33d3feb4-f7a3-4727-b4e6-a352921820b3",
   "metadata": {},
   "source": [
    "```python\n",
    "# To avoid new generation\n",
    "\n",
    "df = pd.read_csv(f\"../data/processed/20231220_test_generation_{MODEL_TYPE}.csv\")\n",
    "df[\"target\"] = [\n",
    "    [\n",
    "        ti\n",
    "        for ti in eval(t)\n",
    "    ]\n",
    "    for t in df[\"target\"]\n",
    "]\n",
    "df.shape\n",
    "```"
   ]
  },
  {
   "cell_type": "markdown",
   "id": "8df9a6fa-8f23-4a1d-914e-dfc5db23feb4",
   "metadata": {},
   "source": [
    "## BLEU"
   ]
  },
  {
   "cell_type": "markdown",
   "id": "b848b686-f620-4bb1-9b51-650651ad2f3e",
   "metadata": {},
   "source": [
    "* For metrics calc, targets with less than 5 tokens are discarded, to avoid 0 counts of 4-gram overlaps"
   ]
  },
  {
   "cell_type": "code",
   "execution_count": 10,
   "id": "c2bd3c1e-28ef-48b3-b99a-16d911da5d02",
   "metadata": {},
   "outputs": [
    {
     "data": {
      "text/plain": [
       "((782, 9), (853, 9))"
      ]
     },
     "execution_count": 10,
     "metadata": {},
     "output_type": "execute_result"
    }
   ],
   "source": [
    "df[\"reference_tokens\"] = [\n",
    "    [\n",
    "        word_tokenize(tt)\n",
    "        for tt in t\n",
    "        if len(word_tokenize(tt)) >= 5\n",
    "    ]\n",
    "    for t in df[\"target\"]\n",
    "]\n",
    "\n",
    "df[\"max_ref_len\"] = [\n",
    "    np.array([\n",
    "        len(rti) for rti in rt\n",
    "    ]).max() if len(rt) else 0\n",
    "    for rt in df[\"reference_tokens\"]\n",
    "]\n",
    "\n",
    "df_metric = df[df[\"max_ref_len\"] >= 5].copy()\n",
    "df_metric.shape, df.shape"
   ]
  },
  {
   "cell_type": "code",
   "execution_count": 11,
   "id": "21051cb5-e343-4d37-a2d8-d8fbaa454a94",
   "metadata": {},
   "outputs": [],
   "source": [
    "df_metric[\"generated_tokens\"] = [\n",
    "    word_tokenize(u.get_processed_generation(MODEL_TYPE, g))\n",
    "    for g in df_metric[\"generation\"]\n",
    "]\n",
    "\n",
    "df_metric[\"input_tokens\"] = [\n",
    "    word_tokenize(i)\n",
    "    for i in df_metric[\"input\"]\n",
    "]"
   ]
  },
  {
   "cell_type": "code",
   "execution_count": 12,
   "id": "35ba2381-a3aa-4ec3-b7ee-50eca49d6ce9",
   "metadata": {},
   "outputs": [
    {
     "name": "stderr",
     "output_type": "stream",
     "text": [
      "/home/gianina/.local/lib/python3.10/site-packages/nltk/translate/bleu_score.py:552: UserWarning: \n",
      "The hypothesis contains 0 counts of 3-gram overlaps.\n",
      "Therefore the BLEU score evaluates to 0, independently of\n",
      "how many N-gram overlaps of lower order it contains.\n",
      "Consider using lower n-gram order or use SmoothingFunction()\n",
      "  warnings.warn(_msg)\n",
      "/home/gianina/.local/lib/python3.10/site-packages/nltk/translate/bleu_score.py:552: UserWarning: \n",
      "The hypothesis contains 0 counts of 4-gram overlaps.\n",
      "Therefore the BLEU score evaluates to 0, independently of\n",
      "how many N-gram overlaps of lower order it contains.\n",
      "Consider using lower n-gram order or use SmoothingFunction()\n",
      "  warnings.warn(_msg)\n"
     ]
    }
   ],
   "source": [
    "df_metric[\"bleu_gen\"] = [\n",
    "    sentence_bleu(t, g)\n",
    "    for t, g in zip(df_metric[\"reference_tokens\"], df_metric[\"generated_tokens\"])\n",
    "]\n",
    "\n",
    "df_metric[\"bleu_input\"] = [\n",
    "    sentence_bleu(t, i)\n",
    "    for t, i in zip(df_metric[\"reference_tokens\"], df_metric[\"input_tokens\"])\n",
    "]"
   ]
  },
  {
   "cell_type": "code",
   "execution_count": 13,
   "id": "75bd312c-e083-4431-bac9-0be8665c6193",
   "metadata": {},
   "outputs": [
    {
     "data": {
      "text/plain": [
       "(count    782.00000\n",
       " mean       0.94544\n",
       " std        0.13693\n",
       " min        0.00000\n",
       " 25%        0.95686\n",
       " 50%        1.00000\n",
       " 75%        1.00000\n",
       " max        1.00000\n",
       " Name: bleu_gen, dtype: float64,\n",
       " count    782.00000\n",
       " mean       0.99495\n",
       " std        0.02723\n",
       " min        0.59460\n",
       " 25%        1.00000\n",
       " 50%        1.00000\n",
       " 75%        1.00000\n",
       " max        1.00000\n",
       " Name: bleu_input, dtype: float64)"
      ]
     },
     "execution_count": 13,
     "metadata": {},
     "output_type": "execute_result"
    }
   ],
   "source": [
    "df_metric[\"bleu_gen\"].describe().round(5), df_metric[\"bleu_input\"].describe().round(5)"
   ]
  },
  {
   "cell_type": "code",
   "execution_count": 14,
   "id": "6373edf8-cad3-48ec-a7e9-390560c20e5b",
   "metadata": {},
   "outputs": [
    {
     "name": "stdout",
     "output_type": "stream",
     "text": [
      "0.96223\n",
      "0.99454\n"
     ]
    }
   ],
   "source": [
    "print(round(corpus_bleu([t for t in df_metric[\"reference_tokens\"]], df_metric[\"generated_tokens\"]), 5))\n",
    "print(round(corpus_bleu([t for t in df_metric[\"reference_tokens\"]], df_metric[\"input_tokens\"]), 5))"
   ]
  },
  {
   "cell_type": "code",
   "execution_count": 15,
   "id": "5cee3c97-bd8b-4674-b27d-2770ff23bb25",
   "metadata": {},
   "outputs": [
    {
     "name": "stdout",
     "output_type": "stream",
     "text": [
      "(40, 13)\n",
      "Input: ¡No te lo pierdas!\n",
      "Target: ['¡No te lo pierdas!']\n",
      "Generation: ¿No te lo pierdas!\n",
      "BLEU: 0.668740305\n",
      "\n",
      "Input: Cualquier duda que tengas, nos pueden mandar un mensaje 📩 por nuestro Instagram  @redes.beauchef Áreas a las que puedes postular 📑:  EstudiosLogísticaFeria LaboralExtensiónClub de ConsultoríaFinanzas✨Mucho éxito a todos quienes postulen este año✨   Redes Beauchef\n",
      "Target: ['Cualquier duda que tengas, nos pueden mandar un mensaje 📩 por nuestro Instagram  @redes.beauchef Áreas a las que puedes postular 📑:  EstudiosLogísticaFeria LaboralExtensiónClub de ConsultoríaFinanzas✨Mucho éxito a tod@s quienes postulen este año✨   Redes Beauchef', 'Cualquier duda que tengas, nos pueden mandar un mensaje 📩 por nuestro Instagram  @redes.beauchef Áreas a las que puedes postular 📑:  EstudiosLogísticaFeria LaboralExtensiónClub de ConsultoríaFinanzas✨Mucho éxito a todos/as quienes postulen este año✨   Redes Beauchef', 'Cualquier duda que tengas, nos pueden mandar un mensaje 📩 por nuestro Instagram  @redes.beauchef Áreas a las que puedes postular 📑:  EstudiosLogísticaFeria LaboralExtensiónClub de ConsultoríaFinanzas✨Mucho éxito a todas/os quienes postulen este año✨   Redes Beauchef', 'Cualquier duda que tengas, nos pueden mandar un mensaje 📩 por nuestro Instagram  @redes.beauchef Áreas a las que puedes postular 📑:  EstudiosLogísticaFeria LaboralExtensiónClub de ConsultoríaFinanzas✨Mucho éxito a todos(as) quienes postulen este año✨   Redes Beauchef', 'Cualquier duda que tengas, nos pueden mandar un mensaje 📩 por nuestro Instagram  @redes.beauchef Áreas a las que puedes postular 📑:  EstudiosLogísticaFeria LaboralExtensiónClub de ConsultoríaFinanzas✨Mucho éxito a todas(os) quienes postulen este año✨   Redes Beauchef', 'Cualquier duda que tengas, nos pueden mandar un mensaje 📩 por nuestro Instagram  @redes.beauchef Áreas a las que puedes postular 📑:  EstudiosLogísticaFeria LaboralExtensiónClub de ConsultoríaFinanzas✨Mucho éxito a todos y todas quienes postulen este año✨   Redes Beauchef', 'Cualquier duda que tengas, nos pueden mandar un mensaje 📩 por nuestro Instagram  @redes.beauchef Áreas a las que puedes postular 📑:  EstudiosLogísticaFeria LaboralExtensiónClub de ConsultoríaFinanzas✨Mucho éxito a todas y todos quienes postulen este año✨   Redes Beauchef']\n",
      "Generation: Cualquier duda que tengas, nos pueden mandar un mensaje  por nuestro Instagram @redes.beauchefúreas a las que puedes postular : EstudiosLogísticaFeria LaboralExtensiónClub de ConsultoríaFinanzasMucho éxito a todos quienes postulen este año Redes Beauchef\n",
      "BLEU: 0.5701545964\n",
      "\n",
      "Input: Wednesday, November 29 📍 WHERE?\n",
      "Target: ['Wednesday, November 29 📍 WHERE?']\n",
      "Generation: Wednesday, November 29  WHERE?\n",
      "BLEU: 0.5115078116\n",
      "\n",
      "Input: 🌈 📆 No dejes pasar la oportunidad ¡Así que asegúrate de enviar tu postulación antes de que sea demasiado tarde!\n",
      "Target: ['🌈 📆 No dejes pasar la oportunidad ¡Así que asegúrate de enviar tu postulación antes de que sea demasiado tarde!']\n",
      "Generation: No dejes pasar la oportunidadíAsíque asegúrate de enviar tu postulación antes de que sea demasiado tarde!\n",
      "BLEU: 0.6545959734\n",
      "\n",
      "Input: Inscríbete aquí Capacítate junto con jefaturas administrativas.\n",
      "Target: ['Inscríbete aquí Capacítate junto con jefaturas administrativas.']\n",
      "Generation: Inscríbete aquíCapacítate junto con jefaturas administrativas.\n",
      "BLEU: 0.5578002861\n",
      "\n",
      "Input: Wednesday, November 22 📍 WHERE?\n",
      "Target: ['Wednesday, November 22 📍 WHERE?']\n",
      "Generation: Wednesday, November 22  WHERE?\n",
      "BLEU: 0.5115078116\n",
      "\n",
      "Input: ¡Atención comunidad Beauchefiana!Para cerrar la Semana de Vida Saludable 2023 tenemos una última sorpresa para ti: 🎁 ¡regalitos escondidos por todo el campus!\n",
      "Target: ['¡Atención comunidad Beauchefiana!Para cerrar la Semana de Vida Saludable 2023 tenemos una última sorpresa para ti: 🎁 ¡regalitos escondidos por todo el campus!']\n",
      "Generation: ¿Atención comunidad Beauchefiana!Para cerrar la Semana de Vida Saludable 2023 tenemos unaúltima sorpresa para ti:úregalitos escondidos por todo el campus!\n",
      "BLEU: 0.6752909101\n",
      "\n",
      "Input: Más informaciones al correo:   juan.andai@ug.uchile.cl ¡Les esperamos!\n",
      "Target: ['Más informaciones al correo:   juan.andai@ug.uchile.cl ¡Les esperamos!']\n",
      "Generation: Más informaciones al correo: juan.andai@ug.uchile.cl¿Les esperamos!\n",
      "BLEU: 0.6398166742\n",
      "\n",
      "Input: Participa  aquí   Equipo Hélice.\n",
      "Target: ['Participa  aquí   Equipo Hélice.']\n",
      "Generation: Participa aquíEquipo Hélice.\n",
      "BLEU: 0.0\n",
      "\n",
      "Input: Para participar inscríbete  AQUÍ ¡Les Esperamos!\n",
      "Target: ['Para participar inscríbete  AQUÍ ¡Les Esperamos!']\n",
      "Generation: Para participar inscríbete AQUúúLes Esperamos!\n",
      "BLEU: 0.0\n",
      "\n",
      "Input: Wednesday, November 15 📍 WHERE?\n",
      "Target: ['Wednesday, November 15 📍 WHERE?']\n",
      "Generation: Wednesday, November 15  WHERE?\n",
      "BLEU: 0.5115078116\n",
      "\n",
      "Input: El número de consejero son 4.\n",
      "Target: ['El número de consejero/a son 4.', 'El número de consejera/o son 4.', 'El número de consejero(a) son 4.', 'El número de consejera(o) son 4.', 'El número de consejer@ son 4.']\n",
      "Generation: El número de consejero son 4.\n",
      "BLEU: 0.5946035575\n",
      "\n",
      "Input: ¡Atención estudiantes de Pregrado!\n",
      "Target: ['¡Atención estudiantes de Pregrado!']\n",
      "Generation: ¿Atención estudiantes de Pregrado!\n",
      "BLEU: 0.668740305\n",
      "\n",
      "Input: ¡No se lo pierdan!\n",
      "Target: ['¡No se lo pierdan!']\n",
      "Generation: ¿No se lo pierdan!\n",
      "BLEU: 0.668740305\n",
      "\n",
      "Input: Wednesday, November 8 💀 WHERE?\n",
      "Target: ['Wednesday, November 8 💀 WHERE?']\n",
      "Generation: Wednesday, November 8  WHERE?\n",
      "BLEU: 0.5115078116\n",
      "\n",
      "Input: Inscríbete a través del siguiente formulario ¡Te esperamos!\n",
      "Target: ['Inscríbete a través del siguiente formulario ¡Te esperamos!']\n",
      "Generation: Inscríbete a través del siguiente formularioúTe esperamos!\n",
      "BLEU: 0.5247357978\n",
      "\n",
      "Input: Atentamente, Área de Idiomas\n",
      "Target: ['Atentamente, Área de Idiomas']\n",
      "Generation: Atentamente,úrea de Idiomas\n",
      "BLEU: 0.0\n",
      "\n",
      "Input: Wednesday, October 25 💀 WHERE?\n",
      "Target: ['Wednesday, October 25 💀 WHERE?']\n",
      "Generation: Wednesday, October 25  WHERE?\n",
      "BLEU: 0.5115078116\n",
      "\n",
      "Input: Además, abordaremos en conjunto la pregunta ¿Soy innovador/a?\n",
      "Target: ['Además, abordaremos en conjunto la pregunta ¿Soy innovador/a?']\n",
      "Generation: Además, abordaremos en conjunto la pregunta¿Soy innovador/a?\n",
      "BLEU: 0.5911602603\n",
      "\n",
      "Input: ----------------------------------------------- Ignacio J. González Coordinador HÉLICEEscuela de Ingeniería y Ciencias | Facultad de Ciencias Físicas y Matemáticas helice@ing.uchile.cl\n",
      "Target: ['----------------------------------------------- Ignacio J. González Coordinador HÉLICEEscuela de Ingeniería y Ciencias | Facultad de Ciencias Físicas y Matemáticas helice@ing.uchile.cl']\n",
      "Generation: -----------------------------------------------------------------------------------------------------------------------------------------------------------------------------------------------------------------------------------------------------------------------------------------------------------------\n",
      "BLEU: 0.1483352804\n",
      "\n",
      "Input: -  Semana del 20 noviembre  publicación de resultados.\n",
      "Target: ['-  Semana del 20 noviembre  publicación de resultados.']\n",
      "Generation: - Semana del 20 noviembre publicación de resultados.\n",
      "BLEU: 0.5969491792\n",
      "\n",
      "Input: Los/las estudiantes deben  LEER LAS BASES   Y REALIZAR su postulación a través del  FORMULARIO\n",
      "Target: ['Los/las estudiantes deben  LEER LAS BASES   Y REALIZAR su postulación a través del  FORMULARIO']\n",
      "Generation: Los/las estudiantes deben LEER LAS BASES Y REALIZAR su postulación a través del FORMULARIO\n",
      "BLEU: 0.6591844162\n",
      "\n",
      "Input: Wednesday, October 18 📍 WHERE?\n",
      "Target: ['Wednesday, October 18 📍 WHERE?']\n",
      "Generation: Wednesday, October 18  WHERE?\n",
      "BLEU: 0.5115078116\n",
      "\n",
      "Input: HOY Lunes 16 de octubre ¿Horario?\n",
      "Target: ['HOY Lunes 16 de octubre ¿Horario?']\n",
      "Generation: HOY Lunes 16 de octubre¿Horario?\n",
      "BLEU: 0.4548019047\n",
      "\n",
      "Input: -  Semana del 13 noviembre  publicación de resultados.\n",
      "Target: ['-  Semana del 13 noviembre  publicación de resultados.']\n",
      "Generation: - Semana del 13 noviembre publicación de resultados.\n",
      "BLEU: 0.5969491792\n",
      "\n",
      "Input: Lunes 16 de octubre ¿Horario?\n",
      "Target: ['Lunes 16 de octubre ¿Horario?']\n",
      "Generation: Lunes 16 de octubreúHorario?\n",
      "BLEU: 0.0\n",
      "\n",
      "Input: Inscríbete en este FORMULARIO ¡Te Esperamos!\n",
      "Target: ['Inscríbete en este FORMULARIO ¡Te Esperamos!']\n",
      "Generation: Inscríbete en este FORMULARIOúTe Esperamos!\n",
      "BLEU: 0.0\n",
      "\n",
      "Input: Los/las estudiantes deben  LEER LAS BASES  Y REALIZAR su postulación a través del  FORMULARIO\n",
      "Target: ['Los/las estudiantes deben  LEER LAS BASES  Y REALIZAR su postulación a través del  FORMULARIO']\n",
      "Generation: Los/las estudiantes deben LEER LAS BASES Y REALIZAR su postulación a través del FORMULARIO\n",
      "BLEU: 0.6591844162\n",
      "\n",
      "Input: Wednesday, October 11 📍 WHERE?\n",
      "Target: ['Wednesday, October 11 📍 WHERE?']\n",
      "Generation: Wednesday, October 11  WHERE?\n",
      "BLEU: 0.5115078116\n",
      "\n",
      "Input: Inscripciones AQUÍSe adjunta programa.\n",
      "Target: ['Inscripciones AQUÍSe adjunta programa.']\n",
      "Generation: Inscripciones AQU¿Se adjunta programa.\n",
      "BLEU: 0.0\n",
      "\n",
      "Input: Wednesday, October 4 📍 WHERE?\n",
      "Target: ['Wednesday, October 4 📍 WHERE?']\n",
      "Generation: Wednesday, October 4  WHERE?\n",
      "BLEU: 0.5115078116\n",
      "\n",
      "Input: 📲Participa del Ciclo de Talleres Primavera 2023 de Armadillo Lab ¡Te esperamos!\n",
      "Target: ['📲Participa del Ciclo de Talleres Primavera 2023 de Armadillo Lab ¡Te esperamos!']\n",
      "Generation: Participa del Ciclo de Talleres Primavera 2023 de Armadillo LabúTe esperamos!\n",
      "BLEU: 0.6168186457\n",
      "\n",
      "Input: Estimados/as Estudiantes: 🛫 Mañana!\n",
      "Target: ['Estimados/as Estudiantes: 🛫 Mañana!']\n",
      "Generation: Estimados/as Estudiantes:  Mañana!\n",
      "BLEU: 0.0\n",
      "\n",
      "Input: ⏩¡No pierdas esta oportunidad única y sigue las coordenadas de la imagen!\n",
      "Target: ['⏩¡No pierdas esta oportunidad única y sigue las coordenadas de la imagen!']\n",
      "Generation: úNo pierdas esta oportunidadúnica y sigue las coordenadas de la imagen!\n",
      "BLEU: 0.6168186457\n",
      "\n",
      "Input: Si estas interesad@ inscríbete en 🔗:   Reclutamiento\n",
      "Target: ['Si estas interesad@ inscríbete en 🔗:   Reclutamiento']\n",
      "Generation: Si estas interesad@ inscríbete en : Reclutamiento\n",
      "BLEU: 0.6752918218\n",
      "\n",
      "Input: Wednesday, September 27 🌱 WHERE?\n",
      "Target: ['Wednesday, September 27 🌱 WHERE?']\n",
      "Generation: Wednesday, September 27  WHERE?\n",
      "BLEU: 0.5115078116\n",
      "\n",
      "Input: ¡Pronto disfrutaremos de un espacio renovado para todos y todas!\n",
      "Target: ['¡Pronto disfrutaremos de un espacio renovado para todos y todas!']\n",
      "Generation: ¿Pronto disfrutaremos de un espacio renovado para tod@s y todas!\n",
      "BLEU: 0.4844273238\n",
      "\n",
      "Input: Visita la web FCFM memoria: AQUÍ Subdirección de Comunicaciones FCFM-U.\n",
      "Target: ['Visita la web FCFM memoria: AQUÍ Subdirección de Comunicaciones FCFM-U.']\n",
      "Generation: Visita la web FCFM memoria: AQU¿Subdirección de Comunicaciones FCFM-U.\n",
      "BLEU: 0.6407117598\n",
      "\n",
      "Input: Los cursos permiten a los futuros estudiantes extranjeros sentar unas bases sólidas para sus estudios.\n",
      "Target: ['Los cursos permiten a las/os futuras/os estudiantes del exranjero sentar unas bases sólidas para sus estudios.', 'Los cursos permiten a l@s futur@s estudiantes extranjer@s sentar unas bases sólidas para sus estudios.', 'Los cursos permiten a las(os) futuras(os) estudiantes del exranjero sentar unas bases sólidas para sus estudios.', 'Los cursos permiten a las/os futuras/os estudiantes extranjeras/os sentar unas bases sólidas para sus estudios.', 'Los cursos permiten a los/as futuros/as estudiantes del exranjero sentar unas bases sólidas para sus estudios.', 'Los cursos permiten a los(as) futuros(as) estudiantes del exranjero sentar unas bases sólidas para sus estudios.', 'Los cursos permiten a los/as futuros/as estudiantes extranjeros/as sentar unas bases sólidas para sus estudios.']\n",
      "Generation: Los cursos permiten a los futuros estudiantes extranjeros sentar unas bases sólidas para sus estudios.\n",
      "BLEU: 0.6984502321\n",
      "\n",
      "Input: Ver nota completa AQUÍSubdirección de Comunicaciones FCFM-U.\n",
      "Target: ['Ver nota completa AQUÍSubdirección de Comunicaciones FCFM-U.']\n",
      "Generation: Ver nota completa AQU¿Subdirección de Comunicaciones FCFM-U.\n",
      "BLEU: 0.5\n",
      "\n"
     ]
    }
   ],
   "source": [
    "bajos = df_metric[df_metric[\"bleu_gen\"] < 0.7]\n",
    "print(bajos.shape)\n",
    "\n",
    "for _, r in bajos.iterrows():\n",
    "    print(f\"Input: {r['input']}\")\n",
    "    print(f\"Target: {r['target']}\")\n",
    "    print(f\"Generation: {u.get_processed_generation(MODEL_TYPE, r['generation'])}\")\n",
    "    print(f\"BLEU: {round(r['bleu_gen'], 10)}\")\n",
    "    print()"
   ]
  },
  {
   "cell_type": "markdown",
   "id": "e7855ca7-bc3f-4844-bdd8-475fba4128c9",
   "metadata": {},
   "source": [
    "### Diffs"
   ]
  },
  {
   "cell_type": "code",
   "execution_count": 16,
   "id": "2ff04563-dfea-46c8-bd90-29b32808b6a6",
   "metadata": {},
   "outputs": [
    {
     "data": {
      "text/plain": [
       "count    782.000000\n",
       "mean      -0.049510\n",
       "std        0.135411\n",
       "min       -1.000000\n",
       "25%       -0.019916\n",
       "50%        0.000000\n",
       "75%        0.000000\n",
       "max        0.204729\n",
       "Name: bleu_dif, dtype: float64"
      ]
     },
     "execution_count": 16,
     "metadata": {},
     "output_type": "execute_result"
    }
   ],
   "source": [
    "df_metric[\"bleu_dif\"] = df_metric[\"bleu_gen\"] - df_metric[\"bleu_input\"]\n",
    "df_metric[\"bleu_dif\"].describe()"
   ]
  },
  {
   "cell_type": "markdown",
   "id": "45b8106d-d532-4c7c-a797-9bc2d9c93129",
   "metadata": {},
   "source": [
    "## ROUGE"
   ]
  },
  {
   "cell_type": "code",
   "execution_count": 17,
   "id": "fb94959d-8d13-41a9-ad0f-a0bb5aca576a",
   "metadata": {},
   "outputs": [],
   "source": [
    "scorer = rouge_scorer.RougeScorer(\n",
    "    [\"rouge1\", \"rouge2\", \"rougeL\"],\n",
    "    use_stemmer=True\n",
    ")"
   ]
  },
  {
   "cell_type": "code",
   "execution_count": 18,
   "id": "f6383888-c7d6-4680-a2e3-5c4b3b063d07",
   "metadata": {},
   "outputs": [],
   "source": [
    "def get_rouge_f_mean(scorer, target, generation):\n",
    "    scores = scorer.score(target, generation)\n",
    "    return np.mean([\n",
    "        score_tuple[2] # fmeasure\n",
    "        for score_tuple in scores.values()\n",
    "    ])"
   ]
  },
  {
   "cell_type": "code",
   "execution_count": 19,
   "id": "671dcc27-dab4-4425-b699-c55f0a1849ae",
   "metadata": {},
   "outputs": [],
   "source": [
    "df_metric[\"rouge\"] = [\n",
    "    np.array([\n",
    "        get_rouge_f_mean(scorer, tt, u.get_processed_generation(MODEL_TYPE, g))\n",
    "        for tt in t\n",
    "    ]).max()\n",
    "    for t, g in zip(df_metric[\"target\"], df_metric[\"generation\"])\n",
    "]"
   ]
  },
  {
   "cell_type": "code",
   "execution_count": 20,
   "id": "2ddeefbe-9b1a-4f69-8c45-3f357de26730",
   "metadata": {},
   "outputs": [
    {
     "data": {
      "text/plain": [
       "count    782.000000\n",
       "mean       0.993797\n",
       "std        0.041277\n",
       "min        0.000000\n",
       "25%        1.000000\n",
       "50%        1.000000\n",
       "75%        1.000000\n",
       "max        1.000000\n",
       "Name: rouge, dtype: float64"
      ]
     },
     "execution_count": 20,
     "metadata": {},
     "output_type": "execute_result"
    }
   ],
   "source": [
    "df_metric[\"rouge\"].describe()"
   ]
  },
  {
   "cell_type": "code",
   "execution_count": 21,
   "id": "c0554a27-f959-4ec3-8ef2-898bd6faac0b",
   "metadata": {},
   "outputs": [
    {
     "name": "stdout",
     "output_type": "stream",
     "text": [
      "Input: ----------------------------------------------- Ignacio J. González Coordinador HÉLICEEscuela de Ingeniería y Ciencias | Facultad de Ciencias Físicas y Matemáticas helice@ing.uchile.cl\n",
      "Target: ['----------------------------------------------- Ignacio J. González Coordinador HÉLICEEscuela de Ingeniería y Ciencias | Facultad de Ciencias Físicas y Matemáticas helice@ing.uchile.cl']\n",
      "Generation: -----------------------------------------------------------------------------------------------------------------------------------------------------------------------------------------------------------------------------------------------------------------------------------------------------------------\n",
      "\n"
     ]
    }
   ],
   "source": [
    "bajos = df_metric[df_metric[\"rouge\"] < 0.7]\n",
    "\n",
    "for _, r in bajos.iterrows():\n",
    "    print(f\"Input: {r['input']}\")\n",
    "    print(f\"Target: {r['target']}\")\n",
    "    print(f\"Generation: {u.get_processed_generation(MODEL_TYPE, r['generation'])}\")\n",
    "    print()"
   ]
  },
  {
   "cell_type": "markdown",
   "id": "2df6ea65-2487-43f1-aedd-2c281fced61a",
   "metadata": {},
   "source": [
    "# Explore inputs with bias"
   ]
  },
  {
   "cell_type": "code",
   "execution_count": 22,
   "id": "b7d01518-3ea8-48cc-b6b8-ebefd5fa0192",
   "metadata": {},
   "outputs": [
    {
     "name": "stdout",
     "output_type": "stream",
     "text": [
      "(782, 15) 782\n",
      "Mean BLEU on biased inputs: 0.90088\n",
      "Mean ROUGE on biased inputs: 0.96363\n",
      "\n",
      "Mean BLEU on not biased inputs: 0.95554\n",
      "Mean ROUGE on not biased inputs: 0.99571\n",
      "\n",
      "Mean BLEU on inputs that can't be biased: 0.94511\n",
      "Mean ROUGE on inputs that can't be biased: 0.99652\n",
      "\n"
     ]
    }
   ],
   "source": [
    "df_with_bias = df_metric[\n",
    "    (df_metric[\"sesgo_pronombre\"] == \"SI\") | (df_metric[\"sesgo_otro\"] == \"SI\") \n",
    "]\n",
    "\n",
    "df_without_bias = df_metric[\n",
    "    (df_metric[\"sesgo_pronombre\"] == \"NO\") & (df_metric[\"sesgo_otro\"] == \"NO\") \n",
    "]\n",
    "\n",
    "df_not_able_to_bias = df_metric[\n",
    "    (df_metric[\"sesgo_pronombre\"].isna()) & (df_metric[\"sesgo_otro\"].isna()) \n",
    "]\n",
    "\n",
    "print(df_metric.shape, df_with_bias.shape[0] + df_without_bias.shape[0] + df_not_able_to_bias.shape[0])\n",
    "\n",
    "print(\n",
    "    f\"Mean BLEU on biased inputs: {round(df_with_bias['bleu_gen'].mean(), 5)}\\n\"\n",
    "    f\"Mean ROUGE on biased inputs: {round(df_with_bias['rouge'].mean(), 5)}\\n\\n\"\n",
    "    f\"Mean BLEU on not biased inputs: {round(df_without_bias['bleu_gen'].mean(), 5)}\\n\"\n",
    "    f\"Mean ROUGE on not biased inputs: {round(df_without_bias['rouge'].mean(), 5)}\\n\\n\"\n",
    "    f\"Mean BLEU on inputs that can't be biased: {round(df_not_able_to_bias['bleu_gen'].mean(), 5)}\\n\"\n",
    "    f\"Mean ROUGE on inputs that can't be biased: {round(df_not_able_to_bias['rouge'].mean(), 5)}\\n\"\n",
    ")"
   ]
  },
  {
   "cell_type": "code",
   "execution_count": 23,
   "id": "75bbe33d-2e0e-4366-a2d9-986993c73600",
   "metadata": {},
   "outputs": [
    {
     "name": "stdout",
     "output_type": "stream",
     "text": [
      "1\n",
      "Input: Estimados estudiantes de Pregrado,Junto con saludar les invitamos al OPEN MDS, charla Abierta para conocer los detalles del Magíster en Ciencia de Datos MDS de nuestra Facultad el cual es articulable con las carreras de pregrado FCFM.\n",
      "Generation: Estimados/as estudiantes de Pregrado,Junto con saludar les invitamos al OPEN MDS, charla Abierta para conocer los detalles del Magíster en Ciencia de Datos MDS de nuestra Facultad el cual es articulable con las carreras de pregrado FCFM.\n",
      "BLEU: 1.0. ROUGE: 1.0\n",
      "\n",
      "2\n",
      "Input: Los estudiantes que inscriban Prácticas Profesionales deberán pagar 2 créditos (arancel mínimo).La fecha de pago del arancel del Semestre de Verano será desde el 02/01/2024 al 05/01/2024, el detalle de cómo realizar el pago del arancel se informará durante los próximos días.\n",
      "Generation: Las/os estudiantes que inscriban Prácticas Profesionales deberán pagar 2 créditos (arancel mínimo).La fecha de pago del arancel del Semestre de Verano será desde el 02/01/2024 al 05/01/2024, el detalle de cómo realizar el pago del arancel se informará durante los próximos días.\n",
      "BLEU: 1.0. ROUGE: 1.0\n",
      "\n",
      "3\n",
      "Input: Sobre los beneficios:  Todos/as los/as estudiantes que durante el semestre primavera 2023 tienen los siguientes beneficios: Gratuidad, Beca Universidad de Chile (BUCH) y Beca Andrés Bello (BAND) se encuentran cubiertos y exentos del pago por inscribir cursos en el Semestre de Verano 2023-2024.\n",
      "Generation: Sobre los beneficios: Todos/as los/as estudiantes que durante el semestre primavera 2023 tienen los siguientes beneficios: Gratuidad, Beca Universidad de Chile (BUCH) y Beca Andrés Bello (BAND) se encuentran cubiertos y exentos del pago por inscribir cursos en el Semestre de Verano 2023-2024.\n",
      "BLEU: 0.94271131818194. ROUGE: 0.9648345153664302\n",
      "\n",
      "4\n",
      "Input: Por otra parte, quienes tengan el Fondo Solidario de Crédito Universitario (FSCU) se encuentran cubiertos conforme al porcentaje del crédito asignado.\n",
      "Generation: Por otra parte, quienes tengan el Fondo Solidario de Crédito Universitario (FSCU) se encuentran cubiertos conforme al porcentaje del crédito asignado.\n",
      "BLEU: 0.9323623831893925. ROUGE: 0.9635933806146572\n",
      "\n",
      "5\n",
      "Input: De igual manera, quienes tengan asignada la Beca Bicentenario (BB) estarán cubiertos al porcentaje de la beca.\n",
      "Generation: De igual manera, quienes tengan asignada la Beca Bicentenario (BB) estarán cubiertos al porcentaje de la beca.\n",
      "BLEU: 0.9174014451319407. ROUGE: 0.9534105534105534\n",
      "\n",
      "6\n",
      "Input: Estimada Comunidad, #InriaChile convoca al ecosistema de investigadores científicos y expertos en ciencias y tecnologías digitales a las Journées Scientifiques Inria Chile 2023 para conocer y debatir sobre los últimos avances en #InteligenciaArtificial🧠, modelamiento matemático, simulación y optimización, redes y #Iot.\n",
      "Generation: Estimada Comunidad, #InriaChile convoca al ecosistema de investigadores científicos y expertos en ciencias y tecnologías digitales a las Journées Scientifiques Inria Chile 2023 para conocer y debatir sobre losúltimos avances en #InteligenciaArtificial, modelamiento matemático, simulación y optimización, redes y #Iot.\n",
      "BLEU: 0.791929878045878. ROUGE: 0.947802495930548\n",
      "\n",
      "7\n",
      "Input: Únete y serás parte de un gran evento de colaboración franco-chilena🇨🇱🇫🇷, donde habrá  conferencias magistrales de investigadores franceses y chilenos, presentaciones científicas, mesas redondas networking y más.\n",
      "Generation: ¡nete y serás parte de un gran evento de colaboración franco-chilena, donde habrá conferencias magistrales de investigadores franceses y chilenos, presentaciones científicas, mesas redondas networking y más.\n",
      "BLEU: 0.7481906812098267. ROUGE: 0.9239954075774972\n",
      "\n",
      "8\n",
      "Input: En el caso de los estudiantes del plan de estudios 2019 consideramos a quienes tienen inscrito el último Taller de práctica profesional y para estudiantes del plan antiguo revisamos quienes cumplirían con los requisitos para tomar el curso práctica profesional en otoño 2024.\n",
      "Generation: En el caso de las y los estudiantes del plan de estudios 2019 consideramos a quienes tienen inscrito elúltimo Taller de práctica profesional y para estudiantes del plan antiguo revisamos quienes cumplirían con los requisitos para tomar el curso práctica profesional en otoño 2024.\n",
      "BLEU: 0.9414356817218077. ROUGE: 1.0\n",
      "\n",
      "9\n",
      "Input: Les invitamos a acercarse a la Secretaría Docente de sus departamentos para confirmar si realizarán su práctica profesional terminal este verano y que así sean incluidos en la nómina que se enviará a Junaeb.\n",
      "Generation: Les invitamos a acercarse a la Secretaría Docente de sus departamentos para confirmar si realizarán su práctica profesional terminal este verano y que asísean incluidos en la nómina que se enviará a Junaeb.\n",
      "BLEU: 0.8943548151761271. ROUGE: 0.9780086580086579\n",
      "\n",
      "10\n",
      "Input: Cualquier duda que tengas, nos pueden mandar un mensaje 📩 por nuestro Instagram  @redes.beauchef Áreas a las que puedes postular 📑:  EstudiosLogísticaFeria LaboralExtensiónClub de ConsultoríaFinanzas✨Mucho éxito a todos quienes postulen este año✨   Redes Beauchef\n",
      "Generation: Cualquier duda que tengas, nos pueden mandar un mensaje  por nuestro Instagram @redes.beauchefúreas a las que puedes postular : EstudiosLogísticaFeria LaboralExtensiónClub de ConsultoríaFinanzasMucho éxito a todos quienes postulen este año Redes Beauchef\n",
      "BLEU: 0.5701545963845936. ROUGE: 0.9288762446657183\n",
      "\n",
      "11\n",
      "Input: Requisitos Los postulantes deberán ser estudiantes regulares de la Facultad de Ciencias Físicas y Matemáticas de la Universidad de Chile.\n",
      "Generation: Requisitos Los/as postulantes deberán ser estudiantes regulares de la Facultad de Ciencias Físicas y Matemáticas de la Universidad de Chile.\n",
      "BLEU: 1.0. ROUGE: 1.0\n",
      "\n",
      "12\n",
      "Input: No encontrarse en proceso de investigación sumaria y/o haber sido sancionado con la medida de censura, suspensión o expulsión, tanto al momento de postular como de viajar al extranjero.\n",
      "Generation: No encontrarse en proceso de investigación sumaria y/o haber sido sancionado con la medida de censura, suspensión o expulsión, tanto al momento de postular como de viajar al extranjero.\n",
      "BLEU: 0.9740037464252967. ROUGE: 0.9746651358591656\n",
      "\n",
      "13\n",
      "Input: Completa el formulario y adjunta la documentación de respaldo en el siguiente LINK Plazos:   - General: hasta el 10 de diciembre - Programa de Residencia Universitaria: Se extiende postulación hasta el 30 de noviembre     Si ingresaste vía SIPEE , PACE o renuevas el Programa de Residencia, recuerda que debes agendar una hora de entrevista con una Trabajadora Social.\n",
      "Generation: Completa el formulario y adjunta la documentación de respaldo en el siguiente LINK Plazos: - General: hasta el 10 de diciembre - Programa de Residencia Universitaria: Se extiende postulación hasta el 30 de noviembre Si ingresaste vía SIPEE, PACE o renuevas el Programa de Residencia, recuerda que debes agendar una hora de entrevista con una Trabajadora Social.\n",
      "BLEU: 0.9630705800262783. ROUGE: 0.9714591856614065\n",
      "\n",
      "14\n",
      "Input: Los estudiantes que inscriban Prácticas Profesionales deberán pagar 2 créditos (arancel mínimo).\n",
      "Generation: Las/os estudiantes que inscriban Prácticas Profesionales deberán pagar 2 créditos (arancel mínimo).\n",
      "BLEU: 1.0. ROUGE: 1.0\n",
      "\n",
      "15\n",
      "Input: Hoy es el último día para enviar tu postulación, solo debes tener ganas de participar y comprometerte a acompañar a los y las mechones 2024.\n",
      "Generation: Hoy es elúltimo día para enviar tu postulación, solo debes tener ganas de participar y comprometerte a acompañar a los y las mechones 2024.\n",
      "BLEU: 0.8604852743887371. ROUGE: 0.9701222753854332\n",
      "\n",
      "16\n",
      "Input: Postulaciones para Inductores y monitores aquíPostulación para Equipo Coordinador (2 puestos) aquíSi te encanta trabajar en un ambiente colaborativo, ¡queremos conocerte!\n",
      "Generation: Postulaciones para Inductores y monitores aquíPostulación para Equipo Coordinador (2 puestos) aquíSi te encanta trabajar en un ambiente colaborativo,¿queremos conocerte!\n",
      "BLEU: 0.771430618261501. ROUGE: 0.9316666666666666\n",
      "\n",
      "17\n",
      "Input: Completa el formulario y adjunta la documentación de respaldo en el siguiente LINK Plazos:   - General: hasta el 10 de diciembre - Programa de Residencia Universitaria: hasta el 24 de noviembre    Si ingresaste vía SIPEE , PACE o renuevas el Programa de Residencia, recuerda que debes agendar una hora de entrevista con una Trabajadora Social.\n",
      "Generation: Completa el formulario y adjunta la documentación de respaldo en el siguiente LINK Plazos: - General: hasta el 10 de diciembre - Programa de Residencia Universitaria: hasta el 24 de noviembre Si ingresaste vía SIPEE, PACE o renuevas el Programa de Residencia, recuerda que debes agendar una hora de entrevista con una Trabajadora Social.\n",
      "BLEU: 0.9611569294746616. ROUGE: 0.9605752541532357\n",
      "\n",
      "18\n",
      "Input: Las y los competidores están preparando cada detalle de sus robots: algunos buscarán romper récords de tiempo, mientras robots luchadores se enfrentarán en una batalla épica para descubrir quién será el último en pié.\n",
      "Generation: Las y los competidores están preparando cada detalle de sus robots: algunos buscarán romper récords de tiempo, mientras robots luchadores se enfrentarán en una batalla épica para descubrir quién será elúltimo en pié.\n",
      "BLEU: 0.8925259279010762. ROUGE: 0.9785741684475862\n",
      "\n",
      "19\n",
      "Input: https://participauchile.cl/1_MODIFICA_FECHA_DE__ELECCION_DE_REPRESENTANTES_ESTUDIANTILES_POSTGRADO.pdf (123 kb)Agradecemos a los y las estudiantes que se presentaron como candidatos a Consejeros Estudiantil de Postgrado.\n",
      "Generation: https://participauchile.cl/1_MODIFICA_FECHA_DE__ELECCION_DE_REPRESENTANTES_ESTUDIANTILES_POSTGRADO.pdf (123 kb)Agradecemos a los y las estudiantes que se presentaron como candidatos a Consejeros Estudiantil de Postgrado.\n",
      "BLEU: 0.914408252073654. ROUGE: 0.9469086021505376\n",
      "\n",
      "20\n",
      "Input: Panel de Egresados 22 Nov: Ciclo de Charlas - Auditorio d'Etigny 14:30 hrs.\n",
      "Generation: Panel de Egresados 22 Nov: Ciclo de Charlas - Auditorio d'Etigny 14:30 hrs.\n",
      "BLEU: 0.9365137582048805. ROUGE: 0.9399744572158366\n",
      "\n",
      "21\n",
      "Input: Hoy en \"Vida Saludable en Beauchef\", preparamos talleres para mejorar el bienestar y promover la salud física y mental Tendremos: Yoga: Estará una instructora en el Hall Sur, esperándolos y espesándolas para relajarse con una clase de yoga... Atentos a los regalitos sorpresa que entregaremos a los asistentesEntrenamiento funcional: A llenarse de energía y botar estrés con una clase entretenida ¡a moverse!\n",
      "Generation: Hoy en \"Vida Saludable en Beauchef\", preparamos talleres para mejorar el bienestar y promover la salud física y mental Tendremos: Yoga: Estará una instructora en el Hall Sur, esperándolos y espesándolas para relajarse con una clase de yoga... Atentos a los regalitos sorpresa que entregaremos a los asistentesEntrenamiento funcional: A llenarse de energía y botar estrés con una clase entretenidaúa moverse!\n",
      "BLEU: 0.9195434673943789. ROUGE: 0.9752707052970443\n",
      "\n",
      "22\n",
      "Input: L@s estudiantes que asistan, podrán conversar con expertos de WSP sobre la presentación de diversos proyectos ejecutados a nivel nacional e internacional, así como explorar el concepto de \"Future Ready\" y la experiencia en proyectos de geotecnia y relaves en el área de Minería.\n",
      "Generation: L@s estudiantes que asistan, podrán conversar con expertos de WSP sobre la presentación de diversos proyectos ejecutados a nivel nacional e internacional, asícomo explorar el concepto de \"Future Ready\" y la experiencia en proyectos de geotecnia y relaves en el área de Minería.\n",
      "BLEU: 0.9126839918669749. ROUGE: 0.9826008319768493\n",
      "\n",
      "23\n",
      "Input: Como el formato de trabajo es en pareja, te recomendamos inscribirte con una persona que no tenga inconveniente que lo toquen ni sea tocado para el masaje.\n",
      "Generation: Como el formato de trabajo es en pareja, te recomendamos inscribirte con una persona que no tenga inconveniente que lo toquen ni sea tocado para el masaje.\n",
      "BLEU: 0.8464382782249112. ROUGE: 0.9196112064036592\n",
      "\n",
      "24\n",
      "Input: Cupo para los primeros 20 inscritos Inscríbete aquí Taller Dormir bien para sentirse bien:  Un taller diseñado para estudiantes, que les cuesta conciliar las horas de sueño con las responsabilidades académicas.\n",
      "Generation: Cupo para los primeros 20 inscritos Inscríbete aquíTaller Dormir bien para sentirse bien: Un taller diseñado para estudiantes, que les cuesta conciliar las horas de sueño con las responsabilidades académicas.\n",
      "BLEU: 0.8009211471416062. ROUGE: 0.9303492185992668\n",
      "\n",
      "25\n",
      "Input: Tendremos regalos sorpresa para los asistentes.\n",
      "Generation: Tendremos regalos sorpresa para las/os asistentes.\n",
      "BLEU: 1.0. ROUGE: 1.0\n",
      "\n",
      "26\n",
      "Input: El número de consejero son 4.\n",
      "Generation: El número de consejero son 4.\n",
      "BLEU: 0.5946035575013605. ROUGE: 0.8786324786324786\n",
      "\n",
      "27\n",
      "Input: El rol de los Consejeros/as Estudiantil es esencial para acoger y canalizar las inquietudes y opiniones del estudiantado.\n",
      "Generation: El rol de los Consejeros/as Estudiantil es esencial para acoger y canalizar las inquietudes y opiniones del estudiantado.\n",
      "BLEU: 0.9071112036324318. ROUGE: 0.9558789558789559\n",
      "\n",
      "28\n",
      "Input: buscamos a estudiantes que quieran darle la bienvenida a la nueva generación de mechones 2024 y acompañarles durante todo su primer semestre.\n",
      "Generation: buscamos a estudiantes que quieran darle la bienvenida a la nueva generación de mechones 2024 y acompañarles durante todo su primer semestre.\n",
      "BLEU: 0.9621954581957615. ROUGE: 0.9651179620784482\n",
      "\n",
      "29\n",
      "Input: Estimada Comunidad, Presentamos una nueva convocatoria abierta MOVILIDAD INTERNACIONAL CON EQUIDAD 👉 Dirigida a estudiantes de pregrado admisión 2021, interesados en realizar un intercambio en el segundo semestre de 2024 👉 Prioridad para estudiantes con admisión SIPEE, PACE, como también estudiantes PACE habilitados y beneficiarios de la BEA 👉 Para más información visita  https://uchile.cl/u210466 Para consultas, escribe al   pme@u.uchile.cl\n",
      "Generation: Estimada Comunidad, Presentamos una nueva convocatoria abierta MOVILIDAD INTERNACIONAL CON EQUIDAD  Dirigida a estudiantes de pregrado admisión 2021, interesados en realizar un intercambio en el segundo semestre de 2024  Prioridad para estudiantes con admisión SIPEE, PACE, como también estudiantes PACE habilitados y beneficiarios de la BEA  Para más información visita https://uchile.cl/u210466 Para consultas, escribe al pme@u.uchile.cl\n",
      "BLEU: 0.8156996142416522. ROUGE: 0.9631792376317923\n",
      "\n",
      "30\n",
      "Input: Tutorías personalizadas uno a uno por especialistas en escritura en Educación Superior y talleres prácticos.\n",
      "Generation: Tutorías personalizadas uno a uno por especialistas en escritura en Educación Superior y talleres prácticos.\n",
      "BLEU: 0.7856293018010261. ROUGE: 0.9278752436647174\n",
      "\n",
      "31\n",
      "Input: Inscripción de candidatos: Desde el martes 31 de octubre y hasta el miércoles 08 de noviembre entre las 09:00 a 18:00horas, en Vicedecanato, email: sevideca@ing.uchile.cl Fecha votación Primera Vuelta: jueves 16 de noviembre de 2023CLAUSTRO_DEFINITIVO_ELECCIONE_POSTGRADO.pdf (636 kb)CONVOCATORIA_A_ELECCION_CONSEJEROS_DE_POSTGRADO.pdf (126 kb)Ficha_inscripcioI_n_Postgrado_2023.doc (37 kb)\n",
      "Generation: Inscripción de candidatos: Desde el martes 31 de octubre y hasta el miércoles 08 de noviembre entre las 09:00 a 18:00horas, en Vicedecanato, email: sevideca@ing.uchile.cl Fecha votación Primera Vuelta: jueves 16 de noviembre de 2023CLAUSTRO_DEFINITIVO_ELECCIONE_POSTGRADO.pdf (636 kb)CONVOCATORIA_A_ELECCION_CONSEJEROS_DE_POSTGRADO.pdf (126 kb)Ficha_inscripcioI_n_Postgrado_2023.doc (37 kb)\n",
      "BLEU: 0.8638301379580574. ROUGE: 0.9318334002946299\n",
      "\n",
      "32\n",
      "Input: Durante las sesiones, los y las estudiantes podrán ponerse al día con los contenidos de sus cursos, hacer consultas y clarificar dudas, además de practicar sus habilidades orales con las y los profesores de cada nivel.\n",
      "Generation: Durante las sesiones, los y las estudiantes podrán ponerse al día con los contenidos de sus cursos, hacer consultas y clarificar dudas, además de practicar sus habilidades orales con las y los profesores de cada nivel.\n",
      "BLEU: 0.933651069586263. ROUGE: 0.9653621232568601\n",
      "\n",
      "33\n",
      "Input: Estimada Comunidad, Si no alcanzaste a participar de la charla Prácticas integrales \"Construyendo mis sueños en Guatemala\" te dejamos el link del video para que lo revises, recuerda que la Corporación Construyendo Mis Sueños, gracias al aporte de la Unión Europea tendrá para cada estudiante seleccionado para  práctica profesional un monto de $2.325.750  con lo que se realizará la compra de pasaje aéreo Santiago Ciudad de Guatemala ida y vuelta.\n",
      "Generation: Estimada Comunidad, Si no alcanzaste a participar de la charla Prácticas integrales \"Construyendo mis sueños en Guatemala\" te dejamos el link del video para que lo revises, recuerda que la Corporación Construyendo Mis Sueños, gracias al aporte de la Unión Europea tendrá para cada estudiante seleccionado para práctica profesional un monto de $2.325.750 con lo que se realizará la compra de pasaje aéreo Santiago Ciudad de Guatemala ida y vuelta.\n",
      "BLEU: 0.9797921919583357. ROUGE: 0.9894377011310072\n",
      "\n",
      "34\n",
      "Input: Se entregará un anticipo por concepto de viático a cada estudiante seleccionado para poder costear alojamiento, alimentación y traslados internos en las respectivas ciudades, por las 8 semanas de duración de la práctica.\n",
      "Generation: Se entregará un anticipo por concepto de viático a cada estudiante seleccionado para poder costear alojamiento, alimentación y traslados internos en las respectivas ciudades, por las 8 semanas de duración de la práctica.\n",
      "BLEU: 0.9548217695869232. ROUGE: 0.9774124809741247\n",
      "\n",
      "35\n",
      "Input: Los Talleres de Práctica Profesional I inscritos para los estudiantes del plan estudios v.5, no serán considerados dentro de las tres opciones disponibles de cada estudiante.\n",
      "Generation: Los Talleres de Práctica Profesional I inscritos para estudiantes del plan estudios v.5, no serán considerados dentro de las tres opciones disponibles de cada estudiante.\n",
      "BLEU: 1.0. ROUGE: 1.0\n",
      "\n",
      "36\n",
      "Input: Estimadas/os Estudiantes, Desde el Centro de Informaciones del  DAAD  en Santiago invitan a nuestros estudiantes a participar de una interesante charla virtual en español e inglés que darán el próximo martes 7 de noviembre, a las 12.30 (hora Chile) las universidades HS Pforzheim, HS Mainz y RWTH Inernational Academy.\n",
      "Generation: Estimadas/os Estudiantes, Desde el Centro de Informaciones del DAAD en Santiago invitan a nuestros estudiantes a participar de una interesante charla virtual en español e inglés que darán el próximo martes 7 de noviembre, a las 12.30 (hora Chile) las universidades HS Pforzheim, HS Mainz y RWTH Inernational Academy.\n",
      "BLEU: 0.9855383616872883. ROUGE: 0.9848196820673883\n",
      "\n",
      "37\n",
      "Input: Algunas fechas importantes:Publicación del Claustro: viernes 20 de octubre de 2023 Plazo para presentar objeciones a la nómina del claustro: miércoles 25 de octubre de 2023 Inscripción de candidatos: Desde el martes 31 de octubre y hasta el miércoles 08 de noviembre entre las 09:00 a 18:00horas, en Vicedecanato, email: sevideca@ing.uchile.cl Fecha votación Primera Vuelta: jueves 16 de noviembre de 2023 CLAUSTRO_PROVISORIO_POSTGRADO.pdf (636 kb) CONVOCATORIA_A_ELECCION_CONSEJEROS_DE_POSTGRADO.pdf (126 kb)\n",
      "Generation: Algunas fechas importantes:Publicación del Claustro: viernes 20 de octubre de 2023 Plazo para presentar objeciones a la nómina del claustro: miércoles 25 de octubre de 2023 Inscripción de candidatos: Desde el martes 31 de octubre y hasta el miércoles 08 de noviembre entre las 09:00 a 18:00horas, en Vicedecanato, email: sevideca@ing.uchile.cl Fecha votación Primera Vuelta: jueves 16 de noviembre de 2023 CLAUSTRO_PROVISORIO_POSTGRADO.pdf (636 kb) CONVOCATORIA_A_ELECCION_CONSEJEROS_DE_POSTGRADO.pdf (126 kb)\n",
      "BLEU: 0.8009263502744396. ROUGE: 0.8996072101156846\n",
      "\n",
      "38\n",
      "Input: Los esperamos con un  te Adagio  y un  concurso sorpresa  entre quienes participen en los stands   Nos vemos 😊\n",
      "Generation: Les esperamos con un te Adagio y un concurso sorpresa entre quienes participen en los stands Nos vemos\n",
      "BLEU: 0.9459594689067654. ROUGE: 1.0\n",
      "\n",
      "39\n",
      "Input: Completa el formulario y adjunta la documentación de respaldo en el siguiente LINK Plazos:   - General: hasta el 10 de diciembre - Programa de Residencia Universitaria: hasta el 24 de noviembre    Si ingresaste vía SIPEE , PACE o renuevas el Programa de Residencia, recibirás un correo para agendar una hora de entrevista con una Trabajadora Social.\n",
      "Generation: Completa el formulario y adjunta la documentación de respaldo en el siguiente LINK Plazos: - General: hasta el 10 de diciembre - Programa de Residencia Universitaria: hasta el 24 de noviembre Si ingresaste vía SIPEE, PACE o renuevas el Programa de Residencia, recibirás un correo para agendar una hora de entrevista con una Trabajadora Social.\n",
      "BLEU: 0.9657992495762466. ROUGE: 0.9704469507101087\n",
      "\n",
      "40\n",
      "Input: Estimada comunidad beauchefiana: El Magíster en Innovación y Emprendimiento en Ciencia y Tecnología y OpenBeauchef de la Facultad de Ciencias Físicas y Matemáticas de la Universidad de Chile, tienen el agrado de invitarte a una nueva charla del  Ciclo MIE+OB  que contará con la participación de Dasla Panto, CEO de  Enerdis,  emprendimiento de base científica-tecnológica que tiene por   objetivo la implementación de soluciones que empoderen a los consumidores de energía eléctrica en el contexto de la lucha contra la crisis climática.\n",
      "Generation: Estimada comunidad beauchefiana: El Magíster en Innovación y Emprendimiento en Ciencia y Tecnología y OpenBeauchef de la Facultad de Ciencias Físicas y Matemáticas de la Universidad de Chile, tienen el agrado de invitarte a una nueva charla del Ciclo MIE+OB que contará con la participación de Dasla Panto, CEO de Enerdis, emprendimiento de base científica-tecnológica que tiene por objetivo la implementación de soluciones que empoderen a los consumidores de energía eléctrica en el contexto de la lucha contra la crisis climática.\n",
      "BLEU: 0.9819778807388664. ROUGE: 0.9825292397660818\n",
      "\n",
      "41\n",
      "Input: Estimada comunidad beauchefiana: El equipo de Proyecto Eolian los deja invitados e invitadas a participar del conversatorio: \"Innovación, tecnología y sustentabilidad: el nuevo enfoque para el éxito de un modelo de negocio\".En el marco del Mes de la Ciencia y la Semana del Emprendimiento e Innovación, conversaremos en torno a la importancia de un presente y futuro sustentable, así también sobre cómo la innovación y la tecnología se convierten en herramientas que han permitido potenciar su modelo de negocio.\n",
      "Generation: Estimada comunidad beauchefiana: El equipo de Proyecto Eolian los deja invitados e invitadas a participar del conversatorio: \"Innovación, tecnología y sustentabilidad: el nuevo enfoque para el éxito de un modelo de negocio\".En el marco del Mes de la Ciencia y la Semana del Emprendimiento e Innovación, conversaremos en torno a la importancia de un presente y futuro sustentable, asítambién sobre cómo la innovación y la tecnología se convierten en herramientas que han permitido potenciar su modelo de negocio.\n",
      "BLEU: 0.9422790817862062. ROUGE: 0.9904101293696669\n",
      "\n",
      "42\n",
      "Input: En esta ocasión haremos la resolución de un Caso de Negocio 📊 junto a Aurys en donde podrán aproximarse a los desafíos y problemáticas que se enfrentan los consultores en el trabajo con clientes en su día a día.\n",
      "Generation: En esta ocasión haremos la resolución de un Caso de Negocio  junto a Aurys en donde podrán aproximarse a los desafíos y problemáticas que se enfrentan los consultores en el trabajo con clientes en su día a día.\n",
      "BLEU: 0.9271440709822126. ROUGE: 0.9632850241545894\n",
      "\n",
      "43\n",
      "Input: 🗣️Oradores: Omar Bravo - Consultor Senior / Rosario Veas - Consultor Senior / Agustín Canete - Consultor Analista.\n",
      "Generation: Oradores: Omar Bravo - Consultor Senior / Rosario Veas - Consultor Senior / Agustín Canete - Consultor Analista.\n",
      "BLEU: 0.7483293841345244. ROUGE: 0.844614729672201\n",
      "\n",
      "44\n",
      "Input: Se adjunta el Claustro Estudiantil de Pregrado (nómina de electores) para la elección de Consejeros/as de Escuela que se llevará a cabo el miércoles 08 de noviembre de 2023 en forma electrónica, a través de la plataforma Participa Uchile.\n",
      "Generation: Se adjunta el Claustro Estudiantil de Pregrado (nómina de electores) para la elección de Consejeros/as de Escuela que se llevará a cabo el miércoles 08 de noviembre de 2023 en forma electrónica, a través de la plataforma Participa Uchile.\n",
      "BLEU: 0.9811828191944995. ROUGE: 0.981438037617813\n",
      "\n",
      "45\n",
      "Input: Estimados/as Estudiantes, 👉ESTUDIA DOS AÑOS EN FRANCIA 👈 Invitamos a nuestros estudiantes de plan común a participar de la convocatoria Doble título que estará abierta entre el 02 de octubre y el 03 de noviembre.\n",
      "Generation: Estimados/as Estudiantes, ESTUDIA DOS AúOS EN FRANCIA  Invitamos a nuestros estudiantes de plan común a participar de la convocatoria Doble título que estará abierta entre el 02 de octubre y el 03 de noviembre.\n",
      "BLEU: 0.7882622939025073. ROUGE: 0.9780086580086579\n",
      "\n",
      "46\n",
      "Input: Tenemos una gran oportunidad académica para nuestros estudiantes: puedes titularte en tu especialidad en la Uchile y en una Universidad francesa 😍🇫🇷 Ven a la charla el próximo  miércoles 4 de octubre a las 12:00  para conocer más sobre las universidades partes del Convenio y las chances de viaje 👀 Toda la información de la convocatoria la puedes encontrar  acá Consultas al correo  rrii@ing.uchile.cl\n",
      "Generation: Tenemos una gran oportunidad académica para nuestros estudiantes: puedes titularte en tu especialidad en la Uchile y en una Universidad francesa  Ven a la charla el próximo miércoles 4 de octubre a las 12:00 para conocer más sobre las universidades partes del Convenio y las chances de viaje  Toda la información de la convocatoria la puedes encontrar acá Consultas al correo rrii@ing.uchile.cl\n",
      "BLEU: 0.9103583926489246. ROUGE: 0.9882457967564351\n",
      "\n",
      "47\n",
      "Input: jueves 28 de septiembre  tendremos una charla donde algunas de las universidades parte del grupo  CALDO , que reúne a las instituciones más prestigiosas de Canadá, darán información relevante sobre los distintos tipos de intercambios que nuestros estudiantes pueden hacer.\n",
      "Generation: jueves 28 de septiembre tendremos una charla donde algunas de las universidades parte del grupo CALDO, que reúne a las instituciones más prestigiosas de Canadá, darán información relevante sobre los distintos tipos de intercambios que nuestros/as estudiantes pueden hacer.\n",
      "BLEU: 1.0. ROUGE: 1.0\n",
      "\n",
      "48\n",
      "Input: Para mayor información y solicitud de los formularios de postulación, los estudiantes pueden contactar a la Embajada de Suiza en Chile.\n",
      "Generation: Para mayor información y solicitud de los formularios de postulación, las y los estudiantes pueden contactar a la Embajada de Suiza en Chile.\n",
      "BLEU: 1.0. ROUGE: 1.0\n",
      "\n",
      "49\n",
      "Input: Bain & Company, empresa líder en consultoría estratégica, te invita a participar en esta actividad donde podrás poner a prueba tus habilidades resolviendo un caso real junto a nuestros consultores experimentados.\n",
      "Generation: Bain & Company, empresa líder en consultoría estratégica, te invita a participar en esta actividad donde podrás poner a prueba tus habilidades resolviendo un caso real junto a nuestros consultores experimentados.\n",
      "BLEU: 0.9287801349141145. ROUGE: 0.93801456079472\n",
      "\n",
      "50\n",
      "Input: Tras ellos, hay otros equipos de colaboradores de la Escuela de Ingeniería y Ciencias, especialmente la Subdirección de Asuntos Estudiantiles, la Subdirección de Gestión Docente, la Oficina Administrativa y Difusión, así como la secretaria de Deportes, quienes apoyan el trabajo deportivo con permanente compromiso y cuyo aporte es también esencial.\n",
      "Generation: Tras ellos, hay otros equipos de colaboradores de la Escuela de Ingeniería y Ciencias, especialmente la Subdirección de Asuntos Estudiantiles, la Subdirección de Gestión Docente, la Oficina Administrativa y Difusión, asícomo la secretaria de Deportes, quienes apoyan el trabajo deportivo con permanente compromiso y cuyo aporte es también esencial.\n",
      "BLEU: 0.9222873676597746. ROUGE: 0.9850912859762418\n",
      "\n",
      "51\n",
      "Input: A todos y todas las deportistas y al personal que colabora con el Área de Deportes en la FCFM, les damos muchísimas gracias; estamos muy contentos de este nuevo triunfo, que nos llena de orgullo y que es un ejemplo que estimula nuestro trabajo.\n",
      "Generation: A todos y todas las deportistas y al personal que colabora con elúrea de Deportes en la FCFM, les damos muchísimas gracias; estamos muy contentos de este nuevo triunfo, que nos llena de orgullo y que es un ejemplo que estimula nuestro trabajo.\n",
      "BLEU: 0.8455735114821673. ROUGE: 0.9324915824915826\n",
      "\n",
      "52\n",
      "Input: Estimados/as Estudiantes: 🛫 El jueves 28 de septiembre  tendremos una charla donde algunas de las universidades parte del grupo  CALDO , que reúne a las instituciones más prestigiosas de Canadá, darán información relevante sobre los distintos tipos de intercambios que nuestros estudiantes pueden hacer.\n",
      "Generation: Estimados/as Estudiantes:  El jueves 28 de septiembre tendremos una charla donde algunas de las universidades parte del grupo CALDO, que reúne a las instituciones más prestigiosas de Canadá, darán información relevante sobre los distintos tipos de intercambios que nuestros estudiantes pueden hacer.\n",
      "BLEU: 0.9268947805548443. ROUGE: 0.9822297679683079\n",
      "\n",
      "53\n",
      "Input: Bases e info acá: https://openbeauchef.cl/events/semilla-tesis-innovadora/    2.- Premio Felipe Álvarez: Dirigido a estudiantes de pregrado, posgrado, investigadores y académicos Se lanzó la tercera versión del Premio de fomento a la innovación y emprendimiento Felipe Álvarez.\n",
      "Generation: Bases e info acá: https://openbeauchef.cl/events/semilla-tesis-innovadora/  2.- Premio Felipeñlvarez: Dirigido a estudiantes de pregrado, posgrado, investigadores y académicos Se lanzó la tercera versión del Premio de fomento a la innovación y emprendimiento Felipeñlvarez.\n",
      "BLEU: 0.7279163213116348. ROUGE: 0.9615926708949966\n",
      "\n",
      "54\n",
      "Input: Estimad@ estudiante:   En Tienda Beauchef estamos buscando monitores para que se sumen a nuestro equipo y nos acompañen en el stand en ventas presenciales y algunos eventos que se realizan dentro de la Facultad.\n",
      "Generation: Estimad@ estudiante: En Tienda Beauchef estamos buscando monitores para que se sumen a nuestro equipo y nos acompañen en el stand en ventas presenciales y algunos eventos que se realizan dentro de la Facultad.\n",
      "BLEU: 0.9778460448698021. ROUGE: 0.9761175750153092\n",
      "\n",
      "55\n",
      "Input: Se informa a los estudiantes que cursen sólo una asignatura (a excepción de quienes inscriban únicamente los cursos \"Trabajo de Título\" o \"Trabajo de Memoria de Título\") y que deseen optar a la rebaja de arancel del 50% del semestre Primavera 2023, que podrán solicitar dicha rebaja entre los días 23 y 30 de agosto al correo sec_estudios@ing.uchile.cl, indicando en el asunto del mail \"Solicitud Rebaja 50% de Arancel Primavera 2023\".A esta opción sólo se puede acceder una vez durante la carrera.\n",
      "Generation: Se informa a las y los estudiantes que cursen sólo una asignatura (a excepción de quienes inscribanúnicamente los cursos \"Trabajo de Título\" o \"Trabajo de Memoria de Título\") y que deseen optar a la rebaja de arancel del 50% del semestre Primavera 2023, que podrán solicitar dicha rebaja entre los días 23 y 30 de agosto al correo sec_estudios@ing.uchile.cl, indicando en el asunto del mail \"Solicitud Rebaja 50% de Arancel Primavera 2023\".A esta opción sólo se puede acceder una vez durante la carrera.\n",
      "BLEU: 0.974153035222828. ROUGE: 1.0\n",
      "\n",
      "56\n",
      "Input: Los cursos permiten a los futuros estudiantes extranjeros sentar unas bases sólidas para sus estudios.\n",
      "Generation: Los cursos permiten a los futuros estudiantes extranjeros sentar unas bases sólidas para sus estudios.\n",
      "BLEU: 0.6984502320788455. ROUGE: 0.8519480519480519\n",
      "\n",
      "57\n",
      "Input: Se propicia la creación de iniciativas que articulen la participación transversal de estudiantes de distintas carreras, con un criterio de Campus Universitario, lo que debe reflejarse en postulaciones que contemplen ejecutores de más de una organización y de una o varias unidades académicas.\n",
      "Generation: Se propicia la creación de iniciativas que articulen la participación transversal de estudiantes de distintas carreras, con un criterio de Campus Universitario, lo que debe reflejarse en postulaciones que contemplen ejecutores de más de una organización y de una o varias unidades académicas.\n",
      "BLEU: 0.9825005339252609. ROUGE: 0.9826008319768493\n",
      "\n",
      "58\n",
      "Input: Los estudiantes que registran cuenta bancaria errónea, podrán ingresar sus datos correctos en el  formulario de datos bancarios    hasta el 10 de septiembre  para ser considerados en la siguiente cuota.\n",
      "Generation: Las/os estudiantes que registran cuenta bancaria errónea, podrán ingresar sus datos correctos en el formulario de datos bancarios hasta el 10 de septiembre para ser considerados en la siguiente cuota.\n",
      "BLEU: 1.0. ROUGE: 1.0\n",
      "\n"
     ]
    }
   ],
   "source": [
    "for i, (_, r) in enumerate(df_with_bias[[\"input\", \"generation\", \"bleu_gen\", \"rouge\"]].iterrows()):\n",
    "    print(i+1)\n",
    "    print(f\"Input: {r['input']}\")\n",
    "    print(f\"Generation: {u.get_processed_generation(MODEL_TYPE, r['generation'])}\")\n",
    "    print(f\"BLEU: {r['bleu_gen']}. ROUGE: {r['rouge']}\")\n",
    "    print()"
   ]
  },
  {
   "cell_type": "markdown",
   "id": "70b8a428-707a-4e09-b2f6-7a8d066b4918",
   "metadata": {},
   "source": [
    "# Save"
   ]
  },
  {
   "cell_type": "code",
   "execution_count": 24,
   "id": "6861195a-15fe-410d-ab85-3188c071a10b",
   "metadata": {},
   "outputs": [],
   "source": [
    "df_metric.to_csv(f\"../../data/processed/20231220_metrics_{MODEL_TYPE}.csv\", index=False)"
   ]
  },
  {
   "cell_type": "code",
   "execution_count": null,
   "id": "c1b72589-6162-47e9-951c-b213f5d0510c",
   "metadata": {},
   "outputs": [],
   "source": []
  }
 ],
 "metadata": {
  "kernelspec": {
   "display_name": "venv",
   "language": "python",
   "name": "venv"
  },
  "language_info": {
   "codemirror_mode": {
    "name": "ipython",
    "version": 3
   },
   "file_extension": ".py",
   "mimetype": "text/x-python",
   "name": "python",
   "nbconvert_exporter": "python",
   "pygments_lexer": "ipython3",
   "version": "3.10.12"
  }
 },
 "nbformat": 4,
 "nbformat_minor": 5
}
