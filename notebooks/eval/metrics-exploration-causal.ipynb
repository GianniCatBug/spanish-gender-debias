{
 "cells": [
  {
   "cell_type": "code",
   "execution_count": 44,
   "id": "b8986732-98a5-425f-97d6-fac394f29810",
   "metadata": {},
   "outputs": [],
   "source": [
    "import pandas as pd\n",
    "import numpy as np\n",
    "\n",
    "MODEL_TYPE = \"CAUSAL\""
   ]
  },
  {
   "cell_type": "markdown",
   "id": "18ecbd8c-e832-410b-afb3-37da549ba404",
   "metadata": {},
   "source": [
    "# Data"
   ]
  },
  {
   "cell_type": "code",
   "execution_count": 45,
   "id": "e5fd633f-83f9-4ef7-9fd7-d61e266ec146",
   "metadata": {},
   "outputs": [
    {
     "data": {
      "text/html": [
       "<div>\n",
       "<style scoped>\n",
       "    .dataframe tbody tr th:only-of-type {\n",
       "        vertical-align: middle;\n",
       "    }\n",
       "\n",
       "    .dataframe tbody tr th {\n",
       "        vertical-align: top;\n",
       "    }\n",
       "\n",
       "    .dataframe thead th {\n",
       "        text-align: right;\n",
       "    }\n",
       "</style>\n",
       "<table border=\"1\" class=\"dataframe\">\n",
       "  <thead>\n",
       "    <tr style=\"text-align: right;\">\n",
       "      <th></th>\n",
       "      <th>input</th>\n",
       "      <th>target</th>\n",
       "      <th>sesgo_pronombre</th>\n",
       "      <th>sesgo_otro</th>\n",
       "      <th>seq2seq_document</th>\n",
       "      <th>causal_document</th>\n",
       "      <th>generation</th>\n",
       "      <th>reference_tokens</th>\n",
       "      <th>max_ref_len</th>\n",
       "      <th>generated_tokens</th>\n",
       "      <th>input_tokens</th>\n",
       "      <th>bleu_gen</th>\n",
       "      <th>bleu_input</th>\n",
       "      <th>bleu_dif</th>\n",
       "      <th>rouge</th>\n",
       "    </tr>\n",
       "  </thead>\n",
       "  <tbody>\n",
       "    <tr>\n",
       "      <th>0</th>\n",
       "      <td>Estimada comunidad beauchefiana: ¿Tienes papel...</td>\n",
       "      <td>['Estimada comunidad beauchefiana: ¿Tienes pap...</td>\n",
       "      <td>NO</td>\n",
       "      <td>NO</td>\n",
       "      <td>Eliminar sesgo de género del siguiente texto:\\...</td>\n",
       "      <td>&lt;human&gt;: ¿Puedes reescribir el siguiente texto...</td>\n",
       "      <td>&lt;human&gt;: ¿Puedes reescribir el siguiente texto...</td>\n",
       "      <td>[[Estimada, comunidad, beauchefiana, :, ¿Tiene...</td>\n",
       "      <td>11</td>\n",
       "      <td>[Estimada, comunidad, beauchefiana, :, ¿Tienes...</td>\n",
       "      <td>[Estimada, comunidad, beauchefiana, :, ¿Tienes...</td>\n",
       "      <td>1.0</td>\n",
       "      <td>1.0</td>\n",
       "      <td>0.0</td>\n",
       "      <td>1.0</td>\n",
       "    </tr>\n",
       "    <tr>\n",
       "      <th>1</th>\n",
       "      <td>Desde hoy y hasta el 19 de diciembre puedes de...</td>\n",
       "      <td>['Desde hoy y hasta el 19 de diciembre puedes ...</td>\n",
       "      <td>NaN</td>\n",
       "      <td>NaN</td>\n",
       "      <td>Eliminar sesgo de género del siguiente texto:\\...</td>\n",
       "      <td>&lt;human&gt;: ¿Puedes reescribir el siguiente texto...</td>\n",
       "      <td>&lt;human&gt;: ¿Puedes reescribir el siguiente texto...</td>\n",
       "      <td>[[Desde, hoy, y, hasta, el, 19, de, diciembre,...</td>\n",
       "      <td>17</td>\n",
       "      <td>[Desde, hoy, y, hasta, el, 19, de, diciembre, ...</td>\n",
       "      <td>[Desde, hoy, y, hasta, el, 19, de, diciembre, ...</td>\n",
       "      <td>1.0</td>\n",
       "      <td>1.0</td>\n",
       "      <td>0.0</td>\n",
       "      <td>1.0</td>\n",
       "    </tr>\n",
       "  </tbody>\n",
       "</table>\n",
       "</div>"
      ],
      "text/plain": [
       "                                               input  \\\n",
       "0  Estimada comunidad beauchefiana: ¿Tienes papel...   \n",
       "1  Desde hoy y hasta el 19 de diciembre puedes de...   \n",
       "\n",
       "                                              target sesgo_pronombre  \\\n",
       "0  ['Estimada comunidad beauchefiana: ¿Tienes pap...              NO   \n",
       "1  ['Desde hoy y hasta el 19 de diciembre puedes ...             NaN   \n",
       "\n",
       "  sesgo_otro                                   seq2seq_document  \\\n",
       "0         NO  Eliminar sesgo de género del siguiente texto:\\...   \n",
       "1        NaN  Eliminar sesgo de género del siguiente texto:\\...   \n",
       "\n",
       "                                     causal_document  \\\n",
       "0  <human>: ¿Puedes reescribir el siguiente texto...   \n",
       "1  <human>: ¿Puedes reescribir el siguiente texto...   \n",
       "\n",
       "                                          generation  \\\n",
       "0  <human>: ¿Puedes reescribir el siguiente texto...   \n",
       "1  <human>: ¿Puedes reescribir el siguiente texto...   \n",
       "\n",
       "                                    reference_tokens  max_ref_len  \\\n",
       "0  [[Estimada, comunidad, beauchefiana, :, ¿Tiene...           11   \n",
       "1  [[Desde, hoy, y, hasta, el, 19, de, diciembre,...           17   \n",
       "\n",
       "                                    generated_tokens  \\\n",
       "0  [Estimada, comunidad, beauchefiana, :, ¿Tienes...   \n",
       "1  [Desde, hoy, y, hasta, el, 19, de, diciembre, ...   \n",
       "\n",
       "                                        input_tokens  bleu_gen  bleu_input  \\\n",
       "0  [Estimada, comunidad, beauchefiana, :, ¿Tienes...       1.0         1.0   \n",
       "1  [Desde, hoy, y, hasta, el, 19, de, diciembre, ...       1.0         1.0   \n",
       "\n",
       "   bleu_dif  rouge  \n",
       "0       0.0    1.0  \n",
       "1       0.0    1.0  "
      ]
     },
     "execution_count": 45,
     "metadata": {},
     "output_type": "execute_result"
    }
   ],
   "source": [
    "df = pd.read_csv(f\"../../data/processed/20231220_metrics_{MODEL_TYPE}.csv\")\n",
    "df[\"reference_tokens\"] = [\n",
    "    eval(t)\n",
    "    for t in df[\"reference_tokens\"]\n",
    "]\n",
    "df[\"generated_tokens\"] = [\n",
    "    eval(t)\n",
    "    for t in df[\"generated_tokens\"]\n",
    "]\n",
    "df[\"input_tokens\"] = [\n",
    "    eval(t)\n",
    "    for t in df[\"input_tokens\"]\n",
    "]\n",
    "df.head(2)"
   ]
  },
  {
   "cell_type": "code",
   "execution_count": 46,
   "id": "7fb7070f-3928-48a8-a014-16dd540d844d",
   "metadata": {},
   "outputs": [
    {
     "name": "stdout",
     "output_type": "stream",
     "text": [
      "(782, 15) 782\n"
     ]
    }
   ],
   "source": [
    "df_with_bias = df[\n",
    "    (df[\"sesgo_pronombre\"] == \"SI\") | (df[\"sesgo_otro\"] == \"SI\") \n",
    "]\n",
    "\n",
    "df_without_bias = df[\n",
    "    (df[\"sesgo_pronombre\"] == \"NO\") & (df[\"sesgo_otro\"] == \"NO\") \n",
    "]\n",
    "\n",
    "df_not_able_to_bias = df[\n",
    "    (df[\"sesgo_pronombre\"].isna()) & (df[\"sesgo_otro\"].isna()) \n",
    "]\n",
    "\n",
    "print(df.shape, df_with_bias.shape[0] + df_without_bias.shape[0] + df_not_able_to_bias.shape[0])"
   ]
  },
  {
   "cell_type": "code",
   "execution_count": 61,
   "id": "ba2d0b2b-40e1-43eb-91e9-4cbd78667640",
   "metadata": {},
   "outputs": [
    {
     "data": {
      "text/plain": [
       "(58, 271, 453)"
      ]
     },
     "execution_count": 61,
     "metadata": {},
     "output_type": "execute_result"
    }
   ],
   "source": [
    "df_with_bias.shape[0], df_without_bias.shape[0], df_not_able_to_bias.shape[0]"
   ]
  },
  {
   "cell_type": "markdown",
   "id": "b56fd5e0-16fe-4de6-b474-b27987f80c9c",
   "metadata": {},
   "source": [
    "# Revision"
   ]
  },
  {
   "cell_type": "markdown",
   "id": "dc76a0f3-fa3d-44cc-9cfe-2bf1f4d8bc32",
   "metadata": {},
   "source": [
    "## Has bias"
   ]
  },
  {
   "cell_type": "markdown",
   "id": "d08b1216-9e8e-40ec-bd4d-e1ae18f24680",
   "metadata": {},
   "source": [
    "### No diff"
   ]
  },
  {
   "cell_type": "code",
   "execution_count": 47,
   "id": "f92e7a37-8f51-427a-b687-b932b55759dd",
   "metadata": {},
   "outputs": [
    {
     "name": "stdout",
     "output_type": "stream",
     "text": [
      "(27, 15)\n"
     ]
    },
    {
     "data": {
      "text/plain": [
       "count    27.000000\n",
       "mean      0.938094\n",
       "std       0.064455\n",
       "min       0.759099\n",
       "25%       0.928111\n",
       "50%       0.963071\n",
       "75%       0.982439\n",
       "max       0.993174\n",
       "Name: bleu_input, dtype: float64"
      ]
     },
     "execution_count": 47,
     "metadata": {},
     "output_type": "execute_result"
    }
   ],
   "source": [
    "wb_0 = df_with_bias[df_with_bias[\"bleu_dif\"] == 0]\n",
    "print(wb_0.shape)\n",
    "wb_0[\"bleu_input\"].describe()"
   ]
  },
  {
   "cell_type": "markdown",
   "id": "2003fde6-e551-4931-9076-00cdd2c71f45",
   "metadata": {},
   "source": [
    "### Input more similar than generation"
   ]
  },
  {
   "cell_type": "code",
   "execution_count": 48,
   "id": "a5fbf1e7-9b68-4be2-9e73-d065a99cd789",
   "metadata": {},
   "outputs": [
    {
     "data": {
      "text/plain": [
       "(9, 15)"
      ]
     },
     "execution_count": 48,
     "metadata": {},
     "output_type": "execute_result"
    }
   ],
   "source": [
    "wb_below_0 = df_with_bias[df_with_bias[\"bleu_dif\"] < 0]\n",
    "wb_below_0.shape"
   ]
  },
  {
   "cell_type": "code",
   "execution_count": 49,
   "id": "e97821db-58ff-4d23-8105-9767788efa01",
   "metadata": {},
   "outputs": [
    {
     "name": "stdout",
     "output_type": "stream",
     "text": [
      "11\n",
      "I: Estimados estudiantes de Pregrado , Junto con saludar les invitamos al OPEN MDS , charla Abierta para conocer los detalles del Magíster en Ciencia de Datos MDS de nuestra Facultad el cual es articulable con las carreras de pregrado FCFM .\n",
      "G: Estimada Comunidad de Pregrado , Junto con saludar les invitamos al OPEN MDS , charla Abierta para conocer los detalles del Magíster en Ciencia de Datos MDS de nuestra Facultad el cual es articulable con las carreras de pregrado FCFM .\n",
      "{'Estimados', 'Estimada', 'Comunidad', 'estudiantes'}\n",
      "\n",
      "62\n",
      "I: Cualquier duda que tengas , nos pueden mandar un mensaje 📩 por nuestro Instagram @ redes.beauchef Áreas a las que puedes postular 📑 : EstudiosLogísticaFeria LaboralExtensiónClub de ConsultoríaFinanzas✨Mucho éxito a todos quienes postulen este año✨ Redes Beauchef\n",
      "G: Cualquier duda que tengas , nos pueden mandar un mensaje 📩 por nuestro Instagram @ redes.beauchef Áreas a las que puedes postular 📑 : EstudiosLogísticaFeria LaboralExtensiónClub de ConsultoríaFinanzas✨Mucho éxito a todas y a todos quienes postulen este año✨ Redes Beauchef\n",
      "{'todas', 'y'}\n",
      "\n",
      "71\n",
      "I: Requisitos Los postulantes deberán ser estudiantes regulares de la Facultad de Ciencias Físicas y Matemáticas de la Universidad de Chile .\n",
      "G: Requisitos las/os postulantes deberán ser estudiantes regulares de la Facultad de Ciencias Físicas y Matemáticas de la Universidad de Chile .\n",
      "{'Los', 'las/os'}\n",
      "\n",
      "184\n",
      "I: Las y los competidores están preparando cada detalle de sus robots : algunos buscarán romper récords de tiempo , mientras robots luchadores se enfrentarán en una batalla épica para descubrir quién será el último en pié .\n",
      "G: Las y los competidores están preparando cada detalle de sus robots : algunas/os buscarán romper récords de tiempo , mientras robots luchadores se enfrentarán en una batalla épica para descubrir quién será el último en pié .\n",
      "{'algunos', 'algunas/os'}\n",
      "\n",
      "207\n",
      "I: https : //participauchile.cl/1_MODIFICA_FECHA_DE__ELECCION_DE_REPRESENTANTES_ESTUDIANTILES_POSTGRADO.pdf ( 123 kb ) Agradecemos a los y las estudiantes que se presentaron como candidatos a Consejeros Estudiantil de Postgrado .\n",
      "G: https : //participauchile.cl/1_MODIFICA_FECHA_DE__ELECCION_DE_REPRESENTANTES_ESTUDIANTILES_POSTGRADO.pdf ( 123 kb ) Agradecemos a las y los estudiantes que se presentaron como candidatos a Consejeros/as Estudiantil/a de Postgrado .\n",
      "{'Estudiantil/a', 'Estudiantil', 'Consejeros/as', 'Consejeros'}\n",
      "\n",
      "230\n",
      "I: Hoy en `` Vida Saludable en Beauchef '' , preparamos talleres para mejorar el bienestar y promover la salud física y mental Tendremos : Yoga : Estará una instructora en el Hall Sur , esperándolos y espesándolas para relajarse con una clase de yoga ... Atentos a los regalitos sorpresa que entregaremos a los asistentesEntrenamiento funcional : A llenarse de energía y botar estrés con una clase entretenida ¡a moverse !\n",
      "G: Hoy en `` Vida Saludable en Beauchef '' , preparamos talleres para mejorar el bienestar y promover la salud física y mental Tendremos : Yoga : Estará una instructora en el Hall Sur , esperándolos y espesándolos para relajarse con una clase de yoga ... Atentos a los regalitos sorpresa que entregaremos a las personas que entren !\n",
      "{'moverse', 'llenarse', 'asistentesEntrenamiento', 'las', 'A', 'personas', 'botar', '¡a', 'espesándolos', 'entretenida', 'estrés', 'espesándolas', 'energía', 'entren', 'funcional'}\n",
      "\n",
      "258\n",
      "I: Cupo para los primeros 20 inscritos Inscríbete aquí Taller Dormir bien para sentirse bien : Un taller diseñado para estudiantes , que les cuesta conciliar las horas de sueño con las responsabilidades académicas .\n",
      "G: Cupo para las personas que inscriban el taller Inscríbete aquí Taller Dormir bien para sentirse bien : Un taller diseñado para estudiantes , que les cuesta conciliar las horas de sueño con las responsabilidades académicas .\n",
      "{'20', 'personas', 'inscritos', 'primeros', 'inscriban', 'los', 'el'}\n",
      "\n",
      "340\n",
      "I: Inscripción de candidatos : Desde el martes 31 de octubre y hasta el miércoles 08 de noviembre entre las 09:00 a 18:00horas , en Vicedecanato , email : sevideca @ ing.uchile.cl Fecha votación Primera Vuelta : jueves 16 de noviembre de 2023CLAUSTRO_DEFINITIVO_ELECCIONE_POSTGRADO.pdf ( 636 kb ) CONVOCATORIA_A_ELECCION_CONSEJEROS_DE_POSTGRADO.pdf ( 126 kb ) Ficha_inscripcioI_n_Postgrado_2023.doc ( 37 kb )\n",
      "G: Inscripción de candidatos : Desde el martes 31 de octubre y hasta el miércoles 08 de noviembre entre las 09:00 a 18:00horas , en Vicedecanato , email : sevideca @ ing.uchile.cl Fecha votación Primera Vuelta : jueves 16 de noviembre de 2023CLAUSTRO_DEFINITIVO_ELECCION_POSTGRADO.pdf ( 636 kb ) CONVOCATORIA_A_ELECCION_CONSEJEROS_DE_POSTGRADO.pdf ( 126 kb ) Ficha_inscripcioI_n_Postgrado_2023.doc ( 37 kb )\n",
      "{'2023CLAUSTRO_DEFINITIVO_ELECCION_POSTGRADO.pdf', '2023CLAUSTRO_DEFINITIVO_ELECCIONE_POSTGRADO.pdf'}\n",
      "\n",
      "659\n",
      "I: A todos y todas las deportistas y al personal que colabora con el Área de Deportes en la FCFM , les damos muchísimas gracias ; estamos muy contentos de este nuevo triunfo , que nos llena de orgullo y que es un ejemplo que estimula nuestro trabajo .\n",
      "G: A la comunidad deportística y al personal que colabora con el Área de Deportes en la FCFM , les damos muchísimas gracias ; estamos muy contentas/os de este nuevo triunfo , que nos llena de orgullo y que es un ejemplo que estimula nuestro trabajo .\n",
      "{'las', 'contentos', 'contentas/os', 'deportística', 'todas', 'todos', 'deportistas', 'comunidad'}\n",
      "\n"
     ]
    }
   ],
   "source": [
    "for i, r in wb_below_0.iterrows():\n",
    "    print(i)\n",
    "    print(\"I:\", \" \".join(r['input_tokens']))\n",
    "    print(\"G:\", \" \".join(r['generated_tokens']))\n",
    "    print(set(r['input_tokens']).symmetric_difference(set(r['generated_tokens'])))\n",
    "    print()"
   ]
  },
  {
   "cell_type": "markdown",
   "id": "d29e2377-3953-4e93-b5dc-7e1a2a92c6ce",
   "metadata": {},
   "source": [
    "- 11: Mitigacion correcta, no cubierta en el conjunto de prueba\n",
    "- 62: Mitigacion correcta, no cubierta en el conjunto de prueba\n",
    "- 71: Mitigacion correcta, no cubierta en el conjunto de prueba\n",
    "- 184: No realiza la mitigacion esperada (competidores). Realiza una mitigacion incorrecta (algunos/as, no hace referencia a personas)\n",
    "- 207: Realiza una correccion innecesaria (\"los y las\" por \"las y los\"). No realiza la mitigacion esperada (candidatos). Realiza mitigacion correcta para Consejeros (Consejeros/as). Realiza una mitigacion incorrecta (Estudiantil/a)\n",
    "- 230: Cambio de palabra mal escrita (espesandolas/espesandolos). No realiza mitigacion esperada (Atentos). Realiza mitigacion no cubierta en el conjunto de prueba (los asistentes/las personas que entren). No completa con toda la secuencia entregada.\n",
    "- 258: Realiza mitigacion cambiando contenido (omite 20 primeras personas)\n",
    "- 340: No realiza la mitigacion esperada (candidatos). Corrige ortografia en ELECCIONE por ELECCION\n",
    "- 659: Mitigacion correcta, no cubierta en el conjunto de prueba\n",
    "\n",
    "De los 11 casos, se considera que en 4 se hizo una mitigacion correcta."
   ]
  },
  {
   "cell_type": "markdown",
   "id": "b3565da3-f085-4115-9846-b8c51ae10b40",
   "metadata": {},
   "source": [
    "### Generation more similar than input"
   ]
  },
  {
   "cell_type": "code",
   "execution_count": 50,
   "id": "d8dafed4-ac7d-47e0-9d0a-fdd95bde7942",
   "metadata": {},
   "outputs": [
    {
     "name": "stdout",
     "output_type": "stream",
     "text": [
      "(22, 15)\n"
     ]
    },
    {
     "data": {
      "text/plain": [
       "count    22.0\n",
       "mean      1.0\n",
       "std       0.0\n",
       "min       1.0\n",
       "25%       1.0\n",
       "50%       1.0\n",
       "75%       1.0\n",
       "max       1.0\n",
       "Name: bleu_gen, dtype: float64"
      ]
     },
     "execution_count": 50,
     "metadata": {},
     "output_type": "execute_result"
    }
   ],
   "source": [
    "wb_above_0 = df_with_bias[df_with_bias[\"bleu_dif\"] > 0]\n",
    "print(wb_above_0.shape)\n",
    "wb_above_0[\"bleu_gen\"].describe()"
   ]
  },
  {
   "cell_type": "code",
   "execution_count": 51,
   "id": "e2c44592-eb88-4001-90b2-4ffbe14d6694",
   "metadata": {},
   "outputs": [],
   "source": [
    "not_1 = wb_above_0[wb_above_0[\"bleu_gen\"] < 1]\n",
    "\n",
    "for i, r in not_1.iterrows():\n",
    "    print(i)\n",
    "    print(\"I:\", \" \".join(r['input_tokens']))\n",
    "    print(\"G:\", \" \".join(r['generated_tokens']))\n",
    "    print(set(r['input_tokens']).symmetric_difference(set(r['generated_tokens'])))\n",
    "    print()"
   ]
  },
  {
   "cell_type": "markdown",
   "id": "ac771a8e-6299-4241-a26c-1632f32ff963",
   "metadata": {},
   "source": [
    "## Doesn't have bias"
   ]
  },
  {
   "cell_type": "markdown",
   "id": "b182bdd7-a20a-447f-ac44-e91b66480e97",
   "metadata": {},
   "source": [
    "### No diff"
   ]
  },
  {
   "cell_type": "code",
   "execution_count": 52,
   "id": "82ce06db-3081-4855-b87a-3385a62c9eaf",
   "metadata": {},
   "outputs": [
    {
     "name": "stdout",
     "output_type": "stream",
     "text": [
      "(253, 15)\n"
     ]
    },
    {
     "data": {
      "text/plain": [
       "count    253.0\n",
       "mean       1.0\n",
       "std        0.0\n",
       "min        1.0\n",
       "25%        1.0\n",
       "50%        1.0\n",
       "75%        1.0\n",
       "max        1.0\n",
       "Name: bleu_input, dtype: float64"
      ]
     },
     "execution_count": 52,
     "metadata": {},
     "output_type": "execute_result"
    }
   ],
   "source": [
    "nb_0 = df_without_bias[df_without_bias[\"bleu_dif\"] == 0]\n",
    "print(nb_0.shape)\n",
    "nb_0[\"bleu_input\"].describe()"
   ]
  },
  {
   "cell_type": "code",
   "execution_count": 53,
   "id": "f62301a4-f301-46e6-b893-c4b5097c13f7",
   "metadata": {},
   "outputs": [],
   "source": [
    "not_1 = nb_0[nb_0[\"bleu_input\"] < 1]\n",
    "\n",
    "for i, r in not_1.iterrows():\n",
    "    print(i)\n",
    "    print(\"I:\", \" \".join(r['input_tokens']))\n",
    "    print(\"G:\", \" \".join(r['generated_tokens']))\n",
    "    print(set(r['input_tokens']).symmetric_difference(set(r['generated_tokens'])))\n",
    "    print()"
   ]
  },
  {
   "cell_type": "markdown",
   "id": "feb0d66f-4bad-41e0-b93f-289e13b6be0e",
   "metadata": {},
   "source": [
    "### Input more similar than generation"
   ]
  },
  {
   "cell_type": "code",
   "execution_count": 54,
   "id": "41e43a71-2058-47ab-ba1b-dc2ed92da2f6",
   "metadata": {},
   "outputs": [
    {
     "data": {
      "text/plain": [
       "(18, 15)"
      ]
     },
     "execution_count": 54,
     "metadata": {},
     "output_type": "execute_result"
    }
   ],
   "source": [
    "nb_below_0 = df_without_bias[df_without_bias[\"bleu_dif\"] < 0]\n",
    "nb_below_0.shape"
   ]
  },
  {
   "cell_type": "code",
   "execution_count": 55,
   "id": "dcfbb9c8-8f5c-4824-927f-0ad9ff56ba76",
   "metadata": {},
   "outputs": [
    {
     "name": "stdout",
     "output_type": "stream",
     "text": [
      "48\n",
      "I: ¡Se parte de esta emocionante experiencia teatral de integración universitaria , extensión y abiertas a todo público !\n",
      "G: ¡Se parte de esta emocionante experiencia teatral de integracion universitaria , extensión y abiertas a todo público !\n",
      "{'integracion', 'integración'}\n",
      "\n",
      "98\n",
      "I: Los y las invitamos a revisar el Instructivo de Semestre de Verano 2023-2024 que contiene todos los detalles sobre su funcionamiento .\n",
      "G: Les invitamos a revisar el Instructivo de Semestre de Verano 2023-2024 que contiene todos los detalles sobre su funcionamiento .\n",
      "{'las', 'Los', 'Les', 'y'}\n",
      "\n",
      "169\n",
      "I: Luego de una larga enfermedad , partió durante las últimas horas de esta jornada , por lo que en nombre de la comunidad beauchefiana compartimos con sus seres queridos , compañeros , compañeras y profesores/as los sentimientos de pesar por esta irreparable pérdida .\n",
      "G: Luego de una larga enfermedad , partió durante las últimas horas de esta jornada , por lo que en nombre de la comunidad beauchefiana compartimos con sus seres queridos , compañeras , compañeros , compañeras y profesores/as los sentimientos de pesar por esta irreparable pérdida .\n",
      "set()\n",
      "\n",
      "192\n",
      "I: 📸 Entre todas las fotos que nos lleguen ( y que siguen nuestra cuenta ) podrán participar por un premio aún mayor 🏆 👀 ¡Explora , encuentra y celebra tu bienestar con la comunidad beauchefiana !\n",
      "G: 📸 Entre todas las fotos que nos llegan ( y que siguen nuestra cuenta ) podrán participar por un premio aún mayor 🏆 👀 ¡Explora , encuentra y celebra tu bienestar con la comunidad beauchefiana !\n",
      "{'lleguen', 'llegan'}\n",
      "\n",
      "206\n",
      "I: CONVOCATORIA DE ELECCION DE REPRESENTANTES ESTUDIANTILES DE POSTGRADO ANTE EL CONSEJO DE LA ESCUELA DE POSTGRADO Y EDUCACION CONTINUA DE LA FACULTAD DE CIENCIAS FISICAS Y MATEMATICAS.Nómina provisional de candidaturas : La elección se realizará el jueves 23 de noviembre de 2023 en forma electrónica a través de la plataforma Participa Uchile .\n",
      "G: CONVOCATORIA DE ELECCION DE ELETTORAS Y ELECCIONAROS DE REPRESENTANTES ESTUDIANTILES DE POSTGRADO ANTE EL CONSEJO DE LA ESCUELA DE POSTGRADO Y EDUCACION CONTINUA DE LA FACULTAD DE CIENCIAS FISICAS Y MATEMATICAS.Nómina provisional de candidaturas : La elección se realizará el jueves 23 de noviembre de 2023 a través de la plataforma Participa Uchile .\n",
      "{'en', 'ELECCIONAROS', 'electrónica', 'ELETTORAS', 'forma'}\n",
      "\n",
      "255\n",
      "I: Desde mañana martes y hasta este jueves , tendremos actividades de los días `` Vida Saludable en Beauchef '' En este contexto los y las invitamos a participar de los talleres disponibles : Taller TUINA : Un taller donde aprenderás un masaje terapeutico , que ayuda a reducir el estrés .\n",
      "G: Desde mañana martes y hasta este jueves , tendremos actividades de los días `` Vida Saludable en Beauchef '' En este contexto les invitamos a participar de los talleres disponibles : Taller TUINA : Un taller donde aprenderás un masaje terapeutico , que ayuda a reducir el estrés .\n",
      "{'las', 'les'}\n",
      "\n",
      "274\n",
      "I: - Quienes quieran optar por primera vez a un beneficio estatal - Quienes necesiten mejorar su beneficio , ya que presentan cambios en su situación socioeconómica - Quienes perderán su beneficio por incumplimiento de requisitos o expiración de la duración y requieren la asignación de un crédito para continuar sus estudios - Estudiantes antiguos con gratuidad que no contaron con matrícula informada en años anteriores y deseen continuar con el beneficio en el Proceso 2024 - Estudiantes antiguos con gratuidad que abandonaron momentáneamente sus estudios en años anteriores , no participaron del proceso formal de suspensión de beneficios para mantener la gratuidad durante ese periodo , y deseen retomar su beneficio el año 2024 - Quienes ingresaron vía bachillerato ( sugerimos consultar con la trabajadora social para ver tu caso en particular , pues hay consideraciones que debes tener presente relacionadas a extensión del beneficio , ya que es distinto site encuentras en plan común o si presentas un cambio a la especialidad , considerado como cambio de carrera ) - Quienes expiren gratuidad y quieran postular al arancel ajustado Mineduc * * Si postulas , recuerda que el proceso de acreditación se encuentra abierto , para que puedas seguir el procedimiento y enviar la documentación requerida * * Si completaste el FUAS entre el 05 de octubre y 02 de noviembre , el 21 de diciembre se publicará el nivel socioeconómico donde indica a cuáles beneficios puedes acceder .\n",
      "G: - Quienes quieran optar por primera vez a un beneficio estatal - Quienes necesiten mejorar su beneficio , ya que presentan cambios en su situación socioeconómica - Quienes perderán su beneficio por incumplimiento de requisitos o expiración de la duración y requieran la asignación de un crédito para continuar sus estudios - Estudiantes antiguos con gratuidad que no contaron con matrícula informada en años anteriores y deseen continuar con el beneficio en el Proceso 2024 - Estudiantes antiguos con gratuidad que abandonaron momentáneamente sus estudios en años anteriores , no participaron del proceso formal de suspensión de beneficios para mantener la gratuidad durante ese periodo , y deseen retomar su beneficio el año 2024 - Quienes ingresaron vía bachillerato ( sugerimos consultar con la trabajadora social para ver tu caso en particular , pues hay consideraciones que debes tener presente relacionadas a extensión del beneficio , ya que es distinto site encuentras en plan común o si presentas un cambio a la especialidad , considerado como cambio de carrera ) - Quienes expiren gratuidad y quieran postular al arancel ajustado Mineduc * * Si postulas , recuerda que el proceso de acreditación se encuentra abierto , para que puedas seguir el procedimiento y enviar la documentación requerida * * Si completaste el FUAS entre el 05 de octubre y 02 de noviembre , el 21 de diciembre se publicará el nivel socioeconómico donde indica a cuáles beneficios puedes acceder .\n",
      "{'requieran', 'requieren'}\n",
      "\n",
      "315\n",
      "I: ¡Atención estudiantes de Postgrado ! Hasta este miércoles 08 de noviembre se pueden inscribir candidaturasEn el marco de las elecciones de Representantes Estudiantiles de Postgrado ante el Consejo de la Escuela de Postgrado y Educación Continua de la FCFM se adjunta el Claustro DEFINITIVO de estudiantes de Postgrado y convocatoria a elecciones .\n",
      "G: Hasta este miércoles 08 de noviembre se pueden inscribir candidaturasEn el marco de las elecciones de Representantes Estudiantiles de Postgrado ante el Consejo de la Escuela de Postgrado y Educación Continua de la FCFM se adjunta el Claustro DEFINITIVO de estudiantes de Postgrado y convocatoria a elecciones .\n",
      "{'¡Atención', '!'}\n",
      "\n",
      "326\n",
      "I: En este evento podrás conocer las más de 30 startups que marcarán la diferencia para las personas mayores del país.Regístrate en este enlace : https : //forms.gle/i5BYvLEF4XEtxnts9 ¡Te esperamos !\n",
      "G: En este evento podrás conocer las más de 30 startups que marcarán la diferencia para las personas mayores del país.Regístrate en este enlace : https : //forms.gle/i5BYvLEF4Xetxnts9 ¡Te esperamos !\n",
      "{'//forms.gle/i5BYvLEF4Xetxnts9', '//forms.gle/i5BYvLEF4XEtxnts9'}\n",
      "\n",
      "327\n",
      "I: Buenas tardes , En relación a las candidaturas para ser Representantes Estudiantiles ante el Consejo de Escuela de Ingeniería y Ciencias ( Pregrado ) se informa que inscribieron 4 estudiantes : Recuerden que la elección se realizará el miércoles 08 de noviembre de 2023 en forma electrónica , a través de la plataforma Participa Uchile .\n",
      "G: Buenas tardes , En relación a las candidaturas para ser Representantes Estudiantiles ante el Consejo de Escuela de Ingeniería y Ciencias ( Pregrado ) se informa que inscribieron 4 estudiantes : Recuerden que la elección se realizará el miércoles 08 de noviembre de 2023 a través de la plataforma Participa Uchile .\n",
      "{'en', 'forma', 'electrónica'}\n",
      "\n",
      "338\n",
      "I: En nombre del Departamento de Pregrado , invitamos a los y las estudiantes a participar de los talleres disponibles : HERRAMIENTAS PARA PLANIFICAR TU SEMANA Martes 7 de noviembre , 14:30-16:00 horas Modalidad online Relatora : Ada Riquelme Inscripción HERRAMIENTAS DEL TEATRO PARA EL MANEJO DE LA ANSIEDAD Miércoles 8 de noviembre , 14:30-16:00 horas Modalidad presencial ( sala P-311 , Facultad de Economía y Negocios ) Relator : Jose Manosalva Inscripción Mas información aquí\n",
      "G: En nombre del Departamento de Pregrado , invitamos a los y las estudiantes a participar de los talleres disponibles : HERRAMIENTAS PARA PLANIFICAR TU SEMANA Martes 7 de noviembre , 14:30-16:00 horas Modalidad online Relatora : Ada Riquelme Inscripción HERRAMIENTAS DEL TEATRO PARA EL MANEJO DE LA ANSIEDAD Miércoles 8 de noviembre , 14:30-16:00 horas Modalidad presencial ( sala P-311 , Facultad de Economía y Negocios ) Relatora : Jose Manosalva Inscripción Mas información aquí\n",
      "{'Relator'}\n",
      "\n",
      "348\n",
      "I: - Quienes quieran optar por primera vez a un beneficio estatal - Quienes necesiten mejorar su beneficio , ya que presentan cambios en su situación socioeconómica - Quienes perderán su beneficio por incumplimiento de requisitos o expiración de la duración y requieren la asignación de un crédito para continuar sus estudios - Estudiantes antiguos con gratuidad que no contaron con matrícula informada en años anteriores y deseen continuar con el beneficio en el Proceso 2024 - Estudiantes antiguos con gratuidad que abandonaron momentáneamente sus estudios en años anteriores , no participaron del proceso formal de suspensión de beneficios para mantener la gratuidad durante ese periodo , y deseen retomar su beneficio el año 2024 - Quienes ingresaron vía bachillerato ( sugerimos consultar con la trabajadora social para ver tu caso en particular , pues hay consideraciones que debes tener presente relacionadas a extensión del beneficio , ya que es distinto site encuentras en plan común o si presentas un cambio a la especialidad , considerado como cambio de carrera ) - Quienes expiren gratuidad y quieran postular al arancel ajustado Mineduc * * Si postulas , recuerda que el proceso de acreditación se encuentra abierto , para que puedas seguir el procedimiento y enviar la documentación requerida * * Si quieres cambiar de código a la especialidad , ten presente que es considerado un cambio de carrera para Mineduc , por tanto , sugerimos consultar para obtener información del impacto que pueda tener en tus beneficios estudiantiles de acuerdo al ingreso a la facultad , año de asignación y extensión del beneficio de acuerdo a la carrera .\n",
      "G: - Quienes quieran optar por primera vez a un beneficio estatal - Quienes necesiten mejorar su beneficio , ya que presentan cambios en su situación socioeconómica - Quienes perderán su beneficio por incumplimiento de requisitos o expiración de la duración y requieran la asignación de un crédito para continuar sus estudios - Estudiantes antiguos con gratuidad que no contaron con matrícula informada en años anteriores y deseen continuar con el beneficio en el Proceso 2024 - Estudiantes antiguos con gratuidad que abandonaron momentáneamente sus estudios en años anteriores , no participaron del proceso formal de suspensión de beneficios para mantener la gratuidad durante ese periodo , y deseen retomar su beneficio el año 2024 - Quienes ingresaron vía bachillerato ( sugerimos consultar con la trabajadora social para ver tu caso en particular , pues hay consideraciones que debes tener presente relacionadas a extensión del beneficio , ya que es distinto site encuentras en plan común o si presentas un cambio a la especialidad , considerado como cambio de carrera ) - Quienes expiren gratuidad y quieran postular al arancel ajustado Mineduc * * Si postulas , recuerda que el proceso de acreditación se encuentra abierto , para que puedas seguir el procedimiento y enviar la documentación requerida * * Si quieres cambiar de código a la especialidad , ten presente que es considerado un cambio de carrera para Mineduc , por tanto , sugerimos consultar para obtener información del impacto que pueda tener en tus beneficios estudiantiles de acuerdo al ingreso a la facultad , año de asignación y extensión del beneficio de acuerdo a la carrera .\n",
      "{'requieran', 'requieren'}\n",
      "\n",
      "380\n",
      "I: - Quienes quieran optar por primera vez a un beneficio estatal - Quienes necesiten mejorar su beneficio , ya que presentan cambios en su situación socioeconómica - Quienes perderán su beneficio por incumplimiento de requisitos o expiración de la duración y requieren la asignación de un crédito para continuar sus estudios - Estudiantes antiguos con gratuidad que no contaron con matrícula informada en años anteriores y deseen continuar con el beneficio en el Proceso 2024 - Estudiantes antiguos con gratuidad que abandonaron momentáneamente sus estudios en años anteriores , no participaron del proceso formal de suspensión de beneficios para mantener la gratuidad durante ese periodo , y deseen retomar su beneficio el año 2024 - Quienes ingresaron vía bachillerato ( sugerimos consultar con la trabajadora social para ver tu caso en particular , pues hay consideraciones que debes tener presente relacionadas a extensión del beneficio , ya que es distinto site encuentras en plan común o si presentas un cambio a la especialidad , considerado como cambio de carrera ) - Quienes expiren gratuidad y quieran postular al arancel ajustado Mineduc * * Si quieres cambiar de código a la especialidad , ten presente que es considerado un cambio de carrera para Mineduc , por tanto , sugerimos consultar para obtener información del impacto que pueda tener en tus beneficios estudiantiles de acuerdo al ingreso a la facultad , año de asignación y extensión del beneficio de acuerdo a la carrera .\n",
      "G: - Quienes quieran optar por primera vez a un beneficio estatal - Quienes necesiten mejorar su beneficio , ya que presentan cambios en su situación socioeconómica - Quienes perderán su beneficio por incumplimiento de requisitos o expiración de la duración y requieran la asignación de un crédito para continuar sus estudios - Estudiantes antiguos con gratuidad que no contaron con matrícula informada en años anteriores y deseen continuar con el beneficio en el Proceso 2024 - Estudiantes antiguos con gratuidad que abandonaron momentáneamente sus estudios en años anteriores , no participaron del proceso formal de suspensión de beneficios para mantener la gratuidad durante ese periodo , y deseen retomar su beneficio el año 2024 - Quienes ingresaron vía bachillerato ( sugerimos consultar con la trabajadora social para ver tu caso en particular , pues hay consideraciones que debes tener presente relacionadas a extensión del beneficio , ya que es distinto site encuentras en plan común o si presentas un cambio a la especialidad , considerado como cambio de carrera ) - Quienes expiren gratuidad y quieran postular al arancel ajustado Mineduc * * Si quieres cambiar de código a la especialidad , ten presente que es considerado un cambio de carrera para Mineduc , por tanto , sugerimos consultar para obtener información del impacto que pueda tener en tus beneficios estudiantiles de acuerdo al ingreso a la facultad , año de asignación y extensión del beneficio de acuerdo a la carrera .\n",
      "{'requieren', 'requieran'}\n",
      "\n",
      "439\n",
      "I: Los/las estudiantes deben LEER LAS BASES Y REALIZAR su postulación a través del FORMULARIO\n",
      "G: Los/las estudiantes deben LEER LAS BASES y REALIZAR su postulación a través del FORMULARIO\n",
      "{'Y', 'y'}\n",
      "\n",
      "591\n",
      "I: Estimadas/os Estudiantes , Los/as invitamos a participar de la charla virtual en español e inglés que darán el martes 17 de octubre , a las 11.00 hs ( hora Chile ) las universidades : - HTW Berlin : enfoque académico orientado a la práctica y a las demandas del mercado - RWTH Business School : gestión de las tecnologías del futuro - Másters de alto rendimiento para jóvenes profesionales .\n",
      "G: Estimadas/os Estudiantes , Les invitamos a participar de la charla virtual en español e inglés que darán el martes 17 de octubre , a las 11.00 hs ( hora Chile ) las universidades : - HTW Berlin : enfoque académico orientado a la práctica y a las demandas del mercado - RWTH Business School : gestión de las tecnologías del futuro - Másters de alto rendimiento para jóvenes profesionales .\n",
      "{'Los/as', 'Les'}\n",
      "\n",
      "650\n",
      "I: Aprende diferentes técnicas respiratorias y disfruta de una experiencia de relajo junto a compañeres de otras carreras .\n",
      "G: Aprende diferentes técnicas respiratorias y disfruta de una experiencia de relajo junto a compañer @ s de otras carreras .\n",
      "{'@', 'compañeres', 's', 'compañer'}\n",
      "\n",
      "655\n",
      "I: Este logro refleja una actitud disciplinada , un compromiso y pertenencia con la Facultad de parte de los y las estudiantes que quiero destacar , así como el sentido de superación personal que revela valores que nuestra institución considera esenciales en la formación de líderes profesionales .\n",
      "G: Este logro refleja una actitud disciplinada , un compromiso y pertenencia con la Facultad de parte de los y las estudiantes que quiero destacar , así como el sentido de superación personal que revela valores que nuestra institución considera esenciales en la formación de líderes y líderas profesionales .\n",
      "{'líderas'}\n",
      "\n",
      "736\n",
      "I: Estimada Comunidad , Informamos de las charlas online en inglés y español el próximo martes 5 de septiembre , a las 10.00 AM . , donde las Universidades HTW-Berlin y KIT Karlsruhe Institute of Technologie-Carl Benz School presentarán sus programas y beneficios para estudiantes internacionales .\n",
      "G: Estimada Comunidad , Informamos de las charlas online en inglés y español el próximo martes 5 de septiembre , a las 10.00 AM. , donde las Universidades HTW-Berlin y KIT Karlsruhe Institute of Technologie-Carl Benz School presentarán sus programas y beneficios para estudiantes internacionales .\n",
      "{'AM.', 'AM'}\n",
      "\n"
     ]
    }
   ],
   "source": [
    "for i, r in nb_below_0.iterrows():\n",
    "    print(i)\n",
    "    print(\"I:\", \" \".join(r['input_tokens']))\n",
    "    print(\"G:\", \" \".join(r['generated_tokens']))\n",
    "    print(set(r['input_tokens']).symmetric_difference(set(r['generated_tokens'])))\n",
    "    print()"
   ]
  },
  {
   "cell_type": "markdown",
   "id": "df4e4d79-9613-48c0-ad5b-2d9f267d7df5",
   "metadata": {},
   "source": [
    "- 48: Cambio de ortografia/gramatica\n",
    "- 98: Mitigacion de sesgo innecesaria\n",
    "- 169: Agrega texto\n",
    "- 192: Cambio de ortografia/gramatica\n",
    "- 206: Cambio de ortografia/gramatica\n",
    "- 255: Mitigacion de sesgo innecesaria\n",
    "- 274: Cambio de ortografia/gramatica\n",
    "- 315: Elimina texto\n",
    "- 326: Cambio de mayuscula/minuscula\n",
    "- 327: Elimina texto\n",
    "- 338: Mitigacion de sesgo incorrecta\n",
    "- 348: Cambio de ortografia/gramatica\n",
    "- 380: Cambio de ortografia/gramatica\n",
    "- 439: Cambio de mayuscula/minuscula\n",
    "- 591: Mitigacion de sesgo innecesaria\n",
    "- 650: Mitigacion de sesgo innecesaria\n",
    "- 655: Mitigacion de sesgo incorrecta\n",
    "- 736: Elimina texto\n",
    "\n",
    "Hay 4 casos que se podria considerar correctos (mitigacion de sesgo innecesaria), y el resto son incorrectos"
   ]
  },
  {
   "cell_type": "markdown",
   "id": "bb22fc64-d76d-4019-998b-a748565ec083",
   "metadata": {},
   "source": [
    "### Generation more similar than input"
   ]
  },
  {
   "cell_type": "code",
   "execution_count": 56,
   "id": "592e87c6-6bd2-45cc-a01d-ae42e958c93b",
   "metadata": {},
   "outputs": [
    {
     "name": "stdout",
     "output_type": "stream",
     "text": [
      "(0, 15)\n"
     ]
    },
    {
     "data": {
      "text/plain": [
       "count    0.0\n",
       "mean     NaN\n",
       "std      NaN\n",
       "min      NaN\n",
       "25%      NaN\n",
       "50%      NaN\n",
       "75%      NaN\n",
       "max      NaN\n",
       "Name: bleu_gen, dtype: float64"
      ]
     },
     "execution_count": 56,
     "metadata": {},
     "output_type": "execute_result"
    }
   ],
   "source": [
    "nb_above_0 = df_without_bias[df_without_bias[\"bleu_dif\"] > 0]\n",
    "print(nb_above_0.shape)\n",
    "nb_above_0[\"bleu_gen\"].describe()"
   ]
  },
  {
   "cell_type": "markdown",
   "id": "b1c57d1e-f693-47fc-8231-671caaa91af1",
   "metadata": {},
   "source": [
    "## Unable to bias"
   ]
  },
  {
   "cell_type": "markdown",
   "id": "ef196b66-b0c2-49f1-81f6-279f835620d6",
   "metadata": {},
   "source": [
    "### No diff"
   ]
  },
  {
   "cell_type": "code",
   "execution_count": 57,
   "id": "5aefda0b-b826-4809-8269-79e41f308580",
   "metadata": {},
   "outputs": [
    {
     "name": "stdout",
     "output_type": "stream",
     "text": [
      "(440, 15)\n"
     ]
    },
    {
     "data": {
      "text/plain": [
       "count    440.0\n",
       "mean       1.0\n",
       "std        0.0\n",
       "min        1.0\n",
       "25%        1.0\n",
       "50%        1.0\n",
       "75%        1.0\n",
       "max        1.0\n",
       "Name: bleu_input, dtype: float64"
      ]
     },
     "execution_count": 57,
     "metadata": {},
     "output_type": "execute_result"
    }
   ],
   "source": [
    "ub_0 = df_not_able_to_bias[df_not_able_to_bias[\"bleu_dif\"] == 0]\n",
    "print(ub_0.shape)\n",
    "ub_0[\"bleu_input\"].describe()"
   ]
  },
  {
   "cell_type": "code",
   "execution_count": 58,
   "id": "9ef31519-3414-4f92-b4b9-0199bd2aadd5",
   "metadata": {},
   "outputs": [],
   "source": [
    "not_1 = ub_0[ub_0[\"bleu_input\"] < 1]\n",
    "\n",
    "for i, r in not_1.iterrows():\n",
    "    print(i)\n",
    "    print(\"I:\", \" \".join(r['input_tokens']))\n",
    "    print(\"G:\", \" \".join(r['generated_tokens']))\n",
    "    print(set(r['input_tokens']).symmetric_difference(set(r['generated_tokens'])))\n",
    "    print()"
   ]
  },
  {
   "cell_type": "markdown",
   "id": "ba371257-dcbb-4592-b6c3-4371cc3dd88b",
   "metadata": {},
   "source": [
    "### Input more similar than generation"
   ]
  },
  {
   "cell_type": "code",
   "execution_count": 59,
   "id": "a5e44b82-84ee-4e69-b2df-2cf2d514e71c",
   "metadata": {},
   "outputs": [
    {
     "data": {
      "text/plain": [
       "(13, 15)"
      ]
     },
     "execution_count": 59,
     "metadata": {},
     "output_type": "execute_result"
    }
   ],
   "source": [
    "ub_below_0 = df_not_able_to_bias[df_not_able_to_bias[\"bleu_dif\"] < 0]\n",
    "ub_below_0.shape"
   ]
  },
  {
   "cell_type": "code",
   "execution_count": 60,
   "id": "2c7dddbc-918e-4e6e-a782-798b09afaf56",
   "metadata": {
    "scrolled": true
   },
   "outputs": [
    {
     "name": "stdout",
     "output_type": "stream",
     "text": [
      "45\n",
      "I: Saludos , Subdirección de Gestión Docente Escuela de Ingeniería y Ciencias\n",
      "G: Saludos , Subdirección de Gestión Docente Escuela de Ingeniería y Ciencias ( assistant ) : Sal\n",
      "{'Sal', 'assistant', '(', ')', ':'}\n",
      "\n",
      "157\n",
      "I: Inscripciones : https : //docs.google.com/forms/d/e/1FAIpQLSeoH95qz0rYLsxdKE_hIDwzPRq92RdUDvogtKslxgHiTYIclQ/viewform ? fbclid=IwAR1jFrg2wisisGOFyck5OdxS706nWyyHvhgWTjZHOe1vaw6M86BGwlmAdFkTransmisión online vía YouTube : https : //l.facebook.com/l.php ? u=https % 3A % 2F % 2 ... aTwTwpU9NaMuaFAb51v8vHbNl4xPH5G0VvsJrYs50VRhNR-Zb\n",
      "G: Inscripciones : https : //docs.google.com/forms/d/e/1FAIpQLSeoH95qz0rLYzxgHIzqz0rLYzxgHIzqz0rLYzxgHIzqz0rLYzxgHIzqz0rLYzxgHIzqz0rLYzxgHIzqz0rLYzxgHIzqz0rLYzxgHIzqz0rLYzxgHIzqz0rLYzxgHIzqz0rLYzxgHIzqz0rLYzxgHIzqz0rLYzxgHIzqz0rLYzxgHIzqz0rLYzxgHIzqz0rLYzxgHIzqz0rLYzxgHIzqz0rLYzxgHIzqz0rLYzxgHIz\n",
      "{'fbclid=IwAR1jFrg2wisisGOFyck5OdxS706nWyyHvhgWTjZHOe1vaw6M86BGwlmAdFkTransmisión', '%', 'YouTube', '2F', '//docs.google.com/forms/d/e/1FAIpQLSeoH95qz0rYLsxdKE_hIDwzPRq92RdUDvogtKslxgHiTYIclQ/viewform', 'online', '//l.facebook.com/l.php', 'aTwTwpU9NaMuaFAb51v8vHbNl4xPH5G0VvsJrYs50VRhNR-Zb', 'vía', '//docs.google.com/forms/d/e/1FAIpQLSeoH95qz0rLYzxgHIzqz0rLYzxgHIzqz0rLYzxgHIzqz0rLYzxgHIzqz0rLYzxgHIzqz0rLYzxgHIzqz0rLYzxgHIzqz0rLYzxgHIzqz0rLYzxgHIzqz0rLYzxgHIzqz0rLYzxgHIzqz0rLYzxgHIzqz0rLYzxgHIzqz0rLYzxgHIzqz0rLYzxgHIzqz0rLYzxgHIzqz0rLYzxgHIzqz0rLYzxgHIzqz0rLYzxgHIz', '2', '...', 'u=https', '3A', '?'}\n",
      "\n",
      "222\n",
      "I: Participa en el Encuentro Aqua Innova Challengue , organizado por Redes Beauchef que se realizará este jueves 16 de noviembre , a las 14:00 horas , en la sala S26 Beauchef 850 .\n",
      "G: Participa en el Encuentro Aqua Innova Challenger , organizado por Redes Beauchef que se realizará este jueves 16 de noviembre , a las 14:00 horas , en la sala S26 Beauchef 850 .\n",
      "{'Challengue', 'Challenger'}\n",
      "\n",
      "224\n",
      "I: EXPOSITORES - Felipe Seguel / Subgerente Mantención y Proyectos Industriales .\n",
      "G: EXPOSITORAS - Felipe Seguel / Subgerente Mantención y Proyectos Industriales .\n",
      "{'EXPOSITORAS', 'EXPOSITORES'}\n",
      "\n",
      "300\n",
      "I: Atentamente , Escuela de Ingeniería y Ciencias\n",
      "G: Atentamente , Escuela de Ingeniería y Ciencias ( No se\n",
      "{'No', 'se', '('}\n",
      "\n",
      "316\n",
      "I: Inscripción de candidatos : Hasta este miércoles 08 de noviembre hasta las 18:00horas , en Vicedecanato , email : sevideca @ ing.uchile.cl Fecha votación Primera Vuelta : jueves 16 de noviembre de 2023CLAUSTRO_DEFINITIVO_ELECCIONE_POSTGRADO.pdf ( 636 kb ) CONVOCATORIA_A_ELECCION_CONSEJEROS_DE_POSTGRADO.pdf ( 126 kb ) Ficha_inscripcioI_n_Postgrado_2023.doc ( 37 kb )\n",
      "G: Inscripción de candidatos : Hasta este miércoles 08 de noviembre hasta las 18:00horas , en Vicedecanato , email : sevideca @ ing.uchile.cl Fecha votación Primera Vuelta : jueves 16 de noviembre de 2023CLAUSTRO_DEFINITIVO_ELECCION_POSTGRADO.pdf ( 636 kb ) CONVOCATORIA_A_ELECCION_CONSEJEROS_DE_POSTGRADO.pdf ( 126 kb ) Ficha_inscripcioI_n_Postgrado_2023.doc ( 37 kb )\n",
      "{'2023CLAUSTRO_DEFINITIVO_ELECCION_POSTGRADO.pdf', '2023CLAUSTRO_DEFINITIVO_ELECCIONE_POSTGRADO.pdf'}\n",
      "\n",
      "344\n",
      "I: Atentamente , Área de Idiomas\n",
      "G: Atentamente , Área de Idiomas ( PDF\n",
      "{'PDF', '('}\n",
      "\n",
      "485\n",
      "I: Te invitamos a ser parte del Torneo de Innovación Interfacultades 2023 : `` Desafiados por la sustentabilidad '' , un emocionante viaje en el que podrás : Abordar desafíos empresariales reales y problemas globales urgentes 🌡☀Desarrollar soluciones innovadoras que pueden cambiar el mundo 🌎Participar por premios de dinero en efectivo para implementar tus ideas y proyectos 💡Las 3 mejores ideas podrán obtener los siguientes premios:1er Lugar : $ 1.000.0002do Lugar : $ 500.0003er Lugar : $ 300.000 INSCRÍBETE AQUÍ ✊🏽 .\n",
      "G: Te invitamos a ser parte del Torneo de Innovación Interfacultades 2023 : `` Desafiados por la sustentabilidad '' , un emocionante viaje en el que podrás : Abordar desafíos empresariales reales y problemas globales urgentes 🌡☀Desarrollar soluciones innovadoras que pueden cambiar el mundo 🌎Participar por premios de dinero en efectivo para implementar tus ideas y proyectos 💡Las 3 mejores ideas podrán obtener los siguientes premios:1er Lugar : $ 1.000.0002do Lugar : $ 500.000 INSCRÍBETE AQUÍ ✊🏽 .\n",
      "{'500.000', '500.0003er', '300.000'}\n",
      "\n",
      "533\n",
      "I: Decanato FCFM- U. de Chile\n",
      "G: Decanato FCFM- U. de Chile ( ass\n",
      "{'(', 'ass'}\n",
      "\n",
      "581\n",
      "I: `` 2073 '' es la nueva obra musical de la compañía Hermanos Ibarra Roa y narra la historia de una mujer en tres versiones de sí misma : Ella ( del presente ) , la niña ( del pasado ) y la anciana ( del futuro ) , que a través de una grieta temporal , formada por un gran terremoto , viajarán en el tiempo dando origen a una retrospectiva desde 1973 , pasando por nuestro presente año 2023 , y proyectándose a un futuro Chile idealizado en el año 2073 , donde habitaremos un país que condenará con todo el poder del Estado los crímenes de lesa humanidad y será una potencia democrática a nivel mundial .\n",
      "G: `` 2073 '' es la nueva obra musical de la compañía Hermanos Ibarra Roa y narra la historia de una mujer en tres versiones de sí misma : Ella ( del presente ) , la niña ( del pasado ) y la anciana ( del futuro ) , que a través de una grieta temporal , formada por un gran terremoto , viajarán en el tiempo desde 1973 , pasando por nuestro presente año 2023 , y proyectándose a un futuro Chile idealizado en el año 2073 , donde habitaremos un país que condenará con todo el poder del Estado los crímenes de lesa humanidad y será una potencia democrática a nivel mundial .\n",
      "{'origen', 'dando', 'retrospectiva'}\n",
      "\n",
      "611\n",
      "I: Sobre la obra : `` 2073 '' es la nueva obra musical de la compañía Hermanos Ibarra Roa y narra la historia de una mujer en tres versiones de sí misma : Ella ( del presente ) , la niña ( del pasado ) y la anciana ( del futuro ) , que a través de una grieta temporal , formada por un gran terremoto , viajarán en el tiempo dando origen a una retrospectiva desde 1973 , pasando por nuestro presente año 2023 , y proyectándose a un futuro Chile idealizado en el año 2073 , donde habitaremos un país que condenará con todo el poder del Estado los crímenes de lesa humanidad y será una potencia democrática a nivel mundial .\n",
      "G: Sobre la obra : `` 2073 '' es la nueva obra musical de la compañía Hermanos Ibarra Roa y narra la historia de una mujer en tres versiones de sí misma : Ella ( del presente ) , la niña ( del pasado ) y la anciana ( del futuro ) , que a través de una grieta temporal , formada por un gran terremoto , viajarán en el tiempo desde 1973 , pasando por nuestro presente año 2023 , y proyectándose a un futuro Chile idealizado en el año 2073 , donde habitaremos un país que condenará con todo el poder del Estado los crímenes de lesa humanidad y será una potencia democrática a nivel mundial .\n",
      "{'origen', 'dando', 'retrospectiva'}\n",
      "\n",
      "633\n",
      "I: Inscripciones en el siguiente 🔗 : FORMULARIO ¡No te pierdas está interesante actividad `` Crack the Case '' y `` Desafío Estratégico '' con Bain & Company !\n",
      "G: Inscripciones en el siguiente 🔗 : FORMULARIO ¡No te pierdas esta interesante actividad `` Crack the Case '' y `` Desafío Estratégico '' con Bain & Company !\n",
      "{'esta', 'está'}\n",
      "\n",
      "639\n",
      "I: Idioma de postulación : inglésEnlace de postulación Más información y consultas\n",
      "G: Idioma de postulación : inglésEnlace de postulación más información y consultas\n",
      "{'Más', 'más'}\n",
      "\n"
     ]
    }
   ],
   "source": [
    "for i, r in ub_below_0.iterrows():\n",
    "    print(i)\n",
    "    print(\"I:\", \" \".join(r['input_tokens']))\n",
    "    print(\"G:\", \" \".join(r['generated_tokens']))\n",
    "    print(set(r['input_tokens']).symmetric_difference(set(r['generated_tokens'])))\n",
    "    print()"
   ]
  },
  {
   "cell_type": "markdown",
   "id": "506f9ff5-f9c6-414d-9233-af312b044a29",
   "metadata": {},
   "source": [
    "- 45: Generacion token especial en forma incorrecta\n",
    "- 157: Generacion diferente a entrada\n",
    "- 222: Cambio de ortografia/gramatica\n",
    "- 224: Mitigacion de sesgo incorrecta\n",
    "- 300: Agrega texto\n",
    "- 316: Cambio de ortografia/gramatica\n",
    "- 344: Agrega texto\n",
    "- 485: Elimina texto\n",
    "- 533: Generacion token especial en forma incorrecta\n",
    "- 581: Elimina texto\n",
    "- 611: Elimina texto\n",
    "- 633: Cambio de ortografia/gramatica\n",
    "- 639: Cambio mayuscula/minuscula"
   ]
  },
  {
   "cell_type": "markdown",
   "id": "b69ff3ad-3770-4578-963e-30b7b4217006",
   "metadata": {},
   "source": [
    "### Generation more similar than input"
   ]
  },
  {
   "cell_type": "code",
   "execution_count": 43,
   "id": "631f5033-c329-4b9a-9b4e-3670415e750b",
   "metadata": {},
   "outputs": [
    {
     "name": "stdout",
     "output_type": "stream",
     "text": [
      "(0, 15)\n"
     ]
    },
    {
     "data": {
      "text/plain": [
       "count    0.0\n",
       "mean     NaN\n",
       "std      NaN\n",
       "min      NaN\n",
       "25%      NaN\n",
       "50%      NaN\n",
       "75%      NaN\n",
       "max      NaN\n",
       "Name: bleu_gen, dtype: float64"
      ]
     },
     "execution_count": 43,
     "metadata": {},
     "output_type": "execute_result"
    }
   ],
   "source": [
    "ub_above_0 = df_not_able_to_bias[df_not_able_to_bias[\"bleu_dif\"] > 0]\n",
    "print(ub_above_0.shape)\n",
    "ub_above_0[\"bleu_gen\"].describe()"
   ]
  },
  {
   "cell_type": "code",
   "execution_count": null,
   "id": "c4e3b177-186a-4e55-89ce-6d69e7a914af",
   "metadata": {},
   "outputs": [],
   "source": []
  }
 ],
 "metadata": {
  "kernelspec": {
   "display_name": "Python 3 (ipykernel)",
   "language": "python",
   "name": "python3"
  },
  "language_info": {
   "codemirror_mode": {
    "name": "ipython",
    "version": 3
   },
   "file_extension": ".py",
   "mimetype": "text/x-python",
   "name": "python",
   "nbconvert_exporter": "python",
   "pygments_lexer": "ipython3",
   "version": "3.10.12"
  }
 },
 "nbformat": 4,
 "nbformat_minor": 5
}
