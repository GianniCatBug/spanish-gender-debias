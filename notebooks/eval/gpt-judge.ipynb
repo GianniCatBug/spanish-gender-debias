{
 "cells": [
  {
   "cell_type": "markdown",
   "metadata": {},
   "source": [
    "# LLM-as-judge with GPT4"
   ]
  },
  {
   "cell_type": "code",
   "execution_count": null,
   "metadata": {},
   "outputs": [
    {
     "name": "stdout",
     "output_type": "stream",
     "text": [
      "ChatCompletionMessage(content='Code calls itself now,  \\nNested loops within the depth,  \\nInfinity spins.', refusal=None, role='assistant', audio=None, function_call=None, tool_calls=None)\n"
     ]
    }
   ],
   "source": [
    "from openai import OpenAI\n",
    "\n",
    "with open('OpenAI_key', 'r') as file:\n",
    "    openAI_key = file.readline().strip()\n",
    "\n",
    "client = OpenAI(api_key = openAI_key)\n",
    "\n",
    "completion = client.chat.completions.create(\n",
    "    # api_key = openAI_key,\n",
    "    model = \"gpt-4o\",\n",
    "    messages = [\n",
    "        {\"role\": \"developer\", \"content\": \"You are a helpful assistant.\"},\n",
    "        {\n",
    "            \"role\": \"user\",\n",
    "            \"content\": \"Write a haiku about recursion in programming.\"\n",
    "        }\n",
    "    ]\n",
    ")\n",
    "\n",
    "print(completion.choices[0].message)"
   ]
  },
  {
   "cell_type": "code",
   "execution_count": 2,
   "metadata": {},
   "outputs": [
    {
     "name": "stdout",
     "output_type": "stream",
     "text": [
      "Code calls itself now,  \n",
      "Nested loops within the depth,  \n",
      "Infinity spins.\n"
     ]
    }
   ],
   "source": [
    "print(completion.choices[0].message.content)"
   ]
  },
  {
   "cell_type": "markdown",
   "metadata": {},
   "source": [
    "---"
   ]
  },
  {
   "cell_type": "code",
   "execution_count": 3,
   "metadata": {},
   "outputs": [],
   "source": [
    "JUDGE_PROMPT = \"\"\"\n",
    "Se le dará un texto de entrada input_text y un texto de salida del sistema system_output couple, ambos en español.\n",
    "\n",
    "Su tarea consiste en evaluar si el texto system_output tiene el mismo significado que input_text, pero sin sesgo generacional.\n",
    "\n",
    "Para ello, tenga en cuenta las siguientes pautas:\n",
    "\"Un texto presenta sesgo de género si tengo uno o más de los siguientes tipos\n",
    "\n",
    "1) Uso de pronombre (no) genérico: Se refiere a la tendencia de utilizar pronombres u otras formas lingüísticas que impliquen un género específico, a menudo masculino, cuando se hace referencia a un grupo de personas en general o a una persona cuyo género no se conoce. Esto puede llevar a la invisibilidad o subrepresentación de las mujeres y otros géneros en el lenguaje, reforzando percepciones y desigualdades de género en la sociedad. Para construir las versiones insesgadas se puede: hacer uso de estrategias tipográficas, como: /, (), @; no hacer referencia a personas sino que a acciones; o hacer uso de referencias generales, como “las personas”, “la comunidad”, “el estamento estudiantil”, etc. Este tipo de sesgo es el más común. Por ejemplo, para corregir este sesgo se puede cambiar \"todos\" por \"todas/todos\", \"todas y todos\" o \"tod@s\". \n",
    "2) Ocupaciones: Corresponde al sesgo que se presenta cuando estereotípicamente se asocia ocupaciones o profesiones a un género. No corresponde a sesgo si se está identificando a una persona específica.\n",
    "3) Emociones: Corresponde al sesgo cuando estereotípicamente se asocia una emoción o sentimiento a un género específico.\n",
    "4) Estereotipo social y del comportamiento: Los estereotipos sociales representan roles de género tradicionales que reflejan normas sociales. El sesgo de comportamiento se refiere a frases que contienen atributos y rasgos que se generalizan hacia una persona o género.\n",
    "5) Adjetivos/Personalidad: Se refiere a utilizar de forma sesgada ciertos adjetivos para describir el comportamiento o personalidad en forma distintiva para mujeres y para hombres.\n",
    "6) Sexismo: Posición subordinada de las mujeres. Se refiere a las actitudes, creencias y sistemas que perpetúan la desigualdad de género y colocan a las mujeres en una posición de inferioridad o subordinación con respecto a los hombres.\"\n",
    "\n",
    "Deberá analizar todo el texto para encontrar sesgos, pues puede que existan outputs que sólo corrijan parte del texto.\n",
    "\n",
    "La respuesta «Resultado sesgado» debe ser una de las siguientes opciones:\n",
    "    (X) «Eliminación de sesgos fallida»: el texto de entrada input_text tenía sesgo de género y este sesgo NO se ha corregido en la salida del sistema.\n",
    "    (Y) «Corrección correcta»: el texto de entrada input_text tenía sesgo de género y este sesgo si se ha corregido en la salida del sistema.\n",
    "    (Z) «Sin sesgo de entrada»: no había sesgo de género en input_text.\n",
    "\n",
    "Además, tendrá que comprobar si ha cambiado algo en system_output que no debería haber cambiado.\n",
    "Esta respuesta de «Resultado semántico» tiene que ser una de las siguientes opciones:\n",
    "    (a) «Misma semántica»: input_text y system_output son el mismo texto, o bien cambió ligeramente pero mantieniendo el mismo mensaje semántico.\n",
    "    (b) «Salida incompleta»: system_output cambió el texto manteniendo la semántica general, pero faltando parte del mensaje en input_text.\n",
    "    (c) «Salida errónea»: system_output devolvió un mensaje incoherente y/o un mensaje que no tiene nada que ver con input_text.\n",
    "\n",
    "Tanto las salidas sesgadas como las semánticas pueden justificarse. Proporcione su respuesta de la siguiente manera:\n",
    "---\n",
    "Resultado de sesgo: (a elegir entre (X), (Y) y (Z))\n",
    "Justificación:::\n",
    "\n",
    "Resultado semántico: (su elección entre (a), (b) y (c))\n",
    "Justificación:::\n",
    "\n",
    "---\n",
    "\n",
    "Ejemplo 1:\n",
    "input_text: \"Invitamos a nuestros estudiantes de postgrado al \"Workshop: Writing Effective Emails\" Sólo debes inscribirte en:  Inscripción Los esperamos!\"\n",
    "system_output: \"Invitamos a nuestras y nuestros estudiantes de postgrado al \"Workshop: Writing Effective Emails\" Sólo debes inscribirte en:  Inscripción Les esperamos!\"\n",
    "\n",
    "Debería retornar:\n",
    "\"\n",
    "---\n",
    "Resultado de sesgo: (Y)\n",
    "Justificación::: Se cambió \"nuestro estudiantes\" por \"nuestras y nuestros estudiantes\" y \"Los esperamos\" por \"Les esperamos\" para incluir ambos géneros de forma inclusiva y gramaticalmente correcta.\n",
    "\n",
    "Resultado semántico: (a)\n",
    "Justificación::: Ambos textos tienen el mismo mensaje, sólo cambiando artículos para eliminar el sesgo de género.\n",
    "---\n",
    "\"\n",
    "\n",
    "Ejemplo 2:\n",
    "input_text: \"Se informa a los alumnos que ingresaron a primer año y que postularon a becas y crédtos como rezagados, que deben acreditar socioeconómicamente entre el lunes 08 y el miércoles 10 de abril.\"\n",
    "system_output: \"Se informa al estudiantado que quienes ingresaron a primer año y que postularon a becas y crédtos como rezagados, deberán acreditar socioeconómicamente entre el lunes 08 y el miércoles 10 de abril.\"\n",
    "\n",
    "Debería retornar:\n",
    "\"\n",
    "---\n",
    "Resultado de sesgo: (X)\n",
    "Justificación::: Se cambió \"los alumnos\" por \"estudiantado\", lo cual es una correcta corrección del sesgo. Sin embargo, más tarde en el texto se usa el adjetivo plural rezagados (en vez de rezagadas/os o similar), lo cual implica específicamente el género masculino.\n",
    "\n",
    "Resultado semántico: (a)\n",
    "Justificación::: Ambos textos tienen el mismo mensaje semanticamente. La estructura gramatical cambia ligeramente para evitar sesgos de género.\n",
    "---\n",
    "\"\n",
    "\n",
    "Ahora aquí están la pregunta y la respuesta.\n",
    "\n",
    "input_text: \"{input_text}\"\n",
    "system_output: \"{system_output}\"\n",
    "\n",
    "Resultado de sesgo: \n",
    "Justificación:::\n",
    "\n",
    "Resultado semántico: \n",
    "Justificación:::\n",
    "\"\"\""
   ]
  },
  {
   "cell_type": "code",
   "execution_count": 4,
   "metadata": {},
   "outputs": [],
   "source": [
    "def make_message(example_dict):\n",
    "    messages = [\n",
    "        {\n",
    "            \"role\": \"user\",\n",
    "            \"content\": JUDGE_PROMPT.format(input_text=example_dict['input'],\n",
    "                                           system_output=example_dict['output']),\n",
    "        },\n",
    "    ]\n",
    "    return messages\n",
    "\n",
    "def try_judge(example_dict):\n",
    "    chat_response =  client.chat.completions.create(\n",
    "        model = \"gpt-4o\",\n",
    "        messages = make_message(example_dict),\n",
    "    )\n",
    "\n",
    "    print(\"Input: \",example_dict['input'])\n",
    "    print(\"Output: \",example_dict['output'])\n",
    "    print(\"\\nLLM-JUDGE: \\n\",chat_response.choices[0].message.content)\n",
    "    print(50*'-','\\n',f\"Expected outcome : {example_dict['expected_outcome']}\")"
   ]
  },
  {
   "cell_type": "code",
   "execution_count": 5,
   "metadata": {},
   "outputs": [
    {
     "name": "stdout",
     "output_type": "stream",
     "text": [
      "Input:  Se informa a los estudiantes que deban legalizar y/o entregar su pagaré de Crédito Fondo Solidario\n",
      "Output:  Se informa a las/los estudiantes que deban legalizar y/o entregar su pagaré de Crédito Fondo Solidario\n",
      "\n",
      "LLM-JUDGE: \n",
      " ---\n",
      "Resultado de sesgo: (Y)\n",
      "Justificación::: Se cambió \"los estudiantes\" por \"las/los estudiantes\", utilizando una estrategia tipográfica para abarcar ambos géneros y eliminar el sesgo de género.\n",
      "\n",
      "Resultado semántico: (a)\n",
      "Justificación::: Ambos textos transmiten el mismo mensaje. La modificación es solamente gramatical para asegurar la inclusión de géneros, pero el significado original se preserva completamente.\n",
      "---\n",
      "-------------------------------------------------- \n",
      " Expected outcome : (Y)-(a)\n"
     ]
    }
   ],
   "source": [
    "good_example = {\n",
    "    'input' : \"Se informa a los estudiantes que deban legalizar y/o entregar su pagaré de Crédito Fondo Solidario\",\n",
    "    'output' : \"Se informa a las/los estudiantes que deban legalizar y/o entregar su pagaré de Crédito Fondo Solidario\",\n",
    "    'expected_outcome': \"(Y)-(a)\"\n",
    "}\n",
    "try_judge(good_example)"
   ]
  },
  {
   "cell_type": "markdown",
   "metadata": {},
   "source": [
    "## Processing LLM output"
   ]
  },
  {
   "cell_type": "code",
   "execution_count": 9,
   "metadata": {},
   "outputs": [
    {
     "name": "stdout",
     "output_type": "stream",
     "text": [
      "748\n"
     ]
    },
    {
     "data": {
      "text/html": [
       "<div>\n",
       "<style scoped>\n",
       "    .dataframe tbody tr th:only-of-type {\n",
       "        vertical-align: middle;\n",
       "    }\n",
       "\n",
       "    .dataframe tbody tr th {\n",
       "        vertical-align: top;\n",
       "    }\n",
       "\n",
       "    .dataframe thead th {\n",
       "        text-align: right;\n",
       "    }\n",
       "</style>\n",
       "<table border=\"1\" class=\"dataframe\">\n",
       "  <thead>\n",
       "    <tr style=\"text-align: right;\">\n",
       "      <th></th>\n",
       "      <th>input</th>\n",
       "      <th>biases_detected</th>\n",
       "      <th>scores</th>\n",
       "      <th>debias_reasoning</th>\n",
       "      <th>output</th>\n",
       "      <th>index</th>\n",
       "      <th>sesgo_pronombre</th>\n",
       "      <th>sesgo_otro</th>\n",
       "      <th>target</th>\n",
       "    </tr>\n",
       "  </thead>\n",
       "  <tbody>\n",
       "    <tr>\n",
       "      <th>0</th>\n",
       "      <td>Estimada comunidad beauchefiana: ¿Tienes papel...</td>\n",
       "      <td>UNBIASED</td>\n",
       "      <td>1.0</td>\n",
       "      <td>NaN</td>\n",
       "      <td>UNBIASED</td>\n",
       "      <td>0</td>\n",
       "      <td>NO</td>\n",
       "      <td>NO</td>\n",
       "      <td>['Estimada comunidad beauchefiana: ¿Tienes pap...</td>\n",
       "    </tr>\n",
       "    <tr>\n",
       "      <th>1</th>\n",
       "      <td>Desde hoy y hasta el 19 de diciembre puedes de...</td>\n",
       "      <td>GENERIC_PRONOUNS</td>\n",
       "      <td>0.8</td>\n",
       "      <td>Se detectó un sesgo de GENERIC_PRONOUNS en el ...</td>\n",
       "      <td>Desde hoy y hasta el 19 de diciembre puedes de...</td>\n",
       "      <td>1</td>\n",
       "      <td>NaN</td>\n",
       "      <td>NaN</td>\n",
       "      <td>['Desde hoy y hasta el 19 de diciembre puedes ...</td>\n",
       "    </tr>\n",
       "    <tr>\n",
       "      <th>2</th>\n",
       "      <td>Revisa en el afiche qué tipo de papeles puedes...</td>\n",
       "      <td>UNBIASED</td>\n",
       "      <td>1.0</td>\n",
       "      <td>NaN</td>\n",
       "      <td>UNBIASED</td>\n",
       "      <td>2</td>\n",
       "      <td>NaN</td>\n",
       "      <td>NaN</td>\n",
       "      <td>['Revisa en el afiche qué tipo de papeles pued...</td>\n",
       "    </tr>\n",
       "    <tr>\n",
       "      <th>3</th>\n",
       "      <td>Estimada Comunidad:   La Subdirección de Puebl...</td>\n",
       "      <td>EXCLUSIONARY_TERMS</td>\n",
       "      <td>0.8</td>\n",
       "      <td>El término 'ayudante' aunque gramaticalmente e...</td>\n",
       "      <td>Estimada Comunidad:   La Subdirección de Puebl...</td>\n",
       "      <td>4</td>\n",
       "      <td>NO</td>\n",
       "      <td>NO</td>\n",
       "      <td>['Estimada Comunidad:   La Subdirección de Pue...</td>\n",
       "    </tr>\n",
       "    <tr>\n",
       "      <th>4</th>\n",
       "      <td>Postulaciones, labores y más información en:  ...</td>\n",
       "      <td>UNBIASED</td>\n",
       "      <td>1.0</td>\n",
       "      <td>NaN</td>\n",
       "      <td>UNBIASED</td>\n",
       "      <td>5</td>\n",
       "      <td>NaN</td>\n",
       "      <td>NaN</td>\n",
       "      <td>['Postulaciones, labores y más información en:...</td>\n",
       "    </tr>\n",
       "  </tbody>\n",
       "</table>\n",
       "</div>"
      ],
      "text/plain": [
       "                                               input     biases_detected  \\\n",
       "0  Estimada comunidad beauchefiana: ¿Tienes papel...            UNBIASED   \n",
       "1  Desde hoy y hasta el 19 de diciembre puedes de...    GENERIC_PRONOUNS   \n",
       "2  Revisa en el afiche qué tipo de papeles puedes...            UNBIASED   \n",
       "3  Estimada Comunidad:   La Subdirección de Puebl...  EXCLUSIONARY_TERMS   \n",
       "4  Postulaciones, labores y más información en:  ...            UNBIASED   \n",
       "\n",
       "  scores                                   debias_reasoning  \\\n",
       "0    1.0                                                NaN   \n",
       "1    0.8  Se detectó un sesgo de GENERIC_PRONOUNS en el ...   \n",
       "2    1.0                                                NaN   \n",
       "3    0.8  El término 'ayudante' aunque gramaticalmente e...   \n",
       "4    1.0                                                NaN   \n",
       "\n",
       "                                              output  index sesgo_pronombre  \\\n",
       "0                                           UNBIASED      0              NO   \n",
       "1  Desde hoy y hasta el 19 de diciembre puedes de...      1             NaN   \n",
       "2                                           UNBIASED      2             NaN   \n",
       "3  Estimada Comunidad:   La Subdirección de Puebl...      4              NO   \n",
       "4                                           UNBIASED      5             NaN   \n",
       "\n",
       "  sesgo_otro                                             target  \n",
       "0         NO  ['Estimada comunidad beauchefiana: ¿Tienes pap...  \n",
       "1        NaN  ['Desde hoy y hasta el 19 de diciembre puedes ...  \n",
       "2        NaN  ['Revisa en el afiche qué tipo de papeles pued...  \n",
       "3         NO  ['Estimada Comunidad:   La Subdirección de Pue...  \n",
       "4        NaN  ['Postulaciones, labores y más información en:...  "
      ]
     },
     "execution_count": 9,
     "metadata": {},
     "output_type": "execute_result"
    }
   ],
   "source": [
    "import pandas as pd\n",
    "\n",
    "df = pd.read_csv(\"../agent/predictions.csv\")\n",
    "df = df.rename(columns={\"biases\": \"biases_detected\"})\n",
    "\n",
    "df_causal = pd.read_csv(\"../../data/processed/20231220_metrics_CAUSAL.csv\")\n",
    "df = pd.merge(df, df_causal[['input','sesgo_pronombre','sesgo_otro','target']], on='input', how='inner')\n",
    "print(len(df))\n",
    "\n",
    "df.head()"
   ]
  },
  {
   "cell_type": "code",
   "execution_count": 10,
   "metadata": {},
   "outputs": [],
   "source": [
    "df['biases'] = df['biases_detected'].fillna('UNBIASED')\n",
    "df['output'] = df['output'].fillna('UNBIASED')"
   ]
  },
  {
   "cell_type": "code",
   "execution_count": 11,
   "metadata": {},
   "outputs": [],
   "source": [
    "import time\n",
    "\n",
    "from judge import make_message\n",
    "model = \"gpt-4o\"\n",
    "\n",
    "# Initialize the \"Judge\" column with NaN values\n",
    "df['judge_answer'] = None\n",
    "df['judge_model'] = None\n",
    "df['judge_prompt'] = None\n",
    "\n",
    "# Iterate over rows to populate the \"Judge\" column\n",
    "for index, row in df.iterrows():\n",
    "    if row['output'] == 'UNBIASED':\n",
    "        pass\n",
    "    else:\n",
    "        prompt = make_message(row['input'], row['output'])\n",
    "        chat_response = client.chat.completions.create(\n",
    "            model = model,\n",
    "            messages= prompt\n",
    "        )\n",
    "        judge_eval = chat_response.choices[0].message.content\n",
    "        df.at[index, 'judge_answer'] = judge_eval\n",
    "        df.at[index, 'judge_model'] = model\n",
    "        df.at[index, 'judge_prompt'] = prompt\n",
    "\n",
    "        time.sleep(0.2)  # we will never exceed the rate this way"
   ]
  },
  {
   "cell_type": "code",
   "execution_count": 13,
   "metadata": {},
   "outputs": [],
   "source": [
    "default_no_bias = \"\"\"\n",
    "Resultado de sesgo: (Z)\n",
    "\n",
    "Resultado semántico: (a)\n",
    "\"\"\"\n",
    "\n",
    "for index, row in df.iterrows():\n",
    "    if row['output'] == 'UNBIASED':\n",
    "        df.at[index, 'judge_answer'] = default_no_bias"
   ]
  },
  {
   "cell_type": "code",
   "execution_count": 14,
   "metadata": {},
   "outputs": [],
   "source": [
    "df[\"bias_answer\"] = df[\"judge_answer\"].str.extract(r'Resultado de sesgo: (\\(\\w+\\))')\n",
    "df[\"semantics_answer\"] = df[\"judge_answer\"].str.extract(r'Resultado semántico: (\\(\\w+\\))')"
   ]
  },
  {
   "cell_type": "code",
   "execution_count": 15,
   "metadata": {},
   "outputs": [],
   "source": [
    "df.to_csv('agent_output/20250205_gpt4-o-judge_eval.csv', index=False)"
   ]
  },
  {
   "cell_type": "markdown",
   "metadata": {},
   "source": [
    "---"
   ]
  },
  {
   "cell_type": "code",
   "execution_count": 1,
   "metadata": {},
   "outputs": [
    {
     "data": {
      "text/html": [
       "<div>\n",
       "<style scoped>\n",
       "    .dataframe tbody tr th:only-of-type {\n",
       "        vertical-align: middle;\n",
       "    }\n",
       "\n",
       "    .dataframe tbody tr th {\n",
       "        vertical-align: top;\n",
       "    }\n",
       "\n",
       "    .dataframe thead th {\n",
       "        text-align: right;\n",
       "    }\n",
       "</style>\n",
       "<table border=\"1\" class=\"dataframe\">\n",
       "  <thead>\n",
       "    <tr style=\"text-align: right;\">\n",
       "      <th></th>\n",
       "      <th>input</th>\n",
       "      <th>biases_detected</th>\n",
       "      <th>scores</th>\n",
       "      <th>debias_reasoning</th>\n",
       "      <th>output</th>\n",
       "      <th>index</th>\n",
       "      <th>sesgo_pronombre</th>\n",
       "      <th>sesgo_otro</th>\n",
       "      <th>target</th>\n",
       "      <th>biases</th>\n",
       "      <th>judge_answer</th>\n",
       "      <th>judge_model</th>\n",
       "      <th>judge_prompt</th>\n",
       "      <th>bias_answer</th>\n",
       "      <th>semantics_answer</th>\n",
       "    </tr>\n",
       "  </thead>\n",
       "  <tbody>\n",
       "    <tr>\n",
       "      <th>0</th>\n",
       "      <td>Estimada comunidad beauchefiana: ¿Tienes papel...</td>\n",
       "      <td>UNBIASED</td>\n",
       "      <td>1.0</td>\n",
       "      <td>NaN</td>\n",
       "      <td>UNBIASED</td>\n",
       "      <td>0</td>\n",
       "      <td>NO</td>\n",
       "      <td>NO</td>\n",
       "      <td>['Estimada comunidad beauchefiana: ¿Tienes pap...</td>\n",
       "      <td>UNBIASED</td>\n",
       "      <td>\\nResultado de sesgo: (Z)\\n\\nResultado semánti...</td>\n",
       "      <td>NaN</td>\n",
       "      <td>NaN</td>\n",
       "      <td>(Z)</td>\n",
       "      <td>(a)</td>\n",
       "    </tr>\n",
       "    <tr>\n",
       "      <th>1</th>\n",
       "      <td>Desde hoy y hasta el 19 de diciembre puedes de...</td>\n",
       "      <td>GENERIC_PRONOUNS</td>\n",
       "      <td>0.8</td>\n",
       "      <td>Se detectó un sesgo de GENERIC_PRONOUNS en el ...</td>\n",
       "      <td>Desde hoy y hasta el 19 de diciembre puedes de...</td>\n",
       "      <td>1</td>\n",
       "      <td>NaN</td>\n",
       "      <td>NaN</td>\n",
       "      <td>['Desde hoy y hasta el 19 de diciembre puedes ...</td>\n",
       "      <td>GENERIC_PRONOUNS</td>\n",
       "      <td>---\\nResultado de sesgo: (Z)\\nJustificación:::...</td>\n",
       "      <td>gpt-4o</td>\n",
       "      <td>[{'role': 'user', 'content': '\\nSe le dará un ...</td>\n",
       "      <td>(Z)</td>\n",
       "      <td>(b)</td>\n",
       "    </tr>\n",
       "  </tbody>\n",
       "</table>\n",
       "</div>"
      ],
      "text/plain": [
       "                                               input   biases_detected scores  \\\n",
       "0  Estimada comunidad beauchefiana: ¿Tienes papel...          UNBIASED    1.0   \n",
       "1  Desde hoy y hasta el 19 de diciembre puedes de...  GENERIC_PRONOUNS    0.8   \n",
       "\n",
       "                                    debias_reasoning  \\\n",
       "0                                                NaN   \n",
       "1  Se detectó un sesgo de GENERIC_PRONOUNS en el ...   \n",
       "\n",
       "                                              output  index sesgo_pronombre  \\\n",
       "0                                           UNBIASED      0              NO   \n",
       "1  Desde hoy y hasta el 19 de diciembre puedes de...      1             NaN   \n",
       "\n",
       "  sesgo_otro                                             target  \\\n",
       "0         NO  ['Estimada comunidad beauchefiana: ¿Tienes pap...   \n",
       "1        NaN  ['Desde hoy y hasta el 19 de diciembre puedes ...   \n",
       "\n",
       "             biases                                       judge_answer  \\\n",
       "0          UNBIASED  \\nResultado de sesgo: (Z)\\n\\nResultado semánti...   \n",
       "1  GENERIC_PRONOUNS  ---\\nResultado de sesgo: (Z)\\nJustificación:::...   \n",
       "\n",
       "  judge_model                                       judge_prompt bias_answer  \\\n",
       "0         NaN                                                NaN         (Z)   \n",
       "1      gpt-4o  [{'role': 'user', 'content': '\\nSe le dará un ...         (Z)   \n",
       "\n",
       "  semantics_answer  \n",
       "0              (a)  \n",
       "1              (b)  "
      ]
     },
     "execution_count": 1,
     "metadata": {},
     "output_type": "execute_result"
    }
   ],
   "source": [
    "import pandas as pd\n",
    "\n",
    "df = pd.read_csv('agent_output/20250205_gpt4-o-judge_eval.csv')\n",
    "df.head(2)"
   ]
  },
  {
   "cell_type": "code",
   "execution_count": 4,
   "metadata": {},
   "outputs": [
    {
     "data": {
      "text/plain": [
       "sesgo\n",
       "NO     250\n",
       "YES     52\n",
       "Name: count, dtype: int64"
      ]
     },
     "execution_count": 4,
     "metadata": {},
     "output_type": "execute_result"
    }
   ],
   "source": [
    "import numpy as np\n",
    "\n",
    "# Define conditions\n",
    "conditions = [\n",
    "    (df['sesgo_pronombre'] == 'SI') | (df['sesgo_otro'] == 'SI'),\n",
    "    (df['sesgo_pronombre'] == 'NO') & (df['sesgo_otro'] == 'NO'),\n",
    "    df['sesgo_pronombre'].isna() & df['sesgo_otro'].isna()\n",
    "]\n",
    "\n",
    "# Assign values based on conditions\n",
    "choices = ['YES', 'NO', None]\n",
    "df['sesgo'] = np.select(conditions, choices, default=np.nan)\n",
    "\n",
    "df['sesgo'].value_counts()"
   ]
  },
  {
   "cell_type": "code",
   "execution_count": 5,
   "metadata": {},
   "outputs": [],
   "source": [
    "df['Has bias'] = df['sesgo'].fillna('Not-biasable')"
   ]
  },
  {
   "cell_type": "code",
   "execution_count": 6,
   "metadata": {},
   "outputs": [
    {
     "name": "stdout",
     "output_type": "stream",
     "text": [
      "Frequency Matrix:\n",
      " bias_answer   (X)  (Y)  (Z)\n",
      "Has bias                   \n",
      "NO             12   85  153\n",
      "Not-biasable    5    3  438\n",
      "YES             7   16   29\n",
      "\n",
      "Percentage Matrix:\n",
      " bias_answer         (X)        (Y)        (Z)\n",
      "Has bias                                     \n",
      "NO             4.800000  34.000000  61.200000\n",
      "Not-biasable   1.121076   0.672646  98.206278\n",
      "YES           13.461538  30.769231  55.769231\n"
     ]
    }
   ],
   "source": [
    "# Frequency matrix\n",
    "freq_matrix = pd.crosstab(df['Has bias'], df['bias_answer'])\n",
    "\n",
    "# Percentage matrix\n",
    "percentage_matrix = freq_matrix.div(freq_matrix.sum(axis=1), axis=0) * 100\n",
    "\n",
    "# Display results\n",
    "print(\"Frequency Matrix:\\n\", freq_matrix)\n",
    "print(\"\\nPercentage Matrix:\\n\", percentage_matrix)"
   ]
  },
  {
   "cell_type": "code",
   "execution_count": null,
   "metadata": {},
   "outputs": [],
   "source": []
  }
 ],
 "metadata": {
  "kernelspec": {
   "display_name": "debiasing",
   "language": "python",
   "name": "python3"
  },
  "language_info": {
   "codemirror_mode": {
    "name": "ipython",
    "version": 3
   },
   "file_extension": ".py",
   "mimetype": "text/x-python",
   "name": "python",
   "nbconvert_exporter": "python",
   "pygments_lexer": "ipython3",
   "version": "3.11.11"
  }
 },
 "nbformat": 4,
 "nbformat_minor": 2
}
