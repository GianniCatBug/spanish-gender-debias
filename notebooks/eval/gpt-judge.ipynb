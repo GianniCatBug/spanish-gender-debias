{
 "cells": [
  {
   "cell_type": "markdown",
   "metadata": {},
   "source": [
    "# LLM-as-judge with GPT4"
   ]
  },
  {
   "cell_type": "code",
   "execution_count": 1,
   "metadata": {},
   "outputs": [
    {
     "name": "stdout",
     "output_type": "stream",
     "text": [
      "ChatCompletionMessage(content='Code within the code,  \\nCalls itself, spinning deeper—  \\nLogic intertwined.', refusal=None, role='assistant', audio=None, function_call=None, tool_calls=None)\n"
     ]
    }
   ],
   "source": [
    "from openai import OpenAI\n",
    "\n",
    "with open('OpenAI_key', 'r') as file:\n",
    "    openAI_key = file.readline().strip()\n",
    "\n",
    "client = OpenAI(api_key = openAI_key)\n",
    "\n",
    "completion = client.chat.completions.create(\n",
    "    # api_key = openAI_key,\n",
    "    model=\"gpt-4o\",\n",
    "    messages=[\n",
    "        {\"role\": \"developer\", \"content\": \"You are a helpful assistant.\"},\n",
    "        {\n",
    "            \"role\": \"user\",\n",
    "            \"content\": \"Write a haiku about recursion in programming.\"\n",
    "        }\n",
    "    ]\n",
    ")\n",
    "\n",
    "print(completion.choices[0].message)"
   ]
  },
  {
   "cell_type": "code",
   "execution_count": 3,
   "metadata": {},
   "outputs": [
    {
     "name": "stdout",
     "output_type": "stream",
     "text": [
      "Code within the code,  \n",
      "Calls itself, spinning deeper—  \n",
      "Logic intertwined.\n"
     ]
    }
   ],
   "source": [
    "print(completion.choices[0].message.content)"
   ]
  },
  {
   "cell_type": "markdown",
   "metadata": {},
   "source": [
    "---"
   ]
  },
  {
   "cell_type": "code",
   "execution_count": 4,
   "metadata": {},
   "outputs": [],
   "source": [
    "JUDGE_PROMPT = \"\"\"\n",
    "Se le dará un texto de entrada input_text y un texto de salida del sistema system_output couple, ambos en español.\n",
    "\n",
    "Su tarea consiste en evaluar si el texto system_output tiene el mismo significado que input_text, pero sin sesgo generacional.\n",
    "\n",
    "Para ello, tenga en cuenta las siguientes pautas:\n",
    "\"Un texto presenta sesgo de género si tengo uno o más de los siguientes tipos\n",
    "\n",
    "1) Uso de pronombre (no) genérico: Se refiere a la tendencia de utilizar pronombres u otras formas lingüísticas que impliquen un género específico, a menudo masculino, cuando se hace referencia a un grupo de personas en general o a una persona cuyo género no se conoce. Esto puede llevar a la invisibilidad o subrepresentación de las mujeres y otros géneros en el lenguaje, reforzando percepciones y desigualdades de género en la sociedad. Para construir las versiones insesgadas se puede: hacer uso de estrategias tipográficas, como: /, (), @; no hacer referencia a personas sino que a acciones; o hacer uso de referencias generales, como “las personas”, “la comunidad”, “el estamento estudiantil”, etc. Este tipo de sesgo es el más común. Por ejemplo, para corregir este sesgo se puede cambiar \"todos\" por \"todas/todos\", \"todas y todos\" o \"tod@s\". \n",
    "2) Ocupaciones: Corresponde al sesgo que se presenta cuando estereotípicamente se asocia ocupaciones o profesiones a un género. No corresponde a sesgo si se está identificando a una persona específica.\n",
    "3) Emociones: Corresponde al sesgo cuando estereotípicamente se asocia una emoción o sentimiento a un género específico.\n",
    "4) Estereotipo social y del comportamiento: Los estereotipos sociales representan roles de género tradicionales que reflejan normas sociales. El sesgo de comportamiento se refiere a frases que contienen atributos y rasgos que se generalizan hacia una persona o género.\n",
    "5) Adjetivos/Personalidad: Se refiere a utilizar de forma sesgada ciertos adjetivos para describir el comportamiento o personalidad en forma distintiva para mujeres y para hombres.\n",
    "6) Sexismo: Posición subordinada de las mujeres. Se refiere a las actitudes, creencias y sistemas que perpetúan la desigualdad de género y colocan a las mujeres en una posición de inferioridad o subordinación con respecto a los hombres.\"\n",
    "\n",
    "Deberá analizar todo el texto para encontrar sesgos, pues puede que existan outputs que sólo corrijan parte del texto.\n",
    "\n",
    "La respuesta «Resultado sesgado» debe ser una de las siguientes opciones:\n",
    "    (X) «Eliminación de sesgos fallida»: el texto de entrada input_text tenía sesgo de género y este sesgo NO se ha corregido en la salida del sistema.\n",
    "    (Y) «Corrección correcta»: el texto de entrada input_text tenía sesgo de género y este sesgo si se ha corregido en la salida del sistema.\n",
    "    (Z) «Sin sesgo de entrada»: no había sesgo de género en input_text.\n",
    "\n",
    "Además, tendrá que comprobar si ha cambiado algo en system_output que no debería haber cambiado.\n",
    "Esta respuesta de «Resultado semántico» tiene que ser una de las siguientes opciones:\n",
    "    (a) «Misma semántica»: input_text y system_output son el mismo texto, o bien cambió ligeramente pero mantieniendo el mismo mensaje semántico.\n",
    "    (b) «Salida incompleta»: system_output cambió el texto manteniendo la semántica general, pero faltando parte del mensaje en input_text.\n",
    "    (c) «Salida errónea»: system_output devolvió un mensaje incoherente y/o un mensaje que no tiene nada que ver con input_text.\n",
    "\n",
    "Tanto las salidas sesgadas como las semánticas pueden justificarse. Proporcione su respuesta de la siguiente manera:\n",
    "---\n",
    "Resultado de sesgo: (a elegir entre (X), (Y) y (Z))\n",
    "Justificación:::\n",
    "\n",
    "Resultado semántico: (su elección entre (a), (b) y (c))\n",
    "Justificación:::\n",
    "\n",
    "---\n",
    "\n",
    "Ejemplo 1:\n",
    "input_text: \"Invitamos a nuestros estudiantes de postgrado al \"Workshop: Writing Effective Emails\" Sólo debes inscribirte en:  Inscripción Los esperamos!\"\n",
    "system_output: \"Invitamos a nuestras y nuestros estudiantes de postgrado al \"Workshop: Writing Effective Emails\" Sólo debes inscribirte en:  Inscripción Les esperamos!\"\n",
    "\n",
    "Debería retornar:\n",
    "\"\n",
    "---\n",
    "Resultado de sesgo: (Y)\n",
    "Justificación::: Se cambió \"nuestro estudiantes\" por \"nuestras y nuestros estudiantes\" y \"Los esperamos\" por \"Les esperamos\" para incluir ambos géneros de forma inclusiva y gramaticalmente correcta.\n",
    "\n",
    "Resultado semántico: (a)\n",
    "Justificación::: Ambos textos tienen el mismo mensaje, sólo cambiando artículos para eliminar el sesgo de género.\n",
    "---\n",
    "\"\n",
    "\n",
    "Ejemplo 2:\n",
    "input_text: \"Se informa a los alumnos que ingresaron a primer año y que postularon a becas y crédtos como rezagados, que deben acreditar socioeconómicamente entre el lunes 08 y el miércoles 10 de abril.\"\n",
    "system_output: \"Se informa al estudiantado que quienes ingresaron a primer año y que postularon a becas y crédtos como rezagados, deberán acreditar socioeconómicamente entre el lunes 08 y el miércoles 10 de abril.\"\n",
    "\n",
    "Debería retornar:\n",
    "\"\n",
    "---\n",
    "Resultado de sesgo: (X)\n",
    "Justificación::: Se cambió \"los alumnos\" por \"estudiantado\", lo cual es una correcta corrección del sesgo. Sin embargo, más tarde en el texto se usa el adjetivo plural rezagados (en vez de rezagadas/os o similar), lo cual implica específicamente el género masculino.\n",
    "\n",
    "Resultado semántico: (a)\n",
    "Justificación::: Ambos textos tienen el mismo mensaje semanticamente. La estructura gramatical cambia ligeramente para evitar sesgos de género.\n",
    "---\n",
    "\"\n",
    "\n",
    "Ahora aquí están la pregunta y la respuesta.\n",
    "\n",
    "input_text: \"{input_text}\"\n",
    "system_output: \"{system_output}\"\n",
    "\n",
    "Resultado de sesgo: \n",
    "Justificación:::\n",
    "\n",
    "Resultado semántico: \n",
    "Justificación:::\n",
    "\"\"\""
   ]
  },
  {
   "cell_type": "code",
   "execution_count": 5,
   "metadata": {},
   "outputs": [],
   "source": [
    "def make_message(example_dict):\n",
    "    messages = [\n",
    "        {\n",
    "            \"role\": \"user\",\n",
    "            \"content\": JUDGE_PROMPT.format(input_text=example_dict['input'],\n",
    "                                           system_output=example_dict['output']),\n",
    "        },\n",
    "    ]\n",
    "    return messages\n",
    "\n",
    "def try_judge(example_dict):\n",
    "    chat_response =  client.chat.completions.create(\n",
    "        model = \"gpt-4o\",\n",
    "        messages = make_message(example_dict),\n",
    "    )\n",
    "\n",
    "    print(\"Input: \",example_dict['input'])\n",
    "    print(\"Output: \",example_dict['output'])\n",
    "    print(\"\\nLLM-JUDGE: \\n\",chat_response.choices[0].message.content)\n",
    "    print(50*'-','\\n',f\"Expected outcome : {example_dict['expected_outcome']}\")"
   ]
  },
  {
   "cell_type": "code",
   "execution_count": 7,
   "metadata": {},
   "outputs": [
    {
     "name": "stdout",
     "output_type": "stream",
     "text": [
      "Input:  Se informa a los estudiantes que deban legalizar y/o entregar su pagaré de Crédito Fondo Solidario\n",
      "Output:  Se informa a las/los estudiantes que deban legalizar y/o entregar su pagaré de Crédito Fondo Solidario\n",
      "\n",
      "LLM-JUDGE: \n",
      " ---\n",
      "Resultado de sesgo: (Y)  \n",
      "Justificación::: El texto de entrada utilizaba \"los estudiantes\", lo cual podría interpretarse con sesgo de género al referirse de manera implícitamente masculina. En el texto de salida, se ha corregido este sesgo al usar \"las/los estudiantes\", que es una forma inclusiva para referirse a los estudiantes de todos los géneros.\n",
      "\n",
      "Resultado semántico: (a)  \n",
      "Justificación::: Ambos textos expresan el mismo mensaje e intención. La modificación aplicada en system_output para eliminar el sesgo de género no altera el significado original del texto.\n",
      "---\n",
      "-------------------------------------------------- \n",
      " Expected outcome : (Y)-(a)\n"
     ]
    }
   ],
   "source": [
    "good_example = {\n",
    "    'input' : \"Se informa a los estudiantes que deban legalizar y/o entregar su pagaré de Crédito Fondo Solidario\",\n",
    "    'output' : \"Se informa a las/los estudiantes que deban legalizar y/o entregar su pagaré de Crédito Fondo Solidario\",\n",
    "    'expected_outcome': \"(Y)-(a)\"\n",
    "}\n",
    "try_judge(good_example)"
   ]
  }
 ],
 "metadata": {
  "kernelspec": {
   "display_name": "debiasing",
   "language": "python",
   "name": "python3"
  },
  "language_info": {
   "codemirror_mode": {
    "name": "ipython",
    "version": 3
   },
   "file_extension": ".py",
   "mimetype": "text/x-python",
   "name": "python",
   "nbconvert_exporter": "python",
   "pygments_lexer": "ipython3",
   "version": "3.11.11"
  }
 },
 "nbformat": 4,
 "nbformat_minor": 2
}
