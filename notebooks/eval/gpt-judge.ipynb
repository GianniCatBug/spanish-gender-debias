{
 "cells": [
  {
   "cell_type": "markdown",
   "metadata": {},
   "source": [
    "# LLM-as-judge with GPT4"
   ]
  },
  {
   "cell_type": "markdown",
   "metadata": {},
   "source": [
    "Loading judge"
   ]
  },
  {
   "cell_type": "code",
   "execution_count": 1,
   "metadata": {},
   "outputs": [],
   "source": [
    "from openai import OpenAI\n",
    "from judge import make_message\n",
    "import time\n",
    "\n",
    "model = \"gpt-4o\"\n",
    "\n",
    "with open('OpenAI_key', 'r') as file:\n",
    "    openAI_key = file.readline().strip()\n",
    "\n",
    "client = OpenAI(api_key = openAI_key)"
   ]
  },
  {
   "cell_type": "markdown",
   "metadata": {},
   "source": [
    "## Processing fine-tuned model output"
   ]
  },
  {
   "cell_type": "code",
   "execution_count": 2,
   "metadata": {},
   "outputs": [
    {
     "data": {
      "text/html": [
       "<div>\n",
       "<style scoped>\n",
       "    .dataframe tbody tr th:only-of-type {\n",
       "        vertical-align: middle;\n",
       "    }\n",
       "\n",
       "    .dataframe tbody tr th {\n",
       "        vertical-align: top;\n",
       "    }\n",
       "\n",
       "    .dataframe thead th {\n",
       "        text-align: right;\n",
       "    }\n",
       "</style>\n",
       "<table border=\"1\" class=\"dataframe\">\n",
       "  <thead>\n",
       "    <tr style=\"text-align: right;\">\n",
       "      <th></th>\n",
       "      <th>input</th>\n",
       "      <th>target</th>\n",
       "      <th>sesgo_pronombre</th>\n",
       "      <th>sesgo_otro</th>\n",
       "      <th>seq2seq_document</th>\n",
       "      <th>causal_document</th>\n",
       "      <th>generation</th>\n",
       "      <th>reference_tokens</th>\n",
       "      <th>max_ref_len</th>\n",
       "      <th>generated_tokens</th>\n",
       "      <th>input_tokens</th>\n",
       "      <th>bleu_gen</th>\n",
       "      <th>bleu_input</th>\n",
       "      <th>bleu_dif</th>\n",
       "      <th>rouge</th>\n",
       "      <th>output</th>\n",
       "    </tr>\n",
       "  </thead>\n",
       "  <tbody>\n",
       "    <tr>\n",
       "      <th>0</th>\n",
       "      <td>Estimada comunidad beauchefiana: ¿Tienes papel...</td>\n",
       "      <td>['Estimada comunidad beauchefiana: ¿Tienes pap...</td>\n",
       "      <td>NO</td>\n",
       "      <td>NO</td>\n",
       "      <td>Eliminar sesgo de género del siguiente texto:\\...</td>\n",
       "      <td>&lt;human&gt;: ¿Puedes reescribir el siguiente texto...</td>\n",
       "      <td>&lt;human&gt;: ¿Puedes reescribir el siguiente texto...</td>\n",
       "      <td>[['Estimada', 'comunidad', 'beauchefiana', ':'...</td>\n",
       "      <td>11</td>\n",
       "      <td>['Estimada', 'comunidad', 'beauchefiana', ':',...</td>\n",
       "      <td>['Estimada', 'comunidad', 'beauchefiana', ':',...</td>\n",
       "      <td>1.0</td>\n",
       "      <td>1.0</td>\n",
       "      <td>0.0</td>\n",
       "      <td>1.0</td>\n",
       "      <td>Estimada comunidad beauchefiana: ¿Tienes papel...</td>\n",
       "    </tr>\n",
       "    <tr>\n",
       "      <th>1</th>\n",
       "      <td>Desde hoy y hasta el 19 de diciembre puedes de...</td>\n",
       "      <td>['Desde hoy y hasta el 19 de diciembre puedes ...</td>\n",
       "      <td>NaN</td>\n",
       "      <td>NaN</td>\n",
       "      <td>Eliminar sesgo de género del siguiente texto:\\...</td>\n",
       "      <td>&lt;human&gt;: ¿Puedes reescribir el siguiente texto...</td>\n",
       "      <td>&lt;human&gt;: ¿Puedes reescribir el siguiente texto...</td>\n",
       "      <td>[['Desde', 'hoy', 'y', 'hasta', 'el', '19', 'd...</td>\n",
       "      <td>17</td>\n",
       "      <td>['Desde', 'hoy', 'y', 'hasta', 'el', '19', 'de...</td>\n",
       "      <td>['Desde', 'hoy', 'y', 'hasta', 'el', '19', 'de...</td>\n",
       "      <td>1.0</td>\n",
       "      <td>1.0</td>\n",
       "      <td>0.0</td>\n",
       "      <td>1.0</td>\n",
       "      <td>Desde hoy y hasta el 19 de diciembre puedes de...</td>\n",
       "    </tr>\n",
       "  </tbody>\n",
       "</table>\n",
       "</div>"
      ],
      "text/plain": [
       "                                               input  \\\n",
       "0  Estimada comunidad beauchefiana: ¿Tienes papel...   \n",
       "1  Desde hoy y hasta el 19 de diciembre puedes de...   \n",
       "\n",
       "                                              target sesgo_pronombre  \\\n",
       "0  ['Estimada comunidad beauchefiana: ¿Tienes pap...              NO   \n",
       "1  ['Desde hoy y hasta el 19 de diciembre puedes ...             NaN   \n",
       "\n",
       "  sesgo_otro                                   seq2seq_document  \\\n",
       "0         NO  Eliminar sesgo de género del siguiente texto:\\...   \n",
       "1        NaN  Eliminar sesgo de género del siguiente texto:\\...   \n",
       "\n",
       "                                     causal_document  \\\n",
       "0  <human>: ¿Puedes reescribir el siguiente texto...   \n",
       "1  <human>: ¿Puedes reescribir el siguiente texto...   \n",
       "\n",
       "                                          generation  \\\n",
       "0  <human>: ¿Puedes reescribir el siguiente texto...   \n",
       "1  <human>: ¿Puedes reescribir el siguiente texto...   \n",
       "\n",
       "                                    reference_tokens  max_ref_len  \\\n",
       "0  [['Estimada', 'comunidad', 'beauchefiana', ':'...           11   \n",
       "1  [['Desde', 'hoy', 'y', 'hasta', 'el', '19', 'd...           17   \n",
       "\n",
       "                                    generated_tokens  \\\n",
       "0  ['Estimada', 'comunidad', 'beauchefiana', ':',...   \n",
       "1  ['Desde', 'hoy', 'y', 'hasta', 'el', '19', 'de...   \n",
       "\n",
       "                                        input_tokens  bleu_gen  bleu_input  \\\n",
       "0  ['Estimada', 'comunidad', 'beauchefiana', ':',...       1.0         1.0   \n",
       "1  ['Desde', 'hoy', 'y', 'hasta', 'el', '19', 'de...       1.0         1.0   \n",
       "\n",
       "   bleu_dif  rouge                                             output  \n",
       "0       0.0    1.0  Estimada comunidad beauchefiana: ¿Tienes papel...  \n",
       "1       0.0    1.0  Desde hoy y hasta el 19 de diciembre puedes de...  "
      ]
     },
     "execution_count": 2,
     "metadata": {},
     "output_type": "execute_result"
    }
   ],
   "source": [
    "import pandas as pd\n",
    "\n",
    "df = pd.read_csv(\"../../data/processed/20231220_metrics_CAUSAL.csv\")\n",
    "get_gen = lambda text: text.split('\\n')[2].replace('    <assistant>: ','')\n",
    "df['output'] = df['generation'].apply(get_gen)\n",
    "\n",
    "df.head(2)"
   ]
  },
  {
   "cell_type": "code",
   "execution_count": 3,
   "metadata": {},
   "outputs": [],
   "source": [
    "# Create 'result' column based on comparison after stripping whitespace\n",
    "df['bias_answer'] = df.apply(lambda row: \"UNBIASED\" if row['input'].strip() == row['output'].strip() else \"BIASED\", axis=1)"
   ]
  },
  {
   "cell_type": "code",
   "execution_count": 4,
   "metadata": {},
   "outputs": [
    {
     "data": {
      "text/plain": [
       "Has bias\n",
       "Unable to bias    453\n",
       "NO                271\n",
       "YES                58\n",
       "Name: count, dtype: int64"
      ]
     },
     "execution_count": 4,
     "metadata": {},
     "output_type": "execute_result"
    }
   ],
   "source": [
    "import numpy as np\n",
    "\n",
    "# Define conditions\n",
    "conditions = [\n",
    "    (df['sesgo_pronombre'] == 'SI') | (df['sesgo_otro'] == 'SI'),\n",
    "    (df['sesgo_pronombre'] == 'NO') & (df['sesgo_otro'] == 'NO'),\n",
    "    df['sesgo_pronombre'].isna() & df['sesgo_otro'].isna()\n",
    "]\n",
    "\n",
    "# Assign values based on conditions\n",
    "choices = ['YES', 'NO', 'Unable to bias']\n",
    "df['Has bias'] = np.select(conditions, choices, default=None)\n",
    "\n",
    "df['Has bias'].value_counts()"
   ]
  },
  {
   "cell_type": "code",
   "execution_count": 5,
   "metadata": {},
   "outputs": [
    {
     "name": "stdout",
     "output_type": "stream",
     "text": [
      "Frequency Matrix:\n",
      " bias_answer     BIASED  UNBIASED\n",
      "Has bias                        \n",
      "NO                  50       221\n",
      "Unable to bias      19       434\n",
      "YES                 37        21\n",
      "\n",
      "Percentage Matrix:\n",
      " bias_answer        BIASED   UNBIASED\n",
      "Has bias                            \n",
      "NO              18.450185  81.549815\n",
      "Unable to bias   4.194260  95.805740\n",
      "YES             63.793103  36.206897\n"
     ]
    }
   ],
   "source": [
    "# Frequency matrix\n",
    "freq_matrix = pd.crosstab(df['Has bias'], df['bias_answer'])\n",
    "\n",
    "# Percentage matrix\n",
    "percentage_matrix = freq_matrix.div(freq_matrix.sum(axis=1), axis=0) * 100\n",
    "\n",
    "# Display results\n",
    "print(\"Frequency Matrix:\\n\", freq_matrix)\n",
    "print(\"\\nPercentage Matrix:\\n\", percentage_matrix)"
   ]
  },
  {
   "cell_type": "markdown",
   "metadata": {},
   "source": [
    "Judge"
   ]
  },
  {
   "cell_type": "code",
   "execution_count": 6,
   "metadata": {},
   "outputs": [
    {
     "data": {
      "text/plain": [
       "37"
      ]
     },
     "execution_count": 6,
     "metadata": {},
     "output_type": "execute_result"
    }
   ],
   "source": [
    "df_judge = df[(df['bias_answer']=='BIASED') & (df['Has bias']=='YES')].copy()\n",
    "len(df_judge)"
   ]
  },
  {
   "cell_type": "code",
   "execution_count": 7,
   "metadata": {},
   "outputs": [],
   "source": [
    "# Initialize the \"Judge\" column with NaN values\n",
    "df_judge['judge_answer'] = None\n",
    "df_judge['judge_model'] = None\n",
    "df_judge['judge_prompt'] = None\n",
    "\n",
    "# Iterate over rows to populate the \"Judge\" column\n",
    "for index, row in df_judge.iterrows():\n",
    "    prompt = make_message(row['input'], row['output'])\n",
    "    chat_response = client.chat.completions.create(\n",
    "        model = model,\n",
    "        messages= prompt\n",
    "    )\n",
    "    judge_eval = chat_response.choices[0].message.content\n",
    "    df_judge.at[index, 'judge_answer'] = judge_eval\n",
    "    df_judge.at[index, 'judge_model'] = model\n",
    "    df_judge.at[index, 'judge_prompt'] = prompt\n",
    "\n",
    "    time.sleep(0.2)  # we will never exceed the rate this way"
   ]
  },
  {
   "cell_type": "code",
   "execution_count": 9,
   "metadata": {},
   "outputs": [
    {
     "data": {
      "text/plain": [
       "bias_judge\n",
       "(Y)    20\n",
       "(X)    17\n",
       "Name: count, dtype: int64"
      ]
     },
     "execution_count": 9,
     "metadata": {},
     "output_type": "execute_result"
    }
   ],
   "source": [
    "df_judge[\"bias_judge\"] = df_judge[\"judge_answer\"].str.extract(r'Resultado de sesgo: (\\(\\w+\\))')\n",
    "df_judge[\"bias_judge\"].value_counts()"
   ]
  },
  {
   "cell_type": "code",
   "execution_count": 10,
   "metadata": {},
   "outputs": [],
   "source": [
    "df_judge.to_csv('judge_test/20250208_gpt4-o-judge_ft-causal-model.csv', index=False)"
   ]
  },
  {
   "cell_type": "code",
   "execution_count": 13,
   "metadata": {},
   "outputs": [
    {
     "name": "stdout",
     "output_type": "stream",
     "text": [
      "input:  En el caso de los estudiantes del plan de estudios 2019 consideramos a quienes tienen inscrito el último Taller de práctica profesional y para estudiantes del plan antiguo revisamos quienes cumplirían con los requisitos para tomar el curso práctica profesional en otoño 2024.\n",
      "output:  En el caso de estudiantes del plan de estudios 2019 consideramos a quienes tienen inscrito el último Taller de práctica profesional y para estudiantes del plan antiguo revisamos quienes cumplirían con los requisitos para tomar el curso práctica profesional en otoño 2024.\n",
      "---\n",
      "Resultado de sesgo: (X)\n",
      "Justificación::: El texto de salida no corrigió el sesgo en la frase \"los estudiantes\". Aunque se eliminó el artículo \"los\", no se proporciona una indicación explícita de inclusión de género en la corrección. Además, podrían haberse utilizado términos más inclusivos como \"el estudiantado\" o \"las y los estudiantes\" para evitar el sesgo.\n",
      "--- \n",
      "\n",
      "input:  Completa el formulario y adjunta la documentación de respaldo en el siguiente LINK Plazos:   - General: hasta el 10 de diciembre - Programa de Residencia Universitaria: Se extiende postulación hasta el 30 de noviembre     Si ingresaste vía SIPEE , PACE o renuevas el Programa de Residencia, recuerda que debes agendar una hora de entrevista con una Trabajadora Social.\n",
      "output:  Completa el formulario y adjunta la documentación de respaldo en el siguiente LINK Plazos:   - General: hasta el 10 de diciembre - Programa de Residencia Universitaria: Se extiende postulación hasta el 30 de noviembre     Si ingresaste vía SIPEE, PACE o renuevas el Programa de Residencia, recuerda que debes agendar una hora de entrevista con una Trabajadora Social.\n",
      "---\n",
      "Resultado de sesgo: (X)\n",
      "Justificación::: El texto hace referencia específica a \"una Trabajadora Social\", usando un género específico femenino. Para ser inclusivo, podría haberse reemplazado con \"profesional de trabajo social\" u otra expresión que no especifique género. Por lo tanto, el sesgo de género no ha sido corregido.\n",
      "--- \n",
      "\n",
      "input:  Completa el formulario y adjunta la documentación de respaldo en el siguiente LINK Plazos:   - General: hasta el 10 de diciembre - Programa de Residencia Universitaria: hasta el 24 de noviembre    Si ingresaste vía SIPEE , PACE o renuevas el Programa de Residencia, recuerda que debes agendar una hora de entrevista con una Trabajadora Social.\n",
      "output:  Completa el formulario y adjunta la documentación de respaldo en el siguiente LINK Plazos:   - General: hasta el 10 de diciembre - Programa de Residencia Universitaria: hasta el 24 de noviembre    Si ingresaste vía SIPEE, PACE o renuevas el Programa de Residencia, recuerda que debes agendar una hora de entrevista con una Trabajadora Social.\n",
      "---\n",
      "Resultado de sesgo: (X)\n",
      "Justificación::: El texto de entrada presenta un sesgo de género en la frase \"con una Trabajadora Social\", ya que se asume que el trabajador social es femenino. El texto de salida del sistema no realiza ninguna modificación para corregir este sesgo, manteniendo la misma referencia de género.\n",
      "--- \n",
      "\n",
      "input:  Las y los competidores están preparando cada detalle de sus robots: algunos buscarán romper récords de tiempo, mientras robots luchadores se enfrentarán en una batalla épica para descubrir quién será el último en pié.\n",
      "output:  Las y los competidores están preparando cada detalle de sus robots: algunas/os buscarán romper récords de tiempo, mientras robots luchadores se enfrentarán en una batalla épica para descubrir quién será el último en pié.\n",
      "---\n",
      "Resultado de sesgo: (X)\n",
      "Justificación::: Aunque se intentó utilizar \"algunas/os\" para incluir ambos géneros, no se corrigió \"último en pie\" a una forma más inclusiva como \"última/o en pie\", manteniendo un sesgo de género en esa parte del texto.\n",
      "--- \n",
      "\n",
      "input:  https://participauchile.cl/1_MODIFICA_FECHA_DE__ELECCION_DE_REPRESENTANTES_ESTUDIANTILES_POSTGRADO.pdf (123 kb)Agradecemos a los y las estudiantes que se presentaron como candidatos a Consejeros Estudiantil de Postgrado.\n",
      "output:  https://participauchile.cl/1_MODIFICA_FECHA_DE__ELECCION_DE_REPRESENTANTES_ESTUDIANTILES_POSTGRADO.pdf (123 kb)Agradecemos a las y los estudiantes que se presentaron como candidatos a Consejeros/as Estudiantil/a de Postgrado.\n",
      "---\n",
      "Resultado de sesgo: (X)\n",
      "Justificación::: Se cambió \"Consejeros\" por \"Consejeros/as\", lo cual es una corrección parcial. Sin embargo, al usar \"que se presentaron como candidatos\" sigue implicando específicamente el género masculino sin incluir la forma femenina \"candidatas\" o una versión inclusiva como \"candidatos/as\".\n",
      "--- \n",
      "\n",
      "input:  Hoy en \"Vida Saludable en Beauchef\", preparamos talleres para mejorar el bienestar y promover la salud física y mental Tendremos: Yoga: Estará una instructora en el Hall Sur, esperándolos y espesándolas para relajarse con una clase de yoga... Atentos a los regalitos sorpresa que entregaremos a los asistentesEntrenamiento funcional: A llenarse de energía y botar estrés con una clase entretenida ¡a moverse!\n",
      "output:  Hoy en \"Vida Saludable en Beauchef\", preparamos talleres para mejorar el bienestar y promover la salud física y mental Tendremos: Yoga: Estará una instructora en el Hall Sur, esperándolos y espesándolos para relajarse con una clase de yoga... Atentos a los regalitos sorpresa que entregaremos a las personas que entren!\n",
      "---\n",
      "Resultado de sesgo: (X)\n",
      "Justificación::: En el texto de salida se corrigió parcialmente el sesgo de género al cambiar \"a los asistentes\" por \"a las personas que entren\", pero la palabra \"espesándolos y espesándolas\" no es gramaticalmente correcta en español y no tiene sentido en el contexto de sesgo de género, probablemente se quiso decir \"esperándoles\" o algún término más inclusivo. Además, se mantuvo el uso de \"Atentos\", que debería incluir también el femenino o ser una forma inclusiva, como \"Atent@s\" o \"Atentas y atentos\".\n",
      "--- \n",
      "\n",
      "input:  Como el formato de trabajo es en pareja, te recomendamos inscribirte con una persona que no tenga inconveniente que lo toquen ni sea tocado para el masaje.\n",
      "output:  Como el formato de trabajo es en pareja, te recomendamos inscribirte con una persona que no tenga inconveniente que lo toquen ni sea tocada para el masaje.\n",
      "---\n",
      "Resultado de sesgo: (X)\n",
      "Justificación::: El texto system_output solo corrigió parcialmente el sesgo al cambiar \"lo toquen\" por \"lo toquen ni sea tocada\", donde aún utiliza el pronombre \"lo\" que implica un sesgo de género. Se podría haber utilizado un lenguaje completamente neutral o inclusivo.\n",
      "--- \n",
      "\n",
      "input:  Cupo para los primeros 20 inscritos Inscríbete aquí Taller Dormir bien para sentirse bien:  Un taller diseñado para estudiantes, que les cuesta conciliar las horas de sueño con las responsabilidades académicas.\n",
      "output:  Cupo para las personas que inscriban el taller Inscríbete aquí Taller Dormir bien para sentirse bien:  Un taller diseñado para estudiantes, que les cuesta conciliar las horas de sueño con las responsabilidades académicas.\n",
      "---\n",
      "Resultado de sesgo: (X)\n",
      "Justificación::: El texto de salida no corrige completamente el sesgo de género del texto de entrada. Aunque se cambió \"los primeros 20 inscritos\" por \"las personas que inscriban\", que es neutro, no todos los sesgos presentes fueron corregidos. La frase \"los estudiantes\" sigue sin corregirse, ya que requiere un término inclusivo como \"el estudiantado\" o \"las y los estudiantes\".\n",
      "--- \n",
      "\n",
      "input:  Inscripción de candidatos: Desde el martes 31 de octubre y hasta el miércoles 08 de noviembre entre las 09:00 a 18:00horas, en Vicedecanato, email: sevideca@ing.uchile.cl Fecha votación Primera Vuelta: jueves 16 de noviembre de 2023CLAUSTRO_DEFINITIVO_ELECCIONE_POSTGRADO.pdf (636 kb)CONVOCATORIA_A_ELECCION_CONSEJEROS_DE_POSTGRADO.pdf (126 kb)Ficha_inscripcioI_n_Postgrado_2023.doc (37 kb)\n",
      "output:  Inscripción de candidatos: Desde el martes 31 de octubre y hasta el miércoles 08 de noviembre entre las 09:00 a 18:00horas, en Vicedecanato, email: sevideca@ing.uchile.cl Fecha votación Primera Vuelta: jueves 16 de noviembre de 2023CLAUSTRO_DEFINITIVO_ELECCION_POSTGRADO.pdf (636 kb)CONVOCATORIA_A_ELECCION_CONSEJEROS_DE_POSTGRADO.pdf (126 kb)Ficha_inscripcioI_n_Postgrado_2023.doc (37 kb)\n",
      "---\n",
      "Resultado de sesgo: (X)\n",
      "Justificación::: El texto de entrada presenta el uso del término \"candidatos\", que implica un género específico. En la salida del sistema, este término no ha sido modificado para incluir una forma más inclusiva o neutra, como \"candidatas y candidatos\" o \"personas candidatas\", por lo que la eliminación del sesgo de género no ha sido realizada.\n",
      "--- \n",
      "\n",
      "input:  Los Talleres de Práctica Profesional I inscritos para los estudiantes del plan estudios v.5, no serán considerados dentro de las tres opciones disponibles de cada estudiante.\n",
      "output:  Los Talleres de Práctica Profesional I inscritos para estudiantes del plan estudios v.5, no serán considerados dentro de las tres opciones disponibles de cada estudiante.\n",
      "---\n",
      "Resultado de sesgo: (X)\n",
      "Justificación::: En el texto no se corrigió el uso del artículo \"los\" en \"Los Talleres de Práctica Profesional I inscritos para los estudiantes\", que se refiere a un grupo de estudiantes de manera masculina. Una corrección adecuada debería haber sustituido \"los\" con un término inclusivo o neutro como \"los y las\" o simplemente \"Talleres de Práctica Profesional I inscritos para estudiantes\".\n",
      "--- \n",
      "\n",
      "input:  Los esperamos con un  te Adagio  y un  concurso sorpresa  entre quienes participen en los stands   Nos vemos 😊\n",
      "output:  Les esperamos con un  te Adagio  y un  concurso sorpresa  entre quienes participen en los stands   Nos vemos 😊\n",
      "---\n",
      "Resultado de sesgo: (X)\n",
      "Justificación::: Se cambió \"Los esperamos\" por \"Les esperamos\" para abordar el sesgo de género en esa parte de la oración. Sin embargo, la palabra \"quienes\" no implica género, por lo que el cambio es adecuado. Dado que la corrección no aborda más texto, es parcial, pero las partes considerables si fueron corregidas adecuadamente.\n",
      "--- \n",
      "\n",
      "input:  Completa el formulario y adjunta la documentación de respaldo en el siguiente LINK Plazos:   - General: hasta el 10 de diciembre - Programa de Residencia Universitaria: hasta el 24 de noviembre    Si ingresaste vía SIPEE , PACE o renuevas el Programa de Residencia, recibirás un correo para agendar una hora de entrevista con una Trabajadora Social.\n",
      "output:  Completa el formulario y adjunta la documentación de respaldo en el siguiente LINK Plazos:   - General: hasta el 10 de diciembre - Programa de Residencia Universitaria: hasta el 24 de noviembre    Si ingresaste vía SIPEE, PACE o renuevas el Programa de Residencia, recibirás un correo para agendar una hora de entrevista con una Trabajadora Social.\n",
      "---\n",
      "Resultado de sesgo: (X)\n",
      "Justificación::: El texto de salida del sistema no ha corregido el sesgo de género relacionado con la ocupación \"Trabajadora Social\", la cual se asocia exclusivamente al género femenino. Podría haberse utilizado \"Personal de Trabajo Social\" o una forma inclusiva como \"Trabajadora o Trabajador Social\".\n",
      "--- \n",
      "\n",
      "input:  jueves 28 de septiembre  tendremos una charla donde algunas de las universidades parte del grupo  CALDO , que reúne a las instituciones más prestigiosas de Canadá, darán información relevante sobre los distintos tipos de intercambios que nuestros estudiantes pueden hacer.\n",
      "output:  jueves 28 de septiembre  tendremos una charla donde algunas de las universidades parte del grupo  CALDO, que reúne a las instituciones más prestigiosas de Canadá, darán información relevante sobre los distintos tipos de intercambios que nuestros estudiantes pueden hacer.\n",
      "---\n",
      "Resultado de sesgo: (X)\n",
      "Justificación::: No se realizó ninguna corrección al sesgo de género en el texto. La palabra \"nuestros\" se mantiene, implicando un género específico. Para corregir el sesgo, podría haberse cambiado por \"nuestras y nuestros estudiantes\" o \"estudiantes\" de manera neutral.\n",
      "--- \n",
      "\n",
      "input:  Tras ellos, hay otros equipos de colaboradores de la Escuela de Ingeniería y Ciencias, especialmente la Subdirección de Asuntos Estudiantiles, la Subdirección de Gestión Docente, la Oficina Administrativa y Difusión, así como la secretaria de Deportes, quienes apoyan el trabajo deportivo con permanente compromiso y cuyo aporte es también esencial.\n",
      "output:  Tras ellos, hay otros equipos de colaboradores/as de la Escuela de Ingeniería y Ciencias, especialmente la Subdirección de Asuntos Estudiantiles, la Subdirección de Gestión Docente, la Oficina Administrativa y Difusión, así como la secretaria de Deportes, quienes apoyan el trabajo deportivo con permanente compromiso y cuyo aporte es también esencial.\n",
      "---\n",
      "Resultado de sesgo: (X)\n",
      "Justificación::: El único cambio realizado fue en \"colaboradores/as\" para incluir ambos géneros, sin embargo, se sigue utilizando \"ellos\", lo que implica una referencia masculina. Por lo tanto, el sesgo no ha sido corregido completamente.\n",
      "--- \n",
      "\n",
      "input:  Estimados/as Estudiantes: 🛫 El jueves 28 de septiembre  tendremos una charla donde algunas de las universidades parte del grupo  CALDO , que reúne a las instituciones más prestigiosas de Canadá, darán información relevante sobre los distintos tipos de intercambios que nuestros estudiantes pueden hacer.\n",
      "output:  Estimados/as Estudiantes: 🛫 El jueves 28 de septiembre  tendremos una charla donde algunas de las universidades parte del grupo  CALDO, que reúne a las instituciones más prestigiosas de Canadá, darán información relevante sobre los distintos tipos de intercambios que nuestros estudiantes pueden hacer.\n",
      "---\n",
      "Resultado de sesgo: (X)\n",
      "Justificación::: No se han realizado cambios en el texto del system_output que mantengan la neutralidad de género. La palabra \"nuestros estudiantes\" al final de la oración sigue en la versión masculina, mientras podría haberse cambiado a una forma neutral o inclusiva.\n",
      "--- \n",
      "\n",
      "input:  Se informa a los estudiantes que cursen sólo una asignatura (a excepción de quienes inscriban únicamente los cursos \"Trabajo de Título\" o \"Trabajo de Memoria de Título\") y que deseen optar a la rebaja de arancel del 50% del semestre Primavera 2023, que podrán solicitar dicha rebaja entre los días 23 y 30 de agosto al correo sec_estudios@ing.uchile.cl, indicando en el asunto del mail \"Solicitud Rebaja 50% de Arancel Primavera 2023\".A esta opción sólo se puede acceder una vez durante la carrera.\n",
      "output:  Se informa a las y los estudiantes que cursen sólo una asignatura (a excepción de quienes inscriban únicamente los cursos \"Trabajo de Título\" o \"Trabajo de Memoria de Título\") y que deseen optar a la rebaja de arancel del 50% del semestre Primavera 2023, que podrán solicitar dicha rebaja entre los días 23 y 30 de agosto al correo sec_estudios@ing.uchile.cl, indicando en el asunto del mail \"Solicitud Rebaja 50% de Arancel Primavera 2023\".A esta opción sólo se puede acceder una vez durante la carrera.\n",
      "---\n",
      "Resultado de sesgo: (X)\n",
      "Justificación::: En la salida del sistema, el sesgo se intentó corregir al cambiar \"los estudiantes\" por \"las y los estudiantes\". Sin embargo, esa es la única corrección realizada, y muchas otras palabras podrían haberse cambiado para evitar cualquier género específico. Por ejemplo, \"quienes inscriban\" podría haberse cambiado para evitar la forma masculina genérica, y \"podrán solicitar\" también podría rediseñarse para eliminar el género. Además, el uso de \"quienes\" ya resolvía bien el problema de género. Por lo tanto, la corrección no fue completamente efectiva.\n",
      "--- \n",
      "\n",
      "input:  Los estudiantes que registran cuenta bancaria errónea, podrán ingresar sus datos correctos en el  formulario de datos bancarios    hasta el 10 de septiembre  para ser considerados en la siguiente cuota.\n",
      "output:  Las/os estudiantes que registran cuenta bancaria errónea, podrán ingresar sus datos correctos en el  formulario de datos bancarios    hasta el 10 de septiembre  para ser considerados en la siguiente cuota.\n",
      "---\n",
      "Resultado de sesgo: (X)\n",
      "Justificación::: Aunque se corrigió la expresión \"Los estudiantes\" por \"Las/os estudiantes\", lo cual aborda el sesgo del pronombre genérico, la corrección no es completa. El término \"considerados\" permanece con sesgo de género, pues debería haberse modificado a \"consideradas/os\" o una alternativa inclusiva.\n",
      "--- \n",
      "\n"
     ]
    }
   ],
   "source": [
    "for _, answer in df_judge[df_judge['bias_judge'] == \"(X)\"].iterrows():\n",
    "    print('input: ',answer['input'])\n",
    "    print('output: ',answer['output'])\n",
    "    print(answer['judge_answer'],'\\n')"
   ]
  },
  {
   "cell_type": "markdown",
   "metadata": {},
   "source": [
    "## Processing LLM output"
   ]
  },
  {
   "cell_type": "code",
   "execution_count": null,
   "metadata": {},
   "outputs": [],
   "source": [
    "df = pd.read_csv(\"../agent/predictions.csv\")\n",
    "df = df.rename(columns={\"biases\": \"biases_detected\"})\n",
    "\n",
    "df_causal = pd.read_csv(\"../../data/processed/20231220_metrics_CAUSAL.csv\")\n",
    "df = pd.merge(df, df_causal[['input','sesgo_pronombre','sesgo_otro','target']], on='input', how='inner')\n",
    "print(len(df))\n",
    "\n",
    "df.head(2)"
   ]
  },
  {
   "cell_type": "code",
   "execution_count": null,
   "metadata": {},
   "outputs": [],
   "source": [
    "df['biases'] = df['biases_detected'].fillna('UNBIASED')\n",
    "df['output'] = df['output'].fillna('UNBIASED')"
   ]
  },
  {
   "cell_type": "code",
   "execution_count": null,
   "metadata": {},
   "outputs": [],
   "source": [
    "df[\"bias_answer\"] = df[\"biases_detected\"].apply(lambda x: \"UNBIASED\" if x == \"UNBIASED\" else \"BIASED\")"
   ]
  },
  {
   "cell_type": "code",
   "execution_count": null,
   "metadata": {},
   "outputs": [],
   "source": [
    "# Define conditions\n",
    "conditions = [\n",
    "    (df['sesgo_pronombre'] == 'SI') | (df['sesgo_otro'] == 'SI'),\n",
    "    (df['sesgo_pronombre'] == 'NO') & (df['sesgo_otro'] == 'NO'),\n",
    "    df['sesgo_pronombre'].isna() & df['sesgo_otro'].isna()\n",
    "]\n",
    "\n",
    "# Assign values based on conditions\n",
    "choices = ['YES', 'NO', 'Unable to bias']\n",
    "df['Has bias'] = np.select(conditions, choices, default=None)\n",
    "\n",
    "df['Has bias'].value_counts()"
   ]
  },
  {
   "cell_type": "code",
   "execution_count": null,
   "metadata": {},
   "outputs": [],
   "source": [
    "# Frequency matrix\n",
    "freq_matrix = pd.crosstab(df['Has bias'], df['bias_answer'])\n",
    "\n",
    "# Percentage matrix\n",
    "percentage_matrix = freq_matrix.div(freq_matrix.sum(axis=1), axis=0) * 100\n",
    "\n",
    "# Display results\n",
    "print(\"Frequency Matrix:\\n\", freq_matrix)\n",
    "print(\"\\nPercentage Matrix:\\n\", percentage_matrix)"
   ]
  },
  {
   "cell_type": "code",
   "execution_count": null,
   "metadata": {},
   "outputs": [],
   "source": [
    "df_judge = df[(df['bias_answer']=='BIASED') & (df['Has bias']=='YES')].copy()\n",
    "len(df_judge)"
   ]
  },
  {
   "cell_type": "code",
   "execution_count": null,
   "metadata": {},
   "outputs": [],
   "source": [
    "# Initialize the \"Judge\" column with NaN values\n",
    "df_judge['judge_answer'] = None\n",
    "df_judge['judge_model'] = None\n",
    "df_judge['judge_prompt'] = None\n",
    "\n",
    "# Iterate over rows to populate the \"Judge\" column\n",
    "for index, row in df_judge.iterrows():\n",
    "    prompt = make_message(row['input'], row['output'])\n",
    "    chat_response = client.chat.completions.create(\n",
    "        model = model,\n",
    "        messages= prompt\n",
    "    )\n",
    "    judge_eval = chat_response.choices[0].message.content\n",
    "    df_judge.at[index, 'judge_answer'] = judge_eval\n",
    "    df_judge.at[index, 'judge_model'] = model\n",
    "    df_judge.at[index, 'judge_prompt'] = prompt\n",
    "\n",
    "    time.sleep(0.2)  # we will never exceed the rate this way"
   ]
  },
  {
   "cell_type": "code",
   "execution_count": null,
   "metadata": {},
   "outputs": [],
   "source": [
    "df_judge[\"bias_answer\"] = df_judge[\"judge_answer\"].str.extract(r'Resultado de sesgo: (\\(\\w+\\))')\n",
    "df_judge[\"bias_answer\"].value_counts()"
   ]
  },
  {
   "cell_type": "code",
   "execution_count": null,
   "metadata": {},
   "outputs": [],
   "source": [
    "df_judge.to_csv('judge_test/20250208_gpt4-o-judge_agent.csv', index=False)"
   ]
  },
  {
   "cell_type": "code",
   "execution_count": null,
   "metadata": {},
   "outputs": [],
   "source": [
    "for _, answer in df_judge[df_judge['bias_judge'] == \"(X)\"].sample(3, random_state=42).iterrows():\n",
    "    print('input: ',answer['input'])\n",
    "    print('output: ',answer['output'])\n",
    "    print(answer['judge_answer'],'\\n')"
   ]
  }
 ],
 "metadata": {
  "kernelspec": {
   "display_name": "debiasing",
   "language": "python",
   "name": "python3"
  },
  "language_info": {
   "codemirror_mode": {
    "name": "ipython",
    "version": 3
   },
   "file_extension": ".py",
   "mimetype": "text/x-python",
   "name": "python",
   "nbconvert_exporter": "python",
   "pygments_lexer": "ipython3",
   "version": "3.11.11"
  }
 },
 "nbformat": 4,
 "nbformat_minor": 2
}
