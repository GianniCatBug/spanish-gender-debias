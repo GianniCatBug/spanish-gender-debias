{
 "cells": [
  {
   "cell_type": "markdown",
   "metadata": {},
   "source": [
    "# Evaluation using BERTscore\n",
    "\n",
    "[Source](https://huggingface.co/spaces/evaluate-metric/bertscore)"
   ]
  },
  {
   "cell_type": "code",
   "execution_count": 1,
   "metadata": {},
   "outputs": [
    {
     "data": {
      "text/html": [
       "<div>\n",
       "<style scoped>\n",
       "    .dataframe tbody tr th:only-of-type {\n",
       "        vertical-align: middle;\n",
       "    }\n",
       "\n",
       "    .dataframe tbody tr th {\n",
       "        vertical-align: top;\n",
       "    }\n",
       "\n",
       "    .dataframe thead th {\n",
       "        text-align: right;\n",
       "    }\n",
       "</style>\n",
       "<table border=\"1\" class=\"dataframe\">\n",
       "  <thead>\n",
       "    <tr style=\"text-align: right;\">\n",
       "      <th></th>\n",
       "      <th>input</th>\n",
       "      <th>biases</th>\n",
       "      <th>scores</th>\n",
       "      <th>debias_reasoning</th>\n",
       "      <th>output</th>\n",
       "      <th>index</th>\n",
       "      <th>url</th>\n",
       "    </tr>\n",
       "  </thead>\n",
       "  <tbody>\n",
       "    <tr>\n",
       "      <th>0</th>\n",
       "      <td>Horario de atención de lunes a jueves de 09:00...</td>\n",
       "      <td>UNBIASED</td>\n",
       "      <td>1.0</td>\n",
       "      <td>NaN</td>\n",
       "      <td>UNBIASED</td>\n",
       "      <td>21000</td>\n",
       "      <td>detalle?id=8391</td>\n",
       "    </tr>\n",
       "    <tr>\n",
       "      <th>1</th>\n",
       "      <td>El Segundo proceso de modificación, permanecer...</td>\n",
       "      <td>UNBIASED</td>\n",
       "      <td>1.0</td>\n",
       "      <td>NaN</td>\n",
       "      <td>UNBIASED</td>\n",
       "      <td>21001</td>\n",
       "      <td>detalle?id=8389</td>\n",
       "    </tr>\n",
       "    <tr>\n",
       "      <th>2</th>\n",
       "      <td>Unidad de Calidad de Vida Estudiantil te invit...</td>\n",
       "      <td>UNBIASED</td>\n",
       "      <td>1.0</td>\n",
       "      <td>NaN</td>\n",
       "      <td>UNBIASED</td>\n",
       "      <td>21002</td>\n",
       "      <td>detalle?id=8385</td>\n",
       "    </tr>\n",
       "    <tr>\n",
       "      <th>3</th>\n",
       "      <td>Es necesario el compromiso de acompañar a un m...</td>\n",
       "      <td>UNBIASED</td>\n",
       "      <td>1.0</td>\n",
       "      <td>NaN</td>\n",
       "      <td>UNBIASED</td>\n",
       "      <td>21003</td>\n",
       "      <td>detalle?id=8385</td>\n",
       "    </tr>\n",
       "    <tr>\n",
       "      <th>4</th>\n",
       "      <td>Cuenta con un pago mensual.</td>\n",
       "      <td>UNBIASED</td>\n",
       "      <td>1.0</td>\n",
       "      <td>NaN</td>\n",
       "      <td>UNBIASED</td>\n",
       "      <td>21004</td>\n",
       "      <td>detalle?id=8385</td>\n",
       "    </tr>\n",
       "  </tbody>\n",
       "</table>\n",
       "</div>"
      ],
      "text/plain": [
       "                                               input    biases scores  \\\n",
       "0  Horario de atención de lunes a jueves de 09:00...  UNBIASED    1.0   \n",
       "1  El Segundo proceso de modificación, permanecer...  UNBIASED    1.0   \n",
       "2  Unidad de Calidad de Vida Estudiantil te invit...  UNBIASED    1.0   \n",
       "3  Es necesario el compromiso de acompañar a un m...  UNBIASED    1.0   \n",
       "4                        Cuenta con un pago mensual.  UNBIASED    1.0   \n",
       "\n",
       "  debias_reasoning    output  index              url  \n",
       "0              NaN  UNBIASED  21000  detalle?id=8391  \n",
       "1              NaN  UNBIASED  21001  detalle?id=8389  \n",
       "2              NaN  UNBIASED  21002  detalle?id=8385  \n",
       "3              NaN  UNBIASED  21003  detalle?id=8385  \n",
       "4              NaN  UNBIASED  21004  detalle?id=8385  "
      ]
     },
     "execution_count": 1,
     "metadata": {},
     "output_type": "execute_result"
    }
   ],
   "source": [
    "import pandas as pd\n",
    "\n",
    "df = pd.read_csv(\"../agent/predictions.csv\")\n",
    "df.head()"
   ]
  },
  {
   "cell_type": "code",
   "execution_count": 2,
   "metadata": {},
   "outputs": [
    {
     "data": {
      "text/html": [
       "<div>\n",
       "<style scoped>\n",
       "    .dataframe tbody tr th:only-of-type {\n",
       "        vertical-align: middle;\n",
       "    }\n",
       "\n",
       "    .dataframe tbody tr th {\n",
       "        vertical-align: top;\n",
       "    }\n",
       "\n",
       "    .dataframe thead th {\n",
       "        text-align: right;\n",
       "    }\n",
       "</style>\n",
       "<table border=\"1\" class=\"dataframe\">\n",
       "  <thead>\n",
       "    <tr style=\"text-align: right;\">\n",
       "      <th></th>\n",
       "      <th>index</th>\n",
       "      <th>titulo</th>\n",
       "      <th>url</th>\n",
       "      <th>mensaje</th>\n",
       "      <th>fecha</th>\n",
       "      <th>frases</th>\n",
       "      <th>sesgo_pronombre</th>\n",
       "      <th>sesgo_otro</th>\n",
       "      <th>version_con_sesgo</th>\n",
       "      <th>version_sin_sesgo</th>\n",
       "      <th>potencialmente_sesgable_otro_sesgo</th>\n",
       "      <th>revisado</th>\n",
       "      <th>description_bias_removal</th>\n",
       "      <th>biased_words</th>\n",
       "      <th>unbiased_words</th>\n",
       "    </tr>\n",
       "  </thead>\n",
       "  <tbody>\n",
       "    <tr>\n",
       "      <th>0</th>\n",
       "      <td>13000</td>\n",
       "      <td>Micro-curso OpenLab Salud: desafío en interope...</td>\n",
       "      <td>detalle?id=25408</td>\n",
       "      <td>Estimad@s estudiantes: \\n\\n\\n\\nEl área de form...</td>\n",
       "      <td>2019-04-03 15:05:03</td>\n",
       "      <td>Quiénes pueden participar: Estudiantes de preg...</td>\n",
       "      <td>SI</td>\n",
       "      <td>NO</td>\n",
       "      <td>Quiénes pueden participar: Los Estudiantes de ...</td>\n",
       "      <td>Quiénes pueden participar: Estudiantes de preg...</td>\n",
       "      <td>NO</td>\n",
       "      <td>SI</td>\n",
       "      <td>Se eliminó el artículo \"Los\" para incluir a es...</td>\n",
       "      <td>Los</td>\n",
       "      <td>Estudiantes</td>\n",
       "    </tr>\n",
       "    <tr>\n",
       "      <th>1</th>\n",
       "      <td>13001</td>\n",
       "      <td>Micro-curso OpenLab Salud: desafío en interope...</td>\n",
       "      <td>detalle?id=25408</td>\n",
       "      <td>Estimad@s estudiantes: \\n\\n\\n\\nEl área de form...</td>\n",
       "      <td>2019-04-03 15:05:03</td>\n",
       "      <td>Estudiantes de pregrado de la Facultad de Medi...</td>\n",
       "      <td>SI</td>\n",
       "      <td>NO</td>\n",
       "      <td>Alumnos de pregrado de la Facultad de Medicina...</td>\n",
       "      <td>Estudiantes de pregrado de la Facultad de Medi...</td>\n",
       "      <td>NO</td>\n",
       "      <td>SI</td>\n",
       "      <td>Se reemplazó \"Alumnos\" por \"Estudiantes\" para ...</td>\n",
       "      <td>Alumnos</td>\n",
       "      <td>Estudiantes</td>\n",
       "    </tr>\n",
       "    <tr>\n",
       "      <th>2</th>\n",
       "      <td>13002</td>\n",
       "      <td>Micro-curso OpenLab Salud: desafío en interope...</td>\n",
       "      <td>detalle?id=25408</td>\n",
       "      <td>Estimad@s estudiantes: \\n\\n\\n\\nEl área de form...</td>\n",
       "      <td>2019-04-03 15:05:03</td>\n",
       "      <td>Estudiantes emprendedores.</td>\n",
       "      <td>SI</td>\n",
       "      <td>NO</td>\n",
       "      <td>Alumnos emprendedores.</td>\n",
       "      <td>Estudiantes emprendedoras/es</td>\n",
       "      <td>NO</td>\n",
       "      <td>SI</td>\n",
       "      <td>Se reemplazó \"Alumnos\" por \"Estudiantes empren...</td>\n",
       "      <td>Alumnos</td>\n",
       "      <td>Estudiantes emprendedoras/es</td>\n",
       "    </tr>\n",
       "    <tr>\n",
       "      <th>3</th>\n",
       "      <td>13003</td>\n",
       "      <td>Micro-curso OpenLab Salud: desafío en interope...</td>\n",
       "      <td>detalle?id=25408</td>\n",
       "      <td>Estimad@s estudiantes: \\n\\n\\n\\nEl área de form...</td>\n",
       "      <td>2019-04-03 15:05:03</td>\n",
       "      <td>*Todos los jueves del 25 de abril al 6 de juni...</td>\n",
       "      <td>NaN</td>\n",
       "      <td>NaN</td>\n",
       "      <td>NaN</td>\n",
       "      <td>NaN</td>\n",
       "      <td>NaN</td>\n",
       "      <td>SI</td>\n",
       "      <td>NaN</td>\n",
       "      <td>NaN</td>\n",
       "      <td>NaN</td>\n",
       "    </tr>\n",
       "    <tr>\n",
       "      <th>4</th>\n",
       "      <td>13004</td>\n",
       "      <td>Micro-curso OpenLab Salud: desafío en interope...</td>\n",
       "      <td>detalle?id=25408</td>\n",
       "      <td>Estimad@s estudiantes: \\n\\n\\n\\nEl área de form...</td>\n",
       "      <td>2019-04-03 15:05:03</td>\n",
       "      <td>Revisa el programa completo  https://bit.ly/2U...</td>\n",
       "      <td>NaN</td>\n",
       "      <td>NaN</td>\n",
       "      <td>NaN</td>\n",
       "      <td>NaN</td>\n",
       "      <td>NaN</td>\n",
       "      <td>SI</td>\n",
       "      <td>NaN</td>\n",
       "      <td>NaN</td>\n",
       "      <td>NaN</td>\n",
       "    </tr>\n",
       "  </tbody>\n",
       "</table>\n",
       "</div>"
      ],
      "text/plain": [
       "   index                                             titulo               url  \\\n",
       "0  13000  Micro-curso OpenLab Salud: desafío en interope...  detalle?id=25408   \n",
       "1  13001  Micro-curso OpenLab Salud: desafío en interope...  detalle?id=25408   \n",
       "2  13002  Micro-curso OpenLab Salud: desafío en interope...  detalle?id=25408   \n",
       "3  13003  Micro-curso OpenLab Salud: desafío en interope...  detalle?id=25408   \n",
       "4  13004  Micro-curso OpenLab Salud: desafío en interope...  detalle?id=25408   \n",
       "\n",
       "                                             mensaje                fecha  \\\n",
       "0  Estimad@s estudiantes: \\n\\n\\n\\nEl área de form...  2019-04-03 15:05:03   \n",
       "1  Estimad@s estudiantes: \\n\\n\\n\\nEl área de form...  2019-04-03 15:05:03   \n",
       "2  Estimad@s estudiantes: \\n\\n\\n\\nEl área de form...  2019-04-03 15:05:03   \n",
       "3  Estimad@s estudiantes: \\n\\n\\n\\nEl área de form...  2019-04-03 15:05:03   \n",
       "4  Estimad@s estudiantes: \\n\\n\\n\\nEl área de form...  2019-04-03 15:05:03   \n",
       "\n",
       "                                              frases sesgo_pronombre  \\\n",
       "0  Quiénes pueden participar: Estudiantes de preg...              SI   \n",
       "1  Estudiantes de pregrado de la Facultad de Medi...              SI   \n",
       "2                         Estudiantes emprendedores.              SI   \n",
       "3  *Todos los jueves del 25 de abril al 6 de juni...             NaN   \n",
       "4  Revisa el programa completo  https://bit.ly/2U...             NaN   \n",
       "\n",
       "  sesgo_otro                                  version_con_sesgo  \\\n",
       "0         NO  Quiénes pueden participar: Los Estudiantes de ...   \n",
       "1         NO  Alumnos de pregrado de la Facultad de Medicina...   \n",
       "2         NO                             Alumnos emprendedores.   \n",
       "3        NaN                                                NaN   \n",
       "4        NaN                                                NaN   \n",
       "\n",
       "                                   version_sin_sesgo  \\\n",
       "0  Quiénes pueden participar: Estudiantes de preg...   \n",
       "1  Estudiantes de pregrado de la Facultad de Medi...   \n",
       "2                       Estudiantes emprendedoras/es   \n",
       "3                                                NaN   \n",
       "4                                                NaN   \n",
       "\n",
       "  potencialmente_sesgable_otro_sesgo revisado  \\\n",
       "0                                 NO       SI   \n",
       "1                                 NO       SI   \n",
       "2                                 NO       SI   \n",
       "3                                NaN       SI   \n",
       "4                                NaN       SI   \n",
       "\n",
       "                            description_bias_removal biased_words  \\\n",
       "0  Se eliminó el artículo \"Los\" para incluir a es...          Los   \n",
       "1  Se reemplazó \"Alumnos\" por \"Estudiantes\" para ...      Alumnos   \n",
       "2  Se reemplazó \"Alumnos\" por \"Estudiantes empren...      Alumnos   \n",
       "3                                                NaN          NaN   \n",
       "4                                                NaN          NaN   \n",
       "\n",
       "                 unbiased_words  \n",
       "0                   Estudiantes  \n",
       "1                   Estudiantes  \n",
       "2  Estudiantes emprendedoras/es  \n",
       "3                           NaN  \n",
       "4                           NaN  "
      ]
     },
     "execution_count": 2,
     "metadata": {},
     "output_type": "execute_result"
    }
   ],
   "source": [
    "from pathlib import Path\n",
    "\n",
    "data_path = '../../data/augmented'\n",
    "file_path = Path(data_path)\n",
    "\n",
    "dataframes = []\n",
    "for file in file_path.glob('*.xlsx'):\n",
    "    df_file = pd.read_excel(file)\n",
    "    dataframes.append(df_file)\n",
    "\n",
    "combined_df = pd.concat(dataframes, ignore_index=True)\n",
    "combined_df.head()"
   ]
  },
  {
   "cell_type": "code",
   "execution_count": 3,
   "metadata": {},
   "outputs": [
    {
     "data": {
      "text/plain": [
       "count     4668\n",
       "unique       7\n",
       "top         NO\n",
       "freq      2604\n",
       "Name: sesgo_pronombre, dtype: object"
      ]
     },
     "execution_count": 3,
     "metadata": {},
     "output_type": "execute_result"
    }
   ],
   "source": [
    "combined_df['sesgo_pronombre'].describe()"
   ]
  },
  {
   "cell_type": "code",
   "execution_count": 4,
   "metadata": {},
   "outputs": [
    {
     "data": {
      "text/plain": [
       "array(['SI', nan, 'SI ', 'NO', 'SI0', 'Si', 'No', 'a'], dtype=object)"
      ]
     },
     "execution_count": 4,
     "metadata": {},
     "output_type": "execute_result"
    }
   ],
   "source": [
    "combined_df['sesgo_pronombre'].unique()"
   ]
  },
  {
   "cell_type": "code",
   "execution_count": 5,
   "metadata": {},
   "outputs": [
    {
     "name": "stdout",
     "output_type": "stream",
     "text": [
      "Original length = 15959\n",
      "Length after removing NaNs = 948\n"
     ]
    }
   ],
   "source": [
    "print(f'Original length = {len(df)}')\n",
    "\n",
    "df = df.dropna(subset=['biases'])\n",
    "\n",
    "print(f'Length after removing NaNs = {len(df)}')"
   ]
  },
  {
   "cell_type": "code",
   "execution_count": null,
   "metadata": {},
   "outputs": [
    {
     "data": {
      "text/plain": [
       "948"
      ]
     },
     "execution_count": 6,
     "metadata": {},
     "output_type": "execute_result"
    }
   ],
   "source": [
    "merged_df = pd.merge(df, combined_df, on='index', how='inner')\n",
    "len(merged_df)"
   ]
  },
  {
   "cell_type": "code",
   "execution_count": 7,
   "metadata": {},
   "outputs": [
    {
     "name": "stdout",
     "output_type": "stream",
     "text": [
      "Number of corrected rows 290\n"
     ]
    }
   ],
   "source": [
    "df_corrected = merged_df[merged_df['output']!='UNBIASED']\n",
    "print(f'Number of corrected rows {len(df_corrected)}')"
   ]
  },
  {
   "cell_type": "markdown",
   "metadata": {},
   "source": [
    "Number of rows where the LLM corrected when it wasn't needed"
   ]
  },
  {
   "cell_type": "code",
   "execution_count": 8,
   "metadata": {},
   "outputs": [
    {
     "data": {
      "text/plain": [
       "21"
      ]
     },
     "execution_count": 8,
     "metadata": {},
     "output_type": "execute_result"
    }
   ],
   "source": [
    "len(df_corrected[(df_corrected['sesgo_pronombre']=='NO') & (df_corrected['sesgo_otro']=='NO')])"
   ]
  },
  {
   "cell_type": "code",
   "execution_count": 9,
   "metadata": {},
   "outputs": [
    {
     "data": {
      "text/plain": [
       "Index([ 52,  80, 107, 159, 160, 277, 282, 286, 290, 312, 370, 376, 472, 519,\n",
       "       520, 727, 728, 759, 900, 915, 940],\n",
       "      dtype='int64')"
      ]
     },
     "execution_count": 9,
     "metadata": {},
     "output_type": "execute_result"
    }
   ],
   "source": [
    "df_corrected[(df_corrected['sesgo_pronombre']=='NO') & (df_corrected['sesgo_otro']=='NO')].index"
   ]
  },
  {
   "cell_type": "markdown",
   "metadata": {},
   "source": [
    "A particular example where the model has corrected when it was not needed"
   ]
  },
  {
   "cell_type": "code",
   "execution_count": 12,
   "metadata": {},
   "outputs": [
    {
     "name": "stdout",
     "output_type": "stream",
     "text": [
      "input:  Para quienes no hayan renovado su fotografía para el proceso de Retarjetización, las direcciones y horarios de oficinas de atención JUNAEB son: Horario atención: lunes a viernes de 9:00 a 18:00 hrs.\n",
      "output:  Para las personas que no hayan renovado su fotografía para el proceso de Retarjetización, las direcciones y horarios de oficinas de atención JUNAEB son: Horario atención: lunes a viernes de 9:00 a 18:00 hrs.\n"
     ]
    }
   ],
   "source": [
    "print('input: ',df_corrected[(df_corrected['sesgo_pronombre']=='NO') & (df_corrected['sesgo_otro']=='NO')]['input'][52])\n",
    "print('output: ',df_corrected[(df_corrected['sesgo_pronombre']=='NO') & (df_corrected['sesgo_otro']=='NO')]['output'][52])"
   ]
  },
  {
   "cell_type": "code",
   "execution_count": 13,
   "metadata": {},
   "outputs": [
    {
     "name": "stdout",
     "output_type": "stream",
     "text": [
      "input:  Se informa a la comunidad estudiantil que quienes NO asistan al proceso de captura fotográfica correspondiente a la retarjetización de la Tarjeta Nacional Estudiantil, quedarán sin esta nueva versión desde el próximo año.\n",
      "output:  Se informa a toda la comunidad estudiantil que las personas que NO asistan al proceso de captura fotográfica correspondiente a la retarjetización de la Tarjeta Nacional Estudiantil, no podrán obtener esta nueva versión desde el próximo año.\n"
     ]
    }
   ],
   "source": [
    "print('input: ',df_corrected[(df_corrected['sesgo_pronombre']=='NO') & (df_corrected['sesgo_otro']=='NO')]['input'][107])\n",
    "print('output: ',df_corrected[(df_corrected['sesgo_pronombre']=='NO') & (df_corrected['sesgo_otro']=='NO')]['output'][107])"
   ]
  },
  {
   "cell_type": "markdown",
   "metadata": {},
   "source": [
    "### Example\n",
    "\n",
    "There are potentially many options for replacing a biased text. We will consider the highest similarity among all candidate options."
   ]
  },
  {
   "cell_type": "code",
   "execution_count": 14,
   "metadata": {},
   "outputs": [],
   "source": [
    "references = ['Se informa a la comunidad estudiantil que quienes NO asistan al proceso de captura fotográfica correspondiente a la retarjetización de la Tarjeta Nacional Estudiantil, quedarán sin esta nueva versión desde el próximo año.']\n",
    "predictions = ['Se informa a toda la comunidad estudiantil que las personas que NO asistan al proceso de captura fotográfica correspondiente a la retarjetización de la Tarjeta Nacional Estudiantil, no podrán obtener esta nueva versión desde el próximo año.' for _ in references]"
   ]
  },
  {
   "cell_type": "code",
   "execution_count": 15,
   "metadata": {},
   "outputs": [],
   "source": [
    "from evaluate import load\n",
    "bertscore = load(\"bertscore\")"
   ]
  },
  {
   "cell_type": "code",
   "execution_count": 16,
   "metadata": {},
   "outputs": [
    {
     "name": "stdout",
     "output_type": "stream",
     "text": [
      "{'precision': [0.9533587098121643], 'recall': [0.9690830707550049], 'f1': [0.9611566066741943], 'hashcode': 'bert-base-multilingual-cased_L9_no-idf_version=0.3.12(hug_trans=4.47.1)'}\n"
     ]
    }
   ],
   "source": [
    "results = bertscore.compute(predictions=predictions, references=references, model_type=\"bert-base-multilingual-cased\")\n",
    "print(results)"
   ]
  },
  {
   "cell_type": "markdown",
   "metadata": {},
   "source": [
    "Full evaluation"
   ]
  },
  {
   "cell_type": "code",
   "execution_count": 17,
   "metadata": {},
   "outputs": [
    {
     "data": {
      "text/plain": [
       "0                                                    NaN\n",
       "1                                                    NaN\n",
       "2      Unidad de Calidad de Vida Estudiantil les invi...\n",
       "3      Es necesario el compromiso de acompañar a una/...\n",
       "4                                                    NaN\n",
       "                             ...                        \n",
       "943                                                  NaN\n",
       "944                                                  NaN\n",
       "945                                                  NaN\n",
       "946    El Centro de Estudiantes de Ingeniería (CEI) l...\n",
       "947                                                  NaN\n",
       "Name: version_sin_sesgo, Length: 948, dtype: object"
      ]
     },
     "execution_count": 17,
     "metadata": {},
     "output_type": "execute_result"
    }
   ],
   "source": [
    "merged_df['version_sin_sesgo']"
   ]
  },
  {
   "cell_type": "code",
   "execution_count": 18,
   "metadata": {},
   "outputs": [
    {
     "name": "stdout",
     "output_type": "stream",
     "text": [
      "333\n"
     ]
    }
   ],
   "source": [
    "merged_df = merged_df.dropna(subset=['version_sin_sesgo'])\n",
    "print(len(merged_df))"
   ]
  },
  {
   "cell_type": "code",
   "execution_count": 21,
   "metadata": {},
   "outputs": [],
   "source": [
    "results = bertscore.compute(predictions=list(merged_df['output']), references=list(merged_df['version_sin_sesgo']), model_type=\"bert-base-multilingual-cased\")"
   ]
  },
  {
   "cell_type": "code",
   "execution_count": 23,
   "metadata": {},
   "outputs": [],
   "source": [
    "merged_df['precision'] = results['precision']\n",
    "merged_df['recall'] = results['recall']\n",
    "merged_df['f1'] = results['f1']"
   ]
  },
  {
   "cell_type": "code",
   "execution_count": 24,
   "metadata": {},
   "outputs": [
    {
     "data": {
      "text/plain": [
       "333"
      ]
     },
     "execution_count": 24,
     "metadata": {},
     "output_type": "execute_result"
    }
   ],
   "source": [
    "len(merged_df)"
   ]
  },
  {
   "cell_type": "code",
   "execution_count": 25,
   "metadata": {},
   "outputs": [],
   "source": [
    "def filter_best_scores(df, id_column, score_column):\n",
    "    \"\"\"\n",
    "    Reduces the dataframe to only the rows with the best score for each ID.\n",
    "\n",
    "    Parameters:\n",
    "    - df (pd.DataFrame): The original dataframe\n",
    "    - id_column (str): Name of the column containing unique IDs\n",
    "    - score_column (str): Name of the column containing the scores\n",
    "\n",
    "    Returns:\n",
    "    - pd.DataFrame: A filtered dataframe with the best score per ID\n",
    "    \"\"\"\n",
    "    # Find the maximum score for each ID_row\n",
    "    best_scores = df.groupby(id_column)[score_column].transform('max')\n",
    "    \n",
    "    # Filter the rows where the score matches the maximum score for each ID_row\n",
    "    filtered_df = df[df[score_column] == best_scores].copy(deep=True)\n",
    "    \n",
    "    return filtered_df"
   ]
  },
  {
   "cell_type": "code",
   "execution_count": 26,
   "metadata": {},
   "outputs": [
    {
     "data": {
      "text/plain": [
       "333"
      ]
     },
     "execution_count": 26,
     "metadata": {},
     "output_type": "execute_result"
    }
   ],
   "source": [
    "df_results = filter_best_scores(merged_df, 'index', 'f1')\n",
    "len(df_results)"
   ]
  },
  {
   "cell_type": "code",
   "execution_count": 27,
   "metadata": {},
   "outputs": [
    {
     "name": "stdout",
     "output_type": "stream",
     "text": [
      "precision \n",
      "\tmean: 0.8309580647909606\n",
      "\tstd: 0.16464016886510133\n",
      "\n",
      "recall \n",
      "\tmean: 0.7824891748371067\n",
      "\tstd: 0.20287524738079862\n",
      "\n",
      "f1 \n",
      "\tmean: 0.8046059384718314\n",
      "\tstd: 0.1852749454425095\n",
      "\n"
     ]
    }
   ],
   "source": [
    "import numpy as np\n",
    "\n",
    "for k in results.keys():\n",
    "    if not k == 'hashcode':\n",
    "        print(f'{k}',f'\\n\\tmean: {np.mean(df_results[k])}\\n\\tstd: {np.std(df_results[k])}\\n')"
   ]
  },
  {
   "cell_type": "markdown",
   "metadata": {},
   "source": [
    "Subtracting input"
   ]
  },
  {
   "cell_type": "code",
   "execution_count": 30,
   "metadata": {},
   "outputs": [],
   "source": [
    "results_input = bertscore.compute(\n",
    "    predictions=list(df_results['input']),\n",
    "    references=list(df_results['version_sin_sesgo']), model_type=\"bert-base-multilingual-cased\")\n",
    "df_results['precision_input'] = results_input['precision']\n",
    "df_results['recall_input'] = results_input['recall']\n",
    "df_results['f1_input'] = results_input['f1']\n",
    "\n",
    "df_results['precision_diff'] = df_results['precision'] - df_results['precision_input']\n",
    "df_results['recall_diff'] = df_results['recall'] - df_results['recall_input']\n",
    "df_results['f1_diff'] = df_results['f1'] - df_results['f1_input']"
   ]
  },
  {
   "cell_type": "code",
   "execution_count": 31,
   "metadata": {},
   "outputs": [
    {
     "name": "stdout",
     "output_type": "stream",
     "text": [
      "precision \n",
      "\tmean (diff): -0.147619934948357\n",
      "\tstd (diff): 0.16816722939475584\n",
      "\n",
      "recall \n",
      "\tmean (diff): -0.1812424785024053\n",
      "\tstd (diff): 0.2084570808405189\n",
      "\n",
      "f1 \n",
      "\tmean (diff): -0.16638319252489564\n",
      "\tstd (diff): 0.18992517879407717\n",
      "\n"
     ]
    }
   ],
   "source": [
    "for k in results.keys():\n",
    "    if not k == 'hashcode':\n",
    "        print(f'{k}',f\"\\n\\tmean (diff): {np.mean(df_results[k+'_diff'])}\\n\\tstd (diff): {np.std(df_results[k+'_diff'])}\\n\")"
   ]
  }
 ],
 "metadata": {
  "kernelspec": {
   "display_name": "debiasing",
   "language": "python",
   "name": "python3"
  },
  "language_info": {
   "codemirror_mode": {
    "name": "ipython",
    "version": 3
   },
   "file_extension": ".py",
   "mimetype": "text/x-python",
   "name": "python",
   "nbconvert_exporter": "python",
   "pygments_lexer": "ipython3",
   "version": "3.11.11"
  }
 },
 "nbformat": 4,
 "nbformat_minor": 2
}
