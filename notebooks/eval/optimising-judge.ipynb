{
 "cells": [
  {
   "cell_type": "markdown",
   "metadata": {},
   "source": [
    "# Tuning LLM-judge"
   ]
  },
  {
   "cell_type": "code",
   "execution_count": 1,
   "metadata": {},
   "outputs": [
    {
     "name": "stdout",
     "output_type": "stream",
     "text": [
      "Length of train set:  14400\n",
      "Length of eval set:  1600\n"
     ]
    },
    {
     "data": {
      "text/html": [
       "<div>\n",
       "<style scoped>\n",
       "    .dataframe tbody tr th:only-of-type {\n",
       "        vertical-align: middle;\n",
       "    }\n",
       "\n",
       "    .dataframe tbody tr th {\n",
       "        vertical-align: top;\n",
       "    }\n",
       "\n",
       "    .dataframe thead th {\n",
       "        text-align: right;\n",
       "    }\n",
       "</style>\n",
       "<table border=\"1\" class=\"dataframe\">\n",
       "  <thead>\n",
       "    <tr style=\"text-align: right;\">\n",
       "      <th></th>\n",
       "      <th>index</th>\n",
       "      <th>titulo</th>\n",
       "      <th>url</th>\n",
       "      <th>mensaje</th>\n",
       "      <th>fecha</th>\n",
       "      <th>frases</th>\n",
       "      <th>sesgo_pronombre</th>\n",
       "      <th>sesgo_otro</th>\n",
       "      <th>version_con_sesgo</th>\n",
       "      <th>version_sin_sesgo</th>\n",
       "      <th>potencialmente_sesgable_otro_sesgo</th>\n",
       "      <th>revisado</th>\n",
       "      <th>description_bias_removal</th>\n",
       "      <th>biased_words</th>\n",
       "      <th>unbiased_words</th>\n",
       "    </tr>\n",
       "  </thead>\n",
       "  <tbody>\n",
       "    <tr>\n",
       "      <th>0</th>\n",
       "      <td>14186</td>\n",
       "      <td>Atención Secretaría de Estudios jueves 4 de oc...</td>\n",
       "      <td>detalle?id=22733</td>\n",
       "      <td>Se informa a la comunidad estudiantil que el d...</td>\n",
       "      <td>2018-10-03 10:09:03</td>\n",
       "      <td>Se informa a la comunidad estudiantil que el d...</td>\n",
       "      <td>NO</td>\n",
       "      <td>SI</td>\n",
       "      <td>Se informa a todos los estudiantes  que el día...</td>\n",
       "      <td>Se informa a la comunidad estudiantil que el d...</td>\n",
       "      <td>SI</td>\n",
       "      <td>SI</td>\n",
       "      <td>Se reemplazó \"estudiantes\" por \"comunidad estu...</td>\n",
       "      <td>estudiantes</td>\n",
       "      <td>comunidad estudiantil, Alumn@s</td>\n",
       "    </tr>\n",
       "    <tr>\n",
       "      <th>1</th>\n",
       "      <td>2906</td>\n",
       "      <td>Comunicado FCFM: Extensión vacaciones invierno...</td>\n",
       "      <td>detalle?id=55461</td>\n",
       "      <td>Viernes 17 de junio de 2022 \\nEstimada comunid...</td>\n",
       "      <td>2022-06-17 11:22:17</td>\n",
       "      <td>Ésta permite el teletrabajo para funcionarias/...</td>\n",
       "      <td>NO</td>\n",
       "      <td>NO</td>\n",
       "      <td>Ésta permite el teletrabajo para funcionarios ...</td>\n",
       "      <td>Ésta permite el teletrabajo para funcionarias/...</td>\n",
       "      <td>SI</td>\n",
       "      <td>SI</td>\n",
       "      <td>Se incluyó la perspectiva femenina en \"funcion...</td>\n",
       "      <td>funcionarios, hijos</td>\n",
       "      <td>funcionarias/os, hijas/os</td>\n",
       "    </tr>\n",
       "    <tr>\n",
       "      <th>2</th>\n",
       "      <td>13936</td>\n",
       "      <td>Mañana en la FCFM - lunes 5 de noviembre</td>\n",
       "      <td>detalle?id=23285</td>\n",
       "      <td>WORKSHOP: \\n\\n\"Workshop en Macroeconomía\". \\n\\...</td>\n",
       "      <td>2018-10-31 17:07:31</td>\n",
       "      <td>Hora: 16:30 hrs Lugar: Auditorio DIE.</td>\n",
       "      <td>NaN</td>\n",
       "      <td>NaN</td>\n",
       "      <td>NaN</td>\n",
       "      <td>NaN</td>\n",
       "      <td>NaN</td>\n",
       "      <td>SI</td>\n",
       "      <td>NaN</td>\n",
       "      <td>NaN</td>\n",
       "      <td>NaN</td>\n",
       "    </tr>\n",
       "    <tr>\n",
       "      <th>3</th>\n",
       "      <td>14121</td>\n",
       "      <td>MAÑANA EN LA FCFM- Miércoles 10 de octubre de ...</td>\n",
       "      <td>detalle?id=22855</td>\n",
       "      <td>CHARLAS: \\n_x000D_\\n\"Dinámica controlada por l...</td>\n",
       "      <td>2018-10-09 17:19:09</td>\n",
       "      <td>Lugar: Patio central, Beauchef 851.</td>\n",
       "      <td>NaN</td>\n",
       "      <td>NaN</td>\n",
       "      <td>NaN</td>\n",
       "      <td>NaN</td>\n",
       "      <td>NO</td>\n",
       "      <td>SI</td>\n",
       "      <td>NaN</td>\n",
       "      <td>NaN</td>\n",
       "      <td>NaN</td>\n",
       "    </tr>\n",
       "    <tr>\n",
       "      <th>4</th>\n",
       "      <td>23320</td>\n",
       "      <td>Cierre SEMDA, viernes 18 de enero</td>\n",
       "      <td>detalle?id=5512</td>\n",
       "      <td>Se comunica que el SEMDA Central y los consult...</td>\n",
       "      <td>2013-01-16 16:11:16</td>\n",
       "      <td>En caso de presentar alguna patología de urgen...</td>\n",
       "      <td>NaN</td>\n",
       "      <td>NaN</td>\n",
       "      <td>NaN</td>\n",
       "      <td>NaN</td>\n",
       "      <td>NO</td>\n",
       "      <td>SI</td>\n",
       "      <td>NaN</td>\n",
       "      <td>NaN</td>\n",
       "      <td>NaN</td>\n",
       "    </tr>\n",
       "  </tbody>\n",
       "</table>\n",
       "</div>"
      ],
      "text/plain": [
       "   index                                             titulo               url  \\\n",
       "0  14186  Atención Secretaría de Estudios jueves 4 de oc...  detalle?id=22733   \n",
       "1   2906  Comunicado FCFM: Extensión vacaciones invierno...  detalle?id=55461   \n",
       "2  13936           Mañana en la FCFM - lunes 5 de noviembre  detalle?id=23285   \n",
       "3  14121  MAÑANA EN LA FCFM- Miércoles 10 de octubre de ...  detalle?id=22855   \n",
       "4  23320                  Cierre SEMDA, viernes 18 de enero   detalle?id=5512   \n",
       "\n",
       "                                             mensaje               fecha  \\\n",
       "0  Se informa a la comunidad estudiantil que el d... 2018-10-03 10:09:03   \n",
       "1  Viernes 17 de junio de 2022 \\nEstimada comunid... 2022-06-17 11:22:17   \n",
       "2  WORKSHOP: \\n\\n\"Workshop en Macroeconomía\". \\n\\... 2018-10-31 17:07:31   \n",
       "3  CHARLAS: \\n_x000D_\\n\"Dinámica controlada por l... 2018-10-09 17:19:09   \n",
       "4  Se comunica que el SEMDA Central y los consult... 2013-01-16 16:11:16   \n",
       "\n",
       "                                              frases sesgo_pronombre  \\\n",
       "0  Se informa a la comunidad estudiantil que el d...              NO   \n",
       "1  Ésta permite el teletrabajo para funcionarias/...              NO   \n",
       "2              Hora: 16:30 hrs Lugar: Auditorio DIE.             NaN   \n",
       "3                Lugar: Patio central, Beauchef 851.             NaN   \n",
       "4  En caso de presentar alguna patología de urgen...             NaN   \n",
       "\n",
       "  sesgo_otro                                  version_con_sesgo  \\\n",
       "0         SI  Se informa a todos los estudiantes  que el día...   \n",
       "1         NO  Ésta permite el teletrabajo para funcionarios ...   \n",
       "2        NaN                                                NaN   \n",
       "3        NaN                                                NaN   \n",
       "4        NaN                                                NaN   \n",
       "\n",
       "                                   version_sin_sesgo  \\\n",
       "0  Se informa a la comunidad estudiantil que el d...   \n",
       "1  Ésta permite el teletrabajo para funcionarias/...   \n",
       "2                                                NaN   \n",
       "3                                                NaN   \n",
       "4                                                NaN   \n",
       "\n",
       "  potencialmente_sesgable_otro_sesgo revisado  \\\n",
       "0                                 SI       SI   \n",
       "1                                 SI       SI   \n",
       "2                                NaN       SI   \n",
       "3                                 NO       SI   \n",
       "4                                 NO       SI   \n",
       "\n",
       "                            description_bias_removal         biased_words  \\\n",
       "0  Se reemplazó \"estudiantes\" por \"comunidad estu...          estudiantes   \n",
       "1  Se incluyó la perspectiva femenina en \"funcion...  funcionarios, hijos   \n",
       "2                                                NaN                  NaN   \n",
       "3                                                NaN                  NaN   \n",
       "4                                                NaN                  NaN   \n",
       "\n",
       "                   unbiased_words  \n",
       "0  comunidad estudiantil, Alumn@s  \n",
       "1       funcionarias/os, hijas/os  \n",
       "2                             NaN  \n",
       "3                             NaN  \n",
       "4                             NaN  "
      ]
     },
     "execution_count": 1,
     "metadata": {},
     "output_type": "execute_result"
    }
   ],
   "source": [
    "# Loading train eval sets\n",
    "import pandas as pd\n",
    "\n",
    "df_train = pd.read_excel(\"../../data/train_val_splits/train_data.xlsx\")\n",
    "df_eval = pd.read_excel(\"../../data/train_val_splits/val_data.xlsx\")\n",
    "print(\"Length of train set: \",len(df_train))\n",
    "print(\"Length of eval set: \",len(df_eval))\n",
    "df_eval.head()"
   ]
  },
  {
   "cell_type": "code",
   "execution_count": 2,
   "metadata": {},
   "outputs": [
    {
     "name": "stdout",
     "output_type": "stream",
     "text": [
      "Rows with unbiased text train:  4140  (28.75%)\n",
      "Rows with unbiased text eval:  443  (27.6875%)\n"
     ]
    }
   ],
   "source": [
    "len_notna_train = len(df_train['version_sin_sesgo'].dropna())\n",
    "print('Rows with unbiased text train: ',len_notna_train,f' ({100*len_notna_train/len(df_train)}%)')\n",
    "len_notna_eval = len(df_eval['version_sin_sesgo'].dropna())\n",
    "print('Rows with unbiased text eval: ',len_notna_eval,f' ({100*len_notna_eval/len(df_eval)}%)')"
   ]
  },
  {
   "cell_type": "code",
   "execution_count": 3,
   "metadata": {},
   "outputs": [
    {
     "name": "stdout",
     "output_type": "stream",
     "text": [
      "Rows with biased text train:  4140  (28.75%)\n",
      "Rows with biased text eval:  443  (27.6875%)\n"
     ]
    }
   ],
   "source": [
    "len_notna_train = len(df_train['version_con_sesgo'].dropna())\n",
    "print('Rows with biased text train: ',len_notna_train,f' ({100*len_notna_train/len(df_train)}%)')\n",
    "len_notna_eval = len(df_eval['version_con_sesgo'].dropna())\n",
    "print('Rows with biased text eval: ',len_notna_eval,f' ({100*len_notna_eval/len(df_eval)}%)')"
   ]
  },
  {
   "cell_type": "code",
   "execution_count": 4,
   "metadata": {},
   "outputs": [
    {
     "data": {
      "text/plain": [
       "array(['NO', nan, 'SI', 'No', 'Si'], dtype=object)"
      ]
     },
     "execution_count": 4,
     "metadata": {},
     "output_type": "execute_result"
    }
   ],
   "source": [
    "df_eval['sesgo_pronombre'].unique()"
   ]
  },
  {
   "cell_type": "code",
   "execution_count": 5,
   "metadata": {},
   "outputs": [
    {
     "data": {
      "text/plain": [
       "sesgo_pronombre\n",
       "NO    283\n",
       "SI    160\n",
       "Name: count, dtype: int64"
      ]
     },
     "execution_count": 5,
     "metadata": {},
     "output_type": "execute_result"
    }
   ],
   "source": [
    "df_eval[\"sesgo_pronombre\"] = df_eval[\"sesgo_pronombre\"].replace({\"Si\": \"SI\", \"No\": \"NO\"})\n",
    "df_eval['sesgo_pronombre'].value_counts()"
   ]
  },
  {
   "cell_type": "code",
   "execution_count": 6,
   "metadata": {},
   "outputs": [
    {
     "data": {
      "text/plain": [
       "array(['SI', 'NO', nan, 'No', 'Si', 'nO', 'si', 's'], dtype=object)"
      ]
     },
     "execution_count": 6,
     "metadata": {},
     "output_type": "execute_result"
    }
   ],
   "source": [
    "df_eval['sesgo_otro'].unique()"
   ]
  },
  {
   "cell_type": "code",
   "execution_count": 7,
   "metadata": {},
   "outputs": [
    {
     "data": {
      "text/plain": [
       "sesgo_otro\n",
       "NO    265\n",
       "SI    179\n",
       "Name: count, dtype: int64"
      ]
     },
     "execution_count": 7,
     "metadata": {},
     "output_type": "execute_result"
    }
   ],
   "source": [
    "df_eval[\"sesgo_otro\"] = df_eval[\"sesgo_otro\"].replace({\n",
    "    \"Si\": \"SI\", \"si\":\"SI\", \"s\":\"SI\",\n",
    "    \"No\": \"NO\", \"nO\":\"NO\"\n",
    "    })\n",
    "df_eval['sesgo_otro'].value_counts()"
   ]
  },
  {
   "cell_type": "markdown",
   "metadata": {},
   "source": [
    "## Three sets for LLM-Judge evaluation\n",
    "\n",
    "We will evaluate the capacity of the judge in three different categories:\n",
    "1) distinguish between biased and unbiased text\n",
    "2) distinguish between a completely unbiased and a partially unbiased text\n",
    "3) distinguish between text that keeps the semantics, part of the input has been cut out or if it has completely lost its semantics."
   ]
  },
  {
   "cell_type": "markdown",
   "metadata": {},
   "source": [
    "For the first problem we will create an eval set with 100 rows that could have bias but don't (unbiased text is given as both input and output), 323 that are biased (biased text is given as input and output is unbiased) and 200 where the text does not admit bias in the first place (input same as output)."
   ]
  },
  {
   "cell_type": "code",
   "execution_count": 8,
   "metadata": {},
   "outputs": [],
   "source": [
    "def assign_input_output(df_in):\n",
    "    df = df_in.copy(deep='True')\n",
    "    df[\"input\"] = None\n",
    "    df[\"output\"] = None\n",
    "    df[\"expected_outcome\"] = None\n",
    "    \n",
    "    unbiased = \"version_sin_sesgo\"\n",
    "    biased = \"version_con_sesgo\"\n",
    "\n",
    "    # 323 rows where the text is biased and needs correction (input = biased, output = unbiased)\n",
    "    biased_rows = df[df[biased].notna()].sample(323, random_state=42)\n",
    "    df.loc[biased_rows.index, \"input\"] = biased_rows[biased]\n",
    "    df.loc[biased_rows.index, \"output\"] = biased_rows[unbiased]\n",
    "    df.loc[biased_rows.index, \"expected_outcome\"] = \"(Y)\"\n",
    "\n",
    "    # 200 rows where the text is unbiasable (input = output = message)\n",
    "    unbiasable_rows = df[df[biased].isna() & df[unbiased].isna()].sample(200, random_state=42)\n",
    "    df.loc[unbiasable_rows.index, \"input\"] = unbiasable_rows[\"mensaje\"]\n",
    "    df.loc[unbiasable_rows.index, \"output\"] = unbiasable_rows[\"mensaje\"]\n",
    "    df.loc[unbiasable_rows.index, \"expected_outcome\"] = \"(Z)\"\n",
    "\n",
    "    return df\n",
    "\n",
    "df_eval = assign_input_output(df_eval)"
   ]
  },
  {
   "cell_type": "markdown",
   "metadata": {},
   "source": [
    "Example row"
   ]
  },
  {
   "cell_type": "code",
   "execution_count": 9,
   "metadata": {},
   "outputs": [
    {
     "data": {
      "text/html": [
       "<div>\n",
       "<style scoped>\n",
       "    .dataframe tbody tr th:only-of-type {\n",
       "        vertical-align: middle;\n",
       "    }\n",
       "\n",
       "    .dataframe tbody tr th {\n",
       "        vertical-align: top;\n",
       "    }\n",
       "\n",
       "    .dataframe thead th {\n",
       "        text-align: right;\n",
       "    }\n",
       "</style>\n",
       "<table border=\"1\" class=\"dataframe\">\n",
       "  <thead>\n",
       "    <tr style=\"text-align: right;\">\n",
       "      <th></th>\n",
       "      <th>index</th>\n",
       "      <th>titulo</th>\n",
       "      <th>url</th>\n",
       "      <th>mensaje</th>\n",
       "      <th>fecha</th>\n",
       "      <th>frases</th>\n",
       "      <th>sesgo_pronombre</th>\n",
       "      <th>sesgo_otro</th>\n",
       "      <th>version_con_sesgo</th>\n",
       "      <th>version_sin_sesgo</th>\n",
       "      <th>potencialmente_sesgable_otro_sesgo</th>\n",
       "      <th>revisado</th>\n",
       "      <th>description_bias_removal</th>\n",
       "      <th>biased_words</th>\n",
       "      <th>unbiased_words</th>\n",
       "      <th>input</th>\n",
       "      <th>output</th>\n",
       "      <th>expected_outcome</th>\n",
       "    </tr>\n",
       "  </thead>\n",
       "  <tbody>\n",
       "    <tr>\n",
       "      <th>1590</th>\n",
       "      <td>1347</td>\n",
       "      <td>Matrícula 2023 Estudiantes Antiguos  proceso ...</td>\n",
       "      <td>detalle?id=63125</td>\n",
       "      <td>El proceso de Matrícula 2023 para Estudiantes ...</td>\n",
       "      <td>2023-01-31 15:19:31</td>\n",
       "      <td>El proceso de Matrícula 2023 para Estudiantes ...</td>\n",
       "      <td>SI</td>\n",
       "      <td>NO</td>\n",
       "      <td>El proceso de Matrícula 2023 para Estudiantes ...</td>\n",
       "      <td>El proceso de Matrícula 2023 para Estudiantes ...</td>\n",
       "      <td>SI</td>\n",
       "      <td>SI</td>\n",
       "      <td>Se incluyó la forma femenina de los adjetivos ...</td>\n",
       "      <td>Estudiantes Antiguos Rezagados</td>\n",
       "      <td>Estudiantes Antiguas/os Rezagadas/os</td>\n",
       "      <td>El proceso de Matrícula 2023 para Estudiantes ...</td>\n",
       "      <td>El proceso de Matrícula 2023 para Estudiantes ...</td>\n",
       "      <td>(Y)</td>\n",
       "    </tr>\n",
       "  </tbody>\n",
       "</table>\n",
       "</div>"
      ],
      "text/plain": [
       "      index                                             titulo  \\\n",
       "1590   1347  Matrícula 2023 Estudiantes Antiguos  proceso ...   \n",
       "\n",
       "                   url                                            mensaje  \\\n",
       "1590  detalle?id=63125  El proceso de Matrícula 2023 para Estudiantes ...   \n",
       "\n",
       "                   fecha                                             frases  \\\n",
       "1590 2023-01-31 15:19:31  El proceso de Matrícula 2023 para Estudiantes ...   \n",
       "\n",
       "     sesgo_pronombre sesgo_otro  \\\n",
       "1590              SI         NO   \n",
       "\n",
       "                                      version_con_sesgo  \\\n",
       "1590  El proceso de Matrícula 2023 para Estudiantes ...   \n",
       "\n",
       "                                      version_sin_sesgo  \\\n",
       "1590  El proceso de Matrícula 2023 para Estudiantes ...   \n",
       "\n",
       "     potencialmente_sesgable_otro_sesgo revisado  \\\n",
       "1590                                 SI       SI   \n",
       "\n",
       "                               description_bias_removal  \\\n",
       "1590  Se incluyó la forma femenina de los adjetivos ...   \n",
       "\n",
       "                        biased_words                        unbiased_words  \\\n",
       "1590  Estudiantes Antiguos Rezagados  Estudiantes Antiguas/os Rezagadas/os   \n",
       "\n",
       "                                                  input  \\\n",
       "1590  El proceso de Matrícula 2023 para Estudiantes ...   \n",
       "\n",
       "                                                 output expected_outcome  \n",
       "1590  El proceso de Matrícula 2023 para Estudiantes ...              (Y)  "
      ]
     },
     "execution_count": 9,
     "metadata": {},
     "output_type": "execute_result"
    }
   ],
   "source": [
    "df_eval[df_eval[\"expected_outcome\"].notna()].sample(1, random_state=42)"
   ]
  },
  {
   "cell_type": "markdown",
   "metadata": {},
   "source": [
    "## Judge evaluation"
   ]
  },
  {
   "cell_type": "code",
   "execution_count": 10,
   "metadata": {},
   "outputs": [],
   "source": [
    "from mistralai import Mistral, UserMessage\n",
    "\n",
    "model = \"mistral-large-latest\"\n",
    "\n",
    "with open('Mistral_key', 'r') as file:\n",
    "    mistral_key = file.readline().strip()\n",
    "\n",
    "client = Mistral(api_key=mistral_key)"
   ]
  },
  {
   "cell_type": "code",
   "execution_count": 13,
   "metadata": {},
   "outputs": [],
   "source": [
    "from judge import make_message, JUDGE_PROMPT\n",
    "import time\n",
    "\n",
    "# Initialize the \"Judge\" column with NaN values\n",
    "df_eval['judge_answer'] = None\n",
    "df_eval['judge_model'] = None\n",
    "df_eval['judge_prompt'] = None\n",
    "\n",
    "# Iterate over rows to populate the \"Judge\" column\n",
    "for index, row in df_eval.iterrows():\n",
    "    prompt = make_message(row['input'], row['output'])\n",
    "    chat_response = client.chat.complete(\n",
    "        model = model,\n",
    "        messages = prompt,\n",
    "    )\n",
    "    judge_eval = chat_response.choices[0].message.content\n",
    "    df_eval.at[index, 'judge_answer'] = judge_eval\n",
    "    df_eval.at[index, 'judge_model'] = model\n",
    "    df_eval.at[index, 'judge_prompt'] = prompt \n",
    "\n",
    "    time.sleep(0.2)  # we will never exceed the rate this way"
   ]
  },
  {
   "cell_type": "code",
   "execution_count": 14,
   "metadata": {},
   "outputs": [],
   "source": [
    "df_eval.to_csv('judge_eval/20250203_mistral-large-judge_eval.csv', index=False)"
   ]
  },
  {
   "cell_type": "code",
   "execution_count": 15,
   "metadata": {},
   "outputs": [
    {
     "data": {
      "text/plain": [
       "1600"
      ]
     },
     "execution_count": 15,
     "metadata": {},
     "output_type": "execute_result"
    }
   ],
   "source": [
    "len(df_eval)"
   ]
  },
  {
   "cell_type": "markdown",
   "metadata": {},
   "source": [
    "---"
   ]
  },
  {
   "cell_type": "code",
   "execution_count": 1,
   "metadata": {},
   "outputs": [
    {
     "data": {
      "text/plain": [
       "1600"
      ]
     },
     "execution_count": 1,
     "metadata": {},
     "output_type": "execute_result"
    }
   ],
   "source": [
    "import pandas as pd\n",
    "\n",
    "df_eval = pd.read_csv(\"judge_eval/20250203_mistral-large-judge_eval.csv\")\n",
    "len(df_eval)"
   ]
  },
  {
   "cell_type": "code",
   "execution_count": 2,
   "metadata": {},
   "outputs": [
    {
     "data": {
      "text/plain": [
       "523"
      ]
     },
     "execution_count": 2,
     "metadata": {},
     "output_type": "execute_result"
    }
   ],
   "source": [
    "df_eval = df_eval[df_eval[\"expected_outcome\"].notna()]\n",
    "len(df_eval)"
   ]
  },
  {
   "cell_type": "code",
   "execution_count": 3,
   "metadata": {},
   "outputs": [
    {
     "data": {
      "text/plain": [
       "expected_outcome\n",
       "(Y)    323\n",
       "(Z)    200\n",
       "Name: count, dtype: int64"
      ]
     },
     "execution_count": 3,
     "metadata": {},
     "output_type": "execute_result"
    }
   ],
   "source": [
    "df_eval[\"expected_outcome\"].value_counts()"
   ]
  },
  {
   "cell_type": "code",
   "execution_count": 4,
   "metadata": {},
   "outputs": [],
   "source": [
    "# fixing mistake, missing rows\n",
    "# 100 rows where bias is present but we keep the unbiased text (input = output = unbiased)\n",
    "unbiased_rows = df_eval[df_eval[\"version_sin_sesgo\"].notna()].sample(100, random_state=42)\n",
    "\n",
    "new_rows = unbiased_rows.copy()\n",
    "new_rows.loc[unbiased_rows.index, \"input\"] = new_rows[\"version_sin_sesgo\"]\n",
    "new_rows.loc[unbiased_rows.index, \"output\"] = new_rows[\"version_sin_sesgo\"]\n",
    "new_rows.loc[unbiased_rows.index, \"expected_outcome\"] = \"(Z)\""
   ]
  },
  {
   "cell_type": "code",
   "execution_count": 5,
   "metadata": {},
   "outputs": [],
   "source": [
    "from mistralai import Mistral, UserMessage\n",
    "\n",
    "model = \"mistral-large-latest\"\n",
    "\n",
    "with open('Mistral_key', 'r') as file:\n",
    "    mistral_key = file.readline().strip()\n",
    "\n",
    "client = Mistral(api_key=mistral_key)"
   ]
  },
  {
   "cell_type": "code",
   "execution_count": 6,
   "metadata": {},
   "outputs": [],
   "source": [
    "import time\n",
    "from judge import make_message, JUDGE_PROMPT\n",
    "\n",
    "\n",
    "# Initialize the \"Judge\" column with NaN values\n",
    "new_rows['judge_answer'] = None\n",
    "new_rows['judge_model'] = None\n",
    "new_rows['judge_prompt'] = None\n",
    "\n",
    "# Iterate over rows to populate the \"Judge\" column\n",
    "for index, row in new_rows.iterrows():\n",
    "    prompt = make_message(row['input'], row['output'])\n",
    "    chat_response = client.chat.complete(\n",
    "        model = model,\n",
    "        messages = prompt,\n",
    "    )\n",
    "    judge_eval = chat_response.choices[0].message.content\n",
    "    new_rows.at[index, 'judge_answer'] = judge_eval\n",
    "    new_rows.at[index, 'judge_model'] = model\n",
    "    new_rows.at[index, 'judge_prompt'] = prompt \n",
    "\n",
    "    time.sleep(0.2)  # we will never exceed the rate this way"
   ]
  },
  {
   "cell_type": "code",
   "execution_count": 7,
   "metadata": {},
   "outputs": [],
   "source": [
    "# Append the new rows to the existing dataframe\n",
    "df_eval = pd.concat([df_eval, new_rows], ignore_index=True)"
   ]
  },
  {
   "cell_type": "code",
   "execution_count": 8,
   "metadata": {},
   "outputs": [
    {
     "data": {
      "text/plain": [
       "expected_outcome\n",
       "(Y)    323\n",
       "(Z)    300\n",
       "Name: count, dtype: int64"
      ]
     },
     "execution_count": 8,
     "metadata": {},
     "output_type": "execute_result"
    }
   ],
   "source": [
    "df_eval[\"expected_outcome\"].value_counts()"
   ]
  },
  {
   "cell_type": "code",
   "execution_count": 9,
   "metadata": {},
   "outputs": [],
   "source": [
    "df_eval.to_csv('judge_eval/20250203_mistral-large-judge_eval.csv', index=False)"
   ]
  },
  {
   "cell_type": "code",
   "execution_count": 10,
   "metadata": {},
   "outputs": [
    {
     "data": {
      "text/html": [
       "<div>\n",
       "<style scoped>\n",
       "    .dataframe tbody tr th:only-of-type {\n",
       "        vertical-align: middle;\n",
       "    }\n",
       "\n",
       "    .dataframe tbody tr th {\n",
       "        vertical-align: top;\n",
       "    }\n",
       "\n",
       "    .dataframe thead th {\n",
       "        text-align: right;\n",
       "    }\n",
       "</style>\n",
       "<table border=\"1\" class=\"dataframe\">\n",
       "  <thead>\n",
       "    <tr style=\"text-align: right;\">\n",
       "      <th></th>\n",
       "      <th>index</th>\n",
       "      <th>mensaje</th>\n",
       "      <th>sesgo_pronombre</th>\n",
       "      <th>sesgo_otro</th>\n",
       "      <th>version_con_sesgo</th>\n",
       "      <th>version_sin_sesgo</th>\n",
       "      <th>input</th>\n",
       "      <th>output</th>\n",
       "      <th>expected_outcome</th>\n",
       "    </tr>\n",
       "  </thead>\n",
       "  <tbody>\n",
       "    <tr>\n",
       "      <th>0</th>\n",
       "      <td>14186</td>\n",
       "      <td>Se informa a la comunidad estudiantil que el d...</td>\n",
       "      <td>NO</td>\n",
       "      <td>SI</td>\n",
       "      <td>Se informa a todos los estudiantes  que el día...</td>\n",
       "      <td>Se informa a la comunidad estudiantil que el d...</td>\n",
       "      <td>Se informa a todos los estudiantes  que el día...</td>\n",
       "      <td>Se informa a la comunidad estudiantil que el d...</td>\n",
       "      <td>(Y)</td>\n",
       "    </tr>\n",
       "    <tr>\n",
       "      <th>1</th>\n",
       "      <td>1755</td>\n",
       "      <td>Estimad@s estudiantes: \\nLes esperamos hoy jue...</td>\n",
       "      <td>NO</td>\n",
       "      <td>NO</td>\n",
       "      <td>Estimados alumnos: Los esperamos hoy jueves 24...</td>\n",
       "      <td>Estimad@s estudiantes: Les esperamos hoy jueve...</td>\n",
       "      <td>Estimados alumnos: Los esperamos hoy jueves 24...</td>\n",
       "      <td>Estimad@s estudiantes: Les esperamos hoy jueve...</td>\n",
       "      <td>(Y)</td>\n",
       "    </tr>\n",
       "    <tr>\n",
       "      <th>2</th>\n",
       "      <td>17807</td>\n",
       "      <td>Estimada Comunidad: \\n\\n\\n_x000D_\\nLa Unidad d...</td>\n",
       "      <td>SI</td>\n",
       "      <td>NO</td>\n",
       "      <td>Para inscribirse pueden llamar al 229780730 o ...</td>\n",
       "      <td>Para inscribirse pueden llamar al 229780730 o ...</td>\n",
       "      <td>Para inscribirse pueden llamar al 229780730 o ...</td>\n",
       "      <td>Para inscribirse pueden llamar al 229780730 o ...</td>\n",
       "      <td>(Y)</td>\n",
       "    </tr>\n",
       "    <tr>\n",
       "      <th>3</th>\n",
       "      <td>20964</td>\n",
       "      <td>Se informa a los estudiantes año de ingreso 20...</td>\n",
       "      <td>SI</td>\n",
       "      <td>SI</td>\n",
       "      <td>Se informa a los estudiantes año de ingreso 20...</td>\n",
       "      <td>Se informa a las/os estudiantes año de ingreso...</td>\n",
       "      <td>Se informa a los estudiantes año de ingreso 20...</td>\n",
       "      <td>Se informa a las/os estudiantes año de ingreso...</td>\n",
       "      <td>(Y)</td>\n",
       "    </tr>\n",
       "    <tr>\n",
       "      <th>4</th>\n",
       "      <td>920</td>\n",
       "      <td>Estimada Comunidad, \\n\\nCompartimos con ustede...</td>\n",
       "      <td>NO</td>\n",
       "      <td>NO</td>\n",
       "      <td>Estimados alumnos, Compartimos con ustedes inf...</td>\n",
       "      <td>Estimada Comunidad, Compartimos con ustedes in...</td>\n",
       "      <td>Estimados alumnos, Compartimos con ustedes inf...</td>\n",
       "      <td>Estimada Comunidad, Compartimos con ustedes in...</td>\n",
       "      <td>(Y)</td>\n",
       "    </tr>\n",
       "  </tbody>\n",
       "</table>\n",
       "</div>"
      ],
      "text/plain": [
       "   index                                            mensaje sesgo_pronombre  \\\n",
       "0  14186  Se informa a la comunidad estudiantil que el d...              NO   \n",
       "1   1755  Estimad@s estudiantes: \\nLes esperamos hoy jue...              NO   \n",
       "2  17807  Estimada Comunidad: \\n\\n\\n_x000D_\\nLa Unidad d...              SI   \n",
       "3  20964  Se informa a los estudiantes año de ingreso 20...              SI   \n",
       "4    920  Estimada Comunidad, \\n\\nCompartimos con ustede...              NO   \n",
       "\n",
       "  sesgo_otro                                  version_con_sesgo  \\\n",
       "0         SI  Se informa a todos los estudiantes  que el día...   \n",
       "1         NO  Estimados alumnos: Los esperamos hoy jueves 24...   \n",
       "2         NO  Para inscribirse pueden llamar al 229780730 o ...   \n",
       "3         SI  Se informa a los estudiantes año de ingreso 20...   \n",
       "4         NO  Estimados alumnos, Compartimos con ustedes inf...   \n",
       "\n",
       "                                   version_sin_sesgo  \\\n",
       "0  Se informa a la comunidad estudiantil que el d...   \n",
       "1  Estimad@s estudiantes: Les esperamos hoy jueve...   \n",
       "2  Para inscribirse pueden llamar al 229780730 o ...   \n",
       "3  Se informa a las/os estudiantes año de ingreso...   \n",
       "4  Estimada Comunidad, Compartimos con ustedes in...   \n",
       "\n",
       "                                               input  \\\n",
       "0  Se informa a todos los estudiantes  que el día...   \n",
       "1  Estimados alumnos: Los esperamos hoy jueves 24...   \n",
       "2  Para inscribirse pueden llamar al 229780730 o ...   \n",
       "3  Se informa a los estudiantes año de ingreso 20...   \n",
       "4  Estimados alumnos, Compartimos con ustedes inf...   \n",
       "\n",
       "                                              output expected_outcome  \n",
       "0  Se informa a la comunidad estudiantil que el d...              (Y)  \n",
       "1  Estimad@s estudiantes: Les esperamos hoy jueve...              (Y)  \n",
       "2  Para inscribirse pueden llamar al 229780730 o ...              (Y)  \n",
       "3  Se informa a las/os estudiantes año de ingreso...              (Y)  \n",
       "4  Estimada Comunidad, Compartimos con ustedes in...              (Y)  "
      ]
     },
     "execution_count": 10,
     "metadata": {},
     "output_type": "execute_result"
    }
   ],
   "source": [
    "df_eval_judge = df_eval[['index','mensaje','sesgo_pronombre','sesgo_otro',\n",
    "                         'version_con_sesgo','version_sin_sesgo','input','output','expected_outcome']]\n",
    "\n",
    "df_eval_judge.head()"
   ]
  },
  {
   "cell_type": "code",
   "execution_count": 11,
   "metadata": {},
   "outputs": [],
   "source": [
    "df_eval_judge.to_csv('../../data/train_val_splits/val_judge.csv', index=False)"
   ]
  }
 ],
 "metadata": {
  "kernelspec": {
   "display_name": "debiasing",
   "language": "python",
   "name": "python3"
  },
  "language_info": {
   "codemirror_mode": {
    "name": "ipython",
    "version": 3
   },
   "file_extension": ".py",
   "mimetype": "text/x-python",
   "name": "python",
   "nbconvert_exporter": "python",
   "pygments_lexer": "ipython3",
   "version": "3.11.11"
  }
 },
 "nbformat": 4,
 "nbformat_minor": 2
}
