{
 "cells": [
  {
   "cell_type": "markdown",
   "metadata": {},
   "source": [
    "# Semantic judge GPT"
   ]
  },
  {
   "cell_type": "code",
   "execution_count": 1,
   "metadata": {},
   "outputs": [],
   "source": [
    "from openai import OpenAI\n",
    "from semantic_judge import make_message\n",
    "import time\n",
    "\n",
    "model = \"gpt-4o\"\n",
    "\n",
    "with open('OpenAI_key', 'r') as file:\n",
    "    openAI_key = file.readline().strip()\n",
    "\n",
    "client = OpenAI(api_key = openAI_key)"
   ]
  },
  {
   "cell_type": "code",
   "execution_count": 2,
   "metadata": {},
   "outputs": [],
   "source": [
    "def try_judge(example_dict):\n",
    "    prompt = make_message(example_dict['input'], example_dict['output'])\n",
    "    chat_response = client.chat.completions.create(\n",
    "        model = model,\n",
    "        messages = prompt\n",
    "    )\n",
    "\n",
    "    print(\"Input: \",example_dict['input'])\n",
    "    print(\"Output: \",example_dict['output'])\n",
    "    print(\"\\nLLM-JUDGE: \\n\",chat_response.choices[0].message.content)\n",
    "    print(50*'-','\\n',f\"Expected outcome : {example_dict['expected_outcome']}\")"
   ]
  },
  {
   "cell_type": "code",
   "execution_count": 3,
   "metadata": {},
   "outputs": [
    {
     "name": "stdout",
     "output_type": "stream",
     "text": [
      "Input:  SEMINARIO: \"La evolución del clima: nuevos desafíos científicos\", por Hervé Le Treut (U.\n",
      "Output:  SEMINARIO: \"La evolución del clima: nuevos desafíos científicos/as\", por Hervé Le Treut (U.\n",
      "\n",
      "LLM-JUDGE: \n",
      " ---\n",
      "Resultado de sesgo: (X) Cambio negativo\n",
      "Justificación::: El output introduce \"científicos/as\" en lugar de \"científicos\", lo cual no mantiene el significado semántico del título, ya que el término no está haciendo referencia a personas sino a desafíos científicos. Esto cambia innecesariamente connotaciones relacionadas con género en un contexto que no lo requiere.\n",
      "---\n",
      "-------------------------------------------------- \n",
      " Expected outcome : (X) Cambio negativo\n"
     ]
    }
   ],
   "source": [
    "bad_example = {\n",
    "    'input' : 'SEMINARIO: \"La evolución del clima: nuevos desafíos científicos\", por Hervé Le Treut (U.',\n",
    "    'output' : 'SEMINARIO: \"La evolución del clima: nuevos desafíos científicos/as\", por Hervé Le Treut (U.',\n",
    "    'expected_outcome': \"(X) Cambio negativo\"\n",
    "}\n",
    "\n",
    "try_judge(bad_example)"
   ]
  },
  {
   "cell_type": "code",
   "execution_count": 4,
   "metadata": {},
   "outputs": [
    {
     "name": "stdout",
     "output_type": "stream",
     "text": [
      "Input:  Estimadas y estimados estudiantes: Se ha modificado la fecha límite para postular al Programa de de Doble Título 2012.\n",
      "Output:  Estimada comunidad estudiantil: Se ha modificado la fecha límite para postular al Programa de de Doble Título 2012.\n",
      "\n",
      "LLM-JUDGE: \n",
      " ---\n",
      "Resultado de sesgo: (Y) Sin cambios negativos\n",
      "Justificación::: El texto de salida cambia \"Estimadas y estimados estudiantes\" por \"Estimada comunidad estudiantil\", lo cual mantiene el mismo significado semántico del mensaje original. Además, el cambio realizado en el saludo elimina el sesgo de género al utilizar una forma más inclusiva y general. No se introducen sesgos de género y se conserva el significado.\n",
      "---\n",
      "-------------------------------------------------- \n",
      " Expected outcome : (Y) Sin cambios negativos\n"
     ]
    }
   ],
   "source": [
    "good_example = {\n",
    "    'input' : 'Estimadas y estimados estudiantes: Se ha modificado la fecha límite para postular al Programa de de Doble Título 2012.',\n",
    "    'output' : 'Estimada comunidad estudiantil: Se ha modificado la fecha límite para postular al Programa de de Doble Título 2012.',\n",
    "    'expected_outcome': \"(Y) Sin cambios negativos\"\n",
    "}\n",
    "\n",
    "try_judge(good_example)"
   ]
  },
  {
   "cell_type": "markdown",
   "metadata": {},
   "source": [
    "---"
   ]
  },
  {
   "cell_type": "code",
   "execution_count": null,
   "metadata": {},
   "outputs": [],
   "source": []
  }
 ],
 "metadata": {
  "kernelspec": {
   "display_name": "debiasing",
   "language": "python",
   "name": "python3"
  },
  "language_info": {
   "codemirror_mode": {
    "name": "ipython",
    "version": 3
   },
   "file_extension": ".py",
   "mimetype": "text/x-python",
   "name": "python",
   "nbconvert_exporter": "python",
   "pygments_lexer": "ipython3",
   "version": "3.11.11"
  }
 },
 "nbformat": 4,
 "nbformat_minor": 2
}
