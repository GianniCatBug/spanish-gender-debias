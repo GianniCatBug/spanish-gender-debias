{
 "cells": [
  {
   "cell_type": "markdown",
   "metadata": {},
   "source": [
    "# Evaluation using BERTscore\n",
    "\n",
    "[Source](https://huggingface.co/spaces/evaluate-metric/bertscore)"
   ]
  },
  {
   "cell_type": "code",
   "execution_count": 1,
   "metadata": {},
   "outputs": [
    {
     "data": {
      "text/html": [
       "<div>\n",
       "<style scoped>\n",
       "    .dataframe tbody tr th:only-of-type {\n",
       "        vertical-align: middle;\n",
       "    }\n",
       "\n",
       "    .dataframe tbody tr th {\n",
       "        vertical-align: top;\n",
       "    }\n",
       "\n",
       "    .dataframe thead th {\n",
       "        text-align: right;\n",
       "    }\n",
       "</style>\n",
       "<table border=\"1\" class=\"dataframe\">\n",
       "  <thead>\n",
       "    <tr style=\"text-align: right;\">\n",
       "      <th></th>\n",
       "      <th>input</th>\n",
       "      <th>biases_detected</th>\n",
       "      <th>scores</th>\n",
       "      <th>output</th>\n",
       "      <th>index</th>\n",
       "    </tr>\n",
       "  </thead>\n",
       "  <tbody>\n",
       "    <tr>\n",
       "      <th>0</th>\n",
       "      <td>Estimada comunidad beauchefiana: ¿Tienes papel...</td>\n",
       "      <td>UNBIASED</td>\n",
       "      <td>1.0</td>\n",
       "      <td>UNBIASED</td>\n",
       "      <td>0</td>\n",
       "    </tr>\n",
       "    <tr>\n",
       "      <th>1</th>\n",
       "      <td>Desde hoy y hasta el 19 de diciembre puedes de...</td>\n",
       "      <td>GENERIC_PRONOUNS</td>\n",
       "      <td>0.8</td>\n",
       "      <td>Desde hoy y hasta el 19 de diciembre puedes de...</td>\n",
       "      <td>1</td>\n",
       "    </tr>\n",
       "    <tr>\n",
       "      <th>2</th>\n",
       "      <td>Revisa en el afiche qué tipo de papeles puedes...</td>\n",
       "      <td>UNBIASED</td>\n",
       "      <td>1.0</td>\n",
       "      <td>UNBIASED</td>\n",
       "      <td>2</td>\n",
       "    </tr>\n",
       "    <tr>\n",
       "      <th>3</th>\n",
       "      <td>¡Les esperamos!</td>\n",
       "      <td>UNBIASED</td>\n",
       "      <td>1.0</td>\n",
       "      <td>UNBIASED</td>\n",
       "      <td>3</td>\n",
       "    </tr>\n",
       "    <tr>\n",
       "      <th>4</th>\n",
       "      <td>Estimada Comunidad:   La Subdirección de Puebl...</td>\n",
       "      <td>EXCLUSIONARY_TERMS</td>\n",
       "      <td>0.8</td>\n",
       "      <td>Estimada Comunidad:   La Subdirección de Puebl...</td>\n",
       "      <td>4</td>\n",
       "    </tr>\n",
       "  </tbody>\n",
       "</table>\n",
       "</div>"
      ],
      "text/plain": [
       "                                               input     biases_detected  \\\n",
       "0  Estimada comunidad beauchefiana: ¿Tienes papel...            UNBIASED   \n",
       "1  Desde hoy y hasta el 19 de diciembre puedes de...    GENERIC_PRONOUNS   \n",
       "2  Revisa en el afiche qué tipo de papeles puedes...            UNBIASED   \n",
       "3                                    ¡Les esperamos!            UNBIASED   \n",
       "4  Estimada Comunidad:   La Subdirección de Puebl...  EXCLUSIONARY_TERMS   \n",
       "\n",
       "  scores                                             output  index  \n",
       "0    1.0                                           UNBIASED      0  \n",
       "1    0.8  Desde hoy y hasta el 19 de diciembre puedes de...      1  \n",
       "2    1.0                                           UNBIASED      2  \n",
       "3    1.0                                           UNBIASED      3  \n",
       "4    0.8  Estimada Comunidad:   La Subdirección de Puebl...      4  "
      ]
     },
     "execution_count": 1,
     "metadata": {},
     "output_type": "execute_result"
    }
   ],
   "source": [
    "import pandas as pd\n",
    "\n",
    "df = pd.read_csv(\"../agent/predictions.csv\")\n",
    "df = df.drop(columns=['debias_reasoning'])\n",
    "df = df.rename(columns={\"biases\": \"biases_detected\"})\n",
    "df.head()"
   ]
  },
  {
   "cell_type": "code",
   "execution_count": 2,
   "metadata": {},
   "outputs": [
    {
     "data": {
      "text/plain": [
       "819"
      ]
     },
     "execution_count": 2,
     "metadata": {},
     "output_type": "execute_result"
    }
   ],
   "source": [
    "df['biases_detected'] = df['biases_detected'].fillna('UNBIASED')\n",
    "df['output'] = df['output'].fillna('UNBIASED')\n",
    "len(df)"
   ]
  },
  {
   "cell_type": "code",
   "execution_count": 3,
   "metadata": {},
   "outputs": [
    {
     "name": "stdout",
     "output_type": "stream",
     "text": [
      "748\n"
     ]
    }
   ],
   "source": [
    "df_causal = pd.read_csv(\"../../data/processed/20231220_metrics_CAUSAL.csv\")\n",
    "df = pd.merge(df, df_causal[['input','sesgo_pronombre','sesgo_otro','target']], on='input', how='inner')\n",
    "print(len(df))"
   ]
  },
  {
   "cell_type": "code",
   "execution_count": 4,
   "metadata": {},
   "outputs": [
    {
     "data": {
      "text/html": [
       "<div>\n",
       "<style scoped>\n",
       "    .dataframe tbody tr th:only-of-type {\n",
       "        vertical-align: middle;\n",
       "    }\n",
       "\n",
       "    .dataframe tbody tr th {\n",
       "        vertical-align: top;\n",
       "    }\n",
       "\n",
       "    .dataframe thead th {\n",
       "        text-align: right;\n",
       "    }\n",
       "</style>\n",
       "<table border=\"1\" class=\"dataframe\">\n",
       "  <thead>\n",
       "    <tr style=\"text-align: right;\">\n",
       "      <th></th>\n",
       "      <th>input</th>\n",
       "      <th>biases_detected</th>\n",
       "      <th>scores</th>\n",
       "      <th>output</th>\n",
       "      <th>index</th>\n",
       "      <th>sesgo_pronombre</th>\n",
       "      <th>sesgo_otro</th>\n",
       "      <th>target</th>\n",
       "    </tr>\n",
       "  </thead>\n",
       "  <tbody>\n",
       "    <tr>\n",
       "      <th>0</th>\n",
       "      <td>Estimada comunidad beauchefiana: ¿Tienes papel...</td>\n",
       "      <td>UNBIASED</td>\n",
       "      <td>1.0</td>\n",
       "      <td>UNBIASED</td>\n",
       "      <td>0</td>\n",
       "      <td>NO</td>\n",
       "      <td>NO</td>\n",
       "      <td>['Estimada comunidad beauchefiana: ¿Tienes pap...</td>\n",
       "    </tr>\n",
       "    <tr>\n",
       "      <th>1</th>\n",
       "      <td>Desde hoy y hasta el 19 de diciembre puedes de...</td>\n",
       "      <td>GENERIC_PRONOUNS</td>\n",
       "      <td>0.8</td>\n",
       "      <td>Desde hoy y hasta el 19 de diciembre puedes de...</td>\n",
       "      <td>1</td>\n",
       "      <td>NaN</td>\n",
       "      <td>NaN</td>\n",
       "      <td>['Desde hoy y hasta el 19 de diciembre puedes ...</td>\n",
       "    </tr>\n",
       "    <tr>\n",
       "      <th>2</th>\n",
       "      <td>Revisa en el afiche qué tipo de papeles puedes...</td>\n",
       "      <td>UNBIASED</td>\n",
       "      <td>1.0</td>\n",
       "      <td>UNBIASED</td>\n",
       "      <td>2</td>\n",
       "      <td>NaN</td>\n",
       "      <td>NaN</td>\n",
       "      <td>['Revisa en el afiche qué tipo de papeles pued...</td>\n",
       "    </tr>\n",
       "    <tr>\n",
       "      <th>3</th>\n",
       "      <td>Estimada Comunidad:   La Subdirección de Puebl...</td>\n",
       "      <td>EXCLUSIONARY_TERMS</td>\n",
       "      <td>0.8</td>\n",
       "      <td>Estimada Comunidad:   La Subdirección de Puebl...</td>\n",
       "      <td>4</td>\n",
       "      <td>NO</td>\n",
       "      <td>NO</td>\n",
       "      <td>['Estimada Comunidad:   La Subdirección de Pue...</td>\n",
       "    </tr>\n",
       "    <tr>\n",
       "      <th>4</th>\n",
       "      <td>Postulaciones, labores y más información en:  ...</td>\n",
       "      <td>UNBIASED</td>\n",
       "      <td>1.0</td>\n",
       "      <td>UNBIASED</td>\n",
       "      <td>5</td>\n",
       "      <td>NaN</td>\n",
       "      <td>NaN</td>\n",
       "      <td>['Postulaciones, labores y más información en:...</td>\n",
       "    </tr>\n",
       "  </tbody>\n",
       "</table>\n",
       "</div>"
      ],
      "text/plain": [
       "                                               input     biases_detected  \\\n",
       "0  Estimada comunidad beauchefiana: ¿Tienes papel...            UNBIASED   \n",
       "1  Desde hoy y hasta el 19 de diciembre puedes de...    GENERIC_PRONOUNS   \n",
       "2  Revisa en el afiche qué tipo de papeles puedes...            UNBIASED   \n",
       "3  Estimada Comunidad:   La Subdirección de Puebl...  EXCLUSIONARY_TERMS   \n",
       "4  Postulaciones, labores y más información en:  ...            UNBIASED   \n",
       "\n",
       "  scores                                             output  index  \\\n",
       "0    1.0                                           UNBIASED      0   \n",
       "1    0.8  Desde hoy y hasta el 19 de diciembre puedes de...      1   \n",
       "2    1.0                                           UNBIASED      2   \n",
       "3    0.8  Estimada Comunidad:   La Subdirección de Puebl...      4   \n",
       "4    1.0                                           UNBIASED      5   \n",
       "\n",
       "  sesgo_pronombre sesgo_otro  \\\n",
       "0              NO         NO   \n",
       "1             NaN        NaN   \n",
       "2             NaN        NaN   \n",
       "3              NO         NO   \n",
       "4             NaN        NaN   \n",
       "\n",
       "                                              target  \n",
       "0  ['Estimada comunidad beauchefiana: ¿Tienes pap...  \n",
       "1  ['Desde hoy y hasta el 19 de diciembre puedes ...  \n",
       "2  ['Revisa en el afiche qué tipo de papeles pued...  \n",
       "3  ['Estimada Comunidad:   La Subdirección de Pue...  \n",
       "4  ['Postulaciones, labores y más información en:...  "
      ]
     },
     "execution_count": 4,
     "metadata": {},
     "output_type": "execute_result"
    }
   ],
   "source": [
    "df.head()"
   ]
  },
  {
   "cell_type": "markdown",
   "metadata": {},
   "source": [
    "### Example\n",
    "\n",
    "There are potentially many options for replacing a biased text. We will consider the highest similarity among all candidate options."
   ]
  },
  {
   "cell_type": "code",
   "execution_count": 5,
   "metadata": {},
   "outputs": [],
   "source": [
    "references = ['Se informa a la comunidad estudiantil que quienes NO asistan al proceso de captura fotográfica correspondiente a la retarjetización de la Tarjeta Nacional Estudiantil, quedarán sin esta nueva versión desde el próximo año.']\n",
    "predictions = ['Se informa a toda la comunidad estudiantil que las personas que NO asistan al proceso de captura fotográfica correspondiente a la retarjetización de la Tarjeta Nacional Estudiantil, no podrán obtener esta nueva versión desde el próximo año.' for _ in references]"
   ]
  },
  {
   "cell_type": "code",
   "execution_count": 6,
   "metadata": {},
   "outputs": [
    {
     "ename": "ModuleNotFoundError",
     "evalue": "No module named 'evaluate'",
     "output_type": "error",
     "traceback": [
      "\u001b[0;31m---------------------------------------------------------------------------\u001b[0m",
      "\u001b[0;31mModuleNotFoundError\u001b[0m                       Traceback (most recent call last)",
      "Cell \u001b[0;32mIn[6], line 1\u001b[0m\n\u001b[0;32m----> 1\u001b[0m \u001b[38;5;28;01mfrom\u001b[39;00m \u001b[38;5;21;01mevaluate\u001b[39;00m \u001b[38;5;28;01mimport\u001b[39;00m load\n\u001b[1;32m      2\u001b[0m bertscore \u001b[38;5;241m=\u001b[39m load(\u001b[38;5;124m\"\u001b[39m\u001b[38;5;124mbertscore\u001b[39m\u001b[38;5;124m\"\u001b[39m)\n",
      "\u001b[0;31mModuleNotFoundError\u001b[0m: No module named 'evaluate'"
     ]
    }
   ],
   "source": [
    "from evaluate import load\n",
    "bertscore = load(\"bertscore\")"
   ]
  },
  {
   "cell_type": "code",
   "execution_count": 16,
   "metadata": {},
   "outputs": [
    {
     "name": "stdout",
     "output_type": "stream",
     "text": [
      "{'precision': [0.9533587098121643], 'recall': [0.9690830707550049], 'f1': [0.9611566066741943], 'hashcode': 'bert-base-multilingual-cased_L9_no-idf_version=0.3.12(hug_trans=4.47.1)'}\n"
     ]
    }
   ],
   "source": [
    "results = bertscore.compute(predictions=predictions, references=references, model_type=\"bert-base-multilingual-cased\")\n",
    "print(results)"
   ]
  },
  {
   "cell_type": "markdown",
   "metadata": {},
   "source": [
    "Full evaluation"
   ]
  },
  {
   "cell_type": "code",
   "execution_count": 17,
   "metadata": {},
   "outputs": [
    {
     "data": {
      "text/plain": [
       "0                                                    NaN\n",
       "1                                                    NaN\n",
       "2      Unidad de Calidad de Vida Estudiantil les invi...\n",
       "3      Es necesario el compromiso de acompañar a una/...\n",
       "4                                                    NaN\n",
       "                             ...                        \n",
       "943                                                  NaN\n",
       "944                                                  NaN\n",
       "945                                                  NaN\n",
       "946    El Centro de Estudiantes de Ingeniería (CEI) l...\n",
       "947                                                  NaN\n",
       "Name: version_sin_sesgo, Length: 948, dtype: object"
      ]
     },
     "execution_count": 17,
     "metadata": {},
     "output_type": "execute_result"
    }
   ],
   "source": [
    "merged_df['version_sin_sesgo']"
   ]
  },
  {
   "cell_type": "code",
   "execution_count": 18,
   "metadata": {},
   "outputs": [
    {
     "name": "stdout",
     "output_type": "stream",
     "text": [
      "333\n"
     ]
    }
   ],
   "source": [
    "merged_df = merged_df.dropna(subset=['version_sin_sesgo'])\n",
    "print(len(merged_df))"
   ]
  },
  {
   "cell_type": "code",
   "execution_count": 21,
   "metadata": {},
   "outputs": [],
   "source": [
    "results = bertscore.compute(predictions=list(merged_df['output']), references=list(merged_df['version_sin_sesgo']), model_type=\"bert-base-multilingual-cased\")"
   ]
  },
  {
   "cell_type": "code",
   "execution_count": 23,
   "metadata": {},
   "outputs": [],
   "source": [
    "merged_df['precision'] = results['precision']\n",
    "merged_df['recall'] = results['recall']\n",
    "merged_df['f1'] = results['f1']"
   ]
  },
  {
   "cell_type": "code",
   "execution_count": 24,
   "metadata": {},
   "outputs": [
    {
     "data": {
      "text/plain": [
       "333"
      ]
     },
     "execution_count": 24,
     "metadata": {},
     "output_type": "execute_result"
    }
   ],
   "source": [
    "len(merged_df)"
   ]
  },
  {
   "cell_type": "code",
   "execution_count": 25,
   "metadata": {},
   "outputs": [],
   "source": [
    "def filter_best_scores(df, id_column, score_column):\n",
    "    \"\"\"\n",
    "    Reduces the dataframe to only the rows with the best score for each ID.\n",
    "\n",
    "    Parameters:\n",
    "    - df (pd.DataFrame): The original dataframe\n",
    "    - id_column (str): Name of the column containing unique IDs\n",
    "    - score_column (str): Name of the column containing the scores\n",
    "\n",
    "    Returns:\n",
    "    - pd.DataFrame: A filtered dataframe with the best score per ID\n",
    "    \"\"\"\n",
    "    # Find the maximum score for each ID_row\n",
    "    best_scores = df.groupby(id_column)[score_column].transform('max')\n",
    "    \n",
    "    # Filter the rows where the score matches the maximum score for each ID_row\n",
    "    filtered_df = df[df[score_column] == best_scores].copy(deep=True)\n",
    "    \n",
    "    return filtered_df"
   ]
  },
  {
   "cell_type": "code",
   "execution_count": 26,
   "metadata": {},
   "outputs": [
    {
     "data": {
      "text/plain": [
       "333"
      ]
     },
     "execution_count": 26,
     "metadata": {},
     "output_type": "execute_result"
    }
   ],
   "source": [
    "df_results = filter_best_scores(merged_df, 'index', 'f1')\n",
    "len(df_results)"
   ]
  },
  {
   "cell_type": "code",
   "execution_count": 27,
   "metadata": {},
   "outputs": [
    {
     "name": "stdout",
     "output_type": "stream",
     "text": [
      "precision \n",
      "\tmean: 0.8309580647909606\n",
      "\tstd: 0.16464016886510133\n",
      "\n",
      "recall \n",
      "\tmean: 0.7824891748371067\n",
      "\tstd: 0.20287524738079862\n",
      "\n",
      "f1 \n",
      "\tmean: 0.8046059384718314\n",
      "\tstd: 0.1852749454425095\n",
      "\n"
     ]
    }
   ],
   "source": [
    "import numpy as np\n",
    "\n",
    "for k in results.keys():\n",
    "    if not k == 'hashcode':\n",
    "        print(f'{k}',f'\\n\\tmean: {np.mean(df_results[k])}\\n\\tstd: {np.std(df_results[k])}\\n')"
   ]
  },
  {
   "cell_type": "markdown",
   "metadata": {},
   "source": [
    "Subtracting input"
   ]
  },
  {
   "cell_type": "code",
   "execution_count": 30,
   "metadata": {},
   "outputs": [],
   "source": [
    "results_input = bertscore.compute(\n",
    "    predictions=list(df_results['input']),\n",
    "    references=list(df_results['version_sin_sesgo']), model_type=\"bert-base-multilingual-cased\")\n",
    "df_results['precision_input'] = results_input['precision']\n",
    "df_results['recall_input'] = results_input['recall']\n",
    "df_results['f1_input'] = results_input['f1']\n",
    "\n",
    "df_results['precision_diff'] = df_results['precision'] - df_results['precision_input']\n",
    "df_results['recall_diff'] = df_results['recall'] - df_results['recall_input']\n",
    "df_results['f1_diff'] = df_results['f1'] - df_results['f1_input']"
   ]
  },
  {
   "cell_type": "code",
   "execution_count": 31,
   "metadata": {},
   "outputs": [
    {
     "name": "stdout",
     "output_type": "stream",
     "text": [
      "precision \n",
      "\tmean (diff): -0.147619934948357\n",
      "\tstd (diff): 0.16816722939475584\n",
      "\n",
      "recall \n",
      "\tmean (diff): -0.1812424785024053\n",
      "\tstd (diff): 0.2084570808405189\n",
      "\n",
      "f1 \n",
      "\tmean (diff): -0.16638319252489564\n",
      "\tstd (diff): 0.18992517879407717\n",
      "\n"
     ]
    }
   ],
   "source": [
    "for k in results.keys():\n",
    "    if not k == 'hashcode':\n",
    "        print(f'{k}',f\"\\n\\tmean (diff): {np.mean(df_results[k+'_diff'])}\\n\\tstd (diff): {np.std(df_results[k+'_diff'])}\\n\")"
   ]
  }
 ],
 "metadata": {
  "kernelspec": {
   "display_name": "debiasing",
   "language": "python",
   "name": "python3"
  },
  "language_info": {
   "codemirror_mode": {
    "name": "ipython",
    "version": 3
   },
   "file_extension": ".py",
   "mimetype": "text/x-python",
   "name": "python",
   "nbconvert_exporter": "python",
   "pygments_lexer": "ipython3",
   "version": "3.11.11"
  }
 },
 "nbformat": 4,
 "nbformat_minor": 2
}
