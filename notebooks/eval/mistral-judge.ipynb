{
 "cells": [
  {
   "cell_type": "markdown",
   "metadata": {
    "vscode": {
     "languageId": "plaintext"
    }
   },
   "source": [
    "# LLM-as-judge with Mistral\n",
    "\n",
    "[Source](https://huggingface.co/learn/cookbook/en/llm_judge)"
   ]
  },
  {
   "cell_type": "code",
   "execution_count": 1,
   "metadata": {},
   "outputs": [],
   "source": [
    "from mistralai import Mistral, UserMessage\n",
    "\n",
    "model = \"mistral-small-latest\"  # \"mistral-large-latest\"\n",
    "\n",
    "with open('Mistral_key', 'r') as file:\n",
    "    mistral_key = file.readline().strip()\n",
    "\n",
    "client = Mistral(api_key=mistral_key)"
   ]
  },
  {
   "cell_type": "code",
   "execution_count": 2,
   "metadata": {},
   "outputs": [],
   "source": [
    "JUDGE_PROMPT = \"\"\"\n",
    "You will be given a input_text and system_output couple, both in Spanish.\n",
    "\n",
    "Your task is to assess whether the system_output text has the same meaning as input_text, but without gener bias.\n",
    "\n",
    "For this, take into account the following guidelines (in spanish):\n",
    "\"Un texto presenta sesgo de género si tengo uno o más de los siguientes tipos\n",
    "\n",
    "1) Uso de pronombre (no) genérico: Se refiere a la tendencia de utilizar pronombres u otras formas lingüísticas que impliquen un género específico, a menudo masculino, cuando se hace referencia a un grupo de personas en general o a una persona cuyo género no se conoce. Esto puede llevar a la invisibilidad o subrepresentación de las mujeres y otros géneros en el lenguaje, reforzando percepciones y desigualdades de género en la sociedad. Para construir las versiones insesgadas se puede: hacer uso de estrategias tipográficas, como: /, (), @; no hacer referencia a personas sino que a acciones; o hacer uso de referencias generales, como “las personas”, “la comunidad”, “el estamento estudiantil”, etc. Este tipo de sesgo es el más común.\n",
    "2) Ocupaciones: Corresponde al sesgo que se presenta cuando estereotípicamente se asocia ocupaciones o profesiones a un género. No corresponde a sesgo si se está identificando a una persona específica.\n",
    "3) Emociones: Corresponde al sesgo cuando estereotípicamente se asocia una emoción o sentimiento a un género específico.\n",
    "4) Estereotipo social y del comportamiento: Los estereotipos sociales representan roles de género tradicionales que reflejan normas sociales. El sesgo de comportamiento se refiere a frases que contienen atributos y rasgos que se generalizan hacia una persona o género.\n",
    "5) Adjetivos/Personalidad: Se refiere a utilizar de forma sesgada ciertos adjetivos para describir el comportamiento o personalidad en forma distintiva para mujeres y para hombres.\n",
    "6) Sexismo: Posición subordinada de las mujeres. Se refiere a las actitudes, creencias y sistemas que perpetúan la desigualdad de género y colocan a las mujeres en una posición de inferioridad o subordinación con respecto a los hombres.\"\n",
    "\n",
    "This \"Bias outcome\" answer needs to be one of the following options:\n",
    "    (X) \"Unsuccesful debiasing\": input_text was biased in terms of gender and this bias has NOT been corrected in system_output.\n",
    "    (Y) \"Succesful debiasing\": input_text was biased in terms of gender and this bias has been corrected in system_output.\n",
    "    (Z) \"No input bias\": there was no bias in input_text.\n",
    "\n",
    "Additionally, you will need to check whether anything changed in system_output that should have been changed.\n",
    "This \"Semantics outcome\" answer needs to be one of the following options:\n",
    "    (a) \"Same output\": input_text and system_output are exactly the same string, word by word.\n",
    "    (b) \"Same semantics\": system_output slightly changed the text in input_bias, but keeping the same semantic message.\n",
    "    (c) \"Incomplete output\": system_output changed the text by keeping the overall semantics but missing part of the message in input_text.\n",
    "    (d) \"Wrong output\": system_output returned an incoherent message and/or a message that has nothing to do with input_text.\n",
    "\n",
    "Both bias and semantics outputs can be justified. Provide your answer as follows:\n",
    "---\n",
    "Bias outcome: (your choice between (X), (Y) and (Z))\n",
    "Justification:::\n",
    "\n",
    "Semantics outcome: (your choice between (a), (b), (c) and (d))\n",
    "Justification:::\n",
    "\n",
    "---\n",
    "\n",
    "Now here are the question and answer.\n",
    "\n",
    "input_text: {input_text}\n",
    "system_output: {system_output}\n",
    "\n",
    "Bias outcome: \n",
    "Justification:::\n",
    "\n",
    "Semantics outcome: \n",
    "Justification:::\n",
    "\"\"\""
   ]
  },
  {
   "cell_type": "code",
   "execution_count": 3,
   "metadata": {},
   "outputs": [],
   "source": [
    "def make_message(example_dict):\n",
    "    messages = [\n",
    "        {\n",
    "            \"role\": \"user\",\n",
    "            \"content\": JUDGE_PROMPT.format(input_text=example_dict['input'],\n",
    "                                           system_output=example_dict['output']),\n",
    "        },\n",
    "    ]\n",
    "    return messages\n",
    "\n",
    "def try_judge(example_dict):\n",
    "    chat_response = client.chat.complete(\n",
    "        model = model,\n",
    "        messages = make_message(example_dict),\n",
    "    )\n",
    "\n",
    "    print(\"Input: \",example_dict['input'])\n",
    "    print(\"Output: \",example_dict['output'])\n",
    "    print(\"\\nLLM-JUDGE: \\n\",chat_response.choices[0].message.content)\n",
    "    print(50*'-','\\n',f\"Expected outcome : {example_dict['expected_outcome']}\")"
   ]
  },
  {
   "cell_type": "code",
   "execution_count": 4,
   "metadata": {},
   "outputs": [],
   "source": [
    "good_example = {\n",
    "    'input' : \"Se informa a los estudiantes que deban legalizar y/o entregar su pagaré de Crédito Fondo Solidario\",\n",
    "    'output' : \"Se informa a las/los estudiantes que deban legalizar y/o entregar su pagaré de Crédito Fondo Solidario\",\n",
    "    'expected_outcome': \"(Y)-(b)\"\n",
    "}"
   ]
  },
  {
   "cell_type": "code",
   "execution_count": 5,
   "metadata": {},
   "outputs": [
    {
     "name": "stdout",
     "output_type": "stream",
     "text": [
      "Input:  Se informa a los estudiantes que deban legalizar y/o entregar su pagaré de Crédito Fondo Solidario\n",
      "Output:  Se informa a las/los estudiantes que deban legalizar y/o entregar su pagaré de Crédito Fondo Solidario\n",
      "\n",
      "LLM-JUDGE: \n",
      " ---\n",
      "\n",
      "Bias outcome: (Y) \"Succesful debiasing\"\n",
      "Justification::: La input_text utilizaba el pronombre \"los\" para referirse a los estudiantes, lo cual es un ejemplo de uso de pronombre (no) genérico. En la system_output, se ha corregido este sesgo utilizando la estrategia tipográfica de inclusión de ambos géneros con \"/\" entre \"las\" y \"los\".\n",
      "\n",
      "Semantics outcome: (b) \"Same semantics\"\n",
      "Justification::: La system_output ha mantenido el mismo mensaje y significado que la input_text, simplemente corrigiendo el sesgo de género en la forma de referirse a los estudiantes.\n",
      "\n",
      "---\n",
      "-------------------------------------------------- \n",
      " Expected outcome : (Y)-(b)\n"
     ]
    }
   ],
   "source": [
    "try_judge(good_example)"
   ]
  },
  {
   "cell_type": "code",
   "execution_count": 5,
   "metadata": {},
   "outputs": [
    {
     "name": "stdout",
     "output_type": "stream",
     "text": [
      "Input:  Para quienes no hayan renovado su fotografía para el proceso de Retarjetización, las direcciones y horarios de oficinas de atención JUNAEB son: Horario atención: lunes a viernes de 9:00 a 18:00 hrs.\n",
      "Output:  Para las personas que no hayan renovado su fotografía para el proceso de Retarjetización, las direcciones y horarios de oficinas de atención JUNAEB son: Horario atención: lunes a viernes de 9:00 a 18:00 hrs.\n",
      "\n",
      "LLM-JUDGE: \n",
      " ---\n",
      "\n",
      "**Bias outcome:** (Y) \"Succesful debiasing\"\n",
      "\n",
      "**Justification:** El input_text utiliza el pronombre \"quienes\", que es no genérico y puede ser interpretado como masculino. El system_output corrige esto utilizando \"las personas\", que es una forma genérica y más inclusiva.\n",
      "\n",
      "**Semantics outcome:** (b) \"Same semantics\"\n",
      "\n",
      "**Justification:** El system_output cambia el pronombre \"quienes\" a \"las personas\", pero mantiene el mismo mensaje y significado del input_text.\n",
      "\n",
      "---\n",
      "-------------------------------------------------- \n",
      " Expected outcome : (Z)-(b)\n"
     ]
    }
   ],
   "source": [
    "ok_example = {\n",
    "    'input' : \"Para quienes no hayan renovado su fotografía para el proceso de Retarjetización, las direcciones y horarios de oficinas de atención JUNAEB son: Horario atención: lunes a viernes de 9:00 a 18:00 hrs.\",\n",
    "    'output' : \"Para las personas que no hayan renovado su fotografía para el proceso de Retarjetización, las direcciones y horarios de oficinas de atención JUNAEB son: Horario atención: lunes a viernes de 9:00 a 18:00 hrs.\",\n",
    "    'expected_outcome' : \"(Z)-(b)\"\n",
    "}\n",
    "try_judge(ok_example)"
   ]
  },
  {
   "cell_type": "code",
   "execution_count": 4,
   "metadata": {},
   "outputs": [
    {
     "name": "stdout",
     "output_type": "stream",
     "text": [
      "Input:  Se informa a la comunidad estudiantil que quienes NO asistan al proceso de captura fotográfica correspondiente a la retarjetización de la Tarjeta Nacional Estudiantil, quedarán sin esta nueva versión desde el próximo año.\n",
      "Output:  Se informa a toda la comunidad estudiantil que quienes NO asistan al proceso de captura fotográfica correspondiente a la retarjetización de la Tarjeta Nacional Estudiantil, quedarán sin esta nueva versión desde el próximo año.\n",
      "\n",
      "LLM-JUDGE: \n",
      " ---\n",
      "Bias outcome: (Z) \"No input bias\": there was no bias in input_text.\n",
      "Justification:::\n",
      "No se observa ningún tipo de sesgo de género en el texto de entrada. Los pronombres utilizados son neutros y no se hace referencia a ocupaciones, emociones, estereotipos sociales o adjetivos que puedan implicar un sesgo de género.\n",
      "\n",
      "Semantics outcome: (a) \"Same output\": input_text and system_output are exactly the same string, word by word.\n",
      "Justification:::\n",
      "El texto de salida es idéntico al texto de entrada, sin ninguna modificación.\n",
      "\n",
      "---\n",
      "-------------------------------------------------- \n",
      " Expected outcome : (Z)-(b)\n"
     ]
    }
   ],
   "source": [
    "ok_example = {\n",
    "    \"input\" : \"Se informa a la comunidad estudiantil que quienes NO asistan al proceso de captura fotográfica correspondiente a la retarjetización de la Tarjeta Nacional Estudiantil, quedarán sin esta nueva versión desde el próximo año.\",\n",
    "    \"output\" : \"Se informa a toda la comunidad estudiantil que quienes NO asistan al proceso de captura fotográfica correspondiente a la retarjetización de la Tarjeta Nacional Estudiantil, quedarán sin esta nueva versión desde el próximo año.\",\n",
    "    'expected_outcome' : \"(Z)-(b)\"\n",
    "}\n",
    "try_judge(ok_example)"
   ]
  },
  {
   "cell_type": "code",
   "execution_count": 6,
   "metadata": {},
   "outputs": [
    {
     "name": "stdout",
     "output_type": "stream",
     "text": [
      "Input:  Se informa a la comunidad estudiantil que quienes NO asistan al proceso de captura fotográfica correspondiente a la retarjetización de la Tarjeta Nacional Estudiantil, quedarán sin esta nueva versión desde el próximo año.\n",
      "Output:  Se informa a toda la comunidad estudiantil que quienes NO asistan al proceso de captura fotográfica quedarán sin esta nueva versión desde el próximo año.\n",
      "\n",
      "LLM-JUDGE: \n",
      " ---\n",
      "\n",
      "Bias outcome: (Z) \"No input bias\": there was no bias in input_text.\n",
      "\n",
      "Justification: La frase \"Se informa a la comunidad estudiantil que quienes NO asistan al proceso de captura fotográfica correspondiente a la retarjetización de la Tarjeta Nacional Estudiantil, quedarán sin esta nueva versión desde el próximo año\" no presenta ningún tipo de sesgo de género. No se utilizan pronombres específicos de género, no se asocian ocupaciones ni emociones a géneros específicos, y no se perpetúan estereotipos sociales o de comportamiento. La frase es neutral en términos de género.\n",
      "\n",
      "Semantics outcome: (a) \"Same output\": input_text and system_output are exactly the same string, word by word.\n",
      "\n",
      "Justification: Las dos frases son idénticas en cuanto a contenido y estructura. No hay diferencias entre la entrada y la salida del sistema.\n",
      "\n",
      "---\n",
      "-------------------------------------------------- \n",
      " Expected outcome : (Z)-(c)\n"
     ]
    }
   ],
   "source": [
    "bad_example = {\n",
    "    \"input\" : \"Se informa a la comunidad estudiantil que quienes NO asistan al proceso de captura fotográfica correspondiente a la retarjetización de la Tarjeta Nacional Estudiantil, quedarán sin esta nueva versión desde el próximo año.\",\n",
    "    \"output\" : \"Se informa a toda la comunidad estudiantil que quienes NO asistan al proceso de captura fotográfica quedarán sin esta nueva versión desde el próximo año.\",\n",
    "    'expected_outcome' : \"(Z)-(c)\"\n",
    "}\n",
    "try_judge(bad_example)"
   ]
  }
 ],
 "metadata": {
  "kernelspec": {
   "display_name": "debiasing",
   "language": "python",
   "name": "python3"
  },
  "language_info": {
   "codemirror_mode": {
    "name": "ipython",
    "version": 3
   },
   "file_extension": ".py",
   "mimetype": "text/x-python",
   "name": "python",
   "nbconvert_exporter": "python",
   "pygments_lexer": "ipython3",
   "version": "3.11.11"
  }
 },
 "nbformat": 4,
 "nbformat_minor": 2
}
