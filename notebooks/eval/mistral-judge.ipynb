{
 "cells": [
  {
   "cell_type": "markdown",
   "metadata": {
    "vscode": {
     "languageId": "plaintext"
    }
   },
   "source": [
    "# LLM-as-judge with Mistral"
   ]
  },
  {
   "cell_type": "code",
   "execution_count": 1,
   "metadata": {},
   "outputs": [],
   "source": [
    "from mistralai import Mistral, UserMessage\n",
    "\n",
    "model = \"mistral-small-latest\"  # \"mistral-large-latest\"\n",
    "\n",
    "with open('Mistral_key', 'r') as file:\n",
    "    mistral_key = file.readline().strip()\n",
    "\n",
    "client = Mistral(api_key=mistral_key)"
   ]
  },
  {
   "cell_type": "code",
   "execution_count": 2,
   "metadata": {},
   "outputs": [
    {
     "name": "stdout",
     "output_type": "stream",
     "text": [
      "Choosing the \"best\" French cheese can be quite subjective as it depends on personal preferences. However, some French cheeses are particularly renowned and beloved worldwide. Here are a few that are often considered among the best:\n",
      "\n",
      "1. **Brie de Meaux or Brie de Melun**: These are classic soft cheeses from the Île-de-France region, known for their creamy texture and rich, earthy flavor.\n",
      "\n",
      "2. **Roquefort**: This is a blue cheese made from sheep's milk, produced in the south of France. It's known for its tangy, salty flavor and distinctive blue veins.\n",
      "\n",
      "3. **Camembert de Normandie**: This soft, creamy cheese from Normandy has a mild, earthy flavor that intensifies as it ripens.\n",
      "\n",
      "4. **Comté**: This hard cheese from the Jura Mountains is made from cow's milk. It has a nutty, slightly sweet flavor and is often used in cooking.\n",
      "\n",
      "5. **Reblochon**: Originating from the Savoie region, this semi-soft cheese has a rich, buttery flavor and a washed rind.\n",
      "\n",
      "6. **Époisses de Bourgogne**: This is a strong, pungent cheese from Burgundy. It's washed in a special brandy called Marc de Bourgogne, giving it a distinctive flavor.\n",
      "\n",
      "Each of these cheeses offers a unique flavor and texture, so the \"best\" one depends on what you prefer. It's always a good idea to try a variety to discover your favorite!\n"
     ]
    }
   ],
   "source": [
    "messages = [\n",
    "    {\n",
    "        \"role\": \"user\",\n",
    "        \"content\": \"What is the best French cheese?\",\n",
    "    },\n",
    "]\n",
    "\n",
    "chat_response = client.chat.complete(\n",
    "    model = model,\n",
    "    messages = messages,\n",
    ")\n",
    "\n",
    "print(chat_response.choices[0].message.content)"
   ]
  }
 ],
 "metadata": {
  "kernelspec": {
   "display_name": "debiasing",
   "language": "python",
   "name": "python3"
  },
  "language_info": {
   "codemirror_mode": {
    "name": "ipython",
    "version": 3
   },
   "file_extension": ".py",
   "mimetype": "text/x-python",
   "name": "python",
   "nbconvert_exporter": "python",
   "pygments_lexer": "ipython3",
   "version": "3.11.11"
  }
 },
 "nbformat": 4,
 "nbformat_minor": 2
}
