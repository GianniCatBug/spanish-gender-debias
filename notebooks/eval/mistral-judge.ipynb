{
 "cells": [
  {
   "cell_type": "markdown",
   "metadata": {
    "vscode": {
     "languageId": "plaintext"
    }
   },
   "source": [
    "# LLM-as-judge with Mistral\n",
    "\n",
    "[Source](https://huggingface.co/learn/cookbook/en/llm_judge)"
   ]
  },
  {
   "cell_type": "code",
   "execution_count": 1,
   "metadata": {},
   "outputs": [],
   "source": [
    "from mistralai import Mistral, UserMessage\n",
    "\n",
    "model = \"mistral-small-latest\"  # \"mistral-large-latest\"\n",
    "\n",
    "with open('Mistral_key', 'r') as file:\n",
    "    mistral_key = file.readline().strip()\n",
    "\n",
    "client = Mistral(api_key=mistral_key)"
   ]
  },
  {
   "cell_type": "code",
   "execution_count": 2,
   "metadata": {},
   "outputs": [],
   "source": [
    "JUDGE_PROMPT = \"\"\"\n",
    "You will be given a input_text and system_output couple, both in Spanish.\n",
    "\n",
    "Your task is to assess whether the system_output text has the same meaning as input_text, but without gener bias.\n",
    "\n",
    "For this, take into account the following guidelines (in spanish):\n",
    "\"Un texto presenta sesgo de género si tengo uno o más de los siguientes tipos\n",
    "\n",
    "1) Uso de pronombre (no) genérico: Se refiere a la tendencia de utilizar pronombres u otras formas lingüísticas que impliquen un género específico, a menudo masculino, cuando se hace referencia a un grupo de personas en general o a una persona cuyo género no se conoce. Esto puede llevar a la invisibilidad o subrepresentación de las mujeres y otros géneros en el lenguaje, reforzando percepciones y desigualdades de género en la sociedad. Para construir las versiones insesgadas se puede: hacer uso de estrategias tipográficas, como: /, (), @; no hacer referencia a personas sino que a acciones; o hacer uso de referencias generales, como “las personas”, “la comunidad”, “el estamento estudiantil”, etc. Este tipo de sesgo es el más común.\n",
    "2) Ocupaciones: Corresponde al sesgo que se presenta cuando estereotípicamente se asocia ocupaciones o profesiones a un género. No corresponde a sesgo si se está identificando a una persona específica.\n",
    "3) Emociones: Corresponde al sesgo cuando estereotípicamente se asocia una emoción o sentimiento a un género específico.\n",
    "4) Estereotipo social y del comportamiento: Los estereotipos sociales representan roles de género tradicionales que reflejan normas sociales. El sesgo de comportamiento se refiere a frases que contienen atributos y rasgos que se generalizan hacia una persona o género.\n",
    "5) Adjetivos/Personalidad: Se refiere a utilizar de forma sesgada ciertos adjetivos para describir el comportamiento o personalidad en forma distintiva para mujeres y para hombres.\n",
    "6) Sexismo: Posición subordinada de las mujeres. Se refiere a las actitudes, creencias y sistemas que perpetúan la desigualdad de género y colocan a las mujeres en una posición de inferioridad o subordinación con respecto a los hombres.\"\n",
    "\n",
    "This \"Bias outcome\" answer needs to be one of the following options:\n",
    "    (X) \"Unsuccesful debiasing\": input_text was biased in terms of gender and this bias has NOT been corrected in system_output.\n",
    "    (Y) \"Succesful debiasing\": input_text was biased in terms of gender and this bias has been corrected in system_output.\n",
    "    (Z) \"No input bias\": there was no input bias in input_text.\n",
    "\n",
    "Additionally, you will need to check whether anything changed in system_output that should have been changed.\n",
    "This \"Semantics outcome\" answer needs to be one of the following options:\n",
    "    (a) \"Same output\": input_text and system_output are exactly the same string.\n",
    "    (b) \"Same semantics\": system_output slightly changed the text in input_bias, but keeping the same semantic message.\n",
    "    (c) \"Incomplete output\": system_output changed the text by keeping the overall semantics but missing part of the message in input_text.\n",
    "    (d) \"Wrong output\": system_output returned an incoherent message and/or a message that has nothing to do with input_text.\n",
    "\n",
    "Both bias and semantics outputs can be justified. Provide your answer as follows:\n",
    "\n",
    "Justification:::\n",
    "Bias outcome: (your choice between (X), (Y) and (Z))\n",
    "Semantics outcome: (your choice between (a), (b), (c) and (d))\n",
    "\n",
    "Now here are the question and answer.\n",
    "\n",
    "input_text: {input_text}\n",
    "system_output: {system_output}\n",
    "\n",
    "Justification:::\n",
    "Bias outcome: \n",
    "Semantics outcome: \n",
    "\"\"\""
   ]
  },
  {
   "cell_type": "code",
   "execution_count": 3,
   "metadata": {},
   "outputs": [],
   "source": [
    "def make_message(example_dict):\n",
    "    messages = [\n",
    "        {\n",
    "            \"role\": \"user\",\n",
    "            \"content\": JUDGE_PROMPT.format(input_text=example_dict['input'],\n",
    "                                           system_output=example_dict['output']),\n",
    "        },\n",
    "    ]\n",
    "    return messages\n",
    "\n",
    "def try_judge(example_dict):\n",
    "    chat_response = client.chat.complete(\n",
    "        model = model,\n",
    "        messages = make_message(example_dict),\n",
    "    )\n",
    "\n",
    "    print(\"Input: \",example_dict['input'])\n",
    "    print(\"Output: \",example_dict['output'])\n",
    "    print(\"\\nLLM-JUDGE: \\n\",chat_response.choices[0].message.content)\n",
    "    print(50*'-','\\n',f\"Expected outcome : {example_dict['expected_outcome']}\")"
   ]
  },
  {
   "cell_type": "code",
   "execution_count": 4,
   "metadata": {},
   "outputs": [],
   "source": [
    "good_example = {\n",
    "    'input' : \"Se informa a los estudiantes que deban legalizar y/o entregar su pagaré de Crédito Fondo Solidario\",\n",
    "    'output' : \"Se informa a las/los estudiantes que deban legalizar y/o entregar su pagaré de Crédito Fondo Solidario\",\n",
    "    'expected_outcome': \"(Y)-(b)\"\n",
    "}"
   ]
  },
  {
   "cell_type": "code",
   "execution_count": 5,
   "metadata": {},
   "outputs": [
    {
     "name": "stdout",
     "output_type": "stream",
     "text": [
      "Input:  Se informa a los estudiantes que deban legalizar y/o entregar su pagaré de Crédito Fondo Solidario\n",
      "Output:  Se informa a las/los estudiantes que deban legalizar y/o entregar su pagaré de Crédito Fondo Solidario\n",
      "\n",
      "LLM-JUDGE: \n",
      " Justification:::\n",
      "Bias outcome: (Y) \"Successful debiasing\": input_text was biased in terms of gender by using the masculine form \"los estudiantes,\" which can inadvertently exclude or marginalize female students. This bias has been corrected in system_output by using the gender-inclusive form \"las/los estudiantes.\"\n",
      "Semantics outcome: (b) \"Same semantics\": system_output slightly changed the text in input_text by making it gender-inclusive, but the semantic message remains the same.\n",
      "-------------------------------------------------- \n",
      " Expected outcome : (Y)-(b)\n"
     ]
    }
   ],
   "source": [
    "try_judge(good_example)"
   ]
  }
 ],
 "metadata": {
  "kernelspec": {
   "display_name": "debiasing",
   "language": "python",
   "name": "python3"
  },
  "language_info": {
   "codemirror_mode": {
    "name": "ipython",
    "version": 3
   },
   "file_extension": ".py",
   "mimetype": "text/x-python",
   "name": "python",
   "nbconvert_exporter": "python",
   "pygments_lexer": "ipython3",
   "version": "3.11.11"
  }
 },
 "nbformat": 4,
 "nbformat_minor": 2
}
