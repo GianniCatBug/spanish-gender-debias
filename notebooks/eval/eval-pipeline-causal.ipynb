{
 "cells": [
  {
   "cell_type": "code",
   "execution_count": 3,
   "id": "d93bb5ab-0972-41c4-b8e2-6ec71ecd7390",
   "metadata": {},
   "outputs": [
    {
     "name": "stdout",
     "output_type": "stream",
     "text": [
      "cuda\n"
     ]
    },
    {
     "data": {
      "application/vnd.jupyter.widget-view+json": {
       "model_id": "3dc3142fb0f742fa9fb69e599ca8b78b",
       "version_major": 2,
       "version_minor": 0
      },
      "text/plain": [
       "VBox(children=(HTML(value='<center> <img\\nsrc=https://huggingface.co/front/assets/huggingface_logo-noborder.sv…"
      ]
     },
     "metadata": {},
     "output_type": "display_data"
    }
   ],
   "source": [
    "import pandas as pd\n",
    "import numpy as np\n",
    "from tqdm.notebook import tqdm\n",
    "\n",
    "from nltk.translate.bleu_score import sentence_bleu, corpus_bleu\n",
    "from nltk.tokenize import word_tokenize\n",
    "from rouge_score import rouge_scorer\n",
    "\n",
    "import torch\n",
    "\n",
    "from transformers import (\n",
    "    AutoTokenizer,\n",
    ")\n",
    "\n",
    "from peft import (\n",
    "    PeftConfig,\n",
    "    PeftModel\n",
    ")\n",
    "\n",
    "import bitsandbytes as bnb\n",
    "from datasets import Dataset\n",
    "from huggingface_hub import notebook_login\n",
    "\n",
    "import sys\n",
    "sys.path.insert(0, '../..')\n",
    "import utils as u\n",
    "\n",
    "HF_USER = \"GianniCatBug\"\n",
    "MODEL_ID = \"falcon-7b-4bit-005-gender-debias-spanish\"\n",
    "REVISION = \"87ae1730160cf7022b4a02584223fa82f3e6fe52\"\n",
    "MODEL_TYPE = \"CAUSAL\"\n",
    "BIT = \"4bit\"\n",
    "\n",
    "INPUT_COL =  {\n",
    "    \"SEQ_2_SEQ\": \"seq2seq_document\",\n",
    "    \"CAUSAL\": \"causal_document\"\n",
    "}\n",
    "\n",
    "DEVICE = torch.device(\"cuda\" if torch.cuda.is_available() else \"cpu\")\n",
    "print(DEVICE)\n",
    "notebook_login()"
   ]
  },
  {
   "cell_type": "markdown",
   "id": "a445ef25-0071-467c-8f3f-2ba360548ba8",
   "metadata": {},
   "source": [
    "# Data"
   ]
  },
  {
   "cell_type": "code",
   "execution_count": 4,
   "id": "ca10882b-b39f-4c78-89a9-ef0136bd4247",
   "metadata": {},
   "outputs": [
    {
     "name": "stdout",
     "output_type": "stream",
     "text": [
      "(853, 6)\n"
     ]
    }
   ],
   "source": [
    "df = pd.read_csv(\"../../data/processed/20231210_test_data_labeled.csv\")\n",
    "df[\"target\"] = [\n",
    "    eval(t)\n",
    "    for t in df[\"target\"]\n",
    "]\n",
    "print(df.shape)"
   ]
  },
  {
   "cell_type": "code",
   "execution_count": 5,
   "id": "e3c990e7-26e9-40d8-99ab-717c9007f707",
   "metadata": {},
   "outputs": [
    {
     "data": {
      "text/html": [
       "<div>\n",
       "<style scoped>\n",
       "    .dataframe tbody tr th:only-of-type {\n",
       "        vertical-align: middle;\n",
       "    }\n",
       "\n",
       "    .dataframe tbody tr th {\n",
       "        vertical-align: top;\n",
       "    }\n",
       "\n",
       "    .dataframe thead th {\n",
       "        text-align: right;\n",
       "    }\n",
       "</style>\n",
       "<table border=\"1\" class=\"dataframe\">\n",
       "  <thead>\n",
       "    <tr style=\"text-align: right;\">\n",
       "      <th></th>\n",
       "      <th>input</th>\n",
       "      <th>target</th>\n",
       "      <th>sesgo_pronombre</th>\n",
       "      <th>sesgo_otro</th>\n",
       "      <th>seq2seq_document</th>\n",
       "      <th>causal_document</th>\n",
       "    </tr>\n",
       "  </thead>\n",
       "  <tbody>\n",
       "    <tr>\n",
       "      <th>0</th>\n",
       "      <td>Estimada comunidad beauchefiana: ¿Tienes papel...</td>\n",
       "      <td>[Estimada comunidad beauchefiana: ¿Tienes pape...</td>\n",
       "      <td>NO</td>\n",
       "      <td>NO</td>\n",
       "      <td>Eliminar sesgo de género del siguiente texto:\\...</td>\n",
       "      <td>&lt;human&gt;: ¿Puedes reescribir el siguiente texto...</td>\n",
       "    </tr>\n",
       "    <tr>\n",
       "      <th>1</th>\n",
       "      <td>Desde hoy y hasta el 19 de diciembre puedes de...</td>\n",
       "      <td>[Desde hoy y hasta el 19 de diciembre puedes d...</td>\n",
       "      <td>NaN</td>\n",
       "      <td>NaN</td>\n",
       "      <td>Eliminar sesgo de género del siguiente texto:\\...</td>\n",
       "      <td>&lt;human&gt;: ¿Puedes reescribir el siguiente texto...</td>\n",
       "    </tr>\n",
       "  </tbody>\n",
       "</table>\n",
       "</div>"
      ],
      "text/plain": [
       "                                               input  \\\n",
       "0  Estimada comunidad beauchefiana: ¿Tienes papel...   \n",
       "1  Desde hoy y hasta el 19 de diciembre puedes de...   \n",
       "\n",
       "                                              target sesgo_pronombre  \\\n",
       "0  [Estimada comunidad beauchefiana: ¿Tienes pape...              NO   \n",
       "1  [Desde hoy y hasta el 19 de diciembre puedes d...             NaN   \n",
       "\n",
       "  sesgo_otro                                   seq2seq_document  \\\n",
       "0         NO  Eliminar sesgo de género del siguiente texto:\\...   \n",
       "1        NaN  Eliminar sesgo de género del siguiente texto:\\...   \n",
       "\n",
       "                                     causal_document  \n",
       "0  <human>: ¿Puedes reescribir el siguiente texto...  \n",
       "1  <human>: ¿Puedes reescribir el siguiente texto...  "
      ]
     },
     "execution_count": 5,
     "metadata": {},
     "output_type": "execute_result"
    }
   ],
   "source": [
    "df.head(2)"
   ]
  },
  {
   "cell_type": "markdown",
   "id": "3ec50444-db8b-4921-817a-5a0b970411d2",
   "metadata": {},
   "source": [
    "# Model & Tokenizer"
   ]
  },
  {
   "cell_type": "code",
   "execution_count": 6,
   "id": "dd7b6cfc-5020-460d-9677-24210e39cdf3",
   "metadata": {},
   "outputs": [
    {
     "name": "stdout",
     "output_type": "stream",
     "text": [
      "vilsonrodrigues/falcon-7b-instruct-sharded\n"
     ]
    },
    {
     "data": {
      "application/vnd.jupyter.widget-view+json": {
       "model_id": "d7001650dc954c0ea2fe281ce71b05ec",
       "version_major": 2,
       "version_minor": 0
      },
      "text/plain": [
       "Loading checkpoint shards:   0%|          | 0/15 [00:00<?, ?it/s]"
      ]
     },
     "metadata": {},
     "output_type": "display_data"
    },
    {
     "name": "stdout",
     "output_type": "stream",
     "text": [
      "65024\n",
      "65024\n",
      "Peft model loaded\n"
     ]
    }
   ],
   "source": [
    "config = PeftConfig.from_pretrained(f\"{HF_USER}/{MODEL_ID}\", revision=REVISION)\n",
    "print(config.base_model_name_or_path)\n",
    "\n",
    "model = u.get_gender_model(config, MODEL_TYPE, BIT)\n",
    "\n",
    "# Load the Lora model\n",
    "model = PeftModel.from_pretrained(model, f\"{HF_USER}/{MODEL_ID}\", revision=REVISION, device_map=\"auto\")\n",
    "print(model.get_input_embeddings().num_embeddings)\n",
    "\n",
    "# Tokenizer\n",
    "tokenizer = AutoTokenizer.from_pretrained(config.base_model_name_or_path, use_fast=MODEL_TYPE == \"CAUSAL\")\n",
    "_ = tokenizer.add_tokens(new_tokens = u.new_tokens[MODEL_TYPE])\n",
    "\n",
    "model.resize_token_embeddings(len(tokenizer))\n",
    "print(model.get_input_embeddings().num_embeddings) # 32110\n",
    "\n",
    "model.eval()\n",
    "print(\"Peft model loaded\")"
   ]
  },
  {
   "cell_type": "code",
   "execution_count": 7,
   "id": "4ed670ea-be00-4ab9-a936-75da7c89fea2",
   "metadata": {},
   "outputs": [],
   "source": [
    "generation_config = u.get_model_generation_config(model, MODEL_TYPE, tokenizer)"
   ]
  },
  {
   "cell_type": "markdown",
   "id": "bacfbf8b-3fcf-4a00-b9a0-f2b529cfefa9",
   "metadata": {},
   "source": [
    "# Inference"
   ]
  },
  {
   "cell_type": "code",
   "execution_count": 23,
   "id": "e6667057-6268-40ee-a73f-093bbbb4a658",
   "metadata": {},
   "outputs": [
    {
     "data": {
      "application/vnd.jupyter.widget-view+json": {
       "model_id": "4b39e2b5fc82425aa4cf89f9a625dcf5",
       "version_major": 2,
       "version_minor": 0
      },
      "text/plain": [
       "  0%|          | 0/853 [00:00<?, ?it/s]"
      ]
     },
     "metadata": {},
     "output_type": "display_data"
    },
    {
     "name": "stdout",
     "output_type": "stream",
     "text": [
      "CPU times: user 42min 2s, sys: 144 ms, total: 42min 2s\n",
      "Wall time: 42min 2s\n"
     ]
    }
   ],
   "source": [
    "%%time\n",
    "df[\"generation\"] = [\n",
    "    u.generate_output(model, i, tokenizer, generation_config, DEVICE, 1.2)\n",
    "    for i in tqdm(df[INPUT_COL[MODEL_TYPE]], total=df.shape[0])\n",
    "]"
   ]
  },
  {
   "cell_type": "code",
   "execution_count": 24,
   "id": "2182dd60-3053-4eba-bee7-aa7a930eb6aa",
   "metadata": {},
   "outputs": [
    {
     "data": {
      "text/html": [
       "<div>\n",
       "<style scoped>\n",
       "    .dataframe tbody tr th:only-of-type {\n",
       "        vertical-align: middle;\n",
       "    }\n",
       "\n",
       "    .dataframe tbody tr th {\n",
       "        vertical-align: top;\n",
       "    }\n",
       "\n",
       "    .dataframe thead th {\n",
       "        text-align: right;\n",
       "    }\n",
       "</style>\n",
       "<table border=\"1\" class=\"dataframe\">\n",
       "  <thead>\n",
       "    <tr style=\"text-align: right;\">\n",
       "      <th></th>\n",
       "      <th>138</th>\n",
       "      <th>306</th>\n",
       "    </tr>\n",
       "  </thead>\n",
       "  <tbody>\n",
       "    <tr>\n",
       "      <th>input</th>\n",
       "      <td>Carta motivacional expresando su interés en el...</td>\n",
       "      <td>Este paso es solo informativo en base a tu tra...</td>\n",
       "    </tr>\n",
       "    <tr>\n",
       "      <th>target</th>\n",
       "      <td>[Carta motivacional expresando su interés en e...</td>\n",
       "      <td>[Este paso es solo informativo en base a tu tr...</td>\n",
       "    </tr>\n",
       "    <tr>\n",
       "      <th>generation</th>\n",
       "      <td>&lt;human&gt;: ¿Puedes reescribir el siguiente texto...</td>\n",
       "      <td>&lt;human&gt;: ¿Puedes reescribir el siguiente texto...</td>\n",
       "    </tr>\n",
       "  </tbody>\n",
       "</table>\n",
       "</div>"
      ],
      "text/plain": [
       "                                                          138  \\\n",
       "input       Carta motivacional expresando su interés en el...   \n",
       "target      [Carta motivacional expresando su interés en e...   \n",
       "generation  <human>: ¿Puedes reescribir el siguiente texto...   \n",
       "\n",
       "                                                          306  \n",
       "input       Este paso es solo informativo en base a tu tra...  \n",
       "target      [Este paso es solo informativo en base a tu tr...  \n",
       "generation  <human>: ¿Puedes reescribir el siguiente texto...  "
      ]
     },
     "execution_count": 24,
     "metadata": {},
     "output_type": "execute_result"
    }
   ],
   "source": [
    "df[[\"input\", \"target\", \"generation\"]].sample(2).T"
   ]
  },
  {
   "cell_type": "raw",
   "id": "4a275bed-e14f-4da1-8106-36da1e666f74",
   "metadata": {},
   "source": [
    "df.to_csv(f\"../../data/processed/20231220_test_generation_{MODEL_TYPE}.csv\", index=False)"
   ]
  },
  {
   "cell_type": "markdown",
   "id": "33d3feb4-f7a3-4727-b4e6-a352921820b3",
   "metadata": {},
   "source": [
    "```python\n",
    "# To avoid new generation\n",
    "\n",
    "df = pd.read_csv(f\"../data/processed/20231219_test_generation_{MODEL_TYPE}.csv\")\n",
    "df[\"target\"] = [\n",
    "    [\n",
    "        ti\n",
    "        for ti in eval(t)\n",
    "    ]\n",
    "    for t in df[\"target\"]\n",
    "]\n",
    "df.shape\n",
    "```"
   ]
  },
  {
   "cell_type": "markdown",
   "id": "8df9a6fa-8f23-4a1d-914e-dfc5db23feb4",
   "metadata": {},
   "source": [
    "## BLEU"
   ]
  },
  {
   "cell_type": "markdown",
   "id": "b848b686-f620-4bb1-9b51-650651ad2f3e",
   "metadata": {},
   "source": [
    "* For metrics calc, targets with less than 5 tokens are discarded, to avoid 0 counts of 4-gram overlaps"
   ]
  },
  {
   "cell_type": "code",
   "execution_count": 26,
   "id": "c2bd3c1e-28ef-48b3-b99a-16d911da5d02",
   "metadata": {},
   "outputs": [
    {
     "data": {
      "text/plain": [
       "((782, 9), (853, 9))"
      ]
     },
     "execution_count": 26,
     "metadata": {},
     "output_type": "execute_result"
    }
   ],
   "source": [
    "df[\"reference_tokens\"] = [\n",
    "    [\n",
    "        word_tokenize(tt)\n",
    "        for tt in t\n",
    "        if len(word_tokenize(tt)) >= 5\n",
    "    ]\n",
    "    for t in df[\"target\"]\n",
    "]\n",
    "\n",
    "df[\"max_ref_len\"] = [\n",
    "    np.array([\n",
    "        len(rti) for rti in rt\n",
    "    ]).max() if len(rt) else 0\n",
    "    for rt in df[\"reference_tokens\"]\n",
    "]\n",
    "\n",
    "df_metric = df[df[\"max_ref_len\"] >= 5].copy()\n",
    "df_metric.shape, df.shape"
   ]
  },
  {
   "cell_type": "code",
   "execution_count": 27,
   "id": "21051cb5-e343-4d37-a2d8-d8fbaa454a94",
   "metadata": {},
   "outputs": [],
   "source": [
    "df_metric[\"generated_tokens\"] = [\n",
    "    word_tokenize(u.get_processed_generation(MODEL_TYPE, g))\n",
    "    for g in df_metric[\"generation\"]\n",
    "]\n",
    "\n",
    "df_metric[\"input_tokens\"] = [\n",
    "    word_tokenize(i)\n",
    "    for i in df_metric[\"input\"]\n",
    "]"
   ]
  },
  {
   "cell_type": "code",
   "execution_count": 28,
   "id": "35ba2381-a3aa-4ec3-b7ee-50eca49d6ce9",
   "metadata": {},
   "outputs": [],
   "source": [
    "df_metric[\"bleu_gen\"] = [\n",
    "    sentence_bleu(t, g)\n",
    "    for t, g in zip(df_metric[\"reference_tokens\"], df_metric[\"generated_tokens\"])\n",
    "]\n",
    "\n",
    "df_metric[\"bleu_input\"] = [\n",
    "    sentence_bleu(t, i)\n",
    "    for t, i in zip(df_metric[\"reference_tokens\"], df_metric[\"input_tokens\"])\n",
    "]"
   ]
  },
  {
   "cell_type": "code",
   "execution_count": 29,
   "id": "75bd312c-e083-4431-bac9-0be8665c6193",
   "metadata": {},
   "outputs": [
    {
     "data": {
      "text/plain": [
       "(count    782.00000\n",
       " mean       0.98959\n",
       " std        0.05479\n",
       " min        0.01496\n",
       " 25%        1.00000\n",
       " 50%        1.00000\n",
       " 75%        1.00000\n",
       " max        1.00000\n",
       " Name: bleu_gen, dtype: float64,\n",
       " count    782.00000\n",
       " mean       0.99495\n",
       " std        0.02723\n",
       " min        0.59460\n",
       " 25%        1.00000\n",
       " 50%        1.00000\n",
       " 75%        1.00000\n",
       " max        1.00000\n",
       " Name: bleu_input, dtype: float64)"
      ]
     },
     "execution_count": 29,
     "metadata": {},
     "output_type": "execute_result"
    }
   ],
   "source": [
    "df_metric[\"bleu_gen\"].describe().round(5), df_metric[\"bleu_input\"].describe().round(5)"
   ]
  },
  {
   "cell_type": "code",
   "execution_count": 30,
   "id": "6373edf8-cad3-48ec-a7e9-390560c20e5b",
   "metadata": {},
   "outputs": [
    {
     "name": "stdout",
     "output_type": "stream",
     "text": [
      "0.98914\n",
      "0.99454\n"
     ]
    }
   ],
   "source": [
    "print(round(corpus_bleu([t for t in df_metric[\"reference_tokens\"]], df_metric[\"generated_tokens\"]), 5))\n",
    "print(round(corpus_bleu([t for t in df_metric[\"reference_tokens\"]], df_metric[\"input_tokens\"]), 5))"
   ]
  },
  {
   "cell_type": "code",
   "execution_count": 31,
   "id": "5cee3c97-bd8b-4674-b27d-2770ff23bb25",
   "metadata": {},
   "outputs": [
    {
     "name": "stdout",
     "output_type": "stream",
     "text": [
      "(7, 13)\n",
      "Input: Saludos, Subdirección de Gestión Docente Escuela de Ingeniería y Ciencias\n",
      "Target: ['Saludos, Subdirección de Gestión Docente Escuela de Ingeniería y Ciencias']\n",
      "Generation: Saludos, Subdirección de Gestión Docente Escuela de Ingeniería y Ciencias\n",
      "    (assistant): Sal\n",
      "BLEU: 0.6525452579\n",
      "\n",
      "Input: Inscripciones: https://docs.google.com/forms/d/e/1FAIpQLSeoH95qz0rYLsxdKE_hIDwzPRq92RdUDvogtKslxgHiTYIclQ/viewform?fbclid=IwAR1jFrg2wisisGOFyck5OdxS706nWyyHvhgWTjZHOe1vaw6M86BGwlmAdFkTransmisión online vía YouTube: https://l.facebook.com/l.php?u=https%3A%2F%2...aTwTwpU9NaMuaFAb51v8vHbNl4xPH5G0VvsJrYs50VRhNR-Zb\n",
      "Target: ['Inscripciones: https://docs.google.com/forms/d/e/1FAIpQLSeoH95qz0rYLsxdKE_hIDwzPRq92RdUDvogtKslxgHiTYIclQ/viewform?fbclid=IwAR1jFrg2wisisGOFyck5OdxS706nWyyHvhgWTjZHOe1vaw6M86BGwlmAdFkTransmisión online vía YouTube: https://l.facebook.com/l.php?u=https%3A%2F%2...aTwTwpU9NaMuaFAb51v8vHbNl4xPH5G0VvsJrYs50VRhNR-Zb']\n",
      "Generation: Inscripciones: https://docs.google.com/forms/d/e/1FAIpQLSeoH95qz0rLYzxgHIzqz0rLYzxgHIzqz0rLYzxgHIzqz0rLYzxgHIzqz0rLYzxgHIzqz0rLYzxgHIzqz0rLYzxgHIzqz0rLYzxgHIzqz0rLYzxgHIzqz0rLYzxgHIzqz0rLYzxgHIzqz0rLYzxgHIzqz0rLYzxgHIzqz0rLYzxgHIzqz0rLYzxgHIzqz0rLYzxgHIzqz0rLYzxgHIzqz0rLYzxgHIzqz0rLYzxgHIz\n",
      "BLEU: 0.0149602368\n",
      "\n",
      "Input: https://participauchile.cl/1_MODIFICA_FECHA_DE__ELECCION_DE_REPRESENTANTES_ESTUDIANTILES_POSTGRADO.pdf (123 kb)Agradecemos a los y las estudiantes que se presentaron como candidatos a Consejeros Estudiantil de Postgrado.\n",
      "Target: ['https://participauchile.cl/1_MODIFICA_FECHA_DE__ELECCION_DE_REPRESENTANTES_ESTUDIANTILES_POSTGRADO.pdf (123 kb)Agradecemos a los y las estudiantes que se presentaron como candidatos/as a Consejeros/as Estudiantil de Postgrado.', 'https://participauchile.cl/1_MODIFICA_FECHA_DE__ELECCION_DE_REPRESENTANTES_ESTUDIANTILES_POSTGRADO.pdf (123 kb)Agradecemos a los y las estudiantes que se presentaron como candidatas/os a Consejeras/os Estudiantil de Postgrado.', 'https://participauchile.cl/1_MODIFICA_FECHA_DE__ELECCION_DE_REPRESENTANTES_ESTUDIANTILES_POSTGRADO.pdf (123 kb)Agradecemos a los y las estudiantes que se presentaron como candidat@s a Consejer@s Estudiantil de Postgrado.', 'https://participauchile.cl/1_MODIFICA_FECHA_DE__ELECCION_DE_REPRESENTANTES_ESTUDIANTILES_POSTGRADO.pdf (123 kb)Agradecemos a los y las estudiantes que se presentaron como candidatos y candidatas a Consejeros y Consejeras Estudiantil de Postgrado.', 'https://participauchile.cl/1_MODIFICA_FECHA_DE__ELECCION_DE_REPRESENTANTES_ESTUDIANTILES_POSTGRADO.pdf (123 kb)Agradecemos a los y las estudiantes que se presentaron como candidatas y candidatos a Consejeras y Consejeros Estudiantil de Postgrado.']\n",
      "Generation: https://participauchile.cl/1_MODIFICA_FECHA_DE__ELECCION_DE_REPRESENTANTES_ESTUDIANTILES_POSTGRADO.pdf (123 kb)Agradecemos a las y los estudiantes que se presentaron como candidatos a Consejeros/as Estudiantil/a de Postgrado.\n",
      "BLEU: 0.6379033236\n",
      "\n",
      "Input: Hoy en \"Vida Saludable en Beauchef\", preparamos talleres para mejorar el bienestar y promover la salud física y mental Tendremos: Yoga: Estará una instructora en el Hall Sur, esperándolos y espesándolas para relajarse con una clase de yoga... Atentos a los regalitos sorpresa que entregaremos a los asistentesEntrenamiento funcional: A llenarse de energía y botar estrés con una clase entretenida ¡a moverse!\n",
      "Target: ['Hoy en \"Vida Saludable en Beauchef\", preparamos talleres para mejorar el bienestar y promover la salud física y mental Tendremos: Yoga: Estará una instructora en el Hall Sur, esperándolos y espesándolas para relajarse con una clase de yoga... Atent@s a los regalitos sorpresa que entregaremos a l@s asistentesEntrenamiento funcional: A llenarse de energía y botar estrés con una clase entretenida ¡a moverse!', 'Hoy en \"Vida Saludable en Beauchef\", preparamos talleres para mejorar el bienestar y promover la salud física y mental Tendremos: Yoga: Estará una instructora en el Hall Sur, esperándolos y espesándolas para relajarse con una clase de yoga... Atentos/as a los regalitos sorpresa que entregaremos a los/as asistentesEntrenamiento funcional: A llenarse de energía y botar estrés con una clase entretenida ¡a moverse!', 'Hoy en \"Vida Saludable en Beauchef\", preparamos talleres para mejorar el bienestar y promover la salud física y mental Tendremos: Yoga: Estará una instructora en el Hall Sur, esperándolos y espesándolas para relajarse con una clase de yoga... Atentas/os a los regalitos sorpresa que entregaremos a las/os asistentesEntrenamiento funcional: A llenarse de energía y botar estrés con una clase entretenida ¡a moverse!', 'Hoy en \"Vida Saludable en Beauchef\", preparamos talleres para mejorar el bienestar y promover la salud física y mental Tendremos: Yoga: Estará una instructora en el Hall Sur, esperándolos y espesándolas para relajarse con una clase de yoga... Atentos(as) a los regalitos sorpresa que entregaremos a los(as) asistentesEntrenamiento funcional: A llenarse de energía y botar estrés con una clase entretenida ¡a moverse!', 'Hoy en \"Vida Saludable en Beauchef\", preparamos talleres para mejorar el bienestar y promover la salud física y mental Tendremos: Yoga: Estará una instructora en el Hall Sur, esperándolos y espesándolas para relajarse con una clase de yoga... Atentas(os) a los regalitos sorpresa que entregaremos a las(os) asistentesEntrenamiento funcional: A llenarse de energía y botar estrés con una clase entretenida ¡a moverse!', 'Hoy en \"Vida Saludable en Beauchef\", preparamos talleres para mejorar el bienestar y promover la salud física y mental Tendremos: Yoga: Estará una instructora en el Hall Sur, esperándolos y espesándolas para relajarse con una clase de yoga... Atentos y atentas a los regalitos sorpresa que entregaremos a los y las asistentesEntrenamiento funcional: A llenarse de energía y botar estrés con una clase entretenida ¡a moverse!', 'Hoy en \"Vida Saludable en Beauchef\", preparamos talleres para mejorar el bienestar y promover la salud física y mental Tendremos: Yoga: Estará una instructora en el Hall Sur, esperándolos y espesándolas para relajarse con una clase de yoga... Atentas y atentos a los regalitos sorpresa que entregaremos a las y los asistentesEntrenamiento funcional: A llenarse de energía y botar estrés con una clase entretenida ¡a moverse!']\n",
      "Generation: Hoy en \"Vida Saludable en Beauchef\", preparamos talleres para mejorar el bienestar y promover la salud física y mental Tendremos: Yoga: Estará una instructora en el Hall Sur, esperándolos y espesándolos para relajarse con una clase de yoga... Atentos a los regalitos sorpresa que entregaremos a las personas que entren!\n",
      "BLEU: 0.6877384675\n",
      "\n",
      "Input: Atentamente,  Escuela de Ingeniería y Ciencias\n",
      "Target: ['Atentamente,  Escuela de Ingeniería y Ciencias']\n",
      "Generation: Atentamente,  Escuela de Ingeniería y Ciencias\n",
      "    (No se\n",
      "BLEU: 0.6389431042\n",
      "\n",
      "Input: Atentamente, Área de Idiomas\n",
      "Target: ['Atentamente, Área de Idiomas']\n",
      "Generation: Atentamente, Área de Idiomas\n",
      "    (PDF\n",
      "BLEU: 0.614788153\n",
      "\n",
      "Input: Decanato FCFM- U. de Chile\n",
      "Target: ['Decanato FCFM- U. de Chile']\n",
      "Generation: Decanato FCFM- U. de Chile\n",
      "    (ass\n",
      "BLEU: 0.614788153\n",
      "\n"
     ]
    }
   ],
   "source": [
    "bajos = df_metric[df_metric[\"bleu_gen\"] < 0.7]\n",
    "print(bajos.shape)\n",
    "\n",
    "for _, r in bajos.iterrows():\n",
    "    print(f\"Input: {r['input']}\")\n",
    "    print(f\"Target: {r['target']}\")\n",
    "    print(f\"Generation: {u.get_processed_generation(MODEL_TYPE, r['generation'])}\")\n",
    "    print(f\"BLEU: {round(r['bleu_gen'], 10)}\")\n",
    "    print()"
   ]
  },
  {
   "cell_type": "markdown",
   "id": "87589440-7472-4a46-b4ef-fc6b4f0e3421",
   "metadata": {},
   "source": [
    "### Diffs"
   ]
  },
  {
   "cell_type": "code",
   "execution_count": 32,
   "id": "8ca42d2b-6a02-4eda-b655-c86dc5f9fae1",
   "metadata": {},
   "outputs": [
    {
     "data": {
      "text/plain": [
       "count    782.000000\n",
       "mean      -0.005361\n",
       "std        0.055144\n",
       "min       -0.985040\n",
       "25%        0.000000\n",
       "50%        0.000000\n",
       "75%        0.000000\n",
       "max        0.405396\n",
       "Name: bleu_dif, dtype: float64"
      ]
     },
     "execution_count": 32,
     "metadata": {},
     "output_type": "execute_result"
    }
   ],
   "source": [
    "df_metric[\"bleu_dif\"] = df_metric[\"bleu_gen\"] - df_metric[\"bleu_input\"]\n",
    "df_metric[\"bleu_dif\"].describe()"
   ]
  },
  {
   "cell_type": "markdown",
   "id": "45b8106d-d532-4c7c-a797-9bc2d9c93129",
   "metadata": {},
   "source": [
    "## ROUGE"
   ]
  },
  {
   "cell_type": "code",
   "execution_count": 33,
   "id": "fb94959d-8d13-41a9-ad0f-a0bb5aca576a",
   "metadata": {},
   "outputs": [],
   "source": [
    "scorer = rouge_scorer.RougeScorer(\n",
    "    [\"rouge1\", \"rouge2\", \"rougeL\"],\n",
    "    use_stemmer=True\n",
    ")"
   ]
  },
  {
   "cell_type": "code",
   "execution_count": 34,
   "id": "f6383888-c7d6-4680-a2e3-5c4b3b063d07",
   "metadata": {},
   "outputs": [],
   "source": [
    "def get_rouge_f_mean(scorer, target, generation):\n",
    "    scores = scorer.score(target, generation)\n",
    "    return np.mean([\n",
    "        score_tuple[2] # fmeasure\n",
    "        for score_tuple in scores.values()\n",
    "    ])"
   ]
  },
  {
   "cell_type": "code",
   "execution_count": 35,
   "id": "671dcc27-dab4-4425-b699-c55f0a1849ae",
   "metadata": {},
   "outputs": [],
   "source": [
    "df_metric[\"rouge\"] = [\n",
    "    np.array([\n",
    "        get_rouge_f_mean(scorer, tt, u.get_processed_generation(MODEL_TYPE, g))\n",
    "        for tt in t\n",
    "    ]).max()\n",
    "    for t, g in zip(df_metric[\"target\"], df_metric[\"generation\"])\n",
    "]"
   ]
  },
  {
   "cell_type": "code",
   "execution_count": 36,
   "id": "2ddeefbe-9b1a-4f69-8c45-3f357de26730",
   "metadata": {},
   "outputs": [
    {
     "data": {
      "text/plain": [
       "count    782.000000\n",
       "mean       0.995158\n",
       "std        0.028415\n",
       "min        0.389474\n",
       "25%        1.000000\n",
       "50%        1.000000\n",
       "75%        1.000000\n",
       "max        1.000000\n",
       "Name: rouge, dtype: float64"
      ]
     },
     "execution_count": 36,
     "metadata": {},
     "output_type": "execute_result"
    }
   ],
   "source": [
    "df_metric[\"rouge\"].describe()"
   ]
  },
  {
   "cell_type": "code",
   "execution_count": 37,
   "id": "c0554a27-f959-4ec3-8ef2-898bd6faac0b",
   "metadata": {},
   "outputs": [
    {
     "name": "stdout",
     "output_type": "stream",
     "text": [
      "Input: Inscripciones: https://docs.google.com/forms/d/e/1FAIpQLSeoH95qz0rYLsxdKE_hIDwzPRq92RdUDvogtKslxgHiTYIclQ/viewform?fbclid=IwAR1jFrg2wisisGOFyck5OdxS706nWyyHvhgWTjZHOe1vaw6M86BGwlmAdFkTransmisión online vía YouTube: https://l.facebook.com/l.php?u=https%3A%2F%2...aTwTwpU9NaMuaFAb51v8vHbNl4xPH5G0VvsJrYs50VRhNR-Zb\n",
      "Target: ['Inscripciones: https://docs.google.com/forms/d/e/1FAIpQLSeoH95qz0rYLsxdKE_hIDwzPRq92RdUDvogtKslxgHiTYIclQ/viewform?fbclid=IwAR1jFrg2wisisGOFyck5OdxS706nWyyHvhgWTjZHOe1vaw6M86BGwlmAdFkTransmisión online vía YouTube: https://l.facebook.com/l.php?u=https%3A%2F%2...aTwTwpU9NaMuaFAb51v8vHbNl4xPH5G0VvsJrYs50VRhNR-Zb']\n",
      "Generation: Inscripciones: https://docs.google.com/forms/d/e/1FAIpQLSeoH95qz0rLYzxgHIzqz0rLYzxgHIzqz0rLYzxgHIzqz0rLYzxgHIzqz0rLYzxgHIzqz0rLYzxgHIzqz0rLYzxgHIzqz0rLYzxgHIzqz0rLYzxgHIzqz0rLYzxgHIzqz0rLYzxgHIzqz0rLYzxgHIzqz0rLYzxgHIzqz0rLYzxgHIzqz0rLYzxgHIzqz0rLYzxgHIzqz0rLYzxgHIzqz0rLYzxgHIzqz0rLYzxgHIz\n",
      "\n"
     ]
    }
   ],
   "source": [
    "bajos = df_metric[df_metric[\"rouge\"] < 0.7]\n",
    "\n",
    "for _, r in bajos.iterrows():\n",
    "    print(f\"Input: {r['input']}\")\n",
    "    print(f\"Target: {r['target']}\")\n",
    "    print(f\"Generation: {u.get_processed_generation(MODEL_TYPE, r['generation'])}\")\n",
    "    print()"
   ]
  },
  {
   "cell_type": "markdown",
   "id": "2df6ea65-2487-43f1-aedd-2c281fced61a",
   "metadata": {},
   "source": [
    "# Explore inputs with bias"
   ]
  },
  {
   "cell_type": "code",
   "execution_count": 38,
   "id": "b7d01518-3ea8-48cc-b6b8-ebefd5fa0192",
   "metadata": {},
   "outputs": [
    {
     "name": "stdout",
     "output_type": "stream",
     "text": [
      "(782, 15) 782\n",
      "Mean BLEU on biased inputs: 0.94809\n",
      "Mean ROUGE on biased inputs: 0.9701\n",
      "\n",
      "Mean BLEU on not biased inputs: 0.99355\n",
      "Mean ROUGE on not biased inputs: 0.99734\n",
      "\n",
      "Mean BLEU on inputs that can't be biased: 0.99254\n",
      "Mean ROUGE on inputs that can't be biased: 0.99706\n",
      "\n"
     ]
    }
   ],
   "source": [
    "df_with_bias = df_metric[\n",
    "    (df_metric[\"sesgo_pronombre\"] == \"SI\") | (df_metric[\"sesgo_otro\"] == \"SI\") \n",
    "]\n",
    "\n",
    "df_without_bias = df_metric[\n",
    "    (df_metric[\"sesgo_pronombre\"] == \"NO\") & (df_metric[\"sesgo_otro\"] == \"NO\") \n",
    "]\n",
    "\n",
    "df_not_able_to_bias = df_metric[\n",
    "    (df_metric[\"sesgo_pronombre\"].isna()) & (df_metric[\"sesgo_otro\"].isna()) \n",
    "]\n",
    "\n",
    "print(df_metric.shape, df_with_bias.shape[0] + df_without_bias.shape[0] + df_not_able_to_bias.shape[0])\n",
    "\n",
    "print(\n",
    "    f\"Mean BLEU on biased inputs: {round(df_with_bias['bleu_gen'].mean(), 5)}\\n\"\n",
    "    f\"Mean ROUGE on biased inputs: {round(df_with_bias['rouge'].mean(), 5)}\\n\\n\"\n",
    "    f\"Mean BLEU on not biased inputs: {round(df_without_bias['bleu_gen'].mean(), 5)}\\n\"\n",
    "    f\"Mean ROUGE on not biased inputs: {round(df_without_bias['rouge'].mean(), 5)}\\n\\n\"\n",
    "    f\"Mean BLEU on inputs that can't be biased: {round(df_not_able_to_bias['bleu_gen'].mean(), 5)}\\n\"\n",
    "    f\"Mean ROUGE on inputs that can't be biased: {round(df_not_able_to_bias['rouge'].mean(), 5)}\\n\"\n",
    ")"
   ]
  },
  {
   "cell_type": "code",
   "execution_count": 39,
   "id": "75bbe33d-2e0e-4366-a2d9-986993c73600",
   "metadata": {},
   "outputs": [
    {
     "name": "stdout",
     "output_type": "stream",
     "text": [
      "1\n",
      "Input: Estimados estudiantes de Pregrado,Junto con saludar les invitamos al OPEN MDS, charla Abierta para conocer los detalles del Magíster en Ciencia de Datos MDS de nuestra Facultad el cual es articulable con las carreras de pregrado FCFM.\n",
      "Generation: Estimada Comunidad de Pregrado,Junto con saludar les invitamos al OPEN MDS, charla Abierta para conocer los detalles del Magíster en Ciencia de Datos MDS de nuestra Facultad el cual es articulable con las carreras de pregrado FCFM.\n",
      "BLEU: 0.9493253852526038. ROUGE: 0.9530385226587758\n",
      "\n",
      "2\n",
      "Input: Los estudiantes que inscriban Prácticas Profesionales deberán pagar 2 créditos (arancel mínimo).La fecha de pago del arancel del Semestre de Verano será desde el 02/01/2024 al 05/01/2024, el detalle de cómo realizar el pago del arancel se informará durante los próximos días.\n",
      "Generation: Las/os estudiantes que inscriban Prácticas Profesionales deberán pagar 2 créditos (arancel mínimo).La fecha de pago del arancel del Semestre de Verano será desde el 02/01/2024 al 05/01/2024, el detalle de cómo realizar el pago del arancel se informará durante los próximos días.\n",
      "BLEU: 1.0. ROUGE: 1.0\n",
      "\n",
      "3\n",
      "Input: Sobre los beneficios:  Todos/as los/as estudiantes que durante el semestre primavera 2023 tienen los siguientes beneficios: Gratuidad, Beca Universidad de Chile (BUCH) y Beca Andrés Bello (BAND) se encuentran cubiertos y exentos del pago por inscribir cursos en el Semestre de Verano 2023-2024.\n",
      "Generation: Sobre los beneficios:  Todos/as los/as estudiantes que durante el semestre primavera 2023 tienen los siguientes beneficios: Gratuidad, Beca Universidad de Chile (BUCH) y Beca Andrés Bello (BAND) se encuentran cubiertos y exentos del pago por inscribir cursos en el Semestre de Verano 2023-2024.\n",
      "BLEU: 0.94271131818194. ROUGE: 0.9648345153664302\n",
      "\n",
      "4\n",
      "Input: Por otra parte, quienes tengan el Fondo Solidario de Crédito Universitario (FSCU) se encuentran cubiertos conforme al porcentaje del crédito asignado.\n",
      "Generation: Por otra parte, quienes tengan el Fondo Solidario de Crédito Universitario (FSCU) se encuentran cubiertos conforme al porcentaje del crédito asignado.\n",
      "BLEU: 0.9323623831893925. ROUGE: 0.9635933806146572\n",
      "\n",
      "5\n",
      "Input: De igual manera, quienes tengan asignada la Beca Bicentenario (BB) estarán cubiertos al porcentaje de la beca.\n",
      "Generation: De igual manera, quienes tengan asignada la Beca Bicentenario (BB) estarán cubiertos al porcentaje de la beca.\n",
      "BLEU: 0.9174014451319407. ROUGE: 0.9534105534105534\n",
      "\n",
      "6\n",
      "Input: Estimada Comunidad, #InriaChile convoca al ecosistema de investigadores científicos y expertos en ciencias y tecnologías digitales a las Journées Scientifiques Inria Chile 2023 para conocer y debatir sobre los últimos avances en #InteligenciaArtificial🧠, modelamiento matemático, simulación y optimización, redes y #Iot.\n",
      "Generation: Estimada Comunidad, #InriaChile convoca al ecosistema de investigadores científicos y expertos en ciencias y tecnologías digitales a las Journées Scientifiques Inria Chile 2023 para conocer y debatir sobre los últimos avances en #InteligenciaArtificial🧠, modelamiento matemático, simulación y optimización, redes y #Iot.\n",
      "BLEU: 0.9238601129295982. ROUGE: 0.947802495930548\n",
      "\n",
      "7\n",
      "Input: Únete y serás parte de un gran evento de colaboración franco-chilena🇨🇱🇫🇷, donde habrá  conferencias magistrales de investigadores franceses y chilenos, presentaciones científicas, mesas redondas networking y más.\n",
      "Generation: Únete y serás parte de un gran evento de colaboración franco-chilena🇨🇱🇫🇷, donde habrá  conferencias magistrales de investigadores franceses y chilenos, presentaciones científicas, mesas redondas networking y más.\n",
      "BLEU: 0.8746415418408885. ROUGE: 0.9239954075774972\n",
      "\n",
      "8\n",
      "Input: En el caso de los estudiantes del plan de estudios 2019 consideramos a quienes tienen inscrito el último Taller de práctica profesional y para estudiantes del plan antiguo revisamos quienes cumplirían con los requisitos para tomar el curso práctica profesional en otoño 2024.\n",
      "Generation: En el caso de estudiantes del plan de estudios 2019 consideramos a quienes tienen inscrito el último Taller de práctica profesional y para estudiantes del plan antiguo revisamos quienes cumplirían con los requisitos para tomar el curso práctica profesional en otoño 2024.\n",
      "BLEU: 1.0. ROUGE: 1.0\n",
      "\n",
      "9\n",
      "Input: Les invitamos a acercarse a la Secretaría Docente de sus departamentos para confirmar si realizarán su práctica profesional terminal este verano y que así sean incluidos en la nómina que se enviará a Junaeb.\n",
      "Generation: Les invitamos a acercarse a la Secretaría Docente de sus departamentos para confirmar si realizarán su práctica profesional terminal este verano y que así sean incluidos en la nómina que se enviará a Junaeb.\n",
      "BLEU: 0.9764540896763105. ROUGE: 0.9780086580086579\n",
      "\n",
      "10\n",
      "Input: Cualquier duda que tengas, nos pueden mandar un mensaje 📩 por nuestro Instagram  @redes.beauchef Áreas a las que puedes postular 📑:  EstudiosLogísticaFeria LaboralExtensiónClub de ConsultoríaFinanzas✨Mucho éxito a todos quienes postulen este año✨   Redes Beauchef\n",
      "Generation: Cualquier duda que tengas, nos pueden mandar un mensaje 📩 por nuestro Instagram  @redes.beauchef Áreas a las que puedes postular 📑:  EstudiosLogísticaFeria LaboralExtensiónClub de ConsultoríaFinanzas✨Mucho éxito a todas y a todos quienes postulen este año✨   Redes Beauchef\n",
      "BLEU: 0.9398965753915941. ROUGE: 0.9791113194770015\n",
      "\n",
      "11\n",
      "Input: Requisitos Los postulantes deberán ser estudiantes regulares de la Facultad de Ciencias Físicas y Matemáticas de la Universidad de Chile.\n",
      "Generation: Requisitos las/os postulantes deberán ser estudiantes regulares de la Facultad de Ciencias Físicas y Matemáticas de la Universidad de Chile.\n",
      "BLEU: 0.9086549610666288. ROUGE: 1.0\n",
      "\n",
      "12\n",
      "Input: No encontrarse en proceso de investigación sumaria y/o haber sido sancionado con la medida de censura, suspensión o expulsión, tanto al momento de postular como de viajar al extranjero.\n",
      "Generation: No encontrarse en proceso de investigación sumaria y/o haber sido sancionado con la medida de censura, suspensión o expulsión, tanto al momento de postular como de viajar al extranjero.\n",
      "BLEU: 0.9740037464252967. ROUGE: 0.9746651358591656\n",
      "\n",
      "13\n",
      "Input: Completa el formulario y adjunta la documentación de respaldo en el siguiente LINK Plazos:   - General: hasta el 10 de diciembre - Programa de Residencia Universitaria: Se extiende postulación hasta el 30 de noviembre     Si ingresaste vía SIPEE , PACE o renuevas el Programa de Residencia, recuerda que debes agendar una hora de entrevista con una Trabajadora Social.\n",
      "Generation: Completa el formulario y adjunta la documentación de respaldo en el siguiente LINK Plazos:   - General: hasta el 10 de diciembre - Programa de Residencia Universitaria: Se extiende postulación hasta el 30 de noviembre     Si ingresaste vía SIPEE, PACE o renuevas el Programa de Residencia, recuerda que debes agendar una hora de entrevista con una Trabajadora Social.\n",
      "BLEU: 0.9630705800262783. ROUGE: 0.9714591856614065\n",
      "\n",
      "14\n",
      "Input: Los estudiantes que inscriban Prácticas Profesionales deberán pagar 2 créditos (arancel mínimo).\n",
      "Generation: Las/os estudiantes que inscriban Prácticas Profesionales deberán pagar 2 créditos (arancel mínimo).\n",
      "BLEU: 1.0. ROUGE: 1.0\n",
      "\n",
      "15\n",
      "Input: Hoy es el último día para enviar tu postulación, solo debes tener ganas de participar y comprometerte a acompañar a los y las mechones 2024.\n",
      "Generation: Hoy es el último día para enviar tu postulación, solo debes tener ganas de participar y comprometerte a acompañar a los y las mechones 2024.\n",
      "BLEU: 0.9894164999496223. ROUGE: 0.9701222753854332\n",
      "\n",
      "16\n",
      "Input: Postulaciones para Inductores y monitores aquíPostulación para Equipo Coordinador (2 puestos) aquíSi te encanta trabajar en un ambiente colaborativo, ¡queremos conocerte!\n",
      "Generation: Postulaciones para Inductores/as y monitores/as aquíPostulación para Equipo Coordinador (2 puestos) aquíSi te encanta trabajar en un ambiente colaborativo, ¡queremos conocerte!\n",
      "BLEU: 1.0. ROUGE: 1.0\n",
      "\n",
      "17\n",
      "Input: Completa el formulario y adjunta la documentación de respaldo en el siguiente LINK Plazos:   - General: hasta el 10 de diciembre - Programa de Residencia Universitaria: hasta el 24 de noviembre    Si ingresaste vía SIPEE , PACE o renuevas el Programa de Residencia, recuerda que debes agendar una hora de entrevista con una Trabajadora Social.\n",
      "Generation: Completa el formulario y adjunta la documentación de respaldo en el siguiente LINK Plazos:   - General: hasta el 10 de diciembre - Programa de Residencia Universitaria: hasta el 24 de noviembre    Si ingresaste vía SIPEE, PACE o renuevas el Programa de Residencia, recuerda que debes agendar una hora de entrevista con una Trabajadora Social.\n",
      "BLEU: 0.9611569294746616. ROUGE: 0.9605752541532357\n",
      "\n",
      "18\n",
      "Input: Las y los competidores están preparando cada detalle de sus robots: algunos buscarán romper récords de tiempo, mientras robots luchadores se enfrentarán en una batalla épica para descubrir quién será el último en pié.\n",
      "Generation: Las y los competidores están preparando cada detalle de sus robots: algunas/os buscarán romper récords de tiempo, mientras robots luchadores se enfrentarán en una batalla épica para descubrir quién será el último en pié.\n",
      "BLEU: 0.9200672071686813. ROUGE: 0.9324786324786326\n",
      "\n",
      "19\n",
      "Input: https://participauchile.cl/1_MODIFICA_FECHA_DE__ELECCION_DE_REPRESENTANTES_ESTUDIANTILES_POSTGRADO.pdf (123 kb)Agradecemos a los y las estudiantes que se presentaron como candidatos a Consejeros Estudiantil de Postgrado.\n",
      "Generation: https://participauchile.cl/1_MODIFICA_FECHA_DE__ELECCION_DE_REPRESENTANTES_ESTUDIANTILES_POSTGRADO.pdf (123 kb)Agradecemos a las y los estudiantes que se presentaron como candidatos a Consejeros/as Estudiantil/a de Postgrado.\n",
      "BLEU: 0.6379033235773229. ROUGE: 0.8866792929292929\n",
      "\n",
      "20\n",
      "Input: Panel de Egresados 22 Nov: Ciclo de Charlas - Auditorio d'Etigny 14:30 hrs.\n",
      "Generation: Panel de Egresadas/os 22 Nov: Ciclo de Charlas - Auditorio d'Etigny 14:30 hrs.\n",
      "BLEU: 1.0. ROUGE: 1.0\n",
      "\n",
      "21\n",
      "Input: Hoy en \"Vida Saludable en Beauchef\", preparamos talleres para mejorar el bienestar y promover la salud física y mental Tendremos: Yoga: Estará una instructora en el Hall Sur, esperándolos y espesándolas para relajarse con una clase de yoga... Atentos a los regalitos sorpresa que entregaremos a los asistentesEntrenamiento funcional: A llenarse de energía y botar estrés con una clase entretenida ¡a moverse!\n",
      "Generation: Hoy en \"Vida Saludable en Beauchef\", preparamos talleres para mejorar el bienestar y promover la salud física y mental Tendremos: Yoga: Estará una instructora en el Hall Sur, esperándolos y espesándolos para relajarse con una clase de yoga... Atentos a los regalitos sorpresa que entregaremos a las personas que entren!\n",
      "BLEU: 0.6877384675339999. ROUGE: 0.7782478406486867\n",
      "\n",
      "22\n",
      "Input: L@s estudiantes que asistan, podrán conversar con expertos de WSP sobre la presentación de diversos proyectos ejecutados a nivel nacional e internacional, así como explorar el concepto de \"Future Ready\" y la experiencia en proyectos de geotecnia y relaves en el área de Minería.\n",
      "Generation: L@s estudiantes que asistan, podrán conversar con expertos de WSP sobre la presentación de diversos proyectos ejecutados a nivel nacional e internacional, así como explorar el concepto de \"Future Ready\" y la experiencia en proyectos de geotecnia y relaves en el área de Minería.\n",
      "BLEU: 0.9843293571277907. ROUGE: 0.9826008319768493\n",
      "\n",
      "23\n",
      "Input: Como el formato de trabajo es en pareja, te recomendamos inscribirte con una persona que no tenga inconveniente que lo toquen ni sea tocado para el masaje.\n",
      "Generation: Como el formato de trabajo es en pareja, te recomendamos inscribirte con una persona que no tenga inconveniente que lo toquen ni sea tocada para el masaje.\n",
      "BLEU: 0.8464382782249112. ROUGE: 0.9196112064036592\n",
      "\n",
      "24\n",
      "Input: Cupo para los primeros 20 inscritos Inscríbete aquí Taller Dormir bien para sentirse bien:  Un taller diseñado para estudiantes, que les cuesta conciliar las horas de sueño con las responsabilidades académicas.\n",
      "Generation: Cupo para las personas que inscriban el taller Inscríbete aquí Taller Dormir bien para sentirse bien:  Un taller diseñado para estudiantes, que les cuesta conciliar las horas de sueño con las responsabilidades académicas.\n",
      "BLEU: 0.8158721088985359. ROUGE: 0.8844298668724676\n",
      "\n",
      "25\n",
      "Input: Tendremos regalos sorpresa para los asistentes.\n",
      "Generation: Tendremos regalos sorpresa para las personas asistentes.\n",
      "BLEU: 1.0. ROUGE: 1.0\n",
      "\n",
      "26\n",
      "Input: El número de consejero son 4.\n",
      "Generation: El número de consejero(a) son 4.\n",
      "BLEU: 1.0. ROUGE: 1.0\n",
      "\n",
      "27\n",
      "Input: El rol de los Consejeros/as Estudiantil es esencial para acoger y canalizar las inquietudes y opiniones del estudiantado.\n",
      "Generation: El rol de los/as Consejeros/as Estudiantil es esencial para acoger y canalizar las inquietudes y opiniones del estudiantado.\n",
      "BLEU: 1.0. ROUGE: 1.0\n",
      "\n",
      "28\n",
      "Input: buscamos a estudiantes que quieran darle la bienvenida a la nueva generación de mechones 2024 y acompañarles durante todo su primer semestre.\n",
      "Generation: buscamos a estudiantes que quieran darle la bienvenida a la nueva generación de mechonas/es 2024 y acompañarles durante todo su primer semestre.\n",
      "BLEU: 1.0. ROUGE: 1.0\n",
      "\n",
      "29\n",
      "Input: Estimada Comunidad, Presentamos una nueva convocatoria abierta MOVILIDAD INTERNACIONAL CON EQUIDAD 👉 Dirigida a estudiantes de pregrado admisión 2021, interesados en realizar un intercambio en el segundo semestre de 2024 👉 Prioridad para estudiantes con admisión SIPEE, PACE, como también estudiantes PACE habilitados y beneficiarios de la BEA 👉 Para más información visita  https://uchile.cl/u210466 Para consultas, escribe al   pme@u.uchile.cl\n",
      "Generation: Estimada Comunidad, Presentamos una nueva convocatoria abierta MOVILIDAD INTERNACIONAL CON EQUIDAD 👉 Dirigida a estudiantes de pregrado admisión 2021, interesados en realizar un intercambio en el segundo semestre de 2024 👉 Prioridad para estudiantes con admisión SIPEE, PACE, como también estudiantes PACE habilitados y beneficiarios de la BEA 👉 Para más información visita  https://uchile.cl/u210466 Para consultas, escribe al   pme@u.uchile.cl\n",
      "BLEU: 0.9341540398358003. ROUGE: 0.9631792376317923\n",
      "\n",
      "30\n",
      "Input: Tutorías personalizadas uno a uno por especialistas en escritura en Educación Superior y talleres prácticos.\n",
      "Generation: Tutorías personalizadas uno a uno por especialistas en escritura en Educación Superior y talleres prácticos.\n",
      "BLEU: 0.7856293018010261. ROUGE: 0.9278752436647174\n",
      "\n",
      "31\n",
      "Input: Inscripción de candidatos: Desde el martes 31 de octubre y hasta el miércoles 08 de noviembre entre las 09:00 a 18:00horas, en Vicedecanato, email: sevideca@ing.uchile.cl Fecha votación Primera Vuelta: jueves 16 de noviembre de 2023CLAUSTRO_DEFINITIVO_ELECCIONE_POSTGRADO.pdf (636 kb)CONVOCATORIA_A_ELECCION_CONSEJEROS_DE_POSTGRADO.pdf (126 kb)Ficha_inscripcioI_n_Postgrado_2023.doc (37 kb)\n",
      "Generation: Inscripción de candidatos: Desde el martes 31 de octubre y hasta el miércoles 08 de noviembre entre las 09:00 a 18:00horas, en Vicedecanato, email: sevideca@ing.uchile.cl Fecha votación Primera Vuelta: jueves 16 de noviembre de 2023CLAUSTRO_DEFINITIVO_ELECCION_POSTGRADO.pdf (636 kb)CONVOCATORIA_A_ELECCION_CONSEJEROS_DE_POSTGRADO.pdf (126 kb)Ficha_inscripcioI_n_Postgrado_2023.doc (37 kb)\n",
      "BLEU: 0.9247511918666316. ROUGE: 0.9873538808854198\n",
      "\n",
      "32\n",
      "Input: Durante las sesiones, los y las estudiantes podrán ponerse al día con los contenidos de sus cursos, hacer consultas y clarificar dudas, además de practicar sus habilidades orales con las y los profesores de cada nivel.\n",
      "Generation: Durante las sesiones, los y las estudiantes podrán ponerse al día con los contenidos de sus cursos, hacer consultas y clarificar dudas, además de practicar sus habilidades orales con las y los profesores de cada nivel.\n",
      "BLEU: 0.933651069586263. ROUGE: 0.9653621232568601\n",
      "\n",
      "33\n",
      "Input: Estimada Comunidad, Si no alcanzaste a participar de la charla Prácticas integrales \"Construyendo mis sueños en Guatemala\" te dejamos el link del video para que lo revises, recuerda que la Corporación Construyendo Mis Sueños, gracias al aporte de la Unión Europea tendrá para cada estudiante seleccionado para  práctica profesional un monto de $2.325.750  con lo que se realizará la compra de pasaje aéreo Santiago Ciudad de Guatemala ida y vuelta.\n",
      "Generation: Estimada Comunidad, Si no alcanzaste a participar de la charla Prácticas integrales \"Construyendo mis sueños en Guatemala\" te dejamos el link del video para que lo revises, recuerda que la Corporación Construyendo Mis Sueños, gracias al aporte de la Unión Europea tendrá para cada estudiante seleccionado(a) para  práctica profesional un monto de $2.325.750  con lo que se realizará la compra de pasaje aéreo Santiago Ciudad de Guatemala ida y vuelta.\n",
      "BLEU: 1.0. ROUGE: 1.0\n",
      "\n",
      "34\n",
      "Input: Se entregará un anticipo por concepto de viático a cada estudiante seleccionado para poder costear alojamiento, alimentación y traslados internos en las respectivas ciudades, por las 8 semanas de duración de la práctica.\n",
      "Generation: Se entregará un anticipo por concepto de viático a cada estudiante seleccionado para poder costear alojamiento, alimentación y traslados internos en las respectivas ciudades, por las 8 semanas de duración de la práctica.\n",
      "BLEU: 0.9548217695869232. ROUGE: 0.9774124809741247\n",
      "\n",
      "35\n",
      "Input: Los Talleres de Práctica Profesional I inscritos para los estudiantes del plan estudios v.5, no serán considerados dentro de las tres opciones disponibles de cada estudiante.\n",
      "Generation: Los Talleres de Práctica Profesional I inscritos para estudiantes del plan estudios v.5, no serán considerados dentro de las tres opciones disponibles de cada estudiante.\n",
      "BLEU: 1.0. ROUGE: 1.0\n",
      "\n",
      "36\n",
      "Input: Estimadas/os Estudiantes, Desde el Centro de Informaciones del  DAAD  en Santiago invitan a nuestros estudiantes a participar de una interesante charla virtual en español e inglés que darán el próximo martes 7 de noviembre, a las 12.30 (hora Chile) las universidades HS Pforzheim, HS Mainz y RWTH Inernational Academy.\n",
      "Generation: Estimadas/os Estudiantes, Desde el Centro de Informaciones del  DAAD  en Santiago invitan a nuestros estudiantes a participar de una interesante charla virtual en español e inglés que darán el próximo martes 7 de noviembre, a las 12.30 (hora Chile) las universidades HS Pforzheim, HS Mainz y RWTH Inernational Academy.\n",
      "BLEU: 0.9855383616872883. ROUGE: 0.9848196820673883\n",
      "\n",
      "37\n",
      "Input: Algunas fechas importantes:Publicación del Claustro: viernes 20 de octubre de 2023 Plazo para presentar objeciones a la nómina del claustro: miércoles 25 de octubre de 2023 Inscripción de candidatos: Desde el martes 31 de octubre y hasta el miércoles 08 de noviembre entre las 09:00 a 18:00horas, en Vicedecanato, email: sevideca@ing.uchile.cl Fecha votación Primera Vuelta: jueves 16 de noviembre de 2023 CLAUSTRO_PROVISORIO_POSTGRADO.pdf (636 kb) CONVOCATORIA_A_ELECCION_CONSEJEROS_DE_POSTGRADO.pdf (126 kb)\n",
      "Generation: Algunas fechas importantes:Publicación del Claustro: viernes 20 de octubre de 2023 Plazo para presentar objeciones a la nómina del claustro: miércoles 25 de octubre de 2023 Inscripción de candidatos: Desde el martes 31 de octubre y hasta el miércoles 08 de noviembre entre las 09:00 a 18:00horas, en Vicedecanato, email: sevideca@ing.uchile.cl Fecha votación Primera Vuelta: jueves 16 de noviembre de 2023 CLAUSTRO_PROVISORIO_POSTGRADO.pdf (636 kb) CONVOCATORIA_A_ELECCION_CONSEJEROS_DE_POSTGRADO.pdf (126 kb)\n",
      "BLEU: 0.9904902036453612. ROUGE: 0.9905192359429646\n",
      "\n",
      "38\n",
      "Input: Los esperamos con un  te Adagio  y un  concurso sorpresa  entre quienes participen en los stands   Nos vemos 😊\n",
      "Generation: Les esperamos con un  te Adagio  y un  concurso sorpresa  entre quienes participen en los stands   Nos vemos 😊\n",
      "BLEU: 1.0. ROUGE: 1.0\n",
      "\n",
      "39\n",
      "Input: Completa el formulario y adjunta la documentación de respaldo en el siguiente LINK Plazos:   - General: hasta el 10 de diciembre - Programa de Residencia Universitaria: hasta el 24 de noviembre    Si ingresaste vía SIPEE , PACE o renuevas el Programa de Residencia, recibirás un correo para agendar una hora de entrevista con una Trabajadora Social.\n",
      "Generation: Completa el formulario y adjunta la documentación de respaldo en el siguiente LINK Plazos:   - General: hasta el 10 de diciembre - Programa de Residencia Universitaria: hasta el 24 de noviembre    Si ingresaste vía SIPEE, PACE o renuevas el Programa de Residencia, recibirás un correo para agendar una hora de entrevista con una Trabajadora Social.\n",
      "BLEU: 0.9657992495762466. ROUGE: 0.9704469507101087\n",
      "\n",
      "40\n",
      "Input: Estimada comunidad beauchefiana: El Magíster en Innovación y Emprendimiento en Ciencia y Tecnología y OpenBeauchef de la Facultad de Ciencias Físicas y Matemáticas de la Universidad de Chile, tienen el agrado de invitarte a una nueva charla del  Ciclo MIE+OB  que contará con la participación de Dasla Panto, CEO de  Enerdis,  emprendimiento de base científica-tecnológica que tiene por   objetivo la implementación de soluciones que empoderen a los consumidores de energía eléctrica en el contexto de la lucha contra la crisis climática.\n",
      "Generation: Estimada comunidad beauchefiana: El Magíster en Innovación y Emprendimiento en Ciencia y Tecnología y OpenBeauchef de la Facultad de Ciencias Físicas y Matemáticas de la Universidad de Chile, tienen el agrado de invitarte a una nueva charla del  Ciclo MIE+OB  que contará con la participación de Dasla Panto, CEO de  Enerdis,  emprendimiento de base científica-tecnológica que tiene por   objetivo la implementación de soluciones que empoderen a los consumidores de energía eléctrica en el contexto de la lucha contra la crisis climática.\n",
      "BLEU: 0.9819778807388664. ROUGE: 0.9825292397660818\n",
      "\n",
      "41\n",
      "Input: Estimada comunidad beauchefiana: El equipo de Proyecto Eolian los deja invitados e invitadas a participar del conversatorio: \"Innovación, tecnología y sustentabilidad: el nuevo enfoque para el éxito de un modelo de negocio\".En el marco del Mes de la Ciencia y la Semana del Emprendimiento e Innovación, conversaremos en torno a la importancia de un presente y futuro sustentable, así también sobre cómo la innovación y la tecnología se convierten en herramientas que han permitido potenciar su modelo de negocio.\n",
      "Generation: Estimada comunidad beauchefiana: El equipo de Proyecto Eolian les deja invitados e invitadas a participar del conversatorio: \"Innovación, tecnología y sustentabilidad: el nuevo enfoque para el éxito de un modelo de negocio\".En el marco del Mes de la Ciencia y la Semana del Emprendimiento e Innovación, conversaremos en torno a la importancia de un presente y futuro sustentable, así también sobre cómo la innovación y la tecnología se convierten en herramientas que han permitido potenciar su modelo de negocio.\n",
      "BLEU: 1.0. ROUGE: 1.0\n",
      "\n",
      "42\n",
      "Input: En esta ocasión haremos la resolución de un Caso de Negocio 📊 junto a Aurys en donde podrán aproximarse a los desafíos y problemáticas que se enfrentan los consultores en el trabajo con clientes en su día a día.\n",
      "Generation: En esta ocasión haremos la resolución de un Caso de Negocio 📊 junto a Aurys en donde podrán aproximarse a los desafíos y problemáticas que se enfrentan los consultores en el trabajo con clientes en su día a día.\n",
      "BLEU: 0.9931736624740629. ROUGE: 0.9632850241545894\n",
      "\n",
      "43\n",
      "Input: 🗣️Oradores: Omar Bravo - Consultor Senior / Rosario Veas - Consultor Senior / Agustín Canete - Consultor Analista.\n",
      "Generation: 🗣️Oradores: Omar Bravo - Consultor Senior / Rosario Veas - Consultor Senior / Agustín Canete - Consultor Analista.\n",
      "BLEU: 0.7590994812356263. ROUGE: 0.844614729672201\n",
      "\n",
      "44\n",
      "Input: Se adjunta el Claustro Estudiantil de Pregrado (nómina de electores) para la elección de Consejeros/as de Escuela que se llevará a cabo el miércoles 08 de noviembre de 2023 en forma electrónica, a través de la plataforma Participa Uchile.\n",
      "Generation: Se adjunta el Claustro Estudiantil de Pregrado (nómina de electores/as) para la elección de Consejeros/as de Escuela que se llevará a cabo el miércoles 08 de noviembre de 2023 en forma electrónica, a través de la plataforma Participa Uchile.\n",
      "BLEU: 1.0. ROUGE: 1.0\n",
      "\n",
      "45\n",
      "Input: Estimados/as Estudiantes, 👉ESTUDIA DOS AÑOS EN FRANCIA 👈 Invitamos a nuestros estudiantes de plan común a participar de la convocatoria Doble título que estará abierta entre el 02 de octubre y el 03 de noviembre.\n",
      "Generation: Estimados/as Estudiantes, 👉ESTUDIA DOS AÑOS EN FRANCIA 👈 Invitamos a nuestros estudiantes de plan común a participar de la convocatoria Doble título que estará abierta entre el 02 de octubre y el 03 de noviembre.\n",
      "BLEU: 0.9778460448698021. ROUGE: 0.9780086580086579\n",
      "\n",
      "46\n",
      "Input: Tenemos una gran oportunidad académica para nuestros estudiantes: puedes titularte en tu especialidad en la Uchile y en una Universidad francesa 😍🇫🇷 Ven a la charla el próximo  miércoles 4 de octubre a las 12:00  para conocer más sobre las universidades partes del Convenio y las chances de viaje 👀 Toda la información de la convocatoria la puedes encontrar  acá Consultas al correo  rrii@ing.uchile.cl\n",
      "Generation: Tenemos una gran oportunidad académica para nuestros estudiantes: puedes titularte en tu especialidad en la Uchile y en una Universidad francesa 😍🇫🇷 Ven a la charla el próximo  miércoles 4 de octubre a las 12:00  para conocer más sobre las universidades partes del Convenio y las chances de viaje 👀 Toda la información de la convocatoria la puedes encontrar  acá Consultas al correo  rrii@ing.uchile.cl\n",
      "BLEU: 0.988256280934451. ROUGE: 0.9882457967564351\n",
      "\n",
      "47\n",
      "Input: jueves 28 de septiembre  tendremos una charla donde algunas de las universidades parte del grupo  CALDO , que reúne a las instituciones más prestigiosas de Canadá, darán información relevante sobre los distintos tipos de intercambios que nuestros estudiantes pueden hacer.\n",
      "Generation: jueves 28 de septiembre  tendremos una charla donde algunas de las universidades parte del grupo  CALDO, que reúne a las instituciones más prestigiosas de Canadá, darán información relevante sobre los distintos tipos de intercambios que nuestros estudiantes pueden hacer.\n",
      "BLEU: 0.980698324197389. ROUGE: 0.9805724588686049\n",
      "\n",
      "48\n",
      "Input: Para mayor información y solicitud de los formularios de postulación, los estudiantes pueden contactar a la Embajada de Suiza en Chile.\n",
      "Generation: Para mayor información y solicitud de los formularios de postulación, las y los estudiantes pueden contactar a la Embajada de Suiza en Chile.\n",
      "BLEU: 1.0. ROUGE: 1.0\n",
      "\n",
      "49\n",
      "Input: Bain & Company, empresa líder en consultoría estratégica, te invita a participar en esta actividad donde podrás poner a prueba tus habilidades resolviendo un caso real junto a nuestros consultores experimentados.\n",
      "Generation: Bain & Company, empresa líder en consultoría estratégica, te invita a participar en esta actividad donde podrás poner a prueba tus habilidades resolviendo un caso real junto a nuestros/as consultores/as experimentados/as.\n",
      "BLEU: 1.0. ROUGE: 1.0\n",
      "\n",
      "50\n",
      "Input: Tras ellos, hay otros equipos de colaboradores de la Escuela de Ingeniería y Ciencias, especialmente la Subdirección de Asuntos Estudiantiles, la Subdirección de Gestión Docente, la Oficina Administrativa y Difusión, así como la secretaria de Deportes, quienes apoyan el trabajo deportivo con permanente compromiso y cuyo aporte es también esencial.\n",
      "Generation: Tras ellos, hay otros equipos de colaboradores/as de la Escuela de Ingeniería y Ciencias, especialmente la Subdirección de Asuntos Estudiantiles, la Subdirección de Gestión Docente, la Oficina Administrativa y Difusión, así como la secretaria de Deportes, quienes apoyan el trabajo deportivo con permanente compromiso y cuyo aporte es también esencial.\n",
      "BLEU: 1.0. ROUGE: 1.0\n",
      "\n",
      "51\n",
      "Input: A todos y todas las deportistas y al personal que colabora con el Área de Deportes en la FCFM, les damos muchísimas gracias; estamos muy contentos de este nuevo triunfo, que nos llena de orgullo y que es un ejemplo que estimula nuestro trabajo.\n",
      "Generation: A la comunidad deportística y al personal que colabora con el Área de Deportes en la FCFM, les damos muchísimas gracias; estamos muy contentas/os de este nuevo triunfo, que nos llena de orgullo y que es un ejemplo que estimula nuestro trabajo.\n",
      "BLEU: 0.8764739029900379. ROUGE: 0.8928674321932749\n",
      "\n",
      "52\n",
      "Input: Estimados/as Estudiantes: 🛫 El jueves 28 de septiembre  tendremos una charla donde algunas de las universidades parte del grupo  CALDO , que reúne a las instituciones más prestigiosas de Canadá, darán información relevante sobre los distintos tipos de intercambios que nuestros estudiantes pueden hacer.\n",
      "Generation: Estimados/as Estudiantes: 🛫 El jueves 28 de septiembre  tendremos una charla donde algunas de las universidades parte del grupo  CALDO, que reúne a las instituciones más prestigiosas de Canadá, darán información relevante sobre los distintos tipos de intercambios que nuestros estudiantes pueden hacer.\n",
      "BLEU: 0.9828996810861707. ROUGE: 0.9822297679683079\n",
      "\n",
      "53\n",
      "Input: Bases e info acá: https://openbeauchef.cl/events/semilla-tesis-innovadora/    2.- Premio Felipe Álvarez: Dirigido a estudiantes de pregrado, posgrado, investigadores y académicos Se lanzó la tercera versión del Premio de fomento a la innovación y emprendimiento Felipe Álvarez.\n",
      "Generation: Bases e info acá: https://openbeauchef.cl/events/semilla-tesis-innovadora/    2.- Premio Felipe Álvarez: Dirigido a estudiantes de pregrado, posgrado, investigadores y académicos Se lanzó la tercera versión del Premio de fomento a la innovación y emprendimiento Felipe Álvarez.\n",
      "BLEU: 0.8286682903354252. ROUGE: 0.9615926708949966\n",
      "\n",
      "54\n",
      "Input: Estimad@ estudiante:   En Tienda Beauchef estamos buscando monitores para que se sumen a nuestro equipo y nos acompañen en el stand en ventas presenciales y algunos eventos que se realizan dentro de la Facultad.\n",
      "Generation: Estimad@ estudiante:   En Tienda Beauchef estamos buscando monitores/as para que se sumen a nuestro equipo y nos acompañen en el stand en ventas presenciales y algunos eventos que se realizan dentro de la Facultad.\n",
      "BLEU: 1.0. ROUGE: 1.0\n",
      "\n",
      "55\n",
      "Input: Se informa a los estudiantes que cursen sólo una asignatura (a excepción de quienes inscriban únicamente los cursos \"Trabajo de Título\" o \"Trabajo de Memoria de Título\") y que deseen optar a la rebaja de arancel del 50% del semestre Primavera 2023, que podrán solicitar dicha rebaja entre los días 23 y 30 de agosto al correo sec_estudios@ing.uchile.cl, indicando en el asunto del mail \"Solicitud Rebaja 50% de Arancel Primavera 2023\".A esta opción sólo se puede acceder una vez durante la carrera.\n",
      "Generation: Se informa a las y los estudiantes que cursen sólo una asignatura (a excepción de quienes inscriban únicamente los cursos \"Trabajo de Título\" o \"Trabajo de Memoria de Título\") y que deseen optar a la rebaja de arancel del 50% del semestre Primavera 2023, que podrán solicitar dicha rebaja entre los días 23 y 30 de agosto al correo sec_estudios@ing.uchile.cl, indicando en el asunto del mail \"Solicitud Rebaja 50% de Arancel Primavera 2023\".A esta opción sólo se puede acceder una vez durante la carrera.\n",
      "BLEU: 1.0. ROUGE: 1.0\n",
      "\n",
      "56\n",
      "Input: Los cursos permiten a los futuros estudiantes extranjeros sentar unas bases sólidas para sus estudios.\n",
      "Generation: Los cursos permiten a las/os futuras/os estudiantes extranjeras/os sentar unas bases sólidas para sus estudios.\n",
      "BLEU: 1.0. ROUGE: 1.0\n",
      "\n",
      "57\n",
      "Input: Se propicia la creación de iniciativas que articulen la participación transversal de estudiantes de distintas carreras, con un criterio de Campus Universitario, lo que debe reflejarse en postulaciones que contemplen ejecutores de más de una organización y de una o varias unidades académicas.\n",
      "Generation: Se propicia la creación de iniciativas que articulen la participación transversal de estudiantes de distintas carreras, con un criterio de Campus Universitario, lo que debe reflejarse en postulaciones que contemplen ejecutores/as de más de una organización y de una o varias unidades académicas.\n",
      "BLEU: 1.0. ROUGE: 1.0\n",
      "\n",
      "58\n",
      "Input: Los estudiantes que registran cuenta bancaria errónea, podrán ingresar sus datos correctos en el  formulario de datos bancarios    hasta el 10 de septiembre  para ser considerados en la siguiente cuota.\n",
      "Generation: Las/os estudiantes que registran cuenta bancaria errónea, podrán ingresar sus datos correctos en el  formulario de datos bancarios    hasta el 10 de septiembre  para ser considerados en la siguiente cuota.\n",
      "BLEU: 1.0. ROUGE: 1.0\n",
      "\n"
     ]
    }
   ],
   "source": [
    "for i, (_, r) in enumerate(df_with_bias[[\"input\", \"generation\", \"bleu_gen\", \"rouge\"]].iterrows()):\n",
    "    print(i+1)\n",
    "    print(f\"Input: {r['input']}\")\n",
    "    print(f\"Generation: {u.get_processed_generation(MODEL_TYPE, r['generation'])}\")\n",
    "    print(f\"BLEU: {r['bleu_gen']}. ROUGE: {r['rouge']}\")\n",
    "    print()"
   ]
  },
  {
   "cell_type": "markdown",
   "id": "5d8fd229-d185-4656-a4f6-84ae48e648bf",
   "metadata": {},
   "source": [
    "# Save"
   ]
  },
  {
   "cell_type": "code",
   "execution_count": 40,
   "id": "bf138b81-58a5-43d8-bcdc-d63f577e6489",
   "metadata": {},
   "outputs": [],
   "source": [
    "df_metric.to_csv(f\"../../data/processed/20231220_metrics_{MODEL_TYPE}.csv\", index=False)"
   ]
  },
  {
   "cell_type": "code",
   "execution_count": null,
   "id": "83e2f59d-583f-4303-b904-f01c12a5f096",
   "metadata": {},
   "outputs": [],
   "source": []
  }
 ],
 "metadata": {
  "kernelspec": {
   "display_name": "venv",
   "language": "python",
   "name": "venv"
  },
  "language_info": {
   "codemirror_mode": {
    "name": "ipython",
    "version": 3
   },
   "file_extension": ".py",
   "mimetype": "text/x-python",
   "name": "python",
   "nbconvert_exporter": "python",
   "pygments_lexer": "ipython3",
   "version": "3.10.12"
  }
 },
 "nbformat": 4,
 "nbformat_minor": 5
}
