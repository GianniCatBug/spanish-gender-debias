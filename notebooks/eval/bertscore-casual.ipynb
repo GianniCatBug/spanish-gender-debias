{
 "cells": [
  {
   "cell_type": "markdown",
   "metadata": {},
   "source": [
    "# Evaluation using BERTscore\n",
    "\n",
    "[Source](https://huggingface.co/spaces/evaluate-metric/bertscore)"
   ]
  },
  {
   "cell_type": "code",
   "execution_count": 1,
   "metadata": {},
   "outputs": [
    {
     "data": {
      "text/html": [
       "<div>\n",
       "<style scoped>\n",
       "    .dataframe tbody tr th:only-of-type {\n",
       "        vertical-align: middle;\n",
       "    }\n",
       "\n",
       "    .dataframe tbody tr th {\n",
       "        vertical-align: top;\n",
       "    }\n",
       "\n",
       "    .dataframe thead th {\n",
       "        text-align: right;\n",
       "    }\n",
       "</style>\n",
       "<table border=\"1\" class=\"dataframe\">\n",
       "  <thead>\n",
       "    <tr style=\"text-align: right;\">\n",
       "      <th></th>\n",
       "      <th>input</th>\n",
       "      <th>target</th>\n",
       "      <th>sesgo_pronombre</th>\n",
       "      <th>sesgo_otro</th>\n",
       "      <th>seq2seq_document</th>\n",
       "      <th>causal_document</th>\n",
       "      <th>generation</th>\n",
       "      <th>reference_tokens</th>\n",
       "      <th>max_ref_len</th>\n",
       "      <th>generated_tokens</th>\n",
       "      <th>input_tokens</th>\n",
       "      <th>bleu_gen</th>\n",
       "      <th>bleu_input</th>\n",
       "      <th>bleu_dif</th>\n",
       "      <th>rouge</th>\n",
       "    </tr>\n",
       "  </thead>\n",
       "  <tbody>\n",
       "    <tr>\n",
       "      <th>0</th>\n",
       "      <td>Estimada comunidad beauchefiana: ¿Tienes papel...</td>\n",
       "      <td>['Estimada comunidad beauchefiana: ¿Tienes pap...</td>\n",
       "      <td>NO</td>\n",
       "      <td>NO</td>\n",
       "      <td>Eliminar sesgo de género del siguiente texto:\\...</td>\n",
       "      <td>&lt;human&gt;: ¿Puedes reescribir el siguiente texto...</td>\n",
       "      <td>&lt;human&gt;: ¿Puedes reescribir el siguiente texto...</td>\n",
       "      <td>[['Estimada', 'comunidad', 'beauchefiana', ':'...</td>\n",
       "      <td>11</td>\n",
       "      <td>['Estimada', 'comunidad', 'beauchefiana', ':',...</td>\n",
       "      <td>['Estimada', 'comunidad', 'beauchefiana', ':',...</td>\n",
       "      <td>1.0</td>\n",
       "      <td>1.0</td>\n",
       "      <td>0.0</td>\n",
       "      <td>1.0</td>\n",
       "    </tr>\n",
       "    <tr>\n",
       "      <th>1</th>\n",
       "      <td>Desde hoy y hasta el 19 de diciembre puedes de...</td>\n",
       "      <td>['Desde hoy y hasta el 19 de diciembre puedes ...</td>\n",
       "      <td>NaN</td>\n",
       "      <td>NaN</td>\n",
       "      <td>Eliminar sesgo de género del siguiente texto:\\...</td>\n",
       "      <td>&lt;human&gt;: ¿Puedes reescribir el siguiente texto...</td>\n",
       "      <td>&lt;human&gt;: ¿Puedes reescribir el siguiente texto...</td>\n",
       "      <td>[['Desde', 'hoy', 'y', 'hasta', 'el', '19', 'd...</td>\n",
       "      <td>17</td>\n",
       "      <td>['Desde', 'hoy', 'y', 'hasta', 'el', '19', 'de...</td>\n",
       "      <td>['Desde', 'hoy', 'y', 'hasta', 'el', '19', 'de...</td>\n",
       "      <td>1.0</td>\n",
       "      <td>1.0</td>\n",
       "      <td>0.0</td>\n",
       "      <td>1.0</td>\n",
       "    </tr>\n",
       "    <tr>\n",
       "      <th>2</th>\n",
       "      <td>Revisa en el afiche qué tipo de papeles puedes...</td>\n",
       "      <td>['Revisa en el afiche qué tipo de papeles pued...</td>\n",
       "      <td>NaN</td>\n",
       "      <td>NaN</td>\n",
       "      <td>Eliminar sesgo de género del siguiente texto:\\...</td>\n",
       "      <td>&lt;human&gt;: ¿Puedes reescribir el siguiente texto...</td>\n",
       "      <td>&lt;human&gt;: ¿Puedes reescribir el siguiente texto...</td>\n",
       "      <td>[['Revisa', 'en', 'el', 'afiche', 'qué', 'tipo...</td>\n",
       "      <td>24</td>\n",
       "      <td>['Revisa', 'en', 'el', 'afiche', 'qué', 'tipo'...</td>\n",
       "      <td>['Revisa', 'en', 'el', 'afiche', 'qué', 'tipo'...</td>\n",
       "      <td>1.0</td>\n",
       "      <td>1.0</td>\n",
       "      <td>0.0</td>\n",
       "      <td>1.0</td>\n",
       "    </tr>\n",
       "    <tr>\n",
       "      <th>3</th>\n",
       "      <td>Estimada Comunidad:   La Subdirección de Puebl...</td>\n",
       "      <td>['Estimada Comunidad:   La Subdirección de Pue...</td>\n",
       "      <td>NO</td>\n",
       "      <td>NO</td>\n",
       "      <td>Eliminar sesgo de género del siguiente texto:\\...</td>\n",
       "      <td>&lt;human&gt;: ¿Puedes reescribir el siguiente texto...</td>\n",
       "      <td>&lt;human&gt;: ¿Puedes reescribir el siguiente texto...</td>\n",
       "      <td>[['Estimada', 'Comunidad', ':', 'La', 'Subdire...</td>\n",
       "      <td>35</td>\n",
       "      <td>['Estimada', 'Comunidad', ':', 'La', 'Subdirec...</td>\n",
       "      <td>['Estimada', 'Comunidad', ':', 'La', 'Subdirec...</td>\n",
       "      <td>1.0</td>\n",
       "      <td>1.0</td>\n",
       "      <td>0.0</td>\n",
       "      <td>1.0</td>\n",
       "    </tr>\n",
       "    <tr>\n",
       "      <th>4</th>\n",
       "      <td>Postulaciones, labores y más información en:  ...</td>\n",
       "      <td>['Postulaciones, labores y más información en:...</td>\n",
       "      <td>NaN</td>\n",
       "      <td>NaN</td>\n",
       "      <td>Eliminar sesgo de género del siguiente texto:\\...</td>\n",
       "      <td>&lt;human&gt;: ¿Puedes reescribir el siguiente texto...</td>\n",
       "      <td>&lt;human&gt;: ¿Puedes reescribir el siguiente texto...</td>\n",
       "      <td>[['Postulaciones', ',', 'labores', 'y', 'más',...</td>\n",
       "      <td>18</td>\n",
       "      <td>['Postulaciones', ',', 'labores', 'y', 'más', ...</td>\n",
       "      <td>['Postulaciones', ',', 'labores', 'y', 'más', ...</td>\n",
       "      <td>1.0</td>\n",
       "      <td>1.0</td>\n",
       "      <td>0.0</td>\n",
       "      <td>1.0</td>\n",
       "    </tr>\n",
       "  </tbody>\n",
       "</table>\n",
       "</div>"
      ],
      "text/plain": [
       "                                               input  \\\n",
       "0  Estimada comunidad beauchefiana: ¿Tienes papel...   \n",
       "1  Desde hoy y hasta el 19 de diciembre puedes de...   \n",
       "2  Revisa en el afiche qué tipo de papeles puedes...   \n",
       "3  Estimada Comunidad:   La Subdirección de Puebl...   \n",
       "4  Postulaciones, labores y más información en:  ...   \n",
       "\n",
       "                                              target sesgo_pronombre  \\\n",
       "0  ['Estimada comunidad beauchefiana: ¿Tienes pap...              NO   \n",
       "1  ['Desde hoy y hasta el 19 de diciembre puedes ...             NaN   \n",
       "2  ['Revisa en el afiche qué tipo de papeles pued...             NaN   \n",
       "3  ['Estimada Comunidad:   La Subdirección de Pue...              NO   \n",
       "4  ['Postulaciones, labores y más información en:...             NaN   \n",
       "\n",
       "  sesgo_otro                                   seq2seq_document  \\\n",
       "0         NO  Eliminar sesgo de género del siguiente texto:\\...   \n",
       "1        NaN  Eliminar sesgo de género del siguiente texto:\\...   \n",
       "2        NaN  Eliminar sesgo de género del siguiente texto:\\...   \n",
       "3         NO  Eliminar sesgo de género del siguiente texto:\\...   \n",
       "4        NaN  Eliminar sesgo de género del siguiente texto:\\...   \n",
       "\n",
       "                                     causal_document  \\\n",
       "0  <human>: ¿Puedes reescribir el siguiente texto...   \n",
       "1  <human>: ¿Puedes reescribir el siguiente texto...   \n",
       "2  <human>: ¿Puedes reescribir el siguiente texto...   \n",
       "3  <human>: ¿Puedes reescribir el siguiente texto...   \n",
       "4  <human>: ¿Puedes reescribir el siguiente texto...   \n",
       "\n",
       "                                          generation  \\\n",
       "0  <human>: ¿Puedes reescribir el siguiente texto...   \n",
       "1  <human>: ¿Puedes reescribir el siguiente texto...   \n",
       "2  <human>: ¿Puedes reescribir el siguiente texto...   \n",
       "3  <human>: ¿Puedes reescribir el siguiente texto...   \n",
       "4  <human>: ¿Puedes reescribir el siguiente texto...   \n",
       "\n",
       "                                    reference_tokens  max_ref_len  \\\n",
       "0  [['Estimada', 'comunidad', 'beauchefiana', ':'...           11   \n",
       "1  [['Desde', 'hoy', 'y', 'hasta', 'el', '19', 'd...           17   \n",
       "2  [['Revisa', 'en', 'el', 'afiche', 'qué', 'tipo...           24   \n",
       "3  [['Estimada', 'Comunidad', ':', 'La', 'Subdire...           35   \n",
       "4  [['Postulaciones', ',', 'labores', 'y', 'más',...           18   \n",
       "\n",
       "                                    generated_tokens  \\\n",
       "0  ['Estimada', 'comunidad', 'beauchefiana', ':',...   \n",
       "1  ['Desde', 'hoy', 'y', 'hasta', 'el', '19', 'de...   \n",
       "2  ['Revisa', 'en', 'el', 'afiche', 'qué', 'tipo'...   \n",
       "3  ['Estimada', 'Comunidad', ':', 'La', 'Subdirec...   \n",
       "4  ['Postulaciones', ',', 'labores', 'y', 'más', ...   \n",
       "\n",
       "                                        input_tokens  bleu_gen  bleu_input  \\\n",
       "0  ['Estimada', 'comunidad', 'beauchefiana', ':',...       1.0         1.0   \n",
       "1  ['Desde', 'hoy', 'y', 'hasta', 'el', '19', 'de...       1.0         1.0   \n",
       "2  ['Revisa', 'en', 'el', 'afiche', 'qué', 'tipo'...       1.0         1.0   \n",
       "3  ['Estimada', 'Comunidad', ':', 'La', 'Subdirec...       1.0         1.0   \n",
       "4  ['Postulaciones', ',', 'labores', 'y', 'más', ...       1.0         1.0   \n",
       "\n",
       "   bleu_dif  rouge  \n",
       "0       0.0    1.0  \n",
       "1       0.0    1.0  \n",
       "2       0.0    1.0  \n",
       "3       0.0    1.0  \n",
       "4       0.0    1.0  "
      ]
     },
     "execution_count": 1,
     "metadata": {},
     "output_type": "execute_result"
    }
   ],
   "source": [
    "import pandas as pd\n",
    "\n",
    "df = pd.read_csv(\"../../data/processed/20231220_metrics_CAUSAL.csv\")\n",
    "df.head()"
   ]
  },
  {
   "cell_type": "code",
   "execution_count": 2,
   "metadata": {},
   "outputs": [
    {
     "name": "stderr",
     "output_type": "stream",
     "text": [
      "/home/camilo/miniconda3/envs/debiasing/lib/python3.11/site-packages/tqdm/auto.py:21: TqdmWarning: IProgress not found. Please update jupyter and ipywidgets. See https://ipywidgets.readthedocs.io/en/stable/user_install.html\n",
      "  from .autonotebook import tqdm as notebook_tqdm\n"
     ]
    }
   ],
   "source": [
    "from evaluate import load\n",
    "bertscore = load(\"bertscore\")"
   ]
  },
  {
   "cell_type": "markdown",
   "metadata": {},
   "source": [
    "Example"
   ]
  },
  {
   "cell_type": "code",
   "execution_count": 3,
   "metadata": {},
   "outputs": [],
   "source": [
    "references = ['Estimada comunidad beauchefiana: ¿Tienes papeles acumulados en tu casa?']\n",
    "predictions = ['Estimada comunidad beauchefiana: ¿Tienes papeles acumulados en tu casa?']"
   ]
  },
  {
   "cell_type": "code",
   "execution_count": 4,
   "metadata": {},
   "outputs": [
    {
     "name": "stdout",
     "output_type": "stream",
     "text": [
      "{'precision': [1.0], 'recall': [1.0], 'f1': [1.0], 'hashcode': 'bert-base-multilingual-cased_L9_no-idf_version=0.3.12(hug_trans=4.47.1)'}\n"
     ]
    }
   ],
   "source": [
    "results = bertscore.compute(predictions=predictions, references=references, model_type=\"bert-base-multilingual-cased\")\n",
    "print(results)"
   ]
  },
  {
   "cell_type": "markdown",
   "metadata": {},
   "source": [
    "Full evaluation"
   ]
  },
  {
   "cell_type": "code",
   "execution_count": 5,
   "metadata": {},
   "outputs": [
    {
     "name": "stdout",
     "output_type": "stream",
     "text": [
      "PREDICTION: Estimada comunidad beauchefiana : ¿Tienes papeles acumulados en tu casa ?\n",
      "REFERENCE Estimada comunidad beauchefiana : ¿Tienes papeles acumulados en tu casa ? \n",
      "\n",
      "PREDICTION: Desde hoy y hasta el 19 de diciembre puedes deshacerte de ellos y reciclarlos con ReBeauchef .\n",
      "REFERENCE Desde hoy y hasta el 19 de diciembre puedes deshacerte de ellos y reciclarlos con ReBeauchef . \n",
      "\n",
      "PREDICTION: Revisa en el afiche qué tipo de papeles puedes traer , los estarán recibiendo en el edificio Escuela , bajo la escalera principal .\n",
      "REFERENCE Revisa en el afiche qué tipo de papeles puedes traer , los estarán recibiendo en el edificio Escuela , bajo la escalera principal . \n",
      "\n"
     ]
    }
   ],
   "source": [
    "import ast\n",
    "\n",
    "make_str = lambda text: ' '.join(ast.literal_eval(text))\n",
    "\n",
    "predictions = df['generated_tokens'].apply(make_str)\n",
    "references = df['reference_tokens'].apply(lambda text: ' '.join(ast.literal_eval(text)[0])\n",
    ")\n",
    "\n",
    "for i in range(3):\n",
    "    print('PREDICTION:',predictions[i])\n",
    "    print('REFERENCE',references[i],'\\n')"
   ]
  },
  {
   "cell_type": "code",
   "execution_count": null,
   "metadata": {},
   "outputs": [],
   "source": [
    "results = bertscore.compute(predictions=predictions, references=references, model_type=\"bert-base-multilingual-cased\")"
   ]
  },
  {
   "cell_type": "code",
   "execution_count": 7,
   "metadata": {},
   "outputs": [
    {
     "name": "stdout",
     "output_type": "stream",
     "text": [
      "precision \n",
      "\tmean: 0.9972797733591036\n",
      "\tstd: 0.012501423579440172\n",
      "\n",
      "recall \n",
      "\tmean: 0.9961144370801004\n",
      "\tstd: 0.019588417908933536\n",
      "\n",
      "f1 \n",
      "\tmean: 0.9966465265244779\n",
      "\tstd: 0.015847489328869542\n",
      "\n"
     ]
    }
   ],
   "source": [
    "import numpy as np\n",
    "\n",
    "for k in results.keys():\n",
    "    if not k == 'hashcode':\n",
    "        print(f'{k}',f'\\n\\tmean: {np.mean(results[k])}\\n\\tstd: {np.std(results[k])}\\n')"
   ]
  }
 ],
 "metadata": {
  "kernelspec": {
   "display_name": "debiasing",
   "language": "python",
   "name": "python3"
  },
  "language_info": {
   "codemirror_mode": {
    "name": "ipython",
    "version": 3
   },
   "file_extension": ".py",
   "mimetype": "text/x-python",
   "name": "python",
   "nbconvert_exporter": "python",
   "pygments_lexer": "ipython3",
   "version": "3.11.11"
  }
 },
 "nbformat": 4,
 "nbformat_minor": 2
}
